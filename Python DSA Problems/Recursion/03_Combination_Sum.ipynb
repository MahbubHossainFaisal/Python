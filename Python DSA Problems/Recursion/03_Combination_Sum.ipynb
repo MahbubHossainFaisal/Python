{
 "cells": [
  {
   "cell_type": "markdown",
   "id": "a84df510-7322-4b8a-a887-d7282fa1c91c",
   "metadata": {},
   "source": [
    "Leetcode link: https://leetcode.com/problems/combination-sum/description/"
   ]
  },
  {
   "cell_type": "code",
   "execution_count": null,
   "id": "621243b7-b15b-4ba3-ab45-5fd557e0886a",
   "metadata": {},
   "outputs": [],
   "source": [
    "class Solution:\n",
    "    def combination(self,candidates,i,target,ans,mainList):\n",
    "        if i == len(candidates):\n",
    "            if target == 0:\n",
    "                mainList.append(ans.copy())\n",
    "            return\n",
    "\n",
    "        if candidates[i] <= target:\n",
    "            ans.append(candidates[i])\n",
    "            self.combination(candidates,i,target-candidates[i],ans,mainList)\n",
    "            ans.pop()\n",
    "        self.combination(candidates,i+1,target,ans,mainList)\n",
    "\n",
    "        return mainList\n",
    "\n",
    "    def combinationSum(self, candidates: List[int], target: int) -> List[List[int]]:\n",
    "\n",
    "        ans = self.combination(candidates,0,target,[],[])\n",
    "        return ans"
   ]
  },
  {
   "cell_type": "markdown",
   "id": "58b4d2f2-9e12-4420-a638-e18cea66d090",
   "metadata": {},
   "source": [
    "**Step 1: Introduction**\n",
    "\n",
    "In this problem, we're working on a classic algorithmic task called the \"Combination Sum.\" It's quite similar to the well-known \"Backtracking\" algorithm.\n",
    "\n",
    "**Step 2: Understanding the Problem**\n",
    "\n",
    "The problem asks us to find all possible combinations of numbers from a given list (candidates) that add up to a target value. We need to return these combinations as a list of lists.\n",
    "\n",
    "**Step 3: Algorithm Explanation - Backtracking**\n",
    "\n",
    "This problem can be solved using a technique called \"Backtracking,\" which is a general algorithm for finding all (or some) solutions to a problem by incrementally building a solution and exploring different possibilities. In this problem, we'll explore different combinations of candidates and backtrack when we can't continue further.\n",
    "\n",
    "**Example:**\n",
    "Let's say our candidates are `[2, 3, 6, 7]` and the target is `7`.\n",
    "\n",
    "**Step 4: Concept Explanation**\n",
    "\n",
    "1. **Base Case:**\n",
    "   - If the index `i` reaches the end of the candidates list, we check if the target has become 0. If yes, we've found a valid combination, so we add it to our main list.\n",
    "   \n",
    "2. **Recursive Case:**\n",
    "   - If the current candidate at index `i` is less than or equal to the remaining target, we consider two possibilities:\n",
    "     - Include the current candidate in the combination by appending it to `ans`.\n",
    "     - Recurse with the updated target (`target - candidates[i]`) and index (`i` remains the same) to explore further combinations with the current candidate.\n",
    "   - After the recursive call, we backtrack by removing the last added candidate from `ans`.\n",
    "\n",
    "3. **Continue Exploring:**\n",
    "   - Whether or not we include the current candidate, we move on to the next candidate by recursively calling the function with the index incremented by 1.\n",
    "\n",
    "4. **Top-Level Function:**\n",
    "   - The `combinationSum` function initializes an empty list `ans` and calls the `combination` function to explore all possible combinations. It starts with index `i = 0` and target `target`, initially empty combination `ans = []`, and an initially empty main list to store all valid combinations.\n",
    "\n",
    "**Step 5: Edge Cases and Examples**\n",
    "\n",
    "- **Edge Case 1:** When candidates list is empty.\n",
    "  - Input: `candidates = []`, `target = 7`\n",
    "  - Output: `[]` (No valid combinations possible)\n",
    "\n",
    "- **Edge Case 2:** When target is 0.\n",
    "  - Input: `candidates = [2, 3]`, `target = 0`\n",
    "  - Output: `[[]]` (An empty combination is a valid solution)\n",
    "\n",
    "**Step 6: Time and Space Complexity**\n",
    "\n",
    "- **Time Complexity:** In the worst case, we explore all possible combinations, making it exponential - O(N^T), where N is the number of candidates and T is the target value.\n",
    "\n",
    "- **Space Complexity:** The space complexity includes the space used for recursive calls and the main list to store all combinations. In the worst case, the depth of the recursion is T, resulting in a space complexity of O(T).\n",
    "\n",
    "**Step 7: More Efficient Solution?**\n",
    "\n",
    "This problem is inherently exponential due to its nature. However, some pruning strategies can be applied to avoid unnecessary exploration of possibilities, but the core algorithm will still remain exponential.\n",
    "\n",
    "**Step 8: Best Code Practices**\n",
    "\n",
    "- Ensure that variable and function names are descriptive.\n",
    "- Consider using memoization to avoid duplicate calculations in more complex backtracking scenarios.\n",
    "- Maintain proper indentation and formatting for better readability.\n",
    "\n",
    "**Step 9: Clean Code Practices**\n",
    "\n",
    "- It's a good practice to pass initial values directly within the function call instead of within the function. In your code, you could initialize the `ans` list in the `combinationSum` function and pass it to the `combination` function.\n",
    "\n",
    "With these steps and explanations, you should have a solid understanding of the code, its concept, edge cases, complexities, and best practices. This should help you become more proficient in software engineering principles."
   ]
  },
  {
   "cell_type": "code",
   "execution_count": null,
   "id": "5d65d05c-7a33-4fcb-abf5-7886da383201",
   "metadata": {},
   "outputs": [],
   "source": []
  }
 ],
 "metadata": {
  "kernelspec": {
   "display_name": "Python 3 (ipykernel)",
   "language": "python",
   "name": "python3"
  },
  "language_info": {
   "codemirror_mode": {
    "name": "ipython",
    "version": 3
   },
   "file_extension": ".py",
   "mimetype": "text/x-python",
   "name": "python",
   "nbconvert_exporter": "python",
   "pygments_lexer": "ipython3",
   "version": "3.10.8"
  }
 },
 "nbformat": 4,
 "nbformat_minor": 5
}
