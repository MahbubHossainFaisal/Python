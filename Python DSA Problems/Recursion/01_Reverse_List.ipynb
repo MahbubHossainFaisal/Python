{
 "cells": [
  {
   "cell_type": "markdown",
   "id": "8d6c2249-5254-464e-9d02-538f6bc5e154",
   "metadata": {},
   "source": [
    "## Reverse List with two variables"
   ]
  },
  {
   "cell_type": "code",
   "execution_count": 1,
   "id": "a4deb3a7-22e2-4e10-a4f2-81ecf89f801b",
   "metadata": {},
   "outputs": [
    {
     "name": "stdout",
     "output_type": "stream",
     "text": [
      "[6, 5, 4, 3, 2, 1]\n"
     ]
    }
   ],
   "source": [
    "def rev(arr,low,high):\n",
    "    if low>=high:\n",
    "        return\n",
    "    \n",
    "    temp = arr[low]\n",
    "    arr[low] = arr[high]\n",
    "    arr[high] = temp\n",
    "    \n",
    "    return rev(arr,low+1,high-1)\n",
    "\n",
    "\n",
    "\n",
    "\n",
    "\n",
    "arr = [1,2,3,4,5,6]\n",
    "\n",
    "rev(arr,0,len(arr)-1)\n",
    "\n",
    "print(arr)"
   ]
  },
  {
   "cell_type": "code",
   "execution_count": 2,
   "id": "1fca8e0e-05b0-4eb2-92b5-d14e8fdd5bd2",
   "metadata": {},
   "outputs": [],
   "source": [
    "## Reverse List with one variables"
   ]
  },
  {
   "cell_type": "code",
   "execution_count": 3,
   "id": "4f8f0be1-e9ab-45ae-aa7d-1b402859be3d",
   "metadata": {},
   "outputs": [
    {
     "name": "stdout",
     "output_type": "stream",
     "text": [
      "[6, 5, 3, 4, 2, 1]\n"
     ]
    }
   ],
   "source": [
    "def rev(arr,i):\n",
    "    n= len(arr)\n",
    "    if i > int(n/2):\n",
    "        return\n",
    "    \n",
    "    temp = arr[i]\n",
    "    arr[i] = arr[n-i-1]\n",
    "    arr[n-i-1] = temp\n",
    "    \n",
    "    return rev(arr,i+1)\n",
    "\n",
    "\n",
    "\n",
    "\n",
    "\n",
    "arr = [1,2,3,4,5,6]\n",
    "\n",
    "rev(arr,0)\n",
    "\n",
    "print(arr)"
   ]
  },
  {
   "cell_type": "markdown",
   "id": "378feabe-fbf0-477d-837c-5280fdbff120",
   "metadata": {},
   "source": [
    "The code defines a recursive function `rev(arr, i)` that is intended to reverse the elements of an array `arr` in place. It does so by swapping the elements at index `i` and index `n-i-1`, where `n` is the length of the array.\n",
    "\n",
    "Let's break down the code step by step and simulate how the recursion works for the input array `[1, 2, 3, 4, 5, 6]`.\n",
    "\n",
    "Initial Call:\n",
    "--------------\n",
    "```python\n",
    "arr = [1, 2, 3, 4, 5, 6]\n",
    "rev(arr, 0)\n",
    "```\n",
    "\n",
    "Here, `arr` is `[1, 2, 3, 4, 5, 6]` and `i` is `0` (starting index).\n",
    "\n",
    "Recursive Steps:\n",
    "----------------\n",
    "1. `i = 0` < `n/2` (where `n = 6`), so we proceed with the recursion.\n",
    "2. Swap `arr[0]` (element 1) with `arr[5]` (element 6):\n",
    "   `arr` becomes `[6, 2, 3, 4, 5, 1]`.\n",
    "3. Increment `i` to `1`.\n",
    "4. Recursive call: `rev(arr, 1)`.\n",
    "\n",
    "5. In the new call, `i = 1` is still less than `n/2`. Swap `arr[1]` (element 2) with `arr[4]` (element 5):\n",
    "   `arr` becomes `[6, 5, 3, 4, 2, 1]`.\n",
    "6. Increment `i` to `2`.\n",
    "7. Recursive call: `rev(arr, 2)`.\n",
    "\n",
    "8. In the new call, `i = 2` is still less than `n/2`. Swap `arr[2]` (element 3) with `arr[3]` (element 4):\n",
    "   `arr` becomes `[6, 5, 4, 3, 2, 1]`.\n",
    "9. Increment `i` to `3`.\n",
    "10. Recursive call: `rev(arr, 3)`.\n",
    "\n",
    "11. Now, `i = 3` is not less than `n/2` (`n/2` is 3). The condition is not met, so this call returns without further recursive calls.\n",
    "\n",
    "12. The control goes back to the previous call, where `i` was 2. The function execution continues after the recursive call.\n",
    "13. Since there are no more recursive calls, the function returns to the initial call.\n",
    "\n",
    "Final Output:\n",
    "--------------\n",
    "After the initial call returns, the modified `arr` is printed:\n",
    "```\n",
    "[6, 5, 4, 3, 2, 1]\n",
    "```\n",
    "\n",
    "The array has been successfully reversed in place.\n",
    "\n",
    "It's important to note that this recursive approach swaps elements in a symmetric fashion from the outermost elements towards the center of the array, effectively reversing the array."
   ]
  },
  {
   "cell_type": "code",
   "execution_count": null,
   "id": "f216a47b-deda-4512-a1d6-0f77e63dafed",
   "metadata": {},
   "outputs": [],
   "source": []
  }
 ],
 "metadata": {
  "kernelspec": {
   "display_name": "Python 3 (ipykernel)",
   "language": "python",
   "name": "python3"
  },
  "language_info": {
   "codemirror_mode": {
    "name": "ipython",
    "version": 3
   },
   "file_extension": ".py",
   "mimetype": "text/x-python",
   "name": "python",
   "nbconvert_exporter": "python",
   "pygments_lexer": "ipython3",
   "version": "3.10.8"
  }
 },
 "nbformat": 4,
 "nbformat_minor": 5
}
