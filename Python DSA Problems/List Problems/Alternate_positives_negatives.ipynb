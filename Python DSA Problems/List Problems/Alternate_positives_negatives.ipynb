{
 "cells": [
  {
   "cell_type": "markdown",
   "id": "206bb067",
   "metadata": {},
   "source": [
    "Given an unsorted array Arr of N positive and negative numbers. Your task is to create an array of alternate positive and negative numbers without changing the relative order of positive and negative numbers.\n",
    "Note: Array should start with a positive number.\n",
    "\n",
    "GFG Link: https://practice.geeksforgeeks.org/problems/array-of-alternate-ve-and-ve-nos1401/1?utm_source=youtube&utm_medium=collab_striver_ytdescription&utm_campaign=array-of-alternate-ve-and-ve-nos"
   ]
  },
  {
   "cell_type": "markdown",
   "id": "3bb52836",
   "metadata": {},
   "source": [
    "### Brute Force"
   ]
  },
  {
   "cell_type": "code",
   "execution_count": 30,
   "id": "a4eb79b8",
   "metadata": {},
   "outputs": [
    {
     "name": "stdout",
     "output_type": "stream",
     "text": [
      "[9, 4, 5, 0, 1, 2, 3, 0, 2]\n",
      "[9, -2, 4, -1, 5, -3, 0, 0, 0, 0, 0, 0]\n",
      "[9, -2, 4, -1, 5, -3, 0, 1, 2, 3, 0, 2]\n"
     ]
    }
   ],
   "source": [
    "def rearrange(arr, n):\n",
    "     # code here\n",
    "        pos = []\n",
    "        neg = []\n",
    "        newArr = [0] * (n-1)\n",
    "\n",
    "        for i in range(len(arr)):\n",
    "            if arr[i] < 0:\n",
    "                neg.append(arr[i])\n",
    "            else:\n",
    "                pos.append(arr[i])\n",
    "\n",
    "        i=0\n",
    "        j=0\n",
    "        k=0\n",
    "        while(i<len(pos) and j<len(neg)):\n",
    "            newArr[k] = pos[i]\n",
    "            k+=1\n",
    "            i+=1\n",
    "            \n",
    "            newArr[k] = neg[j]\n",
    "            k+=1\n",
    "            j+=1\n",
    "        print(pos)\n",
    "        print(newArr)\n",
    "            \n",
    "        while(i<len(pos)):\n",
    "            newArr[k] = pos[i]\n",
    "            k+=1\n",
    "            i+=1\n",
    "        \n",
    "        while(j<len(neg)):\n",
    "            newArr[k] = neg[j]\n",
    "            k+=1\n",
    "            j+=1\n",
    "        \n",
    "\n",
    "            \n",
    "                \n",
    "        return newArr\n",
    "\n",
    "\n",
    "N = 9\n",
    "Arr = [9, 4, -2, -1, 5, 0,1,2,3,5 -5, -3, 2]\n",
    "\n",
    "ans = rearrange(Arr,13)\n",
    "print(ans)\n"
   ]
  },
  {
   "cell_type": "markdown",
   "id": "d4e139e0",
   "metadata": {},
   "source": [
    "Time complexity: O(n) + O(n) = O(n)\n",
    "    \n",
    "Space complexity: O(n/2) + O(n/2) = O(n)"
   ]
  },
  {
   "cell_type": "code",
   "execution_count": null,
   "id": "caf5f355",
   "metadata": {},
   "outputs": [],
   "source": []
  },
  {
   "cell_type": "code",
   "execution_count": null,
   "id": "cd167455",
   "metadata": {},
   "outputs": [],
   "source": [
    "\n"
   ]
  },
  {
   "cell_type": "code",
   "execution_count": null,
   "id": "eafe06f6",
   "metadata": {},
   "outputs": [],
   "source": []
  },
  {
   "cell_type": "code",
   "execution_count": null,
   "id": "c21c2cc2",
   "metadata": {},
   "outputs": [],
   "source": []
  }
 ],
 "metadata": {
  "kernelspec": {
   "display_name": "Python 3 (ipykernel)",
   "language": "python",
   "name": "python3"
  },
  "language_info": {
   "codemirror_mode": {
    "name": "ipython",
    "version": 3
   },
   "file_extension": ".py",
   "mimetype": "text/x-python",
   "name": "python",
   "nbconvert_exporter": "python",
   "pygments_lexer": "ipython3",
   "version": "3.9.13"
  }
 },
 "nbformat": 4,
 "nbformat_minor": 5
}
