{
 "cells": [
  {
   "cell_type": "markdown",
   "id": "8cf6fd39-659a-4a8c-af47-19963790bf17",
   "metadata": {},
   "source": [
    "Given an integer array nums, move all 0's to the end of it while maintaining the relative order of the non-zero elements.\n",
    "\n",
    "Note that you must do this in-place without making a copy of the array.\n",
    "\n",
    "Leetcode link : https://leetcode.com/problems/move-zeroes/https://leetcode.com/problems/move-zeroes/"
   ]
  },
  {
   "cell_type": "markdown",
   "id": "ed88e9c1-f9d8-4fa1-a453-84a0c142ea6b",
   "metadata": {},
   "source": [
    "### Brute Force"
   ]
  },
  {
   "cell_type": "code",
   "execution_count": 4,
   "id": "b25fedb9-6495-4372-9b12-6c3c6d732e32",
   "metadata": {},
   "outputs": [
    {
     "name": "stdout",
     "output_type": "stream",
     "text": [
      "[1, 2, 6, 3, 1, 4, 6, 1, 0, 0, 0, 0]\n"
     ]
    }
   ],
   "source": [
    "def moveZeroes(nums):\n",
    "    n = len(nums)\n",
    "    temp = []\n",
    "    for i in range(n):\n",
    "        if nums[i] != 0:\n",
    "            temp.append(nums[i])\n",
    "    \n",
    "    x = len(temp)\n",
    "    for i in range(x):\n",
    "        nums[i] = temp[i]\n",
    "        \n",
    "    for i in range(x,n):\n",
    "        nums[i] = 0\n",
    "        \n",
    "    print(nums)\n",
    "\n",
    "nums = [0, 1, 0,2,6,3,1,4,6,0,1,0]\n",
    "moveZeroes(nums)\n",
    "        \n",
    "    \n",
    "            "
   ]
  },
  {
   "cell_type": "markdown",
   "id": "c1f43118-a049-4fc8-820a-efe4c2e682ef",
   "metadata": {},
   "source": [
    "Time complexity: O(N)\n",
    "\n",
    "Space complexity: O(N)"
   ]
  },
  {
   "cell_type": "markdown",
   "id": "afb02b43-0010-4961-a9ca-383bf7d59254",
   "metadata": {},
   "source": [
    "###  Optimal approach"
   ]
  },
  {
   "cell_type": "code",
   "execution_count": 9,
   "id": "21813d5e-7cab-48d5-82d5-adcefd646ab2",
   "metadata": {},
   "outputs": [
    {
     "name": "stdout",
     "output_type": "stream",
     "text": [
      "[1, 0, 0]\n"
     ]
    }
   ],
   "source": [
    "def moveZeroes(nums):\n",
    "    n = len(nums)\n",
    "    \n",
    "    i = 0\n",
    "    j = 0\n",
    "    while j < n:\n",
    "        if nums[j] == 0:\n",
    "            j += 1\n",
    "        else:\n",
    "            nums[i] = nums[j]\n",
    "            i += 1\n",
    "            j += 1\n",
    "\n",
    "  \n",
    "    while i < n:\n",
    "        nums[i] = 0\n",
    "        i += 1\n",
    "\n",
    "    print(nums)\n",
    "\n",
    "nums = [0, 1, 0]\n",
    "moveZeroes(nums)\n"
   ]
  },
  {
   "cell_type": "markdown",
   "id": "652ae101-3d04-41ee-9de4-d5eb01ed6ef3",
   "metadata": {},
   "source": [
    "Time complexity: O(n) + O(k) = O(N)\n",
    "\n",
    "Space complexity: O(1)"
   ]
  },
  {
   "cell_type": "code",
   "execution_count": null,
   "id": "5e10e144-b59e-417a-b8f7-a51886e28dbc",
   "metadata": {},
   "outputs": [],
   "source": []
  }
 ],
 "metadata": {
  "kernelspec": {
   "display_name": "Python 3 (ipykernel)",
   "language": "python",
   "name": "python3"
  },
  "language_info": {
   "codemirror_mode": {
    "name": "ipython",
    "version": 3
   },
   "file_extension": ".py",
   "mimetype": "text/x-python",
   "name": "python",
   "nbconvert_exporter": "python",
   "pygments_lexer": "ipython3",
   "version": "3.10.8"
  }
 },
 "nbformat": 4,
 "nbformat_minor": 5
}
