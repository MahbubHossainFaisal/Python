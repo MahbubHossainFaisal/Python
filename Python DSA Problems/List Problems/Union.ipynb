{
 "cells": [
  {
   "cell_type": "markdown",
   "id": "9cbb8796-baa3-41ed-9580-55c986ab4c37",
   "metadata": {},
   "source": [
    "Union of two arrays can be defined as the common and distinct elements in the two arrays.\n",
    "Given two sorted arrays of size n and m respectively, find their union.\n",
    "\n",
    "GFG link : https://practice.geeksforgeeks.org/problems/union-of-two-sorted-arrays-1587115621/1?utm_source=youtube&utm_medium=collab_striver_ytdescription&utm_campaign=union-of-two-sorted-arrays"
   ]
  },
  {
   "cell_type": "markdown",
   "id": "e5e174ab-cd11-4290-bec0-0b67fe9c8c03",
   "metadata": {},
   "source": []
  },
  {
   "cell_type": "markdown",
   "id": "8589733d-dc2d-4172-a4d9-1cdb3566a8fc",
   "metadata": {},
   "source": [
    "### Brute Force Approach"
   ]
  },
  {
   "cell_type": "code",
   "execution_count": 6,
   "id": "a71c1e53-9fad-45a7-97e3-2451b72928b5",
   "metadata": {},
   "outputs": [
    {
     "name": "stdout",
     "output_type": "stream",
     "text": [
      "[1, 2, 3, 4, 5]\n"
     ]
    }
   ],
   "source": [
    "def showUnion(a,b,n,m):\n",
    "    unionArr = set()\n",
    "    \n",
    "    for i in range(n):\n",
    "        unionArr.add(a[i])\n",
    "        \n",
    "    for i in range(m):\n",
    "        unionArr.add(b[i])\n",
    "        \n",
    "    unionList = sorted(list(unionArr))\n",
    "    return unionList\n",
    "\n",
    "a = [2,2,3,4,5]\n",
    "\n",
    "b = [1,1,2,3,4]\n",
    "\n",
    "ans = showUnion(a,b,len(a),len(b))\n",
    "print(ans)"
   ]
  },
  {
   "cell_type": "markdown",
   "id": "60b7826b-1abe-4e61-a3c7-518fb77abe84",
   "metadata": {},
   "source": [
    "Time complexity : O(a) + O(b) + O(nlogn) = O(nlogn)\n",
    "\n",
    "Space complexity: O(n)"
   ]
  },
  {
   "cell_type": "code",
   "execution_count": null,
   "id": "ec227042-aa89-42e1-9ec7-c6b8463febb6",
   "metadata": {},
   "outputs": [],
   "source": []
  },
  {
   "cell_type": "markdown",
   "id": "add3a1cf-0380-4efa-9c5d-730c4fd0aa65",
   "metadata": {},
   "source": [
    "### Optimal Approach"
   ]
  },
  {
   "cell_type": "code",
   "execution_count": 28,
   "id": "2da492b8-d9ba-4c50-802d-fd47488dbcc6",
   "metadata": {},
   "outputs": [
    {
     "name": "stdout",
     "output_type": "stream",
     "text": [
      "[1, 2, 3, 4, 5]\n"
     ]
    }
   ],
   "source": [
    "def showUnion(a,b,n,m):\n",
    "    i=0\n",
    "    j=0\n",
    "    temp=[]\n",
    "    k=0\n",
    "    while(i < n and j < m):\n",
    "        if a[i] == b[j]:\n",
    "            if len(temp) == 0:\n",
    "                temp.append(a[i])\n",
    "            elif temp[k] != a[i]:\n",
    "                temp.append(a[i])\n",
    "                k+=1\n",
    "            i+=1\n",
    "            j+=1\n",
    "        elif a[i] < b[j]:\n",
    "            if len(temp) == 0:\n",
    "                temp.append(a[i])\n",
    "            elif temp[k] != a[i]:\n",
    "                temp.append(a[i])\n",
    "                k+=1\n",
    "            i+=1\n",
    "        else:\n",
    "            if len(temp) == 0:\n",
    "                temp.append(b[j])\n",
    "            elif temp[k] != b[j]:\n",
    "                temp.append(b[j])\n",
    "                k+=1\n",
    "            j+=1\n",
    "\n",
    "    while (i<n):\n",
    "        if temp[k] != a[i]:\n",
    "            #print(a[i])\n",
    "            temp.append(a[i])\n",
    "            k+=1\n",
    "            i+=1\n",
    "        else:\n",
    "            i+=1\n",
    "        \n",
    "    while (j<m):\n",
    "        if temp[k] != b[j]:\n",
    "            temp.append(b[j])\n",
    "            k+=1\n",
    "            j+=1\n",
    "        else:\n",
    "            j+=1    \n",
    "            \n",
    "    return temp\n",
    "    \n",
    "    \n",
    "\n",
    "a = [2,2,3,4,5]\n",
    "\n",
    "b = [1,1,2,3,4]\n",
    "\n",
    "ans = showUnion(a,b,len(a),len(b))\n",
    "print(ans)      \n",
    "            "
   ]
  },
  {
   "cell_type": "markdown",
   "id": "f666d379-7073-4529-ab6b-dbe81d9cf26c",
   "metadata": {},
   "source": [
    "Time complexity : O(n+m) + O(n-m) + O(m-n) = O(n)\n",
    "Space complexity: O(n)"
   ]
  },
  {
   "cell_type": "code",
   "execution_count": null,
   "id": "c9e9aaeb-d205-412e-b92d-42ca2c9966fc",
   "metadata": {},
   "outputs": [],
   "source": []
  }
 ],
 "metadata": {
  "kernelspec": {
   "display_name": "Python 3 (ipykernel)",
   "language": "python",
   "name": "python3"
  },
  "language_info": {
   "codemirror_mode": {
    "name": "ipython",
    "version": 3
   },
   "file_extension": ".py",
   "mimetype": "text/x-python",
   "name": "python",
   "nbconvert_exporter": "python",
   "pygments_lexer": "ipython3",
   "version": "3.10.8"
  }
 },
 "nbformat": 4,
 "nbformat_minor": 5
}
