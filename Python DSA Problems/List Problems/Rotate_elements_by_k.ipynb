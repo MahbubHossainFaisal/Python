{
 "cells": [
  {
   "cell_type": "markdown",
   "id": "f504ab9e-0820-49eb-9e56-e29041ca6aa0",
   "metadata": {},
   "source": [
    "Given an integer array nums, rotate the array to the right by k steps, where k is non-negative.\n",
    "\n",
    " \n",
    "Leetcode link : https://leetcode.com/problems/rotate-array/\n",
    " "
   ]
  },
  {
   "cell_type": "markdown",
   "id": "87e403d0-d057-4656-b944-bf07315e7465",
   "metadata": {},
   "source": [
    "### Brute force approach"
   ]
  },
  {
   "cell_type": "code",
   "execution_count": 21,
   "id": "8239f1db-9cbf-4361-815c-72b9e2619a1f",
   "metadata": {},
   "outputs": [
    {
     "name": "stdout",
     "output_type": "stream",
     "text": [
      "[5, 6, 7, 1, 2, 3, 4]\n"
     ]
    }
   ],
   "source": [
    "def rotateRightByK(nums,k):\n",
    "    \n",
    "    n = len(nums)\n",
    "    k=int(k%n)\n",
    "    for i in range(k):\n",
    "        temp = nums[n -1]\n",
    "        for j in range(n-1,0,-1):\n",
    "            nums[j] = nums[j-1]\n",
    "        nums[0] = temp\n",
    "\n",
    "        \n",
    "nums = [1,2,3,4,5,6,7]\n",
    "k = 3\n",
    "\n",
    "rotateRightByK(nums,k)\n",
    "print(nums)"
   ]
  },
  {
   "cell_type": "markdown",
   "id": "4a7f7f22-ba57-494d-8ea7-37384c3d06ff",
   "metadata": {},
   "source": [
    "Time complexity : O(n2)\n",
    "\n",
    "Space complexity: 0(1)"
   ]
  },
  {
   "cell_type": "markdown",
   "id": "45051d5e-0635-43f5-838a-e18a873aabab",
   "metadata": {},
   "source": [
    "### Better Approach"
   ]
  },
  {
   "cell_type": "code",
   "execution_count": 22,
   "id": "b7cc3a32-db8b-41d9-a6fa-44a5fe73da87",
   "metadata": {},
   "outputs": [
    {
     "name": "stdout",
     "output_type": "stream",
     "text": [
      "[5, 6, 7, 1, 2, 3, 4]\n"
     ]
    }
   ],
   "source": [
    "def rotateRightByK(nums,k):\n",
    "    n= len(nums)\n",
    "    k=int(k%n)\n",
    "    temp = []\n",
    "    for i in range(n-k,n):\n",
    "        temp.append(nums[i])\n",
    "\n",
    "    for i in range(n-1,0,-1):\n",
    "        if(i-k) < 0:\n",
    "            break\n",
    "        nums[i] = nums[i-k]\n",
    "        \n",
    "    for i in range(0,k):\n",
    "        nums[i] = temp[i]\n",
    "        \n",
    "    \n",
    "nums = [1,2,3,4,5,6,7]\n",
    "k = 3\n",
    "\n",
    "rotateRightByK(nums,k)\n",
    "print(nums)    \n",
    "    \n",
    "    "
   ]
  },
  {
   "cell_type": "markdown",
   "id": "c625b183-fc68-4863-8eaf-b7f699d19fba",
   "metadata": {},
   "source": [
    "Time complexity : O(K) + O(N-K) + O(K) , Overall = O(N)\n",
    "\n",
    "Space complexity: O(K)"
   ]
  },
  {
   "cell_type": "markdown",
   "id": "313cdff7-041e-4319-9772-d684e2eb8fb1",
   "metadata": {},
   "source": [
    "### Optimal Approach"
   ]
  },
  {
   "cell_type": "code",
   "execution_count": 43,
   "id": "63aead3f-ff17-4df3-ad70-90756f5927e3",
   "metadata": {},
   "outputs": [
    {
     "name": "stdout",
     "output_type": "stream",
     "text": [
      "[5, 6, 7, 1, 2, 3, 4]\n"
     ]
    }
   ],
   "source": [
    "def rotateRightByK(nums,k):\n",
    "    n= len(nums)\n",
    "    k=int(k%n)\n",
    "\n",
    "\n",
    "    nums[0:n-k] = nums[0:n-k][::-1]\n",
    "    nums[n-k:] = nums[n-k:][::-1]\n",
    "    nums = nums.reverse()\n",
    "\n",
    "    \n",
    "    \n",
    "nums = [1,2,3,4,5,6,7]\n",
    "k = 3\n",
    "\n",
    "rotateRightByK(nums,k)\n",
    "print(nums) "
   ]
  },
  {
   "cell_type": "markdown",
   "id": "f652279e-0516-4b07-b102-dd2ae9691bfa",
   "metadata": {},
   "source": [
    "Time complexity : O(n-k) + O(k) + O(n) = O(N)\n",
    "\n",
    "Space complexity : O(1)"
   ]
  },
  {
   "cell_type": "code",
   "execution_count": null,
   "id": "8f2af86b-1685-4c72-87c4-3c8b5edcce67",
   "metadata": {},
   "outputs": [],
   "source": []
  }
 ],
 "metadata": {
  "kernelspec": {
   "display_name": "Python 3 (ipykernel)",
   "language": "python",
   "name": "python3"
  },
  "language_info": {
   "codemirror_mode": {
    "name": "ipython",
    "version": 3
   },
   "file_extension": ".py",
   "mimetype": "text/x-python",
   "name": "python",
   "nbconvert_exporter": "python",
   "pygments_lexer": "ipython3",
   "version": "3.10.8"
  }
 },
 "nbformat": 4,
 "nbformat_minor": 5
}
