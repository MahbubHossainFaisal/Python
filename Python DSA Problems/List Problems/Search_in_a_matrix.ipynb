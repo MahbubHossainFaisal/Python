{
 "cells": [
  {
   "cell_type": "markdown",
   "id": "ca4d7f30",
   "metadata": {},
   "source": [
    "### Brute Force"
   ]
  },
  {
   "cell_type": "code",
   "execution_count": 11,
   "id": "e1ee00ec",
   "metadata": {},
   "outputs": [
    {
     "name": "stdout",
     "output_type": "stream",
     "text": [
      "1\n"
     ]
    }
   ],
   "source": [
    "def matSearch(mat,N,M,X):\n",
    "    for i in range(N):\n",
    "        for j in range(M):\n",
    "            if mat[i][j] == X:\n",
    "                return 1\n",
    "            \n",
    "            \n",
    "    return 0\n",
    "\n",
    "\n",
    "mat = [[3,30,38],[44,52,54],[57,60,69]]\n",
    "\n",
    "ans = matSearch(mat,3,3,44)\n",
    "print(ans)\n"
   ]
  },
  {
   "cell_type": "markdown",
   "id": "4c10e106",
   "metadata": {},
   "source": [
    "Time complexity: O(n2)\n",
    "\n",
    "Space complexity: O(1)"
   ]
  },
  {
   "cell_type": "markdown",
   "id": "b1e55e7d",
   "metadata": {},
   "source": [
    "### Better approach  "
   ]
  },
  {
   "cell_type": "code",
   "execution_count": 12,
   "id": "ef9f11c4",
   "metadata": {},
   "outputs": [
    {
     "name": "stdout",
     "output_type": "stream",
     "text": [
      "1\n"
     ]
    }
   ],
   "source": [
    "def matSearch(mat,N,M,X):\n",
    "    \n",
    "    for i in range(N):\n",
    "\n",
    "        low = 0\n",
    "        high = M-1\n",
    "        while(low<=high):\n",
    "            mid = int((low+high)/2)\n",
    "            if mat[i][mid] == X:\n",
    "                return 1\n",
    "            elif mat[i][mid] > X:\n",
    "                high = mid-1\n",
    "            else:\n",
    "                low = mid+1\n",
    "                \n",
    "    return 0\n",
    "                \n",
    "        \n",
    "\n",
    "        \n",
    "mat = [[3,30,38],[44,52,54],[57,60,69]]\n",
    "\n",
    "ans = matSearch(mat,3,3,44)\n",
    "print(ans)"
   ]
  },
  {
   "cell_type": "markdown",
   "id": "c71654c2",
   "metadata": {},
   "source": [
    "Time complexity: O(nlogn)\n",
    "\n",
    "Space complexity: O(1)"
   ]
  },
  {
   "cell_type": "markdown",
   "id": "88ef843f",
   "metadata": {},
   "source": [
    "### Optimal Approach"
   ]
  },
  {
   "cell_type": "code",
   "execution_count": 13,
   "id": "ef46078c",
   "metadata": {},
   "outputs": [
    {
     "name": "stdout",
     "output_type": "stream",
     "text": [
      "1\n"
     ]
    }
   ],
   "source": [
    "def matSearch(mat,N,M,X):\n",
    "    i = 0\n",
    "    j = M-1\n",
    "    \n",
    "    while (i<N and j>=0):\n",
    "        if X == mat[i][j]:\n",
    "            return 1\n",
    "        elif X > mat[i][j]:\n",
    "            i+=1\n",
    "        else:\n",
    "            j-=1       \n",
    "            \n",
    "    return 0\n",
    "\n",
    "\n",
    "\n",
    "mat = [[3,30,38],[44,52,54],[57,60,69]]\n",
    "\n",
    "ans = matSearch(mat,3,3,44)\n",
    "print(ans)\n",
    "            "
   ]
  },
  {
   "cell_type": "markdown",
   "id": "758525e8",
   "metadata": {},
   "source": [
    "Time complexity: O(n+m)\n",
    "\n",
    "Space complexity: O(1)"
   ]
  },
  {
   "cell_type": "code",
   "execution_count": null,
   "id": "36c913b0",
   "metadata": {},
   "outputs": [],
   "source": []
  },
  {
   "cell_type": "code",
   "execution_count": null,
   "id": "8eb3450b",
   "metadata": {},
   "outputs": [],
   "source": []
  }
 ],
 "metadata": {
  "kernelspec": {
   "display_name": "Python 3 (ipykernel)",
   "language": "python",
   "name": "python3"
  },
  "language_info": {
   "codemirror_mode": {
    "name": "ipython",
    "version": 3
   },
   "file_extension": ".py",
   "mimetype": "text/x-python",
   "name": "python",
   "nbconvert_exporter": "python",
   "pygments_lexer": "ipython3",
   "version": "3.9.13"
  }
 },
 "nbformat": 4,
 "nbformat_minor": 5
}
