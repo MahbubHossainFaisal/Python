{
 "cells": [
  {
   "cell_type": "markdown",
   "id": "5421e98d-882e-4bb2-a3f4-cb6d4a433176",
   "metadata": {},
   "source": [
    "Vaibhav likes to play with numbers and he has N numbers. One day he was placing the numbers on the playing board just to count that how many numbers he has. He was placing the numbers in increasing order i.e. from 1 to N. But when he was putting the numbers back into his bag, some numbers fell down onto the floor. He picked up all the numbers but one number, he couldn't find. Now he has to go somewhere urgently, so he asks you to find the missing number."
   ]
  },
  {
   "cell_type": "markdown",
   "id": "469b5a1c-e704-4af4-b091-ef1f0c9b1d2c",
   "metadata": {},
   "source": [
    "GFG Link: https://practice.geeksforgeeks.org/problems/missing-number4257/1?utm_source=youtube&utm_medium=collab_striver_ytdescription&utm_campaign=missing-number"
   ]
  },
  {
   "cell_type": "markdown",
   "id": "c7b3c562-4c8e-4a76-8014-d0b336223b6a",
   "metadata": {},
   "source": [
    "### Brute Force Approach"
   ]
  },
  {
   "cell_type": "code",
   "execution_count": 10,
   "id": "aa2cd987-751f-4ede-8199-5e420e015a3e",
   "metadata": {},
   "outputs": [
    {
     "name": "stdout",
     "output_type": "stream",
     "text": [
      "5\n"
     ]
    }
   ],
   "source": [
    "def missingNumber(A,N):\n",
    "    \n",
    "    for i in range(1,N+1):\n",
    "        flag=0\n",
    "        for j in range(len(A)):\n",
    "            if i == A[j]:\n",
    "                flag=1\n",
    "                \n",
    "        if flag == 0:\n",
    "            return i\n",
    "        \n",
    "        \n",
    "A = [1,2,4,3,8,6,7,9,10]\n",
    "N=10\n",
    "\n",
    "ans = missingNumber(A,N)\n",
    "print(ans)        "
   ]
  },
  {
   "cell_type": "markdown",
   "id": "1219f00f-9e07-46a8-9905-1086171a4b71",
   "metadata": {},
   "source": [
    "Time Complexity: O(n2)\n",
    "\n",
    "Space complexity: O(1)"
   ]
  },
  {
   "cell_type": "markdown",
   "id": "d252e930-b41d-4eca-8c89-2099fb29ac1a",
   "metadata": {},
   "source": [
    "### Better Approach"
   ]
  },
  {
   "cell_type": "code",
   "execution_count": null,
   "id": "01e3b56c-7f38-47b4-8739-753fda761c06",
   "metadata": {},
   "outputs": [],
   "source": [
    "def missingNumber(A,N):\n",
    "    \n",
    "    numbers = {}\n",
    "    for i in range(1,N+1):\n",
    "        numbers[i] = 1\n",
    "        \n",
    "    for i in range(len(A)):\n",
    "        numbers[A[i]] +=1\n",
    "        \n",
    "        \n",
    "    for key,value in numbers.items():\n",
    "        if value == 1:\n",
    "            return key\n",
    "        \n",
    "        \n",
    "A = [1,2,4,3,8,6,7,9,10]\n",
    "N=10\n",
    "\n",
    "ans = missingNumber(A,N)\n",
    "print(ans)"
   ]
  },
  {
   "cell_type": "markdown",
   "id": "6bb6fe0e-d655-4a80-a812-0da39175ba20",
   "metadata": {},
   "source": [
    "Time Complexity: O(n) + O(a) + O(n-a) = O(n)\n",
    "\n",
    "Space complexity: O(n)"
   ]
  },
  {
   "cell_type": "code",
   "execution_count": 15,
   "id": "25ab5b45-290e-4ab3-af30-fd72698ea4c8",
   "metadata": {},
   "outputs": [
    {
     "name": "stdout",
     "output_type": "stream",
     "text": [
      "5\n"
     ]
    }
   ],
   "source": [
    "def missingNumber(A,N):\n",
    "    \n",
    "    sum1 = 0\n",
    "    sum2 = 0\n",
    "    \n",
    "    \n",
    "    for i in range(1,N+1):\n",
    "        sum1 += i\n",
    "        \n",
    "    \n",
    "    #print(sum1)\n",
    "    \n",
    "    for i in range(len(A)):\n",
    "        sum2 += A[i]\n",
    "    \n",
    "    #print(sum2)\n",
    "    return sum1-sum2\n",
    "\n",
    "\n",
    "\n",
    "A = [1,2,4,3,8,6,7,9,10]\n",
    "N=10\n",
    "\n",
    "ans = missingNumber(A,N)\n",
    "print(ans)"
   ]
  },
  {
   "cell_type": "code",
   "execution_count": null,
   "id": "d75eaa81-eaf9-4867-8b39-0780a307b516",
   "metadata": {},
   "outputs": [],
   "source": []
  }
 ],
 "metadata": {
  "kernelspec": {
   "display_name": "Python 3 (ipykernel)",
   "language": "python",
   "name": "python3"
  },
  "language_info": {
   "codemirror_mode": {
    "name": "ipython",
    "version": 3
   },
   "file_extension": ".py",
   "mimetype": "text/x-python",
   "name": "python",
   "nbconvert_exporter": "python",
   "pygments_lexer": "ipython3",
   "version": "3.10.8"
  }
 },
 "nbformat": 4,
 "nbformat_minor": 5
}
