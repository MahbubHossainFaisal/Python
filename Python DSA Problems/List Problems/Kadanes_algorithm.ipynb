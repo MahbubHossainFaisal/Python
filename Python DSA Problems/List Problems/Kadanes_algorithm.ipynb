{
 "cells": [
  {
   "cell_type": "markdown",
   "id": "fa615282",
   "metadata": {},
   "source": [
    "Given an array Arr[] of N integers. Find the contiguous sub-array(containing at least one number) which has the maximum sum and return its sum.\n",
    "\n",
    "GFG link: https://practice.geeksforgeeks.org/problems/kadanes-algorithm-1587115620/0?company[]=Visa&company[]=Visa&page=2&query=company[]Visapage2company[]Visa&utm_source=youtube&utm_medium=collab_striver_ytdescription&utm_campaign=kadanes-algorithm"
   ]
  },
  {
   "cell_type": "markdown",
   "id": "cf486156",
   "metadata": {},
   "source": [
    "### Brute Force"
   ]
  },
  {
   "cell_type": "code",
   "execution_count": 12,
   "id": "e8e3563e",
   "metadata": {},
   "outputs": [
    {
     "name": "stdout",
     "output_type": "stream",
     "text": [
      "22\n"
     ]
    }
   ],
   "source": [
    "def maxSubArraySum(arr,N):\n",
    "    maxSum = max(arr)\n",
    "    #print(maxSum)\n",
    "    for i in range(N):\n",
    "        \n",
    "        for j in range(N):\n",
    "            elesum=0\n",
    "            for k in range(i,j+1):\n",
    "                elesum += arr[k]\n",
    "                \n",
    "            maxSum = max(elesum,maxSum)\n",
    "            \n",
    "        \n",
    "        #print(maxSum)\n",
    "            \n",
    "    return maxSum\n",
    "\n",
    "\n",
    "\n",
    "arr = [1,2,3,4,-8,4,6,10,-3]\n",
    "\n",
    "ans = maxSubArraySum(arr,9)\n",
    "print(ans)"
   ]
  },
  {
   "cell_type": "markdown",
   "id": "41ca54ab",
   "metadata": {},
   "source": [
    "Time complexity: O(n3)\n",
    "\n",
    "Space complexity: O(1)"
   ]
  },
  {
   "cell_type": "code",
   "execution_count": 13,
   "id": "a87a2013",
   "metadata": {},
   "outputs": [
    {
     "name": "stdout",
     "output_type": "stream",
     "text": [
      "22\n"
     ]
    }
   ],
   "source": [
    "def maxSubArraySum(arr,N):\n",
    "    maxSum = max(arr)\n",
    "    #print(maxSum)\n",
    "    for i in range(N):\n",
    "        elesum=0\n",
    "        for j in range(i,N):\n",
    "            elesum += arr[j]\n",
    "           \n",
    "            if maxSum < elesum:\n",
    "                maxSum = elesum\n",
    "        \n",
    "            \n",
    "        \n",
    "        #print(maxSum)\n",
    "            \n",
    "    return maxSum\n",
    "\n",
    "\n",
    "\n",
    "arr = [1,2,3,4,-8,4,6,10,-3]\n",
    "\n",
    "ans = maxSubArraySum(arr,9)\n",
    "print(ans)"
   ]
  },
  {
   "cell_type": "markdown",
   "id": "440317b3",
   "metadata": {},
   "source": [
    "Time complexity: O(n2)\n",
    "\n",
    "Space complexity: O(1)"
   ]
  },
  {
   "cell_type": "code",
   "execution_count": 19,
   "id": "25cc283a",
   "metadata": {},
   "outputs": [
    {
     "name": "stdout",
     "output_type": "stream",
     "text": [
      "-1\n"
     ]
    }
   ],
   "source": [
    "def maxSubArraySum(arr,N):\n",
    "    elesum = 0\n",
    "    maxi = arr[0]\n",
    "    \n",
    "    for i in range(N):\n",
    "        elesum+=arr[i]\n",
    "        if maxi < elesum:\n",
    "            maxi=elesum\n",
    "        if elesum < 0:\n",
    "            elesum = 0\n",
    "        \n",
    "            \n",
    "    return maxi\n",
    "            \n",
    "            \n",
    "arr = [-1, -2, -3, -4]\n",
    "\n",
    "ans = maxSubArraySum(arr,4)\n",
    "print(ans)"
   ]
  },
  {
   "cell_type": "markdown",
   "id": "e4e2dc37",
   "metadata": {},
   "source": [
    "Time complexity: O(n)\n",
    "\n",
    "Space complexity: O(1)"
   ]
  },
  {
   "cell_type": "code",
   "execution_count": null,
   "id": "bfe49f78",
   "metadata": {},
   "outputs": [],
   "source": []
  }
 ],
 "metadata": {
  "kernelspec": {
   "display_name": "Python 3 (ipykernel)",
   "language": "python",
   "name": "python3"
  },
  "language_info": {
   "codemirror_mode": {
    "name": "ipython",
    "version": 3
   },
   "file_extension": ".py",
   "mimetype": "text/x-python",
   "name": "python",
   "nbconvert_exporter": "python",
   "pygments_lexer": "ipython3",
   "version": "3.9.13"
  }
 },
 "nbformat": 4,
 "nbformat_minor": 5
}
