{
 "cells": [
  {
   "cell_type": "markdown",
   "id": "96981151-579c-4d01-ab0d-b3d86e79f9cc",
   "metadata": {},
   "source": [
    "Given an m x n matrix, return all elements of the matrix in spiral order.\n",
    "\n",
    "Leetcode link: https://leetcode.com/problems/spiral-matrix/description/\n"
   ]
  },
  {
   "cell_type": "code",
   "execution_count": 6,
   "id": "10a70029-333c-4280-a24b-185789883eab",
   "metadata": {},
   "outputs": [
    {
     "name": "stdout",
     "output_type": "stream",
     "text": [
      "[1, 2, 3, 4, 8, 12, 11, 10, 9, 5, 6, 7]\n"
     ]
    }
   ],
   "source": [
    "def spiralOrder(matrix):\n",
    "    left = 0\n",
    "    right = len(matrix[0]) - 1\n",
    "    top = 0\n",
    "    bottom = len(matrix) - 1\n",
    "    spiralArray = []\n",
    "\n",
    "    while top <= bottom and left <= right:  # Use 'and' instead of 'or'\n",
    "        # left to right\n",
    "        for i in range(left, right + 1):\n",
    "            spiralArray.append(matrix[top][i])\n",
    "        top += 1\n",
    "\n",
    "        # top to bottom\n",
    "        for i in range(top, bottom + 1):\n",
    "            spiralArray.append(matrix[i][right])\n",
    "        right -= 1\n",
    "\n",
    "        # right to left\n",
    "        if top <= bottom:  \n",
    "            for i in range(right, left - 1, -1):\n",
    "                spiralArray.append(matrix[bottom][i])\n",
    "            bottom -= 1\n",
    "\n",
    "        # bottom to top\n",
    "        if left <= right: \n",
    "            for i in range(bottom, top - 1, -1):\n",
    "                spiralArray.append(matrix[i][left])\n",
    "            left += 1\n",
    "\n",
    "    return spiralArray\n",
    "\n",
    "\n",
    "matrix = [[1, 2, 3, 4], [5, 6, 7, 8], [9, 10, 11, 12]]\n",
    "ans = spiralOrder(matrix)\n",
    "print(ans)"
   ]
  },
  {
   "cell_type": "markdown",
   "id": "118c7676-42e1-4a75-be77-b4d9b3f80ee8",
   "metadata": {},
   "source": [
    "Time complexity: O(n2)\n",
    "\n",
    "Space complexity: O(n)"
   ]
  },
  {
   "cell_type": "markdown",
   "id": "4cf4f0b8-6c73-48cf-b42a-498b8b2e6ee9",
   "metadata": {},
   "source": [
    "logic of the algorithm:\n",
    "\n",
    "1. Initialize `left`, `right`, `top`, and `bottom` to appropriate starting values based on the matrix. `left` and `top` are initialzed to 0, and `right` and `bottom` are initialized to the maximum column and row indices respectively.\n",
    "2. Initialize an empty list `spiralArray` that will be used to store the elements of `matrix` arranged in spiral order.\n",
    "3. Begin a loop that will continue until the pointers `left` and `right` cross over each other and `top` and `bottom` pointers cross over each other.\n",
    "4. Within the loop, start by traversing the row, starting from the left-most column until the right-most column. Append each element traversed to `spiralArray`.\n",
    "5. Increment `top` by 1, ensuring that the next loop iteration starts one row below the current row.\n",
    "6. Traverse the column, starting from the top-most row until the bottom-most row. Append each element traversed to `spiralArray`.\n",
    "7. Decrement `right` by 1, ensuring that the next loop iteration starts one column before the current column.\n",
    "8. Traverse the row, starting from the right-most column until the left-most column. However, before starting the traversal, check if `top` is still less than or equal to `bottom`. If `top` is equal to `bottom`, the traversal would be equivalent to the 1st step of this loop iteration, so there is no need to execute it again. Append each element traversed to `spiralArray`.\n",
    "9. Decrement `bottom` by 1, ensuring that the next loop iteration ends one row above the current row.\n",
    "10. Traverse the column, starting from the bottom-most row until the top-most row. However, before starting the traversal, check if `left` is still less than or equal to `right`. If `left` is equal to `right`, the traversal would be equivalent to the 2nd step of this loop iteration, so there is no need to execute it again. Append each element traversed to `spiralArray`.\n",
    "11. Increment `left` by 1, ensuring that the next loop iteration starts one column after the current column.\n",
    "12. Repeat steps 4-11 of the loop, until the pointers `left` and `right` cross over each other and `top` and `bottom` pointers cross over each other.\n",
    "13. Return `spiralArray` containing the matrix elements arranged in spiral order.\n",
    "\n",
    "This algorithm works by traversing the matrix boundaries, forming a spiral pattern, and adding each visited element to the `spiralArray`. It uses four pointers (`left`, `right`, `top`, and `bottom`) to track the boundaries of the matrix and move through the matrix in the correct order. Each loop iteration moves in one of four directions (right, down, left, up), depending on which side of the matrix boundary is being traversed at that time.\n"
   ]
  },
  {
   "cell_type": "code",
   "execution_count": null,
   "id": "185dc392-e5ce-475c-8fef-66d633b1e0cb",
   "metadata": {},
   "outputs": [],
   "source": []
  }
 ],
 "metadata": {
  "kernelspec": {
   "display_name": "Python 3 (ipykernel)",
   "language": "python",
   "name": "python3"
  },
  "language_info": {
   "codemirror_mode": {
    "name": "ipython",
    "version": 3
   },
   "file_extension": ".py",
   "mimetype": "text/x-python",
   "name": "python",
   "nbconvert_exporter": "python",
   "pygments_lexer": "ipython3",
   "version": "3.10.8"
  }
 },
 "nbformat": 4,
 "nbformat_minor": 5
}
