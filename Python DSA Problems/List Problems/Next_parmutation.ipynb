{
 "cells": [
  {
   "cell_type": "markdown",
   "id": "21029e79-43be-44f6-b032-da383f85ae47",
   "metadata": {},
   "source": [
    "### Brute Force Approach"
   ]
  },
  {
   "cell_type": "markdown",
   "id": "92465913-be7a-4ea3-a4fd-916a380554a6",
   "metadata": {},
   "source": [
    "Generate all possible permutations of the given list. There are various algorithms to generate permutations, such as backtracking or using library functions like itertools.permutations in Python.\n",
    "\n",
    "Sort the list of permutations in lexicographic order.\n",
    "\n",
    "Find the input permutation in the sorted list.\n",
    "\n",
    "The next permutation in lexicographic order is the one that comes immediately after the input permutation.\n",
    "\n",
    "This brute force approach guarantees that you will find the correct next permutation, but it is not efficient. The time complexity of generating all permutations is O(n!), where n is the length of the input list. This can be computationally expensive for larger input sizes."
   ]
  },
  {
   "cell_type": "code",
   "execution_count": 1,
   "id": "f6a90332-bed7-41c4-8c7d-08cd26dfb529",
   "metadata": {},
   "outputs": [
    {
     "name": "stdout",
     "output_type": "stream",
     "text": [
      "[1, 3, 2]\n"
     ]
    }
   ],
   "source": [
    "def next_permutation(nums):\n",
    "    def reverse(nums, start, end):\n",
    "        while start < end:\n",
    "            nums[start], nums[end] = nums[end], nums[start]\n",
    "            start += 1\n",
    "            end -= 1\n",
    "\n",
    "    n = len(nums)\n",
    "    found = False\n",
    "\n",
    "    # Find the next lexicographically greater permutation\n",
    "    for i in range(n - 2, -1, -1):\n",
    "        if nums[i] < nums[i + 1]:\n",
    "            found = True\n",
    "            break\n",
    "\n",
    "    if not found:\n",
    "        # If no next permutation exists, return the first permutation\n",
    "        reverse(nums, 0, n - 1)\n",
    "    else:\n",
    "        # Find the smallest number greater than nums[i] in the suffix\n",
    "        next_num = i + 1\n",
    "        for j in range(i + 2, n):\n",
    "            if nums[j] > nums[i] and nums[j] < nums[next_num]:\n",
    "                next_num = j\n",
    "\n",
    "        # Swap nums[i] and nums[next_num]\n",
    "        nums[i], nums[next_num] = nums[next_num], nums[i]\n",
    "\n",
    "        # Reverse the suffix\n",
    "        reverse(nums, i + 1, n - 1)\n",
    "\n",
    "    return nums\n",
    "\n",
    "# Example usage\n",
    "nums = [1, 2, 3]\n",
    "next_permuted_nums = next_permutation(nums)\n",
    "print(next_permuted_nums)  # Output: [1, 3, 2]\n"
   ]
  },
  {
   "cell_type": "markdown",
   "id": "20531812-b89c-472e-8f2d-335471d368bc",
   "metadata": {},
   "source": [
    "Time Complexity: O(n!)\n",
    "\n",
    "Space complexity: O(1)"
   ]
  },
  {
   "cell_type": "markdown",
   "id": "a63a524d-637f-4567-b594-145743b8d80b",
   "metadata": {},
   "source": [
    "### Optimal Approach"
   ]
  },
  {
   "cell_type": "markdown",
   "id": "667d57b9-f0bb-483f-ba9b-6bebb9c03963",
   "metadata": {},
   "source": [
    "The algorithm to solve the Next Permutation problem can be broken down into the following steps:\n",
    "\n",
    "Start from the right end of the list and find the first pair of adjacent numbers where the left number is smaller than the right number. Let's call the index of the left number 'i'.\n",
    "\n",
    "If no such pair is found, the given permutation is the largest possible, so reverse the entire list to get the smallest permutation.\n",
    "\n",
    "If a pair is found, swap the left number with the smallest number on its right side that is larger than the left number. Let's call the index of this number 'j'.\n",
    "\n",
    "Reverse the sublist starting from index 'i+1' to the end of the list.\n",
    "\n",
    "The resulting permutation is the next lexicographically larger permutation."
   ]
  },
  {
   "cell_type": "code",
   "execution_count": 13,
   "id": "15fd0ece-90ca-43b0-9843-dd17035162f4",
   "metadata": {},
   "outputs": [
    {
     "name": "stdout",
     "output_type": "stream",
     "text": [
      "[1, 2, 3]\n"
     ]
    }
   ],
   "source": [
    "def next_permutation(arr,N):\n",
    "    i= N\n",
    "    index=-1\n",
    "\n",
    "    for i in range(N-1,0,-1):\n",
    "        if arr[i-1] < arr[i]:\n",
    "            index=i\n",
    "            break\n",
    "\n",
    "\n",
    "    #print(index)\n",
    "    if index == -1:\n",
    "    \n",
    "        return arr[::-1]\n",
    "\n",
    "    else:\n",
    "        smallEleIdx = index\n",
    "        for i in range(index,N):\n",
    "            if arr[smallEleIdx] > arr[i] and arr[i] > arr[index-1]:\n",
    "                smallEleIdx = i\n",
    "        #print(smallEleIdx)\n",
    "        arr[index-1],arr[smallEleIdx] = arr[smallEleIdx],arr[index-1]\n",
    "\n",
    "        i=index\n",
    "        j=N-1\n",
    "\n",
    "        while(i<j):\n",
    "            arr[i],arr[j]=arr[j],arr[i]\n",
    "            #print(arr[i],arr[j])\n",
    "            i+=1\n",
    "            j-=1\n",
    "\n",
    "        return arr\n",
    "\n",
    "    \n",
    "arr = [3,2,1]\n",
    "\n",
    "\n",
    "ans = next_permutation(arr,3)\n",
    "\n",
    "print(ans)\n",
    "            \n",
    "            "
   ]
  },
  {
   "cell_type": "markdown",
   "id": "2060e7e4-92e5-488e-98be-161592e9c319",
   "metadata": {},
   "source": [
    "Time complexity: O(n)\n",
    "\n",
    "Space complexity: O(1)"
   ]
  },
  {
   "cell_type": "code",
   "execution_count": null,
   "id": "9060a296-7071-4a3d-abcc-ab26aef74e36",
   "metadata": {},
   "outputs": [],
   "source": []
  }
 ],
 "metadata": {
  "kernelspec": {
   "display_name": "Python 3 (ipykernel)",
   "language": "python",
   "name": "python3"
  },
  "language_info": {
   "codemirror_mode": {
    "name": "ipython",
    "version": 3
   },
   "file_extension": ".py",
   "mimetype": "text/x-python",
   "name": "python",
   "nbconvert_exporter": "python",
   "pygments_lexer": "ipython3",
   "version": "3.10.8"
  }
 },
 "nbformat": 4,
 "nbformat_minor": 5
}
