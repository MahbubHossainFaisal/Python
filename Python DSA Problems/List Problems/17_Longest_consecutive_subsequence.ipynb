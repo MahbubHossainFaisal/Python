{
 "cells": [
  {
   "attachments": {},
   "cell_type": "markdown",
   "id": "3c923c8a-6c26-4b13-8cec-53aab16797c2",
   "metadata": {},
   "source": [
    "Given an array of positive integers. Find the length of the longest sub-sequence such that elements in the subsequence are consecutive integers, the consecutive numbers can be in any order.\n",
    "\n",
    "GFG link: https://practice.geeksforgeeks.org/problems/longest-consecutive-subsequence2449/0?problemType=functional&page=1&query=problemTypefunctionalpage1&utm_source=youtube&utm_medium=collab_striver_ytdescription&utm_campaign=longest-consecutive-subsequence"
   ]
  },
  {
   "cell_type": "code",
   "execution_count": 1,
   "id": "85e26a8c-b6cd-4004-a327-d98074916b66",
   "metadata": {},
   "outputs": [
    {
     "name": "stdout",
     "output_type": "stream",
     "text": [
      "6\n"
     ]
    }
   ],
   "source": [
    "def findLongestConseqSubseq(arr, N):\n",
    "        \n",
    "        maxcount=0\n",
    "        for i in range(N):\n",
    "            #print('i',arr[i])\n",
    "            min_ele = arr[i]\n",
    "            count=1\n",
    "            j=0\n",
    "            while(j<N):\n",
    "                if min_ele + 1 == arr[j]:\n",
    "                    #print(arr[j])\n",
    "                    count +=1\n",
    "                    min_ele = arr[j]\n",
    "                    j=0\n",
    "                j+=1\n",
    "           # print('count: ',count)\n",
    "            if maxcount < count:\n",
    "                maxcount = count\n",
    "            \n",
    "        return maxcount\n",
    "    \n",
    "    \n",
    "    \n",
    "N = 7\n",
    "a=[2,6,1,9,4,5,3]\n",
    "\n",
    "ans =findLongestConseqSubseq(a,N)\n",
    "\n",
    "print(ans)\n",
    "                "
   ]
  },
  {
   "attachments": {},
   "cell_type": "markdown",
   "id": "38a9643a-1bae-4c97-9b4c-29c49039bd9c",
   "metadata": {},
   "source": [
    "### Better Approach"
   ]
  },
  {
   "cell_type": "code",
   "execution_count": 2,
   "id": "e7cdcf61-1c6f-4c95-b9f9-bce7769a813d",
   "metadata": {},
   "outputs": [
    {
     "name": "stdout",
     "output_type": "stream",
     "text": [
      "6\n"
     ]
    }
   ],
   "source": [
    "def findLongestConseqSubseq(arr, N):\n",
    "        \n",
    "        arr.sort()\n",
    "        #print(arr)\n",
    "        maxcount = 1\n",
    "        count=1\n",
    "        lastMin = arr[0]\n",
    "        for i in range(1,N):\n",
    "            \n",
    "            if arr[i] - lastMin == 1:\n",
    "                #print(arr[i])\n",
    "                count+=1\n",
    "                #print('count',count)\n",
    "                lastMin=arr[i]\n",
    "                \n",
    "            elif arr[i] == lastMin :\n",
    "                continue\n",
    "                \n",
    "            else:\n",
    "                count=1\n",
    "                lastMin=arr[i]\n",
    "                \n",
    "            if maxcount < count :\n",
    "                maxcount=count\n",
    "        \n",
    "        return maxcount\n",
    "    \n",
    "    \n",
    "N = 7\n",
    "a=[2,6,1,9,4,5,3]\n",
    "\n",
    "\n",
    "ans =findLongestConseqSubseq(a,N)\n",
    "\n",
    "print(ans)\n",
    "                "
   ]
  },
  {
   "attachments": {},
   "cell_type": "markdown",
   "id": "704b2899-66fe-4847-8576-f059470debe5",
   "metadata": {},
   "source": [
    "Time complexity: O(nlogn)\n",
    "\n",
    "Space complexity: O(1)"
   ]
  },
  {
   "cell_type": "code",
   "execution_count": 3,
   "id": "6ace22f6-e11b-459f-b824-944865746641",
   "metadata": {},
   "outputs": [
    {
     "name": "stdout",
     "output_type": "stream",
     "text": [
      "{34, 2, 37, 38, 7, 6, 11, 13, 45, 19, 23, 31}\n",
      "2\n"
     ]
    }
   ],
   "source": [
    "def findLongestConseqSubseq(arr, N):\n",
    "    temp = set(arr)\n",
    "    print(temp)\n",
    "    maxcount=1\n",
    "    \n",
    "    for i in temp:\n",
    "        count=1\n",
    "        ele = i\n",
    "        if ele-1 in temp:\n",
    "            #print('ele found',ele-1)\n",
    "            continue\n",
    "        if ele-1 not in temp:\n",
    "           # print('element not found',ele-1)\n",
    "            while(ele + 1 in temp):\n",
    "                count+=1\n",
    "                ele=ele+1\n",
    "                \n",
    "        if maxcount<count:\n",
    "            maxcount=count\n",
    "            \n",
    "    return maxcount\n",
    "    \n",
    "    \n",
    "N=12\n",
    "arr=[34, 2,7, 23,31, 38, 13, 11, 37, 19, 45, 6]\n",
    "\n",
    "\n",
    "ans =findLongestConseqSubseq(arr,N)\n",
    "\n",
    "print(ans)"
   ]
  },
  {
   "attachments": {},
   "cell_type": "markdown",
   "id": "ccbcae21-0d6b-480d-8eec-d01e3d3a98e4",
   "metadata": {},
   "source": [
    "Time complexity: O(n)\n",
    "\n",
    "Space complexity: O(n)"
   ]
  },
  {
   "cell_type": "code",
   "execution_count": null,
   "id": "7796be7a-4c99-437e-9b98-35b42e33298c",
   "metadata": {},
   "outputs": [],
   "source": []
  },
  {
   "attachments": {},
   "cell_type": "markdown",
   "id": "1535e574",
   "metadata": {},
   "source": [
    "Here, the function initializes a set `temp` with the list of integers `arr` by converting it to a set. This is done to remove any duplicates from the list. The variable `maxcount` is initialized to 1, which represents the length of the shortest consecutive subsequence that can be possible.\n",
    "\n",
    "Then, the function loops over each element `i` in the set `temp`. For each `i`, it initializes the variable `count` to 1 and the variable `ele` to `i`. \n",
    "\n",
    "The function then checks if the element `ele-1` exists in the set `temp`. If it does, and it means that `ele` has been accounted for in some other subsequence and hence, we can skip exploring any subsequence starting from `ele`. If it does not exist, then we know that `ele` is the first element in some subsequence, and we continue exploring from it.\n",
    "\n",
    "The code then enters a `while` loop, which starts exploring the elements starting from `ele+1`. The loop increments the count if the next element exists in the set `temp` and updates the current element `ele`. Once there are no more elements in the subsequence, it exits the `while` loop and checks if the length of the current subsequence is greater than the current `maxcount`. If it is, `maxcount` is updated to the new length of the subsequence.\n",
    "\n",
    "Finally, the function returns `maxcount`, which represents the length of the longest consecutive subsequence in the array.\n",
    "\n",
    "Let me know if you have any more questions!"
   ]
  },
  {
   "attachments": {},
   "cell_type": "markdown",
   "id": "23ad29a3",
   "metadata": {},
   "source": []
  }
 ],
 "metadata": {
  "kernelspec": {
   "display_name": "Python 3 (ipykernel)",
   "language": "python",
   "name": "python3"
  },
  "language_info": {
   "codemirror_mode": {
    "name": "ipython",
    "version": 3
   },
   "file_extension": ".py",
   "mimetype": "text/x-python",
   "name": "python",
   "nbconvert_exporter": "python",
   "pygments_lexer": "ipython3",
   "version": "3.9.13"
  }
 },
 "nbformat": 4,
 "nbformat_minor": 5
}
