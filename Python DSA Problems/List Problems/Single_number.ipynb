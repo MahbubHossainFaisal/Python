{
 "cells": [
  {
   "cell_type": "markdown",
   "id": "2583abfd-1a3c-4333-ae43-dfdba1ae3837",
   "metadata": {},
   "source": [
    "### Brute Force Approach"
   ]
  },
  {
   "cell_type": "code",
   "execution_count": 9,
   "id": "1d69f2b0-a86f-4ac5-86aa-2e92a8bb103a",
   "metadata": {},
   "outputs": [
    {
     "name": "stdout",
     "output_type": "stream",
     "text": [
      "5\n"
     ]
    }
   ],
   "source": [
    "def search(A, N):\n",
    "    for i in range(N):\n",
    "        count=0\n",
    "        for j in range(N):\n",
    "            if A[j] == A[i]:\n",
    "                count+=1\n",
    "                \n",
    "        \n",
    "        if count == 1:\n",
    "            return A[i]\n",
    "        \n",
    "            \n",
    "A = [1,1,2,2,3,3,5,6,6,7,7,8,8,9,9,10,10]\n",
    "N = 17\n",
    "\n",
    "ans = search(A,N)\n",
    "print(ans)        "
   ]
  },
  {
   "cell_type": "markdown",
   "id": "5b147be1-da61-4ebd-b25a-1dcaea84b7aa",
   "metadata": {},
   "source": [
    "Time Complexity: O(N)\n",
    "\n",
    "Space complexity: O(1)"
   ]
  },
  {
   "cell_type": "markdown",
   "id": "1feeb36d-b237-4f78-8608-20d7fc173737",
   "metadata": {},
   "source": [
    "### Better Approach"
   ]
  },
  {
   "cell_type": "code",
   "execution_count": 8,
   "id": "4d955d9b-273c-4688-951a-07aa7fd768be",
   "metadata": {},
   "outputs": [
    {
     "name": "stdout",
     "output_type": "stream",
     "text": [
      "{1: 0, 2: 0, 3: 0, 5: 0, 6: 0, 7: 0, 8: 0, 9: 0, 10: 0}\n",
      "5\n"
     ]
    }
   ],
   "source": [
    "def search(A, N):\n",
    "        dic = {x:0 for x in A}\n",
    "        print(dic)\n",
    "        for i in range(N):\n",
    "            dic[A[i]] +=1\n",
    "            \n",
    "            \n",
    "        for key,val in dic.items():\n",
    "            if val == 1:\n",
    "                return key\n",
    "            \n",
    "            \n",
    "            \n",
    "                \n",
    "            \n",
    "            \n",
    "            \n",
    "A = [1,1,2,2,3,3,5,6,6,7,7,8,8,9,9,10,10]\n",
    "N = 17\n",
    "\n",
    "ans = search(A,N)\n",
    "print(ans)"
   ]
  },
  {
   "cell_type": "markdown",
   "id": "cb820267-07bb-4b14-9f08-f60484218edf",
   "metadata": {},
   "source": [
    "Time complexity: O(N) \n",
    "\n",
    "Space complexity: O(N)"
   ]
  },
  {
   "cell_type": "markdown",
   "id": "5724b9cd-9c97-4b29-a6bd-b1117a254cf3",
   "metadata": {},
   "source": [
    "### Optimal Approach"
   ]
  },
  {
   "cell_type": "code",
   "execution_count": 14,
   "id": "3dd53397-3b09-4887-ba9d-0bb25e387c69",
   "metadata": {},
   "outputs": [
    {
     "name": "stdout",
     "output_type": "stream",
     "text": [
      "5\n"
     ]
    }
   ],
   "source": [
    "def search(A, N):\n",
    "        # your code here\n",
    "        xor = 0\n",
    "        for i in range(N):\n",
    "            xor = xor ^ A[i]\n",
    "            \n",
    "        return xor\n",
    "    \n",
    "A = [1,1,2,2,3,3,5,6,6,7,7,8,8,9,9,10,10]\n",
    "N = 17\n",
    "\n",
    "ans = search(A,N)\n",
    "print(ans)   "
   ]
  },
  {
   "cell_type": "markdown",
   "id": "a1a49bae-b30c-4ad7-8977-06699367ac5e",
   "metadata": {},
   "source": [
    "Time complexity: O(n)\n",
    "\n",
    "Space complexity: O(1)"
   ]
  },
  {
   "cell_type": "markdown",
   "id": "b7260b62-d1e5-4824-bce0-3581f03495de",
   "metadata": {},
   "source": [
    "XOR concept:\n",
    "\n",
    "    When we do 1 XOR 1 = 0\n",
    "    \n",
    "    when We do 0 XOR 5 = 5\n",
    "    \n",
    "    \n",
    "So in terms of 1,1,2,2,3,3,5,6,6,7,7,8,8,9,9,10,10\n",
    "\n",
    "all the numbers which occured for 2 times, they will be 0 after doing xor. So here is the result\n",
    "\n",
    "1^1 = 0 , then 2^2 = 0, 3^3 = 0, 4^4=0, 5, 6^6 = 0......\n",
    "\n",
    "so after xor, 0^0^0^5^0^0^0^0^0 = 5"
   ]
  },
  {
   "cell_type": "code",
   "execution_count": null,
   "id": "898c2a32-9b96-417d-bdd0-251cd7ed085a",
   "metadata": {},
   "outputs": [],
   "source": []
  }
 ],
 "metadata": {
  "kernelspec": {
   "display_name": "Python 3 (ipykernel)",
   "language": "python",
   "name": "python3"
  },
  "language_info": {
   "codemirror_mode": {
    "name": "ipython",
    "version": 3
   },
   "file_extension": ".py",
   "mimetype": "text/x-python",
   "name": "python",
   "nbconvert_exporter": "python",
   "pygments_lexer": "ipython3",
   "version": "3.10.8"
  }
 },
 "nbformat": 4,
 "nbformat_minor": 5
}
