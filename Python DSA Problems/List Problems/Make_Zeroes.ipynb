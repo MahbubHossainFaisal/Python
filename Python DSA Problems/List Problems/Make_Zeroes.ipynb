{
 "cells": [
  {
   "cell_type": "markdown",
   "id": "0000a74b-2e74-43d6-91a2-6ef0c648563e",
   "metadata": {},
   "source": [
    "Given a matrix of  size n x m. Your task is to make Zeroes, that means in whole matrix when you find a zero, convert its upper, lower, left, and right value to zero and make that element the sum of the upper, lower, left and right value. Do the following tasks according to the initial matrix.\n",
    "\n",
    "GFG Link: https://practice.geeksforgeeks.org/problems/make-zeroes4042/1?utm_source=youtube&utm_medium=collab_striver_ytdescription&utm_campaign=make-zeroes"
   ]
  },
  {
   "cell_type": "code",
   "execution_count": 1,
   "id": "78280360-a1a4-4c6a-bac8-d8ed6c80b1e3",
   "metadata": {},
   "outputs": [
    {
     "name": "stdout",
     "output_type": "stream",
     "text": [
      "[[35, 0, 9, 9, 13], [0, 1, 15, 2, 0], [4, 10, 19, 0, 9]]\n"
     ]
    }
   ],
   "source": [
    "def MakeZeros(matrix):\n",
    "    n=len(matrix)\n",
    "    m=len(matrix[0])\n",
    "    \n",
    "    \n",
    "    modified_matrix = [[matrix[i][j] for j in range(m)] for i in range(n)]\n",
    "    \n",
    "    for i in range(n):\n",
    "        for j in range(m):\n",
    "            if matrix[i][j] == 0:\n",
    "                if j-1 >= 0:\n",
    "                    modified_matrix[i][j] += matrix[i][j-1]\n",
    "                    modified_matrix[i][j-1] = 0\n",
    "                if j+1 < m:\n",
    "                    modified_matrix[i][j] += matrix[i][j+1]\n",
    "                    modified_matrix[i][j+1] = 0 \n",
    "                if i-1 >= 0:\n",
    "                    modified_matrix[i][j] += matrix[i-1][j]\n",
    "                    modified_matrix[i-1][j] = 0\n",
    "                    \n",
    "                if i+1 < n:\n",
    "                    modified_matrix[i][j] += matrix[i+1][j]\n",
    "                    modified_matrix[i+1][j] = 0\n",
    "                    \n",
    "                    \n",
    "    matrix = modified_matrix                \n",
    "                    \n",
    "    return matrix\n",
    "\n",
    "matrix = [[0, 17, 9, 9, 13],\n",
    "          [18, 1, 15, 2, 3],\n",
    "          [4, 10, 19, 6, 0]]\n",
    "\n",
    "ans = MakeZeros(matrix)\n",
    "\n",
    "print(ans)"
   ]
  },
  {
   "cell_type": "markdown",
   "id": "0fc878ee-a73a-4692-a4b7-9ce73bca7da1",
   "metadata": {},
   "source": [
    "Time complexity: O(n*m)\n",
    "\n",
    "Space complexity: O(n*m)"
   ]
  },
  {
   "cell_type": "code",
   "execution_count": null,
   "id": "4ba4bf23-4650-4c96-8150-3a658e82eed2",
   "metadata": {},
   "outputs": [],
   "source": []
  }
 ],
 "metadata": {
  "kernelspec": {
   "display_name": "Python 3 (ipykernel)",
   "language": "python",
   "name": "python3"
  },
  "language_info": {
   "codemirror_mode": {
    "name": "ipython",
    "version": 3
   },
   "file_extension": ".py",
   "mimetype": "text/x-python",
   "name": "python",
   "nbconvert_exporter": "python",
   "pygments_lexer": "ipython3",
   "version": "3.10.8"
  }
 },
 "nbformat": 4,
 "nbformat_minor": 5
}
