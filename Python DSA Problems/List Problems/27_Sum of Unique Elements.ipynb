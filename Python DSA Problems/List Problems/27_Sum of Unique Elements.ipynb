{
 "cells": [
  {
   "cell_type": "markdown",
   "id": "87547f74",
   "metadata": {},
   "source": [
    "### Problem Link\n",
    "https://leetcode.com/problems/sum-of-unique-elements/"
   ]
  },
  {
   "cell_type": "code",
   "execution_count": null,
   "id": "936de1fa",
   "metadata": {},
   "outputs": [],
   "source": [
    "class Solution:\n",
    "    def sumOfUnique(self, nums: List[int]) -> int:\n",
    "        num_count = {}\n",
    "        unique_sum = 0\n",
    "        \n",
    "        for num in nums:\n",
    "            if num in num_count:\n",
    "                num_count[num] += 1\n",
    "            else:\n",
    "                num_count[num] = 1\n",
    "        \n",
    "        for num, count in num_count.items():\n",
    "            if count == 1:\n",
    "                unique_sum += num\n",
    "        \n",
    "        return unique_sum"
   ]
  },
  {
   "cell_type": "code",
   "execution_count": null,
   "id": "6eeed116",
   "metadata": {},
   "outputs": [],
   "source": []
  }
 ],
 "metadata": {
  "kernelspec": {
   "display_name": "Python 3 (ipykernel)",
   "language": "python",
   "name": "python3"
  },
  "language_info": {
   "codemirror_mode": {
    "name": "ipython",
    "version": 3
   },
   "file_extension": ".py",
   "mimetype": "text/x-python",
   "name": "python",
   "nbconvert_exporter": "python",
   "pygments_lexer": "ipython3",
   "version": "3.9.13"
  }
 },
 "nbformat": 4,
 "nbformat_minor": 5
}
