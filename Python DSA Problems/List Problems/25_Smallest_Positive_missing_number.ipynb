{
 "cells": [
  {
   "cell_type": "markdown",
   "id": "597343c4",
   "metadata": {},
   "source": [
    "### Problem Link\n",
    "https://practice.geeksforgeeks.org/problems/smallest-positive-missing-number-1587115621/1?utm_source=geeksforgeeks&utm_medium=ml_article_practice_tab&utm_campaign=article_practice_tab"
   ]
  },
  {
   "cell_type": "code",
   "execution_count": null,
   "id": "12e1604b",
   "metadata": {},
   "outputs": [],
   "source": [
    "#User function Template for python3\n",
    "\n",
    "class Solution:\n",
    "    \n",
    "    #Function to find the smallest positive number missing from the array.\n",
    "    def missingNumber(self,arr,n):\n",
    "        #Your code her\n",
    "        min_num = 100000\n",
    "        for i in range(len(arr)):\n",
    "            if arr[i] > 0 and min_num > arr[i]:\n",
    "                min_num = arr[i]\n",
    "                \n",
    "                \n",
    "        if min_num > 1:\n",
    "            return 1\n",
    "        arr.sort()\n",
    "        if min_num == 1:\n",
    "            for i in range(1,len(arr)):\n",
    "                if arr[i] > 0 and arr[i-1] >0 and arr[i] - arr[i-1] >=2:\n",
    "                    return arr[i-1]+1\n",
    "                    \n",
    "        return arr[len(arr)-1]+1\n",
    "        \n",
    "    \n",
    "\n",
    "\n",
    "import math\n",
    "\n",
    "\n",
    "def main():\n",
    "        T=int(input())\n",
    "        while(T>0):\n",
    "            \n",
    "            n=int(input())\n",
    "            \n",
    "            arr=[int(x) for x in input().strip().split()]\n",
    "            \n",
    "            ob=Solution()\n",
    "            print(ob.missingNumber(arr,n))\n",
    "            \n",
    "            T-=1\n",
    "\n",
    "\n",
    "if __name__ == \"__main__\":\n",
    "    main()"
   ]
  },
  {
   "cell_type": "code",
   "execution_count": null,
   "id": "d920e6c2",
   "metadata": {},
   "outputs": [],
   "source": []
  }
 ],
 "metadata": {
  "kernelspec": {
   "display_name": "Python 3 (ipykernel)",
   "language": "python",
   "name": "python3"
  },
  "language_info": {
   "codemirror_mode": {
    "name": "ipython",
    "version": 3
   },
   "file_extension": ".py",
   "mimetype": "text/x-python",
   "name": "python",
   "nbconvert_exporter": "python",
   "pygments_lexer": "ipython3",
   "version": "3.9.13"
  }
 },
 "nbformat": 4,
 "nbformat_minor": 5
}
