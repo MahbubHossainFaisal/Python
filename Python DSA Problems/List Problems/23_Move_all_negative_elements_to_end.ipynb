{
 "cells": [
  {
   "cell_type": "markdown",
   "id": "87ef6672",
   "metadata": {},
   "source": [
    "### Problem Link\n",
    "https://practice.geeksforgeeks.org/problems/move-all-negative-elements-to-end1813/1?utm_source=geeksforgeeks&utm_medium=ml_article_practice_tab&utm_campaign=article_practice_tab"
   ]
  },
  {
   "cell_type": "code",
   "execution_count": null,
   "id": "1535b428",
   "metadata": {},
   "outputs": [],
   "source": [
    "class Solution:\n",
    "    def segregateElements(self, arr, n):\n",
    "        # Your code goes here\n",
    "        pos_arr = []\n",
    "        neg_arr = []\n",
    "        for i in range(len(arr)):\n",
    "            if arr[i] >= 0:\n",
    "                pos_arr.append(arr[i])\n",
    "            else:\n",
    "                neg_arr.append(arr[i])\n",
    "        #print(pos_arr)\n",
    "        #print(neg_arr)\n",
    "        ans = pos_arr + neg_arr\n",
    "        \n",
    "        for i in range(len(arr)):\n",
    "            arr[i] = ans[i]\n",
    "        return arr\n",
    "            \n",
    "\n",
    "\n",
    "\n",
    "def main():\n",
    "\n",
    "    T = int(input())\n",
    "\n",
    "    while(T > 0):\n",
    "        n = int(input())\n",
    "        a = [int(x) for x in input().strip().split()]\n",
    "        ob=Solution()\n",
    "        ob.segregateElements(a, n)\n",
    "        print(*a)\n",
    "\n",
    "        T -= 1\n",
    "\n",
    "\n",
    "if __name__ == \"__main__\":\n",
    "    main()\n"
   ]
  },
  {
   "cell_type": "code",
   "execution_count": null,
   "id": "f1057df7",
   "metadata": {},
   "outputs": [],
   "source": []
  }
 ],
 "metadata": {
  "kernelspec": {
   "display_name": "Python 3 (ipykernel)",
   "language": "python",
   "name": "python3"
  },
  "language_info": {
   "codemirror_mode": {
    "name": "ipython",
    "version": 3
   },
   "file_extension": ".py",
   "mimetype": "text/x-python",
   "name": "python",
   "nbconvert_exporter": "python",
   "pygments_lexer": "ipython3",
   "version": "3.9.13"
  }
 },
 "nbformat": 4,
 "nbformat_minor": 5
}
