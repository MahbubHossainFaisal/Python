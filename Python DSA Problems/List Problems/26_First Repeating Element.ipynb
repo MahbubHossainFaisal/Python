{
 "cells": [
  {
   "cell_type": "markdown",
   "id": "07ecf8a7",
   "metadata": {},
   "source": [
    "### Problem Link\n",
    "https://practice.geeksforgeeks.org/problems/first-repeating-element4018/1?utm_source=geeksforgeeks&utm_medium=article_practice_tab&utm_campaign=article_practice_tab"
   ]
  },
  {
   "cell_type": "code",
   "execution_count": null,
   "id": "a57e340b",
   "metadata": {},
   "outputs": [],
   "source": [
    "class Solution:\n",
    "    #Function to return the position of the first repeating element.\n",
    "    def firstRepeated(self,arr, n):\n",
    "        \n",
    "        #arr : given array\n",
    "        #n : size of the array\n",
    "        count = {}\n",
    "        \n",
    "        for i in range(len(arr)):\n",
    "            count[arr[i]] =0\n",
    "        \n",
    "            \n",
    "        for i in range(len(arr)):\n",
    "            count[arr[i]] +=1\n",
    "        \n",
    "        for i in range(len(arr)):\n",
    "            if count[arr[i]] >1:\n",
    "                #print(count)\n",
    "                #print(count[arr[i]])\n",
    "                return i+1\n",
    "                \n",
    "        return -1\n",
    "\n",
    "\n",
    "\n",
    "if __name__=='__main__':\n",
    "    t=int(input())\n",
    "    for _ in range(t):\n",
    "        n=int(input())\n",
    "        \n",
    "        arr=[int(x) for x in input().strip().split()]\n",
    "        ob = Solution()\n",
    "        print(ob.firstRepeated(arr, n))\n"
   ]
  },
  {
   "cell_type": "code",
   "execution_count": null,
   "id": "2234c69a",
   "metadata": {},
   "outputs": [],
   "source": []
  }
 ],
 "metadata": {
  "kernelspec": {
   "display_name": "Python 3 (ipykernel)",
   "language": "python",
   "name": "python3"
  },
  "language_info": {
   "codemirror_mode": {
    "name": "ipython",
    "version": 3
   },
   "file_extension": ".py",
   "mimetype": "text/x-python",
   "name": "python",
   "nbconvert_exporter": "python",
   "pygments_lexer": "ipython3",
   "version": "3.9.13"
  }
 },
 "nbformat": 4,
 "nbformat_minor": 5
}
