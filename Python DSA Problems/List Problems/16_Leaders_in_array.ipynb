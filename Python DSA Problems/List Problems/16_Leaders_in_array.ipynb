{
 "cells": [
  {
   "cell_type": "markdown",
   "id": "d64d7919-ab66-425a-889c-c8cefe965dfb",
   "metadata": {},
   "source": [
    "Given an array A of positive integers. Your task is to find the leaders in the array. An element of array is leader if it is greater than or equal to all the elements to its right side. The rightmost element is always a leader. \n",
    "\n",
    "GFG link: https://practice.geeksforgeeks.org/problems/leaders-in-an-array-1587115620/1?utm_source=youtube&utm_medium=collab_striver_ytdescription&utm_campaign=leaders-in-an-array"
   ]
  },
  {
   "cell_type": "markdown",
   "id": "9bfd2f0e-5616-4245-826c-92572040563e",
   "metadata": {},
   "source": [
    "### Brute Force Approach"
   ]
  },
  {
   "cell_type": "code",
   "execution_count": 7,
   "id": "b4f1c360-1b15-41d7-870c-9769b1f8593a",
   "metadata": {},
   "outputs": [
    {
     "name": "stdout",
     "output_type": "stream",
     "text": [
      "[4, 0]\n"
     ]
    }
   ],
   "source": [
    "def leaders(A, N):\n",
    "    leaders = []\n",
    "    leaders.append(A[N-1])\n",
    "    for i in range(N-1):\n",
    "        flag=1\n",
    "        for j in range(i+1,N):\n",
    "            if A[i] < A[j]:\n",
    "                flag=0\n",
    "                \n",
    "        if flag == 1:\n",
    "            leaders.append(A[i])\n",
    "            \n",
    "    return leaders[::-1]\n",
    "\n",
    "\n",
    "\n",
    "n = 5\n",
    "A=[1,2,3,4,0]\n",
    "\n",
    "ans = leaders(A,n)\n",
    "\n",
    "print(ans)"
   ]
  },
  {
   "cell_type": "markdown",
   "id": "1a4f604e-48de-418a-8fe3-1080eea2b8c2",
   "metadata": {},
   "source": [
    "Time complexity: O(n2)\n",
    "\n",
    "Space complexity: O(n)"
   ]
  },
  {
   "cell_type": "markdown",
   "id": "e93c58d4-1caa-4587-8d91-44b465e53204",
   "metadata": {},
   "source": [
    "### Optimal Approach"
   ]
  },
  {
   "cell_type": "code",
   "execution_count": 5,
   "id": "23cf99fa-0243-424f-ac54-7ff53df583ce",
   "metadata": {},
   "outputs": [
    {
     "name": "stdout",
     "output_type": "stream",
     "text": [
      "[4, 0]\n"
     ]
    }
   ],
   "source": [
    "def leaders(A, N):\n",
    "    leaders = []\n",
    "    leaders.append(A[N-1])\n",
    "    temp = A[N-1]\n",
    "    for i in range(N-2,-1,-1):\n",
    "        if A[i] >= temp:\n",
    "            leaders.append(A[i])\n",
    "            temp = A[i]\n",
    "            \n",
    "    return leaders[::-1]\n",
    "\n",
    "\n",
    "n = 5\n",
    "A=[1,2,3,4,0]\n",
    "\n",
    "ans = leaders(A,n)\n",
    "\n",
    "print(ans)"
   ]
  },
  {
   "cell_type": "markdown",
   "id": "8a7fd70d-e3c5-404b-a203-b96c20d99b00",
   "metadata": {},
   "source": [
    "Time complexity: O(n)\n",
    "\n",
    "Space complexity: O(n)"
   ]
  },
  {
   "cell_type": "code",
   "execution_count": null,
   "id": "52ceb3bd-45dd-49c7-bf0c-36d653306abe",
   "metadata": {},
   "outputs": [],
   "source": []
  }
 ],
 "metadata": {
  "kernelspec": {
   "display_name": "Python 3 (ipykernel)",
   "language": "python",
   "name": "python3"
  },
  "language_info": {
   "codemirror_mode": {
    "name": "ipython",
    "version": 3
   },
   "file_extension": ".py",
   "mimetype": "text/x-python",
   "name": "python",
   "nbconvert_exporter": "python",
   "pygments_lexer": "ipython3",
   "version": "3.10.8"
  }
 },
 "nbformat": 4,
 "nbformat_minor": 5
}
