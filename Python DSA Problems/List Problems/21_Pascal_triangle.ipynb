{
 "cells": [
  {
   "cell_type": "code",
   "execution_count": 10,
   "id": "8d290190-a53c-4319-bd97-ec62c16a31b3",
   "metadata": {},
   "outputs": [
    {
     "name": "stdout",
     "output_type": "stream",
     "text": [
      "[[1], [1, 1], [1, 2, 1], [1, 3, 3, 1], [1, 4, 6, 4, 1], [1, 5, 10, 10, 5, 1], [1, 6, 15, 20, 15, 6, 1]]\n"
     ]
    }
   ],
   "source": [
    "def generate(numRows):\n",
    "    arr=[]\n",
    "    if numRows == 1:\n",
    "        arr =  [[1]]\n",
    "        return arr\n",
    "    if numRows == 2:\n",
    "        arr = [[1],[1,1]]\n",
    "        return arr\n",
    "    \n",
    "    arr=[[1],[1,1]]\n",
    "    \n",
    "    for i in range(2,numRows):\n",
    "        temp=[1]\n",
    "        for j in range(0,i-1):\n",
    "            temp.append(arr[i-1][j]+arr[i-1][j+1])\n",
    "\n",
    "        temp.append(1)\n",
    "        arr.append(temp)\n",
    "            \n",
    "    return arr\n",
    "\n",
    "\n",
    "\n",
    "numRows=7\n",
    "ans = generate(numRows)\n",
    "print(ans)\n",
    "            \n",
    "            "
   ]
  },
  {
   "cell_type": "markdown",
   "id": "511582a1-f4c9-4630-bb76-25002e2f0acc",
   "metadata": {},
   "source": [
    "The logic behind generating Pascal's triangle is based on the relationship between binomial coefficients, which are represented by the entries in each row of the triangle.\n",
    "\n",
    "The zeroth row of the triangle contains only the number 1. Each row after that is constructed by adding together neighboring entries in the previous row, with the first and last entries of each row always being 1.\n",
    "\n",
    "For example, the third row of Pascal's triangle is constructed as follows:\n",
    "\n",
    "        1\n",
    "      /   \\\n",
    "     1     1\n",
    "    / \\   / \\\n",
    "    1   2 2   1\n",
    "   \n",
    "The first and last entries of the third row are 1. To get the middle entry in the row, we add together the two neighboring entries from the row above it, which are 1 and 1. This gives us 2.\n",
    "\n",
    "To generate each row of Pascal's triangle using the given code, we first initialize an empty list `coef` to hold the coefficients of the current row. The first and last coefficients are always 1, so we append them to the list using the `append()` method. Then, we use a for loop to generate the remaining coefficients in the row.\n",
    "\n",
    "For each coefficient in the row, we use the formula `coef[i] = prev[i-1] + prev[i]`, where `i` is the index of the current coefficient in the row, and `prev` is the list of coefficients from the previous row. This formula corresponds to the process of adding together neighboring entries in the previous row to get the current entry in the current row.\n",
    "\n",
    "Once we have generated all the coefficients for the current row, we append the completed row to the output list `arr` using the `append()` method.\n",
    "\n",
    "After iterating over all the rows, we return the entire `arr` list of lists."
   ]
  },
  {
   "cell_type": "markdown",
   "id": "89055885-8f0f-492f-9a56-fe0e5354eeea",
   "metadata": {},
   "source": [
    "Time complexity:\n",
    "- The initialization of the `arr` list of lists takes constant time, O(1), since the size of the list is always the same (i.e., 2) and does not depend on the input size.\n",
    "- The loop that runs from the third row up to the `numRows-th row takes O(numRows) iterations, since it iterates once per row of the Pascal's triangle.\n",
    "- For each iteration of the loop that generates the rows of the Pascal's triangle, we need to generate the coefficients of that row, which takes O(row_number) time, since we need to compute each individual coefficient as the sum of two others.\n",
    "- Therefore, the total time complexity is O(num_rows^2), since we loop over all the rows and, for each row, we compute all its coefficients.\n",
    "\n",
    "Space complexity:\n",
    "- The initialization of the `arr` list of lists takes O(1) space, since we are only creating a container for the output and not computing any new values yet.\n",
    "- For each row of the Pascal's triangle, we need to store its coefficients in a list, so we need O(row_number) space for each row.\n",
    "- Since the maximum size of any row is numRows (at the bottom of the triangle), the maximum size of the `arr` list of lists is numRows (number of rows) and each list contains up to numRows elements.\n",
    "- Therefore, the space complexity is O(numRows^2), the same as the time complexity.\n",
    "\n",
    "In summary, the given code has a time complexity of O(numRows^2) and a space complexity of O(numRows^2)."
   ]
  },
  {
   "cell_type": "code",
   "execution_count": null,
   "id": "416784a6-027d-46df-b820-7ca3237c0eb5",
   "metadata": {},
   "outputs": [],
   "source": []
  }
 ],
 "metadata": {
  "kernelspec": {
   "display_name": "Python 3 (ipykernel)",
   "language": "python",
   "name": "python3"
  },
  "language_info": {
   "codemirror_mode": {
    "name": "ipython",
    "version": 3
   },
   "file_extension": ".py",
   "mimetype": "text/x-python",
   "name": "python",
   "nbconvert_exporter": "python",
   "pygments_lexer": "ipython3",
   "version": "3.10.8"
  }
 },
 "nbformat": 4,
 "nbformat_minor": 5
}
