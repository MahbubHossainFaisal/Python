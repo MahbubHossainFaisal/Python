{
 "cells": [
  {
   "cell_type": "markdown",
   "id": "f8e36e18-9a1a-497a-94d9-86dd0f9ab0bf",
   "metadata": {},
   "source": [
    "Given a binary array nums, return the maximum number of consecutive 1's in the array.\n",
    "\n",
    "Leetcode link: https://leetcode.com/problems/max-consecutive-ones/"
   ]
  },
  {
   "cell_type": "markdown",
   "id": "bd76431a-15c3-4946-a690-288d9cd3089f",
   "metadata": {},
   "source": [
    "### Optimal Approach"
   ]
  },
  {
   "cell_type": "code",
   "execution_count": 4,
   "id": "9c3923f7-52f4-4552-9a7b-ad935d521750",
   "metadata": {},
   "outputs": [
    {
     "name": "stdout",
     "output_type": "stream",
     "text": [
      "3\n"
     ]
    }
   ],
   "source": [
    " def findMaxConsecutiveOnes(nums):\n",
    "        maxCount = 0\n",
    "        n = len(nums)\n",
    "        count=0\n",
    "        for i in range(n):\n",
    "            if nums[i] == 1:\n",
    "                count +=1\n",
    "            else:\n",
    "                if count > maxCount:\n",
    "                    maxCount = count\n",
    "                count=0\n",
    "            if count > maxCount:\n",
    "                    maxCount = count\n",
    "\n",
    "        return maxCount\n",
    "\n",
    "    \n",
    "nums = [1,1,0,1,1,1]\n",
    "ans = findMaxConsecutiveOnes(nums)\n",
    "print(ans)"
   ]
  },
  {
   "cell_type": "code",
   "execution_count": null,
   "id": "55d218c5-c32c-4ec8-b44a-0fac3dc7e306",
   "metadata": {},
   "outputs": [],
   "source": []
  }
 ],
 "metadata": {
  "kernelspec": {
   "display_name": "Python 3 (ipykernel)",
   "language": "python",
   "name": "python3"
  },
  "language_info": {
   "codemirror_mode": {
    "name": "ipython",
    "version": 3
   },
   "file_extension": ".py",
   "mimetype": "text/x-python",
   "name": "python",
   "nbconvert_exporter": "python",
   "pygments_lexer": "ipython3",
   "version": "3.10.8"
  }
 },
 "nbformat": 4,
 "nbformat_minor": 5
}
