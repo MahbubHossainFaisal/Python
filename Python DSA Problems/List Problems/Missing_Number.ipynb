{
 "cells": [
  {
   "cell_type": "markdown",
   "id": "8d951661-2587-4fa6-b229-dd86ce3a08f7",
   "metadata": {},
   "source": [
    "Given an array nums containing n distinct numbers in the range [0, n], return the only number in the range that is missing from the array.\n",
    "\n",
    "Leetcode: https://leetcode.com/problems/missing-number/"
   ]
  },
  {
   "cell_type": "markdown",
   "id": "67bc7f98-69e7-43fa-9526-d48517c3bee9",
   "metadata": {},
   "source": [
    "### Brute Force"
   ]
  },
  {
   "cell_type": "code",
   "execution_count": 29,
   "id": "cfef18f9-f362-499c-9782-c2513a13ccd0",
   "metadata": {},
   "outputs": [
    {
     "name": "stdout",
     "output_type": "stream",
     "text": [
      "8\n"
     ]
    }
   ],
   "source": [
    "def missingNumber(nums):\n",
    "    n=len(nums)\n",
    "    for i in range(n+1):\n",
    "        flag=0\n",
    "        for j in range(0,n):\n",
    "            if nums[j] == i:\n",
    "                flag = 1\n",
    "                break\n",
    "        if flag == 0:\n",
    "            return i\n",
    "        \n",
    "        \n",
    "nums = [9,6,4,2,3,5,7,0,1]\n",
    "ans = missingNumber(nums)\n",
    "print(ans)               "
   ]
  },
  {
   "cell_type": "markdown",
   "id": "6eed3151-dc6e-4be1-becc-e71fff201859",
   "metadata": {},
   "source": [
    "Time complexity: O(n2)\n",
    "\n",
    "Space complexity: O(1)"
   ]
  },
  {
   "cell_type": "code",
   "execution_count": 20,
   "id": "070f1a0e-1c8c-4e5c-9566-97f94b1f8a87",
   "metadata": {},
   "outputs": [
    {
     "name": "stdout",
     "output_type": "stream",
     "text": [
      "2\n"
     ]
    }
   ],
   "source": [
    "def missingNumber(nums):\n",
    "    nums.sort()\n",
    "    n =  len(nums)\n",
    "    x=0\n",
    "    for i in range(n):\n",
    "        if nums[i] != x:\n",
    "            return x\n",
    "        else:\n",
    "            x+=1\n",
    "    return x\n",
    "        \n",
    "nums = [3,0,1]\n",
    "ans = missingNumber(nums)\n",
    "print(ans)"
   ]
  },
  {
   "cell_type": "markdown",
   "id": "d0b5df42-8a90-4c7e-b07f-f8136ba0fe90",
   "metadata": {},
   "source": [
    "Time complexity: O(nlogn) + o(n) = o(nlogn)\n",
    "\n",
    "Space complexity: O(1)"
   ]
  },
  {
   "cell_type": "markdown",
   "id": "ab68deae-41e6-4c68-a9b3-8f49bb8d6598",
   "metadata": {},
   "source": [
    "### Optimal Approach"
   ]
  },
  {
   "cell_type": "code",
   "execution_count": 35,
   "id": "244cf140-296c-427a-b82e-3b4b1c9820cb",
   "metadata": {},
   "outputs": [
    {
     "name": "stdout",
     "output_type": "stream",
     "text": [
      "0\n"
     ]
    }
   ],
   "source": [
    "def missingNumber(nums):\n",
    "    n = len(nums)\n",
    "    totalSum = int((n*(n+1))/2)\n",
    "    arrSum = 0\n",
    "    for i in range(n):\n",
    "        arrSum+=nums[i]\n",
    "        \n",
    "    return totalSum - arrSum\n",
    "\n",
    "nums =[1]\n",
    "ans = missingNumber(nums)\n",
    "print(ans)\n"
   ]
  },
  {
   "cell_type": "markdown",
   "id": "02a46c16-e69f-4254-93b8-fb3ba0b070ce",
   "metadata": {},
   "source": [
    "Time complexity: O(n)\n",
    "\n",
    "Space complexity: O(1)"
   ]
  },
  {
   "cell_type": "code",
   "execution_count": null,
   "id": "8adbc490-3e09-47bc-aabe-280200f5ef40",
   "metadata": {},
   "outputs": [],
   "source": []
  }
 ],
 "metadata": {
  "kernelspec": {
   "display_name": "Python 3 (ipykernel)",
   "language": "python",
   "name": "python3"
  },
  "language_info": {
   "codemirror_mode": {
    "name": "ipython",
    "version": 3
   },
   "file_extension": ".py",
   "mimetype": "text/x-python",
   "name": "python",
   "nbconvert_exporter": "python",
   "pygments_lexer": "ipython3",
   "version": "3.10.8"
  }
 },
 "nbformat": 4,
 "nbformat_minor": 5
}
