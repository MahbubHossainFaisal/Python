{
 "cells": [
  {
   "cell_type": "markdown",
   "id": "48e56108",
   "metadata": {},
   "source": [
    "### Problem Link\n",
    "https://practice.geeksforgeeks.org/problems/count-number-of-elements-between-two-given-elements-in-array4044/1?utm_source=geeksforgeeks&utm_medium=ml_article_practice_tab&utm_campaign=article_practice_tab"
   ]
  },
  {
   "cell_type": "code",
   "execution_count": null,
   "id": "757f5245",
   "metadata": {},
   "outputs": [],
   "source": [
    "\n",
    "\n",
    "class Solution:\n",
    "    def getCount(self,arr, n, num1, num2): \n",
    "        #Comlete the function\n",
    "        left_idx = -1\n",
    "        right_idx = -1\n",
    "        \n",
    "        \n",
    "        for i in range(len(arr)):\n",
    "            if arr[i] == num1:\n",
    "                left_idx = i\n",
    "                break\n",
    "                \n",
    "        for i in range(len(arr)-1,-1,-1):\n",
    "            if arr[i] == num2:\n",
    "                right_idx = i\n",
    "                break\n",
    "        if left_idx == right_idx:\n",
    "            return 0\n",
    "        return (right_idx-1)-(left_idx+1)+1\n",
    "            \n",
    "\n",
    "\n",
    "\n",
    "\n",
    "for _ in range(0,int(input())):\n",
    "    n = int(input())\n",
    "    arr = list(map(int,input().strip().split()))\n",
    "    num1,num2 = map(int,input().strip().split())\n",
    "    ob = Solution()\n",
    "    v = ob.getCount(arr, n, num1, num2)\n",
    "    print(v)\n",
    "    \n"
   ]
  },
  {
   "cell_type": "code",
   "execution_count": null,
   "id": "a6b43e1c",
   "metadata": {},
   "outputs": [],
   "source": []
  }
 ],
 "metadata": {
  "kernelspec": {
   "display_name": "Python 3 (ipykernel)",
   "language": "python",
   "name": "python3"
  },
  "language_info": {
   "codemirror_mode": {
    "name": "ipython",
    "version": 3
   },
   "file_extension": ".py",
   "mimetype": "text/x-python",
   "name": "python",
   "nbconvert_exporter": "python",
   "pygments_lexer": "ipython3",
   "version": "3.9.13"
  }
 },
 "nbformat": 4,
 "nbformat_minor": 5
}
