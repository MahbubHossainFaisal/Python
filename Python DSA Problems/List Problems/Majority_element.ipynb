{
 "cells": [
  {
   "cell_type": "markdown",
   "id": "97a2a26a-a401-4837-82b1-0aa77b0df5e6",
   "metadata": {},
   "source": [
    "Given an array A of N elements. Find the majority element in the array. A majority element in an array A of size N is an element that appears more than N/2 times in the array.\n",
    " \n",
    "GFG Link: https://practice.geeksforgeeks.org/problems/majority-element-1587115620/1?utm_source=youtube&utm_medium=collab_striver_ytdescription&utm_campaign=majority-element"
   ]
  },
  {
   "cell_type": "markdown",
   "id": "13f58c5b-bd6a-4ce6-8753-16502d5a4acb",
   "metadata": {},
   "source": [
    "### Brute Force"
   ]
  },
  {
   "cell_type": "code",
   "execution_count": 3,
   "id": "3af3a49b-dcf8-4393-9753-3afebd46e3da",
   "metadata": {},
   "outputs": [
    {
     "name": "stdout",
     "output_type": "stream",
     "text": [
      "3\n"
     ]
    }
   ],
   "source": [
    "def majorityElement(A, N):\n",
    "    me = int(N/2)\n",
    "    maxcount = 0\n",
    "    value = -1\n",
    "    \n",
    "    for i in range(N):\n",
    "        count = 0\n",
    "        for j in range(N):\n",
    "            if A[i] == A[j]:\n",
    "                count += 1\n",
    "        if count > maxcount:\n",
    "            maxcount = count\n",
    "            value = A[i]\n",
    "\n",
    "    return value\n",
    "\n",
    "N = 5 \n",
    "A = [3, 1, 3, 3, 2]\n",
    "ans = majorityElement(A, N)\n",
    "print(ans)\n"
   ]
  },
  {
   "cell_type": "markdown",
   "id": "d5ba73c9-0ba1-4a49-8fec-438282cf50bc",
   "metadata": {},
   "source": [
    "Time complexity: O(n2)\n",
    "\n",
    "Space complexity: O(1)"
   ]
  },
  {
   "cell_type": "markdown",
   "id": "d90e71ae-3ca1-4675-a6bd-3ebb9085133d",
   "metadata": {},
   "source": [
    "### Better Approach"
   ]
  },
  {
   "cell_type": "code",
   "execution_count": 1,
   "id": "53646db6-4a81-41b8-9b8a-805495f5c66c",
   "metadata": {},
   "outputs": [
    {
     "name": "stdout",
     "output_type": "stream",
     "text": [
      "3\n"
     ]
    }
   ],
   "source": [
    "def majorityElement(A, N):\n",
    "    me = int(N/2)\n",
    "    \n",
    "    element_count = {x:0 for x in A}\n",
    "    \n",
    "    for i in range(N):\n",
    "        element_count[A[i]] +=1\n",
    "        \n",
    "    for key,value in element_count.items():\n",
    "        if value > me:\n",
    "            return key\n",
    "        \n",
    "        \n",
    "    return -1\n",
    "\n",
    "\n",
    "N = 5 \n",
    "A = [3,1,3,3,2]\n",
    "\n",
    "ans = majorityElement(A,N)\n",
    "print(ans)"
   ]
  },
  {
   "cell_type": "markdown",
   "id": "fe5ed092-c5b5-44e6-888d-870683375ea8",
   "metadata": {},
   "source": [
    "Time complexity: O(n) + O(n) + O(n) = O(n)\n",
    "\n",
    "Space complexity: O(n)"
   ]
  },
  {
   "cell_type": "code",
   "execution_count": 7,
   "id": "c5ae9e6e-8acd-44b8-ab53-85f8912d8c48",
   "metadata": {},
   "outputs": [
    {
     "name": "stdout",
     "output_type": "stream",
     "text": [
      "3\n"
     ]
    }
   ],
   "source": [
    "def majorityElement(A, N):\n",
    "    count = 0\n",
    "    mE = 0\n",
    "    \n",
    "    for element in A:\n",
    "        if count == 0:\n",
    "            mE = element\n",
    "            count = 1\n",
    "        elif element == mE:\n",
    "            count +=1\n",
    "            \n",
    "        else:\n",
    "            count -=1\n",
    "            \n",
    "    \n",
    "    \n",
    "    count = 0\n",
    "    \n",
    "    for i in A:\n",
    "        if i == mE:\n",
    "            count+=1\n",
    "            \n",
    "    if count > int(N/2):\n",
    "        return mE\n",
    "    else:\n",
    "        return -1\n",
    "\n",
    "\n",
    "N = 5 \n",
    "A = [3,1,3,3,2]\n",
    "\n",
    "ans = majorityElement(A,N)\n",
    "print(ans)"
   ]
  },
  {
   "cell_type": "markdown",
   "id": "c97bd3d2-099b-41d8-82bb-3d9e6be3c183",
   "metadata": {},
   "source": [
    "Time Complexity: O(n) + O(n) = O(n)\n",
    "\n",
    "Space Complexity: O(1)"
   ]
  },
  {
   "cell_type": "code",
   "execution_count": null,
   "id": "a00de1e9-6b5b-4af8-9ae9-5f2136f177cd",
   "metadata": {},
   "outputs": [],
   "source": []
  }
 ],
 "metadata": {
  "kernelspec": {
   "display_name": "Python 3 (ipykernel)",
   "language": "python",
   "name": "python3"
  },
  "language_info": {
   "codemirror_mode": {
    "name": "ipython",
    "version": 3
   },
   "file_extension": ".py",
   "mimetype": "text/x-python",
   "name": "python",
   "nbconvert_exporter": "python",
   "pygments_lexer": "ipython3",
   "version": "3.10.8"
  }
 },
 "nbformat": 4,
 "nbformat_minor": 5
}
