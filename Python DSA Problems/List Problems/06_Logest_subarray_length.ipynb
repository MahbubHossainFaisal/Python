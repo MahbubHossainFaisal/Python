{
 "cells": [
  {
   "cell_type": "markdown",
   "id": "21d96474-7317-4edd-84a6-66a1d0487690",
   "metadata": {},
   "source": [
    "Given an array containing N integers and an integer K., Your task is to find the length of the longest Sub-Array with the sum of the elements equal to the given value K.\n",
    "\n",
    "GFG link: https://practice.geeksforgeeks.org/problems/longest-sub-array-with-sum-k0809/1?utm_source=youtube&utm_medium=collab_striver_ytdescription&utm_campaign=longest-sub-array-with-sum-k"
   ]
  },
  {
   "cell_type": "markdown",
   "id": "22757e5e-5158-4c31-a82b-4b386de3705c",
   "metadata": {},
   "source": [
    "### Brute Force Approach"
   ]
  },
  {
   "cell_type": "code",
   "execution_count": 6,
   "id": "a0b66207-3baf-46fc-a10c-830e8fe48911",
   "metadata": {},
   "outputs": [
    {
     "name": "stdout",
     "output_type": "stream",
     "text": [
      "5\n"
     ]
    }
   ],
   "source": [
    "def longestSubarrayLength(arr,n,k):\n",
    "    length = 0\n",
    "\n",
    "    for i in range(n):\n",
    "        total=0\n",
    "        for j in range(i,n):\n",
    "            total += arr[j]\n",
    "            if total == k:\n",
    "                length = max(length, j-i+1)\n",
    "    return length\n",
    "\n",
    "\n",
    "\n",
    "arr = [1,4,3,3,5,5]\n",
    "\n",
    "ans = longestSubarrayLength(arr,6,16)\n",
    "print(ans)\n",
    "\n",
    "\n",
    "                "
   ]
  },
  {
   "cell_type": "markdown",
   "id": "ecef9349-18c8-4e94-9ad3-ac3890685e2f",
   "metadata": {},
   "source": [
    "Time complexity : O(n2)\n",
    "\n",
    "Space complexity: O(1)\n"
   ]
  },
  {
   "cell_type": "markdown",
   "id": "96fc9c90-02dc-433a-a9c7-7c6cae667636",
   "metadata": {},
   "source": [
    "### Better Approach"
   ]
  },
  {
   "cell_type": "code",
   "execution_count": 1,
   "id": "a6b8f96e-1628-426a-876c-a74a0f05621a",
   "metadata": {},
   "outputs": [
    {
     "name": "stdout",
     "output_type": "stream",
     "text": [
      "3\n"
     ]
    }
   ],
   "source": [
    "def maxLenSubarray(arr,n,k):\n",
    "    total = 0\n",
    "    maxLen = 0\n",
    "    subArr = {}\n",
    "    for i in range(n):\n",
    "        total+=arr[i]\n",
    "        \n",
    "        if total == k:\n",
    "            maxLen = max(maxLen,i+1)\n",
    "            \n",
    "        remainder = total-k\n",
    "        if remainder in subArr.keys():\n",
    "            index = subArr[remainder]\n",
    "            l = i-index\n",
    "            maxLen = max(maxLen,l)\n",
    "            \n",
    "        subArr[total] = i\n",
    "        \n",
    "        if subArr[total] not in subArr.keys():\n",
    "            subArr[total] = i\n",
    "    \n",
    "    return maxLen\n",
    "            \n",
    "\n",
    "            \n",
    "arr = [1,2,3,1,1,1,1,4,2,3]\n",
    "\n",
    "ans = maxLenSubarray(arr,10,3)\n",
    "\n",
    "print(ans)\n"
   ]
  },
  {
   "cell_type": "markdown",
   "id": "8a93b75b-edf8-41ed-9635-743674ca45de",
   "metadata": {},
   "source": [
    "Time complexity: O(n)\n",
    "\n",
    "Space complexity: O(n)"
   ]
  },
  {
   "cell_type": "code",
   "execution_count": null,
   "id": "302fb4ac-5f85-47f2-ac03-aa63fb25744c",
   "metadata": {},
   "outputs": [],
   "source": []
  }
 ],
 "metadata": {
  "kernelspec": {
   "display_name": "Python 3 (ipykernel)",
   "language": "python",
   "name": "python3"
  },
  "language_info": {
   "codemirror_mode": {
    "name": "ipython",
    "version": 3
   },
   "file_extension": ".py",
   "mimetype": "text/x-python",
   "name": "python",
   "nbconvert_exporter": "python",
   "pygments_lexer": "ipython3",
   "version": "3.10.8"
  }
 },
 "nbformat": 4,
 "nbformat_minor": 5
}
