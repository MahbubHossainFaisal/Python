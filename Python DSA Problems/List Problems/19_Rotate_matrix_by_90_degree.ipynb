{
 "cells": [
  {
   "cell_type": "markdown",
   "id": "85a4177b-6b21-4d4c-a379-f8602e9dfbe3",
   "metadata": {},
   "source": [
    "Given a square matrix of size N x N. The task is to rotate it by 90 degrees in anti-clockwise direction without using any extra space. \n",
    "\n",
    "GFG Link: https://practice.geeksforgeeks.org/problems/rotate-by-90-degree-1587115621/1?utm_source=youtube&utm_medium=collab_striver_ytdescription&utm_campaign=rotate-by-90-degree"
   ]
  },
  {
   "cell_type": "markdown",
   "id": "3a656f3b-92bc-4c4f-8e25-051bba389edc",
   "metadata": {},
   "source": [
    "### Brute Force"
   ]
  },
  {
   "cell_type": "code",
   "execution_count": 3,
   "id": "4dc45822-a55d-4752-bb9f-450faa668145",
   "metadata": {},
   "outputs": [
    {
     "name": "stdout",
     "output_type": "stream",
     "text": [
      "[[7, 4, 1], [8, 5, 2], [9, 6, 3]]\n"
     ]
    }
   ],
   "source": [
    "def rotateby90(a, n):\n",
    "    a2 = [[0 for _ in range(n)] for _ in range(n)]\n",
    "    \n",
    "    for i in range(n):\n",
    "        for j in range(n):\n",
    "            a2[i][j] = a[n-j-1][i]\n",
    "            \n",
    "            \n",
    "    return a2\n",
    "    \n",
    "    \n",
    "    \n",
    "    \n",
    "N = 3 \n",
    "mat = [[1, 2, 3],\n",
    "             [4, 5, 6],\n",
    "             [7, 8, 9]]\n",
    "\n",
    "ans = rotateby90(mat,N)\n",
    "\n",
    "print(ans)"
   ]
  },
  {
   "cell_type": "markdown",
   "id": "7bbecee7-d15c-4ae4-a88b-935ecbcf9fa2",
   "metadata": {},
   "source": [
    "This code defines a function called `rotateby90` and a 2D list `mat`, and then applies `rotateby90` function on `mat`. Finally, it prints the updated `mat`.\n",
    "\n",
    "The `rotateby90()` function takes two arguments - `a` and `n`, where `a` is a 2D square list and `n` is the number of rows/columns in the list. The function creates a new empty square 2D list `a2` using nested list comprehension. It then loops through all the elements of input list `a` and sets the corresponding element in `a2` such that the elements in the input matrix are rotated by 90 degrees clockwise. The function then returns the updated square matrix `a2`.\n",
    "\n",
    "The code then creates a 3x3 square list `mat` and assigns some values to it. It then calls the `rotateby90()` function with `mat` and the number of rows/columns `N=3` as arguments. The returned matrix from the `rotateby90()` function is assigned to variable `ans`. Finally, the `ans` matrix after performing 90 degrees clockwise rotation is printed using `print(ans)`."
   ]
  },
  {
   "cell_type": "markdown",
   "id": "ad0fe45f-be2f-44b6-8502-d5ab9df8fbdf",
   "metadata": {},
   "source": [
    "Time complexity: O(n2)\n",
    "\n",
    "Space complexity: O(n2)"
   ]
  },
  {
   "cell_type": "markdown",
   "id": "974c24ac-94e4-43ca-865c-dc3af6abfd22",
   "metadata": {},
   "source": [
    "The time complexity of the algorithm is O(n^2). This is because the list `a` is iterated twice, once with the outer loop and then with the inner loop. Since the input list is a square matrix with n rows and n columns, the time complexity is O(n^2).\n",
    "\n",
    "The space complexity of the algorithm is also O(n^2), as the function creates a 2D square matrix of size n x n to store the rotated elements. There is no additional memory used in the algorithm, so the space complexity is O(n^2)."
   ]
  },
  {
   "cell_type": "markdown",
   "id": "36bc7fa4-3269-461a-a31c-69042a19e0b5",
   "metadata": {},
   "source": [
    "### Better Approach"
   ]
  },
  {
   "cell_type": "code",
   "execution_count": 19,
   "id": "62f67c1d-8d7e-4c7a-b980-2c710b3b47c7",
   "metadata": {},
   "outputs": [
    {
     "name": "stdout",
     "output_type": "stream",
     "text": [
      "[[7, 4, 1], [8, 5, 2], [9, 6, 3]]\n"
     ]
    }
   ],
   "source": [
    "def rotateby90(a, n):\n",
    "    for i in range(n):\n",
    "        for j in range(i + 1, n):\n",
    "            a[j][i], a[i][j] = a[i][j], a[j][i]\n",
    "\n",
    "    \n",
    "\n",
    "    return [row[::-1] for row in a]\n",
    "\n",
    "\n",
    "N = 3\n",
    "mat = [[1, 2, 3],\n",
    "       [4, 5, 6],\n",
    "       [7, 8, 9]]\n",
    "\n",
    "ans = rotateby90(mat, N)\n",
    "\n",
    "print(ans)\n"
   ]
  },
  {
   "cell_type": "markdown",
   "id": "ba55da46-3a61-4573-a390-473f48493936",
   "metadata": {},
   "source": [
    "This code rotates a square matrix by 90 degrees clockwise.\n",
    "\n",
    "The function `rotateby90(a, n)` takes two arguments: `a` (the matrix) and `n` (the dimension of the matrix). The function iterates over all elements above the main diagonal and exchanges them with their corresponding element below it. This produces the transpose of the matrix. Then it reverses each row of the resulting matrix to get the rotation by 90 degrees clockwise.\n",
    "\n",
    "Here's how the code works:\n",
    "\n",
    "1. Iterate over all elements above the main diagonal, that is, for each row `i` of the matrix from 0 to `n-1`, iterate over each column `j` from `i+1` to `n-1`.\n",
    "2. Exchange the element `a[i][j]` with `a[j][i]`.\n",
    "3. Reverse each row of the resulting matrix to get the final result.\n"
   ]
  },
  {
   "cell_type": "markdown",
   "id": "c371c4c8-8a74-471c-80e4-e7a5b6dcec71",
   "metadata": {},
   "source": [
    "The time complexity of this code is O(n^2), as we iterate over all elements of the input matrix twice, once for exchanging elements and once for reversing rows.\n",
    "\n",
    "The space complexity of this code is also O(n^2), as we use an additional matrix of size n^2 to store the rotated matrix.\n",
    "\n",
    "Note that this code operates in place, meaning that it modifies the input matrix directly, so its space complexity can be considered O(1) if we don't count the input matrix as additional space used."
   ]
  },
  {
   "cell_type": "markdown",
   "id": "1f5a8d79-d3ef-4f05-8a44-265e4f304b02",
   "metadata": {},
   "source": [
    "Time complexity: O(n2)\n",
    "\n",
    "Space complexity: O(1)"
   ]
  },
  {
   "cell_type": "code",
   "execution_count": null,
   "id": "cfc20c79-277d-424d-9794-9e65f952a3d0",
   "metadata": {},
   "outputs": [],
   "source": []
  }
 ],
 "metadata": {
  "kernelspec": {
   "display_name": "Python 3 (ipykernel)",
   "language": "python",
   "name": "python3"
  },
  "language_info": {
   "codemirror_mode": {
    "name": "ipython",
    "version": 3
   },
   "file_extension": ".py",
   "mimetype": "text/x-python",
   "name": "python",
   "nbconvert_exporter": "python",
   "pygments_lexer": "ipython3",
   "version": "3.10.8"
  }
 },
 "nbformat": 4,
 "nbformat_minor": 5
}
