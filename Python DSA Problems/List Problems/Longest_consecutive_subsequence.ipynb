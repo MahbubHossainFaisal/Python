{
 "cells": [
  {
   "cell_type": "markdown",
   "id": "3c923c8a-6c26-4b13-8cec-53aab16797c2",
   "metadata": {},
   "source": [
    "Given an array of positive integers. Find the length of the longest sub-sequence such that elements in the subsequence are consecutive integers, the consecutive numbers can be in any order.\n",
    "\n",
    "GFG link: https://practice.geeksforgeeks.org/problems/longest-consecutive-subsequence2449/0?problemType=functional&page=1&query=problemTypefunctionalpage1&utm_source=youtube&utm_medium=collab_striver_ytdescription&utm_campaign=longest-consecutive-subsequence"
   ]
  },
  {
   "cell_type": "code",
   "execution_count": 19,
   "id": "85e26a8c-b6cd-4004-a327-d98074916b66",
   "metadata": {},
   "outputs": [
    {
     "name": "stdout",
     "output_type": "stream",
     "text": [
      "6\n"
     ]
    }
   ],
   "source": [
    "def findLongestConseqSubseq(arr, N):\n",
    "        \n",
    "        maxcount=0\n",
    "        for i in range(N):\n",
    "            #print('i',arr[i])\n",
    "            min_ele = arr[i]\n",
    "            count=1\n",
    "            j=0\n",
    "            while(j<N):\n",
    "                if min_ele + 1 == arr[j]:\n",
    "                    #print(arr[j])\n",
    "                    count +=1\n",
    "                    min_ele = arr[j]\n",
    "                    j=0\n",
    "                j+=1\n",
    "           # print('count: ',count)\n",
    "            if maxcount < count:\n",
    "                maxcount = count\n",
    "            \n",
    "        return maxcount\n",
    "    \n",
    "    \n",
    "    \n",
    "N = 7\n",
    "a=[2,6,1,9,4,5,3]\n",
    "\n",
    "ans =findLongestConseqSubseq(a,N)\n",
    "\n",
    "print(ans)\n",
    "                "
   ]
  },
  {
   "cell_type": "markdown",
   "id": "38a9643a-1bae-4c97-9b4c-29c49039bd9c",
   "metadata": {},
   "source": [
    "### Better Approach"
   ]
  },
  {
   "cell_type": "code",
   "execution_count": 29,
   "id": "e7cdcf61-1c6f-4c95-b9f9-bce7769a813d",
   "metadata": {},
   "outputs": [
    {
     "name": "stdout",
     "output_type": "stream",
     "text": [
      "6\n"
     ]
    }
   ],
   "source": [
    "def findLongestConseqSubseq(arr, N):\n",
    "        \n",
    "        arr.sort()\n",
    "        #print(arr)\n",
    "        maxcount = 1\n",
    "        count=1\n",
    "        lastMin = arr[0]\n",
    "        for i in range(1,N):\n",
    "            \n",
    "            if arr[i] - lastMin == 1:\n",
    "                #print(arr[i])\n",
    "                count+=1\n",
    "                #print('count',count)\n",
    "                lastMin=arr[i]\n",
    "                \n",
    "            elif arr[i] == lastMin :\n",
    "                continue\n",
    "                \n",
    "            else:\n",
    "                count=1\n",
    "                lastMin=arr[i]\n",
    "                \n",
    "            if maxcount < count :\n",
    "                maxcount=count\n",
    "        \n",
    "        return maxcount\n",
    "    \n",
    "    \n",
    "N = 7\n",
    "a=[2,6,1,9,4,5,3]\n",
    "\n",
    "\n",
    "ans =findLongestConseqSubseq(a,N)\n",
    "\n",
    "print(ans)\n",
    "                "
   ]
  },
  {
   "cell_type": "markdown",
   "id": "704b2899-66fe-4847-8576-f059470debe5",
   "metadata": {},
   "source": [
    "Time complexity: O(nlogn)\n",
    "\n",
    "Space complexity: O(1)"
   ]
  },
  {
   "cell_type": "code",
   "execution_count": 40,
   "id": "6ace22f6-e11b-459f-b824-944865746641",
   "metadata": {},
   "outputs": [
    {
     "name": "stdout",
     "output_type": "stream",
     "text": [
      "{34, 2, 37, 38, 7, 6, 11, 13, 45, 19, 23, 31}\n",
      "2\n"
     ]
    }
   ],
   "source": [
    "def findLongestConseqSubseq(arr, N):\n",
    "    temp = set(arr)\n",
    "    print(temp)\n",
    "    maxcount=1\n",
    "    \n",
    "    for i in temp:\n",
    "        count=1\n",
    "        ele = i\n",
    "        if ele-1 in temp:\n",
    "            #print('ele found',ele-1)\n",
    "            continue\n",
    "        if ele-1 not in temp:\n",
    "           # print('element not found',ele-1)\n",
    "            while(ele + 1 in temp):\n",
    "                count+=1\n",
    "                ele=ele+1\n",
    "                \n",
    "        if maxcount<count:\n",
    "            maxcount=count\n",
    "            \n",
    "    return maxcount\n",
    "    \n",
    "    \n",
    "N=12\n",
    "arr=[34, 2,7, 23,31, 38, 13, 11, 37, 19, 45, 6]\n",
    "\n",
    "\n",
    "ans =findLongestConseqSubseq(arr,N)\n",
    "\n",
    "print(ans)"
   ]
  },
  {
   "cell_type": "markdown",
   "id": "ccbcae21-0d6b-480d-8eec-d01e3d3a98e4",
   "metadata": {},
   "source": [
    "Time complexity: O(n)\n",
    "\n",
    "Space complexity: O(n)"
   ]
  },
  {
   "cell_type": "code",
   "execution_count": null,
   "id": "7796be7a-4c99-437e-9b98-35b42e33298c",
   "metadata": {},
   "outputs": [],
   "source": []
  }
 ],
 "metadata": {
  "kernelspec": {
   "display_name": "Python 3 (ipykernel)",
   "language": "python",
   "name": "python3"
  },
  "language_info": {
   "codemirror_mode": {
    "name": "ipython",
    "version": 3
   },
   "file_extension": ".py",
   "mimetype": "text/x-python",
   "name": "python",
   "nbconvert_exporter": "python",
   "pygments_lexer": "ipython3",
   "version": "3.10.8"
  }
 },
 "nbformat": 4,
 "nbformat_minor": 5
}
