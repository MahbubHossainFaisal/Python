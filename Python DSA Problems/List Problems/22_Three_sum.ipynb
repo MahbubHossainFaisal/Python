{
 "cells": [
  {
   "cell_type": "markdown",
   "id": "678fe64f-642f-4908-b76e-04cc28af40ca",
   "metadata": {},
   "source": [
    "Given an array A[] of N integers and an integer X. The task is to find the sum of three integers in A[] such that it is closest to X.\n",
    "\n",
    "GFG link: https://practice.geeksforgeeks.org/problems/3-sum-closest/1?utm_source=youtube&utm_medium=collab_striver_ytdescription&utm_campaign=3-sum-closest"
   ]
  },
  {
   "cell_type": "markdown",
   "id": "bea346d2-95de-4e8a-97df-a79a35c299a0",
   "metadata": {},
   "source": []
  },
  {
   "cell_type": "markdown",
   "id": "2d678c44-5c44-408a-9c48-1a6a04e53579",
   "metadata": {},
   "source": [
    "### Brute Force"
   ]
  },
  {
   "cell_type": "markdown",
   "id": "304ec47c-beaf-4528-9eae-f7b27b7dad63",
   "metadata": {},
   "source": [
    "The code is an implementation of a popular interview problem called \"three sum\" or \"3sum\". The task is to find all unique triplets in a given array of integers that sum up to 0. \n",
    "\n",
    "To accomplish this task, the algorithm goes through three nested loops to try every possible combination of three numbers from the array. The numbers are chosen one at a time, in order, and each combination is checked to see if the three numbers sum to 0.\n",
    "\n",
    "If a combination of three numbers that sum to 0 is found, it is stored as a tuple, sorted in ascending order, and added to a set. This is to ensure that no duplicate triplets are recorded, since the order of the numbers doesn't matter.\n",
    "\n",
    "Finally, the set of unique triplets is converted into a list of lists (with each inner list representing a triplet) and returned as the output of the function.\n",
    "\n",
    "Here is the step-by-step breakdown of the algorithm:\n",
    "\n",
    "1. Initialize an empty set called 'tempset' and an empty list called 'triplets' to hold the unique triplets that sum up to 0.\n",
    "2. Loop through every possible combination of three numbers in the input array. This is done using three nested loops, with i, j, and k representing the indices of the three numbers being considered. Note that the loops start at different indices to avoid duplicates (i < j < k).\n",
    "3. Check if the sum of the three numbers equals 0. If it does, create a tuple of the three numbers (in the order they appear in the array) and add it to the 'tempset'. This is done by converting the tuple to a sorted tuple (in ascending order), to ensure that different orders of the same triplet are treated as the same.\n",
    "4. Convert the 'tempset' into a list of lists by iterating over each tuple element and appending its values to a new list called 'triplets'.\n",
    "5. Return the 'triplets' list.\n"
   ]
  },
  {
   "cell_type": "code",
   "execution_count": 8,
   "id": "74d0266f-42e7-47b2-9d8c-15530fa74af0",
   "metadata": {},
   "outputs": [
    {
     "name": "stdout",
     "output_type": "stream",
     "text": [
      "[[-5, 1, 4], [-5, 2, 3]]\n"
     ]
    }
   ],
   "source": [
    "def threeSum(nums):\n",
    "    N = len(nums)\n",
    "    tempset = set()\n",
    "    triplets = []\n",
    "    \n",
    "    for i in range(N):\n",
    "        for j in range(i+1,N):\n",
    "            for k in range(j+1,N):\n",
    "                if nums[i] + nums[j] + nums[k] == 0:\n",
    "                    make_tuple = (nums[i],nums[j],nums[k])\n",
    "                    sort_tuple =tuple(sorted(make_tuple))\n",
    "                    tempset.add(sort_tuple)\n",
    "                    \n",
    "                    \n",
    "    for tuple_element in tempset:\n",
    "        triplets.append(list(tuple_element))\n",
    "        \n",
    "        \n",
    "    return triplets\n",
    "        \n",
    "    \n",
    "    \n",
    "    \n",
    "    \n",
    "    \n",
    "    \n",
    "A=[1, 2, 3, 4, -5]\n",
    "\n",
    "ans = threeSum(A)\n",
    "print(ans)"
   ]
  },
  {
   "cell_type": "markdown",
   "id": "fc116bd5-e5ef-4b7c-a1da-68ee2c890df8",
   "metadata": {},
   "source": [
    "__Time Complexity:__\n",
    "\n",
    "The time complexity of this algorithm is O(N^3), where N is the length of the input 'nums' array. This is because the algorithm uses three nested loops to generate all possible combinations of three numbers in the array. The outer loop runs N-2 times, and the two inner loops each run N-1 and N times respectively. Therefore, the total number of iterations is (N-2)*(N-1)*N, which simplifies to O(N^3) time complexity.\n",
    "\n",
    "__Space Complexity:__\n",
    "\n",
    "The space complexity of this algorithm is O(N^3). This is because the algorithm uses a set called 'tempset' to store all unique triplets that sum up to 0. In the worst case scenario, when all possible combinations of three numbers in the input array sum up to 0, the number of elements in 'tempset' will be equal to the total number of unique triplets that can be formed from the input array, which is (N choose 3). Since the formula for (N choose 3) is N*(N-1)*(N-2)/6, this gives us a space complexity of O(N^3) as well. Finally, the algorithm uses a list of lists called 'triplets' to store the results, but its space requirement will be relatively small compared to the 'tempset' because it only stores unique triplets, sorted in ascending order, without duplicates, and so the space complexity of 'triplets' will not add to the space complexity of the 'tempset'."
   ]
  },
  {
   "cell_type": "markdown",
   "id": "4848a89d-a683-4732-99d5-a96a4491d5da",
   "metadata": {},
   "source": [
    "### Better Approach"
   ]
  },
  {
   "cell_type": "markdown",
   "id": "89af8d1a-bb25-4cfa-bcde-0b2bb77bea20",
   "metadata": {},
   "source": [
    "This code implements the solution to the '3 Sum' problem, which is to find all unique triplets in an array that sum up to zero in a better approach than brute force. Here is a step by step explanation of the algorithm: \n",
    "\n",
    "1. The first step is to iterate over the array with two for-loops. The outer loop ranges from 0 to n-1 (where n is the number of elements in the array). The inner loop ranges from i+1 to n. This means that we are considering all possible pairs of elements in the array.\n",
    "\n",
    "2. Inside the inner loop, we calculate the sum of the two elements (nums[i] + nums[j]). We then check if this sum has been seen before. We do this by checking if the sum is present as a key in the 'tracker' dictionary. \n",
    "\n",
    "3. If the sum is present in the 'tracker' dictionary, it means that we've already seen this sum before. That means we've seen two numbers in the input array that can form a pair that makes a sum equal to the \"number\" we are iterating over. So, we add all three numbers (nums[i], nums[j], and the 'number') to the 'tempset' set. We also create a tuple of these three elements, sort the tuple, and add it to the 'tempset' set. By adding the sorted tuple, we ensure that we are not adding duplicate triplets.\n",
    "\n",
    "4. If the sum is not present in the 'tracker' dictionary, it means we haven't seen this sum before. In this case, we add the sum as a key-value pair to the 'tracker' dictionary with a value of 1. This value doesn't matter as we are only interested in the keys.\n",
    "\n",
    "5. Once all pairs have been considered, we iterate over the set 'tempset', add each tuple to the 'triplets' list, and return the list. Whenever we add the tuple to the 'triplets' list, we convert the tuple back into a list.\n",
    "\n",
    "Overall, the code maintains a dictionary 'tracker' to keep track of the sums that have been seen before. The reason we clear the dictionary after the inner loop is complete is that we don't want to pair elements that occur before the current element. Instead of keeping track of pairs, we're keeping track of sums and triplets to eliminate complexity."
   ]
  },
  {
   "cell_type": "code",
   "execution_count": null,
   "id": "d4fabc40-5764-4337-9e26-1fd23a431d41",
   "metadata": {},
   "outputs": [],
   "source": [
    "def threeSum(nums):\n",
    "    N = len(nums)\n",
    "    tracker={}\n",
    "    tempset=set()\n",
    "    triplets=[]\n",
    "    for i in range(N):\n",
    "       \n",
    "        for j in range(i+1,N):\n",
    "            \n",
    "            \n",
    "            summ = 0-(nums[i]+nums[j])\n",
    "            if summ in tracker.keys():\n",
    "                print(i,tracker)\n",
    "                make_tuple = (nums[i],nums[j],summ)\n",
    "                sort_tuple =tuple(sorted(make_tuple))\n",
    "                tempset.add(sort_tuple)\n",
    "            tracker[nums[j]] = 1\n",
    "            \n",
    "        tracker.clear()\n",
    "        #print(i,tracker)\n",
    "        \n",
    "                \n",
    "    for tuple_element in tempset:\n",
    "        triplets.append(list(tuple_element))\n",
    "        \n",
    "    return triplets\n",
    "\n",
    "\n",
    "A=[1,2,-2,-1]\n",
    "\n",
    "ans = threeSum(A)\n",
    "print(ans)\n"
   ]
  },
  {
   "cell_type": "markdown",
   "id": "16723beb-b74b-46a0-9d59-f0da2aafaf22",
   "metadata": {},
   "source": [
    "**Time Complexity**: O(n^2)\n",
    "\n",
    "The algorithm uses two nested loops to iterate over pairs of elements in the input array. Since each element is being compared with every other element once, the time complexity of the algorithm is O(n^2), where n is the length of the input array. \n",
    "\n",
    "Within the nested loops, we insert elements to a set which has O(1) amortized complexity. The process of creating tuples and sorting them is O(k log k) where k is the number of elements in the tuple, which is 3 in this case. \n",
    "\n",
    "So the overall time complexity of the algorithm is O(n^2 * k log k). However, since k is a small constant, we can consider the time complexity of the algorithm to be O(n^2).\n",
    "\n",
    "**Space Complexity**: O(n^2)\n",
    "\n",
    "The algorithm uses three variables `tracker`, `tempset`, and `triplets`, as well as two looping variables `i` and `j`. The size of `tracker` is at most n since it stores unique elements in `nums`. The space occupied by `tempset` is also proportional to the number of valid triplets formed, which is at most O(n^2), hence the space complexity is O(n). `triplets` list also can contain up to O(n^2) elements, so its space complexity is also O(n^2)."
   ]
  },
  {
   "cell_type": "code",
   "execution_count": null,
   "id": "3e29d903-db8c-40ab-b5d7-9d790fd3aa2e",
   "metadata": {},
   "outputs": [],
   "source": []
  }
 ],
 "metadata": {
  "kernelspec": {
   "display_name": "Python 3 (ipykernel)",
   "language": "python",
   "name": "python3"
  },
  "language_info": {
   "codemirror_mode": {
    "name": "ipython",
    "version": 3
   },
   "file_extension": ".py",
   "mimetype": "text/x-python",
   "name": "python",
   "nbconvert_exporter": "python",
   "pygments_lexer": "ipython3",
   "version": "3.10.8"
  }
 },
 "nbformat": 4,
 "nbformat_minor": 5
}
