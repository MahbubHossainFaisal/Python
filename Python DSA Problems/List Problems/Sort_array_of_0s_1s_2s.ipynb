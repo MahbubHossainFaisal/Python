{
 "cells": [
  {
   "cell_type": "code",
   "execution_count": 10,
   "id": "340386b6-ed8c-40cb-81a1-d2b317e8b33b",
   "metadata": {},
   "outputs": [
    {
     "name": "stdout",
     "output_type": "stream",
     "text": [
      "[0, 0, 1, 2, 2]\n"
     ]
    }
   ],
   "source": [
    "def sort012(arr,n):\n",
    "        nums={0:0,1:0,2:0}\n",
    "        newArr=[]\n",
    "        for i in range(n):\n",
    "            nums[arr[i]] +=1\n",
    "            \n",
    "        for key,value in nums.items():\n",
    "            for i in range(value):\n",
    "                newArr.append(key)\n",
    "                \n",
    "        return newArr\n",
    "    \n",
    "    \n",
    "N = 5\n",
    "arr= [0, 2, 1, 2, 0]\n",
    "\n",
    "ans = sort012(arr,N)\n",
    "print(ans)\n"
   ]
  },
  {
   "cell_type": "markdown",
   "id": "b4a35365-3900-4920-91c9-893a5d350f28",
   "metadata": {},
   "source": [
    "Time complexity: O(n) + O(3) + O(n) = O(n)\n",
    "\n",
    "Space complexity: O(n)"
   ]
  },
  {
   "cell_type": "code",
   "execution_count": 11,
   "id": "a899ac54-c32d-43a7-a460-ed16eac8dfa9",
   "metadata": {},
   "outputs": [
    {
     "name": "stdout",
     "output_type": "stream",
     "text": [
      "[0, 0, 1, 2, 2]\n"
     ]
    }
   ],
   "source": [
    "def sort012(arr,n):\n",
    "        # code here\n",
    "        x=0\n",
    "        for i in range(3):\n",
    "            for j in range(n):\n",
    "                if arr[j] == i:\n",
    "                    arr[x],arr[j] = arr[j], arr[x]\n",
    "                    x+=1\n",
    "        return arr  \n",
    "                    \n",
    "                    \n",
    "                    \n",
    "N = 5\n",
    "arr= [0, 2, 1, 2, 0]\n",
    "\n",
    "ans = sort012(arr,N)\n",
    "print(ans)\n",
    "        "
   ]
  },
  {
   "cell_type": "markdown",
   "id": "b4aef00b-af8b-455e-aaa9-f39ccf9caad5",
   "metadata": {},
   "source": [
    "Time complexity: O(3) + O(n) = O(n)\n",
    "\n",
    "Space complexity: O(1)"
   ]
  },
  {
   "cell_type": "code",
   "execution_count": null,
   "id": "8b3253a1-4bbd-4bc5-871d-79886d26d362",
   "metadata": {},
   "outputs": [],
   "source": []
  },
  {
   "cell_type": "code",
   "execution_count": null,
   "id": "655b80bd-db12-48d1-b2e2-ef45efc4db29",
   "metadata": {},
   "outputs": [],
   "source": []
  }
 ],
 "metadata": {
  "kernelspec": {
   "display_name": "Python 3 (ipykernel)",
   "language": "python",
   "name": "python3"
  },
  "language_info": {
   "codemirror_mode": {
    "name": "ipython",
    "version": 3
   },
   "file_extension": ".py",
   "mimetype": "text/x-python",
   "name": "python",
   "nbconvert_exporter": "python",
   "pygments_lexer": "ipython3",
   "version": "3.10.8"
  }
 },
 "nbformat": 4,
 "nbformat_minor": 5
}
