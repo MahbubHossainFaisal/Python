{
 "cells": [
  {
   "cell_type": "markdown",
   "id": "ca357261-c852-462a-8e63-62fb6c02537f",
   "metadata": {},
   "source": [
    "### Search specific text in a string"
   ]
  },
  {
   "cell_type": "code",
   "execution_count": 8,
   "id": "8b850496-defd-44a8-a650-fc40a17b9db3",
   "metadata": {},
   "outputs": [
    {
     "name": "stdout",
     "output_type": "stream",
     "text": [
      "Matched\n"
     ]
    }
   ],
   "source": [
    "# 1\n",
    "import re\n",
    "\n",
    "st = 'I love you 3000, Ironman'\n",
    "\n",
    "txt = re.search('^I.*Ironman',st)\n",
    "\n",
    "if txt:\n",
    "    print('Matched')\n",
    "else:\n",
    "    print('Not matched')"
   ]
  },
  {
   "cell_type": "markdown",
   "id": "e63b5458-31fe-48c0-aa78-5d2a0c41f5cd",
   "metadata": {},
   "source": [
    "Here ^I means text has to start with I, then .* matches any text between I and Ironman. Finally text has to finish with Ironman"
   ]
  },
  {
   "cell_type": "code",
   "execution_count": 9,
   "id": "e84ae48a-db70-4634-9b20-b0bd7fe51aa8",
   "metadata": {},
   "outputs": [
    {
     "name": "stdout",
     "output_type": "stream",
     "text": [
      "['ai', 'ai', 'ai']\n"
     ]
    }
   ],
   "source": [
    "# 2\n",
    "\n",
    "st = 'The is the age of ai. Where we are seeing ai applications like chatgpt,bard,dalle etc. ai'\n",
    "\n",
    "txt = re.findall('ai',st)\n",
    "\n",
    "print(txt)"
   ]
  },
  {
   "cell_type": "code",
   "execution_count": 12,
   "id": "5605fc8a-c0f0-4d7b-95f6-36981db5b437",
   "metadata": {},
   "outputs": [
    {
     "name": "stdout",
     "output_type": "stream",
     "text": [
      "['25', '53', '42', '13', '332', '42']\n"
     ]
    }
   ],
   "source": [
    "# 3\n",
    "\n",
    "st = 'Mahbub is 25 and Sakib 53 and ifty is 42 and Nurul is 13 and Shanto is 33242'\n",
    "\n",
    "ages = re.findall(r'\\d{1,3}',st)\n",
    "print(ages)"
   ]
  },
  {
   "cell_type": "markdown",
   "id": "bc181466-e684-463b-b5e0-a9910e9e6f97",
   "metadata": {},
   "source": [
    "Here,\n",
    "\n",
    "r means raw format\n",
    "\n",
    "\\d means digits\n",
    "\n",
    "{1,3} means minimum 1 and maximum 3. So , we can see that when the regex found 33242 it has devided it into 3 and 2 numbers as the max capacity has been given 3 that is why."
   ]
  },
  {
   "cell_type": "code",
   "execution_count": 13,
   "id": "4204ab0f-4cf9-478f-a95e-15b21c0899f2",
   "metadata": {},
   "outputs": [
    {
     "data": {
      "text/plain": [
       "['Mahbub', 'Sakib', 'Nurul', 'Shanto']"
      ]
     },
     "execution_count": 13,
     "metadata": {},
     "output_type": "execute_result"
    }
   ],
   "source": [
    "names = re.findall(r'[A-Z][a-z]*',st)\n",
    "\n",
    "names"
   ]
  },
  {
   "cell_type": "markdown",
   "id": "c50912fa-5ac7-4655-83e4-4ccf5c71e62c",
   "metadata": {},
   "source": [
    "Here, We are seleting all the substrings where the strings start with a capital letter and the second letter is smaller and the rest of the letter.\n",
    "\n",
    "\n",
    "So for Capital letter [A-Z]\n",
    "\n",
    "For small letter [a-z]\n",
    "\n",
    "for other letters *"
   ]
  },
  {
   "cell_type": "code",
   "execution_count": 15,
   "id": "1cc47797-5461-4b94-833e-69e7dda24d31",
   "metadata": {},
   "outputs": [
    {
     "data": {
      "text/plain": [
       "['The', 'rain', 'in', 'dhaka', 'city']"
      ]
     },
     "execution_count": 15,
     "metadata": {},
     "output_type": "execute_result"
    }
   ],
   "source": [
    "#4\n",
    "st = 'The rain in dhaka city'\n",
    "\n",
    "arr = re.split('\\s',st)\n",
    "\n",
    "arr"
   ]
  },
  {
   "cell_type": "markdown",
   "id": "4fdbed1e-f288-48dd-9d08-11f65dd1c128",
   "metadata": {},
   "source": [
    "Here \\s means space"
   ]
  },
  {
   "cell_type": "code",
   "execution_count": 16,
   "id": "5dee419a-5057-4fae-a13c-97dbe481b409",
   "metadata": {},
   "outputs": [
    {
     "data": {
      "text/plain": [
       "['twenty two : ', ' thirty three : ', '']"
      ]
     },
     "execution_count": 16,
     "metadata": {},
     "output_type": "execute_result"
    }
   ],
   "source": [
    "st = 'twenty two : 22 thirty three : 33'\n",
    "\n",
    "arr = re.split('\\d+',st)\n",
    "\n",
    "arr"
   ]
  },
  {
   "cell_type": "markdown",
   "id": "401314fa-180e-44d5-87b8-dbdc70444548",
   "metadata": {},
   "source": [
    "\\d+ means one or more digit between [0-9]"
   ]
  },
  {
   "cell_type": "code",
   "execution_count": 18,
   "id": "f1a01d08-4814-4760-8e58-cc909ddb16d0",
   "metadata": {},
   "outputs": [
    {
     "data": {
      "text/plain": [
       "'099494922433'"
      ]
     },
     "execution_count": 18,
     "metadata": {},
     "output_type": "execute_result"
    }
   ],
   "source": [
    "st = '099-4949-224-33'\n",
    "\n",
    "arr = re.sub(\"\\D\",\"\",st)\n",
    "\n",
    "arr"
   ]
  },
  {
   "cell_type": "markdown",
   "id": "64cb1d1d-a43f-41e2-91bf-99ace3401eaf",
   "metadata": {},
   "source": [
    "\\D will match any non digit characters. Here non digit characters are '-', so the sub function replacing them with \"\" where non digit char found"
   ]
  },
  {
   "cell_type": "code",
   "execution_count": 19,
   "id": "4844cfdd-dd33-4c47-9cd6-479e59a10ef5",
   "metadata": {},
   "outputs": [
    {
     "data": {
      "text/plain": [
       "'099-4949-224-33 '"
      ]
     },
     "execution_count": 19,
     "metadata": {},
     "output_type": "execute_result"
    }
   ],
   "source": [
    "st = '099-4949-224-33 # this is a comment'\n",
    "\n",
    "arr = re.sub(r'#.*$',\"\",st)\n",
    "\n",
    "arr"
   ]
  },
  {
   "cell_type": "markdown",
   "id": "69d62106-1071-4fbf-9d46-d0526d6d87a4",
   "metadata": {},
   "source": [
    "Here we are deleting the whole comment\n",
    "(#)-> starting with\n",
    "\n",
    ". -> any character\n",
    "\n",
    "(*) -> continue\n",
    "\n",
    "$ -> till end of line\n"
   ]
  },
  {
   "cell_type": "code",
   "execution_count": 23,
   "id": "68cdb9d2-3f98-4b14-b842-40f7a0322554",
   "metadata": {},
   "outputs": [
    {
     "data": {
      "text/plain": [
       "['Aam', 'Bam', 'Cam', 'Dam']"
      ]
     },
     "execution_count": 23,
     "metadata": {},
     "output_type": "execute_result"
    }
   ],
   "source": [
    "st = 'Aam, Bam, Cam, Dam, Mam, Jam, Zam'\n",
    "\n",
    "arr = re.findall('[A-D]am',st)\n",
    "\n",
    "arr"
   ]
  },
  {
   "cell_type": "markdown",
   "id": "0f11bd28-acd0-4ccb-ab58-9436dbf7a7ca",
   "metadata": {},
   "source": [
    "It is finding pattern where first letter can only be from A-D , second and third letter is a and m"
   ]
  },
  {
   "cell_type": "code",
   "execution_count": null,
   "id": "4df50b6a-39ed-4b55-a257-9f94bca779f0",
   "metadata": {},
   "outputs": [],
   "source": []
  }
 ],
 "metadata": {
  "kernelspec": {
   "display_name": "Python 3 (ipykernel)",
   "language": "python",
   "name": "python3"
  },
  "language_info": {
   "codemirror_mode": {
    "name": "ipython",
    "version": 3
   },
   "file_extension": ".py",
   "mimetype": "text/x-python",
   "name": "python",
   "nbconvert_exporter": "python",
   "pygments_lexer": "ipython3",
   "version": "3.10.8"
  }
 },
 "nbformat": 4,
 "nbformat_minor": 5
}
