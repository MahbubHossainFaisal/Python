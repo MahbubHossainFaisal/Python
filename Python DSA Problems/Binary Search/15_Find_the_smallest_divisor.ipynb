{
 "cells": [
  {
   "cell_type": "markdown",
   "id": "d2182f37-e446-4a0d-9e60-8fe2e1eba400",
   "metadata": {},
   "source": [
    "Given an array of integers nums and an integer threshold, we will choose a positive integer divisor, divide all the array by it, and sum the division's result. Find the smallest divisor such that the result mentioned above is less than or equal to threshold.\n",
    "\n",
    "Each result of the division is rounded to the nearest integer greater than or equal to that element. (For example: 7/3 = 3 and 10/2 = 5).\n",
    "\n",
    "The test cases are generated so that there will be an answer.\n",
    "\n",
    "\n",
    "Leetcode link : https://leetcode.com/problems/find-the-smallest-divisor-given-a-threshold/"
   ]
  },
  {
   "cell_type": "code",
   "execution_count": 4,
   "id": "a41587af-5f17-4336-9a02-6f851ae8bce8",
   "metadata": {},
   "outputs": [
    {
     "name": "stdout",
     "output_type": "stream",
     "text": [
      "44\n"
     ]
    }
   ],
   "source": [
    "import math\n",
    "def smallestDivisor(nums, threshold):\n",
    "    \n",
    "    i=1\n",
    "    while(True):\n",
    "        sum=0\n",
    "        for j in nums:\n",
    "            x = math.ceil(j/i)\n",
    "            sum+=x\n",
    "        if sum <= threshold:\n",
    "            return i\n",
    "        i+=1\n",
    "        \n",
    "    return -1\n",
    "\n",
    "nums = [44,22,33,11,1]\n",
    "threshold = 5\n",
    "\n",
    "\n",
    "        \n",
    "ans = smallestDivisor(nums,threshold)\n",
    "print(ans)\n",
    "        \n",
    "        "
   ]
  },
  {
   "cell_type": "markdown",
   "id": "b1295255-a76c-4e5e-b103-339fe9c61158",
   "metadata": {},
   "source": [
    "1. The function `smallestDivisor` takes in two parameters: `nums`, which is a list of numbers, and `threshold`, which is the maximum allowable sum of quotients.\n",
    "2. The function initializes a variable `i` to 1, which represents the current divisor being tested.\n",
    "3. The while loop starts, and it will continue indefinitely until a return statement is reached.\n",
    "4. Inside the while loop, a variable `sum` is initialized to 0, which will keep track of the sum of the quotients for each number in `nums`.\n",
    "5. A for loop is used to iterate over each number `j` in `nums`.\n",
    "6. For each number `j`, the quotient `math.ceil(j/i)` is calculated and stored in a variable `x`. This quotient represents the number of times `i` needs to divide `j` to get a rounded up integer.\n",
    "7. The value of `x` is added to the `sum` variable.\n",
    "8. After calculating the quotient for each number in `nums`, the `sum` is compared to the `threshold`.\n",
    "9. If the `sum` is less than or equal to the `threshold`, the current value of `i` is returned as the smallest divisor that satisfies the condition.\n",
    "10. If the `sum` is greater than the `threshold`, the value of `i` is incremented by 1, and the next iteration of the while loop begins.\n",
    "11. If no divisor is found that satisfies the condition after iterating over all possible values of `i`, the function returns -1.\n",
    "\n",
    "In summary, the code iterates over all possible divisors and calculates the sum of the quotients for each divisor. It returns the smallest divisor that results in a sum of quotients less than or equal to the given threshold."
   ]
  },
  {
   "cell_type": "markdown",
   "id": "74e8fe1b-ffe9-4a2f-aaf3-d7f974d3ab67",
   "metadata": {},
   "source": [
    "### Time and Space Complexity"
   ]
  },
  {
   "cell_type": "markdown",
   "id": "b40ec72f-4076-4993-be38-e296e024c385",
   "metadata": {},
   "source": [
    "The time complexity of this code is O(n * log(m)), where n is the length of the `nums` list and m is the maximum number in the `nums` list.\n",
    "\n",
    "The outer while loop iterates from 1 to a certain value, which in the worst case is the maximum number in `nums`. So, the time complexity of the while loop is proportional to the maximum number in `nums`, which can be represented as m.\n",
    "\n",
    "Inside the while loop, there is a for loop that iterates through each number in `nums`, resulting in a time complexity of O(n).\n",
    "\n",
    "Since the for loop is nested within the while loop, the overall time complexity is O(n * m).\n",
    "\n",
    "The space complexity of this code is O(1), as it doesn't use any extra space that scales with the input size. It only uses a constant amount of space to store variables `i`, `sum`, `j`, and `x`."
   ]
  },
  {
   "cell_type": "code",
   "execution_count": null,
   "id": "be9e2927-5f06-4888-bdb0-f4f84a7aa439",
   "metadata": {},
   "outputs": [],
   "source": []
  },
  {
   "cell_type": "code",
   "execution_count": 6,
   "id": "36cf157a-53db-4ba5-aa1f-b87dbe5c69ed",
   "metadata": {},
   "outputs": [
    {
     "name": "stdout",
     "output_type": "stream",
     "text": [
      "44\n"
     ]
    }
   ],
   "source": [
    "import math\n",
    "def smallestDivisor(nums, threshold):\n",
    "    \n",
    "    low = 1\n",
    "    high = max(nums)\n",
    "    \n",
    "    while(low<=high):\n",
    "        mid = int((low+high)/2)\n",
    "        \n",
    "        sm=0\n",
    "        for j in nums:\n",
    "            x = math.ceil(j/mid)\n",
    "            sm+=x\n",
    "            \n",
    "        if sm > threshold:\n",
    "            low=mid+1\n",
    "        else:\n",
    "            high = mid-1\n",
    "        \n",
    "    return low\n",
    "\n",
    "nums = [44,22,33,11,1]\n",
    "threshold = 5\n",
    "\n",
    "\n",
    "        \n",
    "ans = smallestDivisor(nums,threshold)\n",
    "print(ans)"
   ]
  },
  {
   "cell_type": "markdown",
   "id": "c96e90a3-e18d-4583-bee9-8f77e03e1fbe",
   "metadata": {},
   "source": [
    "The code is implementing the binary search algorithm to find the smallest divisor that results in a sum of the array `nums` being less than or equal to a given `threshold`.\n",
    "\n",
    "Here's how the code works:\n",
    "\n",
    "1. The `low` variable is initialized to 1, representing the minimum possible value for the divisor, and the `high` variable is set to the maximum value in the `nums` list. This sets the range of possible divisor values.\n",
    "\n",
    "2. The code enters a `while` loop, which continues until the `low` value is no longer less than or equal to the `high` value. This loop uses the binary search algorithm to progressively narrow down the possible divisor range.\n",
    "\n",
    "3. Inside the loop, the `mid` value is calculated as the average of `low` and `high`. This represents the current divisor value being considered.\n",
    "\n",
    "4. A variable `sm` is initialized to 0 and is used to keep track of the sum of the divison results when dividing each element in `nums` by the `mid` value. The `math.ceil` function is used to ensure that the division always rounds up to the nearest integer.\n",
    "\n",
    "5. A `for` loop iterates over each element in the `nums` list. In each iteration, the division `j/mid` is performed, and the result is added to `sm`. This calculates the sum of the divisions for the current divisor value.\n",
    "\n",
    "6. After the `for` loop, the value of `sm` is compared to the given `threshold`. If `sm` is greater than the `threshold`, it means the divisor is too small, so the `low` value is updated to `mid + 1`, narrowing the possible divisor range to the higher values. Otherwise, if `sm` is less than or equal to the `threshold`, it means the divisor is valid or can be made smaller, so the `high` value is updated to `mid - 1`, narrowing the possible divisor range to the lower values.\n",
    "\n",
    "7. Once the `while` loop exits, the `low` value represents the smallest divisor that makes the sum of the divisions less than or equal to the `threshold`, so it is returned as the result.\n",
    "\n",
    "In summary, the code uses the binary search algorithm to find the smallest divisor value within a given range that results in a sum of division values meeting a certain threshold. It follows the binary search approach by progressively narrowing down the possible range based on the sum of division values."
   ]
  },
  {
   "cell_type": "markdown",
   "id": "471db462-1ea7-4548-8d83-5916e392f616",
   "metadata": {},
   "source": [
    "### Time and Space complexity"
   ]
  },
  {
   "cell_type": "markdown",
   "id": "5b543f66-1eca-4109-b895-cd47e573f75e",
   "metadata": {},
   "source": [
    "The given code has a time complexity of O(n log(max(nums))) and a space complexity of O(1).\n",
    "\n",
    "Let's break down the code and analyze the time and space complexity:\n",
    "\n",
    "1. The code starts by initializing `low` to 1 and `high` to the maximum element in the `nums` list. This step takes constant time, O(1).\n",
    "\n",
    "2. The code then enters a `while` loop that runs until `low` is no longer less than or equal to `high`. In each iteration, the code performs a series of calculations to determine the midpoint `mid` between `low` and `high`. This calculation takes constant time, O(1). The `while` loop will run for at most log(max(nums)) iterations, as it iteratively halves the range between `low` and `high`. This is because the binary search algorithm is being used, where the range is divided in half at each iteration.\n",
    "\n",
    "3. Inside the `while` loop, there is a `for` loop that iterates over each element in the `nums` list. This `for` loop will run for n iterations, as each element in `nums` is being processed. Inside the loop, there is a constant time operation involving the `math.ceil` function and accumulating the sum. Hence, the time complexity of the `for` loop is O(n).\n",
    "\n",
    "4. The code then performs a comparison `if sm > threshold` which takes constant time, O(1). Depending on the result of the comparison, the `low` or `high` value is updated accordingly. This update is also a constant time operation. \n",
    "\n",
    "5. At the end of the code, the result is returned. This operation takes constant time, O(1).\n",
    "\n",
    "In summary, the dominant factor in terms of time complexity is the `while` loop, which runs for log(max(nums)) iterations and has a O(n) operation within the `for` loop. Therefore, the overall time complexity of the code is O(n log(max(nums))).\n",
    "\n",
    "The space complexity of the code is O(1) because it does not use any additional data structures that depend on the input size."
   ]
  },
  {
   "cell_type": "code",
   "execution_count": null,
   "id": "a79a3a29-6195-4b69-bef9-2d8b5c71ddbb",
   "metadata": {},
   "outputs": [],
   "source": []
  }
 ],
 "metadata": {
  "kernelspec": {
   "display_name": "Python 3 (ipykernel)",
   "language": "python",
   "name": "python3"
  },
  "language_info": {
   "codemirror_mode": {
    "name": "ipython",
    "version": 3
   },
   "file_extension": ".py",
   "mimetype": "text/x-python",
   "name": "python",
   "nbconvert_exporter": "python",
   "pygments_lexer": "ipython3",
   "version": "3.10.8"
  }
 },
 "nbformat": 4,
 "nbformat_minor": 5
}
