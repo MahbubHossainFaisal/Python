{
 "cells": [
  {
   "cell_type": "markdown",
   "id": "70430f62-046b-4275-a258-140b61916028",
   "metadata": {},
   "source": [
    "Given an integer x, find the square root of x. If x is not a perfect square, then return floor(√x).\n",
    "\n",
    "gfg link: https://practice.geeksforgeeks.org/problems/square-root/0?utm_source=youtube&utm_medium=collab_striver_ytdescription&utm_campaign=square-root"
   ]
  },
  {
   "cell_type": "code",
   "execution_count": 8,
   "id": "326d3dc4-2b24-46e0-841f-03f5e99dc28b",
   "metadata": {},
   "outputs": [
    {
     "name": "stdout",
     "output_type": "stream",
     "text": [
      "2\n"
     ]
    }
   ],
   "source": [
    "import math\n",
    "def floorSqrt(x): \n",
    "        #Your code here\n",
    "        low= 0\n",
    "        high = x\n",
    "        square = 0\n",
    "        while(low<=high):\n",
    "            mid = math.floor((low+high)/2)\n",
    "            #print(mid)\n",
    "            if mid*mid == x:\n",
    "                return mid\n",
    "            elif mid*mid > x:\n",
    "                high = mid-1\n",
    "            else:\n",
    "                square = mid\n",
    "                low = mid+1\n",
    "            \n",
    "        return square\n",
    "    \n",
    "\n",
    "x = 5\n",
    "\n",
    "ans = floorSqrt(x)\n",
    "\n",
    "print(ans)\n"
   ]
  },
  {
   "cell_type": "code",
   "execution_count": 3,
   "id": "349af812-5bd5-4445-9435-47d30a9623b4",
   "metadata": {},
   "outputs": [
    {
     "data": {
      "text/plain": [
       "6.25"
      ]
     },
     "execution_count": 3,
     "metadata": {},
     "output_type": "execute_result"
    }
   ],
   "source": []
  },
  {
   "cell_type": "code",
   "execution_count": null,
   "id": "3cb9dbb0-a6f3-4324-aa01-7e17529a4d2f",
   "metadata": {},
   "outputs": [],
   "source": []
  }
 ],
 "metadata": {
  "kernelspec": {
   "display_name": "Python 3 (ipykernel)",
   "language": "python",
   "name": "python3"
  },
  "language_info": {
   "codemirror_mode": {
    "name": "ipython",
    "version": 3
   },
   "file_extension": ".py",
   "mimetype": "text/x-python",
   "name": "python",
   "nbconvert_exporter": "python",
   "pygments_lexer": "ipython3",
   "version": "3.10.8"
  }
 },
 "nbformat": 4,
 "nbformat_minor": 5
}
