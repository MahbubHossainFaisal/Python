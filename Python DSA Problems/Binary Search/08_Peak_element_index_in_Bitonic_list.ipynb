{
 "cells": [
  {
   "cell_type": "markdown",
   "id": "3253babe-6515-4438-aad2-b8afefde19e5",
   "metadata": {},
   "source": [
    "A peak element is an element that is strictly greater than its neighbors.\n",
    "\n",
    "Given a 0-indexed integer array nums, find a peak element, and return its index. If the array contains multiple peaks, return the index to any of the peaks.\n",
    "\n",
    "You may imagine that nums[-1] = nums[n] = -∞. In other words, an element is always considered to be strictly greater than a neighbor that is outside the array.\n",
    "\n",
    "You must write an algorithm that runs in O(log n) time.\n",
    "\n",
    "Link: https://leetcode.com/problems/find-peak-element/"
   ]
  },
  {
   "cell_type": "markdown",
   "id": "67565f6a-08ba-4f4e-b018-76ea75347fd2",
   "metadata": {},
   "source": [
    "The given code is an implementation of the binary search algorithm to find the maximum element (also known as a peak element) in an array 'arr' of size 'n'.\n",
    "\n",
    "First, the function 'peakElementIndex' takes two input parameters, an array 'arr' and its size 'n'. It initializes the variables 'low' and 'high' to 0 and 'n-1' respectively, to keep track of the range of the array that needs to be searched.\n",
    "\n",
    "The while loop continues until the range of the array 'arr' is reduced to a single element or no peak element is found. If no peak element is found, the function returns -1.\n",
    "\n",
    "Inside the while loop, we calculate the mid index of the current range of the array using math.floor((low + high) / 2) since mid value can be a float as well and we need mid to be an integer.\n",
    "\n",
    "We then compare the value of arr[mid] with its neighbors - arr[mid - 1] and arr[mid + 1]. If the element at index mid is greater than both its neighbors, it is a peak element, and we return its index. Otherwise, if the element at index mid is smaller than its left neighbor, we search for a peak element in the left half of the array, otherwise, we search in the right half.\n",
    "\n",
    "If a peak element is not found in the current iteration, the values of low and high are updated to search in the left or the right half of the array respectively.\n",
    "\n",
    "Finally, if the while loop completes without finding any peak element, the function returns -1.\n",
    "\n",
    "To test the function, an array 'arr' with 10 elements is defined and 'peakElementIndex' function is called with the array and its size as parameters and the returned value is printed.\n",
    "\n",
    "Output:\n",
    "5\n"
   ]
  },
  {
   "cell_type": "code",
   "execution_count": 7,
   "id": "c26f44fb-c418-42ce-86a2-3e1a2fc2c18c",
   "metadata": {},
   "outputs": [
    {
     "name": "stdout",
     "output_type": "stream",
     "text": [
      "5\n"
     ]
    }
   ],
   "source": [
    "import math\n",
    "\n",
    "def peakElementIndex(arr, n):\n",
    "    low = 0\n",
    "    high = n - 1\n",
    "\n",
    "    while low <= high:\n",
    "        mid = math.floor((low + high) / 2)\n",
    "\n",
    "        if (mid == 0 or arr[mid] >= arr[mid - 1]) and (mid == n - 1 or arr[mid] >= arr[mid + 1]):\n",
    "            return mid\n",
    "        elif mid > 0 and arr[mid] < arr[mid - 1]:\n",
    "            high = mid - 1\n",
    "        else:\n",
    "            low = mid + 1\n",
    "\n",
    "    return -1\n",
    "\n",
    "\n",
    "arr = [1, 6, 12, 18, 36, 42, 5, 4, 3, 2]\n",
    "n = 10\n",
    "ans = peakElementIndex(arr, n)\n",
    "print(ans)\n"
   ]
  },
  {
   "cell_type": "code",
   "execution_count": null,
   "id": "4a9d5fa9-6e24-4637-9187-9239d72b00ec",
   "metadata": {},
   "outputs": [],
   "source": [
    "\n"
   ]
  }
 ],
 "metadata": {
  "kernelspec": {
   "display_name": "Python 3 (ipykernel)",
   "language": "python",
   "name": "python3"
  },
  "language_info": {
   "codemirror_mode": {
    "name": "ipython",
    "version": 3
   },
   "file_extension": ".py",
   "mimetype": "text/x-python",
   "name": "python",
   "nbconvert_exporter": "python",
   "pygments_lexer": "ipython3",
   "version": "3.10.8"
  }
 },
 "nbformat": 4,
 "nbformat_minor": 5
}
