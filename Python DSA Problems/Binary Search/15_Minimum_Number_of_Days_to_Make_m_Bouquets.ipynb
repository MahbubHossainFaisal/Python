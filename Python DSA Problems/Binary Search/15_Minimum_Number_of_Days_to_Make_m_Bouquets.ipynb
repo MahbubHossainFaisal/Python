{
 "cells": [
  {
   "cell_type": "markdown",
   "id": "205bf747-946f-40bf-b9a0-b39abd88e6db",
   "metadata": {},
   "source": [
    "You are given an integer array bloomDay, an integer m and an integer k.\n",
    "\n",
    "You want to make m bouquets. To make a bouquet, you need to use k adjacent flowers from the garden.\n",
    "\n",
    "The garden consists of n flowers, the ith flower will bloom in the bloomDay[i] and then can be used in exactly one bouquet.\n",
    "\n",
    "Return the minimum number of days you need to wait to be able to make m bouquets from the garden. If it is impossible to make m bouquets return -1.\n",
    "\n",
    " \n",
    "Leetcode link: https://leetcode.com/problems/minimum-number-of-days-to-make-m-bouquets/"
   ]
  },
  {
   "cell_type": "markdown",
   "id": "4e16a10a-5148-49ed-b5d5-8a3d594b64b4",
   "metadata": {},
   "source": [
    "### Brute Force"
   ]
  },
  {
   "cell_type": "code",
   "execution_count": 1,
   "id": "acb8d2c2-4391-4864-aa20-2b719fe25aac",
   "metadata": {},
   "outputs": [
    {
     "name": "stdout",
     "output_type": "stream",
     "text": [
      "12\n"
     ]
    }
   ],
   "source": [
    "import math\n",
    "def possible(bloomDay,day,m,k):\n",
    "    cnt = 0\n",
    "    n = 0\n",
    "    \n",
    "    for i in range(len(bloomDay)):\n",
    "        if bloomDay[i] <= day:\n",
    "            cnt+=1\n",
    "        else:\n",
    "            n += math.floor(cnt/k)\n",
    "            cnt = 0\n",
    "            \n",
    "    n += math.floor(cnt/k)\n",
    "    \n",
    "    if n>=m:\n",
    "        return True\n",
    "    else:\n",
    "        return False\n",
    "    \n",
    "\n",
    "def minDays(bloomDay, m, k):\n",
    "    \n",
    "    if m*k  > len(bloomDay):\n",
    "        return -1\n",
    "    \n",
    "    mn = min(bloomDay)\n",
    "    mx = max(bloomDay)\n",
    "    \n",
    "    for i in range(mn,mx+1):\n",
    "        ans = possible(bloomDay,i,m,k)\n",
    "        if ans:\n",
    "            return i\n",
    "        \n",
    "    return -1\n",
    "    \n",
    "    \n",
    "bloomDay = [7,7,7,7,12,7,7]\n",
    "\n",
    "m = 2\n",
    "k = 3\n",
    "    \n",
    "    \n",
    "ans = minDays(bloomDay,m,k)\n",
    "print(ans)"
   ]
  },
  {
   "cell_type": "code",
   "execution_count": null,
   "id": "3b3520de-8a70-4940-b35e-695777e03b8a",
   "metadata": {},
   "outputs": [],
   "source": []
  },
  {
   "cell_type": "code",
   "execution_count": null,
   "id": "9634a93f-4b13-4523-ad4a-d74bb13b3df7",
   "metadata": {},
   "outputs": [],
   "source": []
  },
  {
   "cell_type": "markdown",
   "id": "fb3558a2-71d4-46cf-9844-e85c218dc4ff",
   "metadata": {},
   "source": [
    "### Optimal Approach"
   ]
  },
  {
   "cell_type": "code",
   "execution_count": 2,
   "id": "1b0bef99-f37b-4d34-8f57-b3164951db59",
   "metadata": {},
   "outputs": [
    {
     "name": "stdout",
     "output_type": "stream",
     "text": [
      "12\n"
     ]
    }
   ],
   "source": [
    "import math\n",
    "def possible(bloomDay,day,m,k):\n",
    "    cnt = 0\n",
    "    n = 0\n",
    "    \n",
    "    for i in range(len(bloomDay)):\n",
    "        if bloomDay[i] <= day:\n",
    "            cnt+=1\n",
    "        else:\n",
    "            n += math.floor(cnt/k)\n",
    "            cnt = 0\n",
    "            \n",
    "    n += math.floor(cnt/k)\n",
    "    \n",
    "    if n>=m:\n",
    "        return True\n",
    "    else:\n",
    "        return False\n",
    "    \n",
    "\n",
    "def minDays(bloomDay, m, k):\n",
    "    \n",
    "    if m*k  > len(bloomDay):\n",
    "        return -1\n",
    "    \n",
    "    low = min(bloomDay)\n",
    "    high = max(bloomDay)\n",
    "    \n",
    "    while(low<=high):\n",
    "        mid = int((low+high)/2)\n",
    "        ans = possible(bloomDay,mid,m,k)\n",
    "        if ans:\n",
    "            high = mid-1\n",
    "        else:\n",
    "            low = mid+1\n",
    "        \n",
    "    return low\n",
    "    \n",
    "    \n",
    "bloomDay = [7,7,7,7,12,7,7]\n",
    "\n",
    "m = 2\n",
    "k = 3\n",
    "    \n",
    "    \n",
    "ans = minDays(bloomDay,m,k)\n",
    "print(ans)"
   ]
  },
  {
   "cell_type": "code",
   "execution_count": null,
   "id": "fed10585-7de7-433f-b8ee-4d83578258c0",
   "metadata": {},
   "outputs": [],
   "source": []
  }
 ],
 "metadata": {
  "kernelspec": {
   "display_name": "Python 3 (ipykernel)",
   "language": "python",
   "name": "python3"
  },
  "language_info": {
   "codemirror_mode": {
    "name": "ipython",
    "version": 3
   },
   "file_extension": ".py",
   "mimetype": "text/x-python",
   "name": "python",
   "nbconvert_exporter": "python",
   "pygments_lexer": "ipython3",
   "version": "3.10.8"
  }
 },
 "nbformat": 4,
 "nbformat_minor": 5
}
