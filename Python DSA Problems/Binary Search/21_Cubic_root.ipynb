{
 "cells": [
  {
   "cell_type": "code",
   "execution_count": null,
   "id": "88e1a27a",
   "metadata": {},
   "outputs": [],
   "source": [
    "class Solution:\n",
    "    def cubeRoot(self, N):\n",
    "        # code here \n",
    "        left = 0\n",
    "        right = N\n",
    "        \n",
    "        while(left <= right):\n",
    "            mid = (left + right)//2\n",
    "            \n",
    "            if mid**3 == N:\n",
    "                return mid\n",
    "            elif mid**3 > N:\n",
    "                right = mid-1\n",
    "            else:\n",
    "                left = mid+1\n",
    "        return left - 1\n",
    "\n",
    "\n",
    "\n",
    "if __name__ == '__main__': \n",
    "    t = int (input ())\n",
    "    for _ in range (t):\n",
    "        N = int(input())\n",
    "        \n",
    "        ob = Solution()\n",
    "        print(ob.cubeRoot(N))\n"
   ]
  }
 ],
 "metadata": {
  "kernelspec": {
   "display_name": "Python 3 (ipykernel)",
   "language": "python",
   "name": "python3"
  },
  "language_info": {
   "codemirror_mode": {
    "name": "ipython",
    "version": 3
   },
   "file_extension": ".py",
   "mimetype": "text/x-python",
   "name": "python",
   "nbconvert_exporter": "python",
   "pygments_lexer": "ipython3",
   "version": "3.9.13"
  }
 },
 "nbformat": 4,
 "nbformat_minor": 5
}
