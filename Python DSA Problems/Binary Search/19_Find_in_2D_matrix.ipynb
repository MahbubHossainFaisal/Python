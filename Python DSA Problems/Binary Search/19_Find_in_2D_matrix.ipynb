{
 "cells": [
  {
   "cell_type": "markdown",
   "id": "a7ea3b25-9a7e-46f7-9933-38ba8571c997",
   "metadata": {},
   "source": [
    "You are given an m x n integer matrix matrix with the following two properties:\n",
    "\n",
    "Each row is sorted in non-decreasing order.\n",
    "The first integer of each row is greater than the last integer of the previous row.\n",
    "Given an integer target, return true if target is in matrix or false otherwise.\n",
    "\n",
    "You must write a solution in O(log(m * n)) time complexity.\n",
    "\n",
    "Leetcode Link : https://leetcode.com/problems/search-a-2d-matrix/description/"
   ]
  },
  {
   "cell_type": "code",
   "execution_count": 3,
   "id": "e3c53fca-b95e-4485-bfaa-9159e063a61b",
   "metadata": {},
   "outputs": [
    {
     "name": "stdout",
     "output_type": "stream",
     "text": [
      "True\n"
     ]
    }
   ],
   "source": [
    "def searchMatrix(matrix, target):\n",
    "\n",
    "        i=0\n",
    "        j=len(matrix[0])-1\n",
    "\n",
    "        while(i<len(matrix) and j>=0):\n",
    "            \n",
    "            if matrix[i][j] == target:\n",
    "                return True\n",
    "            elif matrix[i][j] < target:\n",
    "                i+=1\n",
    "            else:\n",
    "                j-=1\n",
    "\n",
    "        return False\n",
    "    \n",
    "    \n",
    "matrix = [[1,3,5,7],[10,11,16,20],[23,30,34,60]]\n",
    "target = 3\n",
    "\n",
    "ans = searchMatrix(matrix,target)\n",
    "print(ans)"
   ]
  },
  {
   "cell_type": "markdown",
   "id": "0520e6f6-2c1f-4685-94d2-7f8640d24570",
   "metadata": {},
   "source": [
    "The code uses a binary search algorithm to search for a target number in a 2D matrix. \n",
    "\n",
    "The matrix is sorted in such a way that each row is sorted in ascending order, and the first element of each row is greater than the last element of the previous row.\n",
    "\n",
    "The code starts from the top-right corner of the matrix (i.e., matrix[0][len(matrix[0])-1]). \n",
    "\n",
    "If the current element is equal to the target, it returns True as the target is found in the matrix.\n",
    "\n",
    "If the current element is less than the target, it means the target can't be present in the current row as the elements are sorted in ascending order. So, it moves to the next row by incrementing the row index (i). \n",
    "\n",
    "If the current element is greater than the target, it means the target can't be present in the current column as the elements are sorted in descending order. So, it moves to the previous column by decrementing the column index (j). \n",
    "\n",
    "The process continues until the target is found or until the indexes go out of bounds, indicating that the target is not present in the matrix.\n"
   ]
  },
  {
   "cell_type": "markdown",
   "id": "bea0119d-7b0b-4118-9d21-f5f4bf21c8a2",
   "metadata": {},
   "source": [
    "### Time and Space Complexity"
   ]
  },
  {
   "cell_type": "markdown",
   "id": "6f4627ed-8b72-489a-9936-fe94c580d008",
   "metadata": {},
   "source": [
    "In terms of time complexity, the code runs in O(m + n) time, where m is the number of rows in the matrix and n is the number of columns in the matrix. This is because in the worst case, we may have to traverse through all the rows and columns of the matrix. \n",
    "\n",
    "The space complexity of the code is O(1) as it does not use any additional space that grows with the input size."
   ]
  },
  {
   "cell_type": "code",
   "execution_count": null,
   "id": "1dabbcf9-2665-4268-929b-ea8fb0196be7",
   "metadata": {},
   "outputs": [],
   "source": []
  }
 ],
 "metadata": {
  "kernelspec": {
   "display_name": "Python 3 (ipykernel)",
   "language": "python",
   "name": "python3"
  },
  "language_info": {
   "codemirror_mode": {
    "name": "ipython",
    "version": 3
   },
   "file_extension": ".py",
   "mimetype": "text/x-python",
   "name": "python",
   "nbconvert_exporter": "python",
   "pygments_lexer": "ipython3",
   "version": "3.10.8"
  }
 },
 "nbformat": 4,
 "nbformat_minor": 5
}
