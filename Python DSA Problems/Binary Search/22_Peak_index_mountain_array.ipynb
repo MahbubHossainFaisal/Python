{
 "cells": [
  {
   "cell_type": "markdown",
   "id": "9972ea3e",
   "metadata": {},
   "source": [
    "Leetcode link: https://leetcode.com/problems/peak-index-in-a-mountain-array/submissions/"
   ]
  },
  {
   "cell_type": "code",
   "execution_count": null,
   "id": "6c56b2b1",
   "metadata": {},
   "outputs": [],
   "source": [
    "import math\n",
    "class Solution:\n",
    "    def peakIndexInMountainArray(self, arr: List[int]) -> int:\n",
    "        left = 0\n",
    "        right = len(arr)-1\n",
    "\n",
    "        while(left<=right):\n",
    "            mid = math.ceil((left+right)/2)\n",
    "\n",
    "            if arr[mid] > arr[mid-1] and arr[mid] > arr[mid+1]:\n",
    "                return mid\n",
    "            elif arr[mid] < arr[mid-1]:\n",
    "                right = mid-1\n",
    "            else:\n",
    "                left = mid+1\n",
    "\n",
    "\n",
    "        return -1"
   ]
  }
 ],
 "metadata": {
  "kernelspec": {
   "display_name": "Python 3 (ipykernel)",
   "language": "python",
   "name": "python3"
  },
  "language_info": {
   "codemirror_mode": {
    "name": "ipython",
    "version": 3
   },
   "file_extension": ".py",
   "mimetype": "text/x-python",
   "name": "python",
   "nbconvert_exporter": "python",
   "pygments_lexer": "ipython3",
   "version": "3.9.13"
  }
 },
 "nbformat": 4,
 "nbformat_minor": 5
}
