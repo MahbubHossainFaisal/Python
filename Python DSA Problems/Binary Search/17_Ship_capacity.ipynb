{
 "cells": [
  {
   "cell_type": "markdown",
   "id": "8f2000da-f8de-445e-87bd-8bbb9d9d0a4e",
   "metadata": {},
   "source": [
    "A conveyor belt has packages that must be shipped from one port to another within days days.\n",
    "\n",
    "The ith package on the conveyor belt has a weight of weights[i]. Each day, we load the ship with packages on the conveyor belt (in the order given by weights). We may not load more weight than the maximum weight capacity of the ship.\n",
    "\n",
    "Return the least weight capacity of the ship that will result in all the packages on the conveyor belt being shipped within days days.\n",
    "\n",
    " \n",
    "Leetcode : https://leetcode.com/problems/capacity-to-ship-packages-within-d-days/"
   ]
  },
  {
   "cell_type": "markdown",
   "id": "e214a510-f595-4b9f-ac9b-274d067bb571",
   "metadata": {},
   "source": [
    "# Brute Force"
   ]
  },
  {
   "cell_type": "code",
   "execution_count": 6,
   "id": "a8a36797-0feb-4cda-9b86-dcb08a1a3caa",
   "metadata": {},
   "outputs": [
    {
     "name": "stdout",
     "output_type": "stream",
     "text": [
      "15\n"
     ]
    }
   ],
   "source": [
    "def possible(weights,cap):\n",
    "    day=1 \n",
    "    load = 0\n",
    "    \n",
    "    for i in range(len(weights)):\n",
    "        if load+weights[i] > cap:\n",
    "            load=weights[i]\n",
    "            day+=1\n",
    "        else:\n",
    "            load+=weights[i]\n",
    "            \n",
    "    return day\n",
    "\n",
    "def shipWithinDays(weights, days):\n",
    "    mn= max(weights)\n",
    "    mx = sum(weights)\n",
    "    \n",
    "    for i in range(mn,mx+1):\n",
    "        possible_days = possible(weights,i)\n",
    "        #print(possible_days)\n",
    "        if possible_days <= days:\n",
    "            return i\n",
    "    \n",
    "    return -1\n",
    "            \n",
    "\n",
    "weights = [1,2,3,4,5,6,7,8,9,10]\n",
    "days = 5\n",
    "\n",
    "ans = shipWithinDays(weights,days)\n",
    "print(ans)"
   ]
  },
  {
   "cell_type": "markdown",
   "id": "470dd807-440d-4ea1-be46-d38e26d5febb",
   "metadata": {},
   "source": [
    "The code is trying to solve a problem where we need to find the minimum weight capacity of a ship that can carry all the given weights within a certain number of days.\n",
    "\n",
    "The `possible` function calculates the number of days it would take to ship the weights using the given weight capacity `cap`. It iterates through the weights and keeps adding them to the `load` variable until the load exceeds the capacity. At that point, it increments the `day` variable and resets the `load` to the current weight. Finally, it returns the total number of days.\n",
    "\n",
    "The `shipWithinDays` function initializes the minimum and maximum weight capacity (`mn` and `mx`) based on the maximum weight and sum of all the given weights. It then loops through all possible weight capacities in the range from `mn` to `mx+1`. For each weight capacity, it calls the `possible` function to calculate the number of days. If the number of days is less than or equal to the given `days`, it returns the current weight capacity. If the loop completes without finding a suitable weight capacity, it returns -1.\n",
    "\n",
    "In the provided example, the `weights` list contains the weights [1,2,3,4,5,6,7,8,9,10] and the `days` variable is set to 5. The `shipWithinDays` function is called with these inputs and prints the number of days for each weight capacity in the range. Finally, it returns the minimum weight capacity that satisfies the given condition, which is 15 in this case."
   ]
  },
  {
   "cell_type": "markdown",
   "id": "d7058713-58a0-4f73-98be-5d05407ff165",
   "metadata": {},
   "source": [
    "### Time and Space complexity"
   ]
  },
  {
   "cell_type": "markdown",
   "id": "b3ec42d9-9c6f-4cfd-af4b-e880904ec7f5",
   "metadata": {},
   "source": [
    "The time complexity of the code is O(n * d), where n is the number of weights and d is the maximum weight capacity. This is because the `possible` function iterates through the weights for each weight capacity (from `mn` to `mx+1`), resulting in a nested loop structure. Each iteration of the outer loop has a time complexity of O(n) as it iterates through all the weights, and the total number of iterations is d.\n",
    "\n",
    "The space complexity of the code is O(1). This is because the code does not use any additional data structures that scale with the input size. It only uses a few variables (`day`, `load`, `mn`, `mx`) to keep track of the current state and store intermediate results, which are of constant size. Therefore, the code has a constant space complexity regardless of the input size."
   ]
  },
  {
   "cell_type": "markdown",
   "id": "7648f163-bf7d-4481-a731-ac574e2b867b",
   "metadata": {},
   "source": [
    "# Optimal Approach"
   ]
  },
  {
   "cell_type": "code",
   "execution_count": 5,
   "id": "a1ab272d-c0eb-48d3-9c85-f0be4c159908",
   "metadata": {},
   "outputs": [
    {
     "name": "stdout",
     "output_type": "stream",
     "text": [
      "15\n"
     ]
    }
   ],
   "source": [
    "def possible(weights,cap):\n",
    "    day=1 \n",
    "    load = 0\n",
    "    \n",
    "    for i in range(len(weights)):\n",
    "        if load+weights[i] > cap:\n",
    "            load=weights[i]\n",
    "            day+=1\n",
    "        else:\n",
    "            load+=weights[i]\n",
    "            \n",
    "    return day\n",
    "\n",
    "def shipWithinDays(weights, days):\n",
    "    low_cap= max(weights)\n",
    "    high_cap = sum(weights)\n",
    "    \n",
    "    while(low_cap<=high_cap):\n",
    "        mid_cap=int((low_cap+high_cap)/2)\n",
    "        possible_days = possible(weights,mid_cap)\n",
    "        #print(possible_days)\n",
    "        if possible_days <= days:\n",
    "            high_cap = mid_cap-1\n",
    "        else:\n",
    "            low_cap = mid_cap+1\n",
    "        \n",
    "    \n",
    "    return low_cap\n",
    "            \n",
    "\n",
    "weights = [1,2,3,4,5,6,7,8,9,10]\n",
    "days = 5\n",
    "\n",
    "ans = shipWithinDays(weights,days)\n",
    "print(ans)"
   ]
  },
  {
   "cell_type": "markdown",
   "id": "6c476279-8ed9-430e-8b72-d76c543ed6c0",
   "metadata": {},
   "source": [
    "The code is using a binary search approach to find the minimum weight capacity of a ship that can carry all the given weights within a certain number of days.\n",
    "\n",
    "The `possible` function takes in the weights list and a weight capacity `cap` as arguments. It simulates the shipping process by iterating through the weights and tracking the current load `load` and the number of days `day`. For each weight, it checks if adding it to the current load exceeds the weight capacity `cap`. If it does, it increments the day counter and starts a new load. Otherwise, it adds the weight to the load. Finally, it returns the total number of days.\n",
    "\n",
    "The `shipWithinDays` function initializes the lower capacity `low_cap` as the maximum weight in the weights list, and the higher capacity `high_cap` as the sum of all weights. It then enters a binary search-like loop that continues until the lower capacity is less than or equal to the higher capacity. In each iteration, it calculates the middle capacity `mid_cap` as the average of the lower and higher capacities. It then calls the `possible` function with this intermediate capacity to get the number of days it would take to ship the weights. If the number of days is less than or equal to the given `days`, it updates the higher capacity to be `mid_cap - 1`, indicating that there might be a lower capacity that satisfies the condition. Otherwise, it updates the lower capacity to be `mid_cap + 1`, indicating that the current capacity is not sufficient. This binary search-like loop continues until the lower capacity is no longer less than or equal to the higher capacity.\n",
    "\n",
    "Finally, the function returns the lower capacity, which represents the minimum weight capacity that can carry all the given weights within the given number of days.\n",
    "\n",
    "In the provided example, the function is called with `weights = [1,2,3,4,5,6,7,8,9,10]` and `days = 5`. The initial lower capacity is 10 (maximum weight), and the initial higher capacity is 55 (sum of all weights). After a few iterations of the binary search-like loop, the function determines that the minimum weight capacity that satisfies the condition is 15, and it returns this value."
   ]
  },
  {
   "cell_type": "markdown",
   "id": "88936203-fc97-44e8-a73b-4ce1ed0221a4",
   "metadata": {},
   "source": [
    "### Time and Space Complexity"
   ]
  },
  {
   "cell_type": "markdown",
   "id": "6c2b1ad0-4290-43ba-ae2d-d8230c56ad12",
   "metadata": {},
   "source": [
    "In terms of time complexity, the code follows a binary search approach, resulting in a time complexity of O(n * log(d)), where n is the number of weights and d is the difference between the maximum and minimum weight capacities. This is because the binary search reduces the search space by half in each iteration.\n",
    "\n",
    "The space complexity of the code is O(1), as it does not use any additional data structures that scale with the input size. It only uses a few variables to keep track of the current state and store intermediate results, all of which have constant space requirements."
   ]
  },
  {
   "cell_type": "code",
   "execution_count": null,
   "id": "2c8d187b-7564-4e55-a30e-41c9ec0a3ea6",
   "metadata": {},
   "outputs": [],
   "source": []
  }
 ],
 "metadata": {
  "kernelspec": {
   "display_name": "Python 3 (ipykernel)",
   "language": "python",
   "name": "python3"
  },
  "language_info": {
   "codemirror_mode": {
    "name": "ipython",
    "version": 3
   },
   "file_extension": ".py",
   "mimetype": "text/x-python",
   "name": "python",
   "nbconvert_exporter": "python",
   "pygments_lexer": "ipython3",
   "version": "3.10.8"
  }
 },
 "nbformat": 4,
 "nbformat_minor": 5
}
