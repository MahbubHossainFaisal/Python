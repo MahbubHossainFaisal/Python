{
 "cells": [
  {
   "cell_type": "markdown",
   "id": "abb7d0e1-bc42-4e2e-bbaf-accdf1e3551b",
   "metadata": {},
   "source": [
    "Given a sorted array arr[] of size N. Find the element that appears only once in the array. All other elements appear exactly twice. \n",
    "\n",
    "GFG Link: https://practice.geeksforgeeks.org/problems/find-the-element-that-appears-once-in-sorted-array0624/1?utm_source=youtube&utm_medium=collab_striver_ytdescription&utm_campaign=find-the-element-that-appears-once-in-sorted-array"
   ]
  },
  {
   "cell_type": "code",
   "execution_count": 2,
   "id": "68a9ccd9-255f-4c91-a878-7f43a934221b",
   "metadata": {},
   "outputs": [
    {
     "name": "stdout",
     "output_type": "stream",
     "text": [
      "4\n"
     ]
    }
   ],
   "source": [
    "import math\n",
    "def findOnce(arr,n):\n",
    "        # Complete this function\n",
    "        \n",
    "        \n",
    "        if n==1 or arr[0] != arr[1]:\n",
    "            return arr[0]\n",
    "            \n",
    "        if arr[n-1] != arr[n-2]:\n",
    "            return arr[n-1]\n",
    "        low=1\n",
    "        high = n-2\n",
    "        \n",
    "        while(low<=high):\n",
    "            mid = math.floor((low+high)/2)\n",
    "            \n",
    "            if arr[mid] != arr[mid-1] and arr[mid] != arr[mid+1]:\n",
    "                return arr[mid]\n",
    "            \n",
    "            elif (math.floor(mid%2 !=0) and arr[mid] == arr[mid+1]) or (math.floor(mid%2 == 0) and arr[mid] == arr[mid-1]):\n",
    "                high = mid-1\n",
    "            else:\n",
    "                low = mid+1\n",
    "        \n",
    "        return -1\n",
    "    \n",
    "N = 11\n",
    "arr = [1, 1, 2, 2, 3, 3, 4, 50, 50, 65, 65]\n",
    "\n",
    "ans =findOnce(arr,N)\n",
    "print(ans)"
   ]
  },
  {
   "cell_type": "markdown",
   "id": "9cfef32f-2948-4c68-8e2e-2b32d971eccc",
   "metadata": {},
   "source": [
    "This code is solving a problem where an array of integers is given, and all the elements in the array occur twice except for one element, which occurs only once. The task is to find and return the element that occurs only once.\n",
    "\n",
    "The code begins with the function `findOnce`, which takes two parameters: `arr`, the array of integers, and `n`, the length of the array.\n",
    "\n",
    "The first part of the code checks for two special cases:\n",
    "1. If the length of the array is 1, then there is only one element in the array, and it is the element that occurs only once. So, in this case, the function returns the first element, `arr[0]`.\n",
    "2. If the first element is not equal to the second element, then the first element is the one that occurs only once. So, in this case, the function also returns `arr[0]`.\n",
    "\n",
    "Next, the code checks if the last element is not equal to the second last element. If true, it means that the last element is the element that occurs only once. So, the function returns `arr[n-1]`, which is the last element.\n",
    "\n",
    "If none of the above conditions are met, it means that the element that occurs only once is somewhere in between the array. Hence, binary search is used to find the element efficiently.\n",
    "\n",
    "The variables `low` and `high` are initialized to mark the range of the array to search within. `low` is set to 1 because the first element is already checked, and `high` is set to `n-2` because the last element is already checked.\n",
    "\n",
    "Inside the while loop, the middle element `mid` is calculated as the average of `low` and `high`, using the `math.floor` function to round down to the nearest integer.\n",
    "\n",
    "If `arr[mid]` is not equal to `arr[mid-1]` and `arr[mid]` is not equal to `arr[mid+1]`, it means that `arr[mid]` is the element that occurs only once. So, the function returns `arr[mid]`.\n",
    "\n",
    "If the middle element is not the element that occurs only once, then two possibilities exist:\n",
    "1. If `mid` is an odd index (i.e., `mid % 2` is not equal to 0) and `arr[mid]` is equal to `arr[mid+1]`, it means that duplicate pairs exist on the left side of `mid`. In this case, the range is updated to search on the left side by setting `high` to `mid-1`.\n",
    "2. If `mid` is an even index (i.e., `mid % 2` is equal to 0) and `arr[mid]` is equal to `arr[mid-1]`, it means that duplicate pairs exist on the left side of `mid`. In this case, the range is updated to search on the left side by setting `high` to `mid-1`.\n",
    "\n",
    "If none of the above conditions are met, it means that duplicate pairs exist on the right side of `mid`, so the range is updated to search on the right side by setting `low` to `mid+1`.\n",
    "\n",
    "The while loop continues until the range `low` to `high` is valid (i.e., `low <= high`). If the loop finishes without finding the element that occurs only once, it means that the input array does not follow the given condition, and the function returns -1 as the default value.\n",
    "\n",
    "At the end of the code, the function is called with the array `arr` and its length `N`. The result is stored in the variable `ans` and then printed. In the given example, the result is 4, which is the element that occurs only once in the array [1, 1, 2, 2, 3, 3, 4, 50, 50, 65, 65]."
   ]
  },
  {
   "cell_type": "markdown",
   "id": "b077641c-98b9-499e-93b0-bda6240982a8",
   "metadata": {},
   "source": [
    "### Time and Space complexity"
   ]
  },
  {
   "cell_type": "markdown",
   "id": "89581855-edcd-4b1f-a9ec-71e41a8da64c",
   "metadata": {},
   "source": [
    "The time and space complexity of this code can be analyzed as follows:\n",
    "\n",
    "Time Complexity:\n",
    "- The code begins with some initial checks that take constant time, such as checking if the length of the array is 1 or if the first and second elements are not equal. These checks can be considered as O(1) operations.\n",
    "- After that, the code performs binary search to find the element that occurs only once. The time complexity of binary search is O(log n), where n is the length of the input array.\n",
    "- Within the binary search loop, there are a few constant time operations like calculating the middle element of the range, checking if it matches the desired condition, and updating the range based on the condition. These operations can be considered O(1).\n",
    "- The binary search loop iterates until the range of search is valid, which means the range is reduced by half in each iteration. Hence, the number of iterations required can be approximated as log n (base 2).\n",
    "- Overall, the time complexity of the code can be considered as O(log n), where n is the length of the input array.\n",
    "\n",
    "\n",
    "Space Complexity:\n",
    "- The space complexity of this code is O(1) because it does not use any additional space that grows with the size of the input. The code only uses a constant amount of space to store the input array, the loop variables, and some temporary variables.\n",
    "- Regardless of the size of the input array, the space requirements of the code remain constant, so the space complexity is O(1).\n",
    "\n",
    "In conclusion, the time complexity of this code is O(log n), and the space complexity is O(1)."
   ]
  },
  {
   "cell_type": "code",
   "execution_count": null,
   "id": "302e623a-cc7b-403e-9487-7608e15dca6b",
   "metadata": {},
   "outputs": [],
   "source": []
  }
 ],
 "metadata": {
  "kernelspec": {
   "display_name": "Python 3 (ipykernel)",
   "language": "python",
   "name": "python3"
  },
  "language_info": {
   "codemirror_mode": {
    "name": "ipython",
    "version": 3
   },
   "file_extension": ".py",
   "mimetype": "text/x-python",
   "name": "python",
   "nbconvert_exporter": "python",
   "pygments_lexer": "ipython3",
   "version": "3.10.8"
  }
 },
 "nbformat": 4,
 "nbformat_minor": 5
}
