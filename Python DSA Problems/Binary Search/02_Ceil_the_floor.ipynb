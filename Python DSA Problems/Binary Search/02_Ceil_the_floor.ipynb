{
 "cells": [
  {
   "cell_type": "markdown",
   "id": "892ee6e0-4f7f-4e7a-8985-4f91f11a8522",
   "metadata": {},
   "source": [
    "Given an unsorted array Arr[] of N integers and an integer X, find floor and ceiling of X in Arr[0..N-1].\n",
    "\n",
    "Floor of X is the largest element which is smaller than or equal to X. Floor of X doesn’t exist if X is smaller than smallest element of Arr[].\n",
    "\n",
    "Ceil of X is the smallest element which is greater than or equal to X. Ceil of X doesn’t exist if X is greater than greatest element of Arr[].\n",
    "\n",
    "Example 1:\n",
    "\n",
    "Input:\n",
    "    \n",
    "N = 8, X = 7\n",
    "\n",
    "Arr[] = {5, 6, 8, 9, 6, 5, 5, 6}\n",
    "\n",
    "Output: 6 8\n",
    "\n",
    "Explanation:\n",
    "    \n",
    "Floor of 7 is 6 and ceil of 7 \n",
    "is 8.\n",
    "\n",
    "GFG link: https://practice.geeksforgeeks.org/problems/ceil-the-floor2802/1?utm_source=youtube&utm_medium=collab_striver_ytdescription&utm_campaign=ceil-the-floor"
   ]
  },
  {
   "cell_type": "code",
   "execution_count": 3,
   "id": "2c4a6c46-e6e6-499e-88ac-af5319635230",
   "metadata": {},
   "outputs": [
    {
     "name": "stdout",
     "output_type": "stream",
     "text": [
      "[65, 85]\n"
     ]
    }
   ],
   "source": [
    "import math\n",
    "def getFloorAndCeil(arr, n, x):\n",
    "    # code here\n",
    "    low=0\n",
    "    high=n-1\n",
    "    arr.sort()\n",
    "    if x < arr[0]:\n",
    "        return [-1,arr[0]]\n",
    "    if x > arr[high]:\n",
    "        return [arr[high],-1]\n",
    "        \n",
    "    while(low<=high):\n",
    "        mid = math.floor((low+high)/2)\n",
    "        if arr[mid] == x:\n",
    "            return [arr[mid],arr[mid]]\n",
    "        elif arr[mid] < x:\n",
    "            low=mid+1\n",
    "        else:\n",
    "            high=mid-1\n",
    "            \n",
    "    \n",
    "    return [arr[high],arr[low]]\n",
    "\n",
    "\n",
    "\n",
    "arr = [35,45,1,6,3,2,7,6,65,46,85]\n",
    "\n",
    "n = 11\n",
    "\n",
    "x = 82\n",
    "ans = getFloorAndCeil(arr,n,x)\n",
    "print(ans)\n"
   ]
  },
  {
   "cell_type": "code",
   "execution_count": null,
   "id": "e86fea88-14bf-4a81-87eb-7dc20e01107d",
   "metadata": {},
   "outputs": [],
   "source": []
  }
 ],
 "metadata": {
  "kernelspec": {
   "display_name": "Python 3 (ipykernel)",
   "language": "python",
   "name": "python3"
  },
  "language_info": {
   "codemirror_mode": {
    "name": "ipython",
    "version": 3
   },
   "file_extension": ".py",
   "mimetype": "text/x-python",
   "name": "python",
   "nbconvert_exporter": "python",
   "pygments_lexer": "ipython3",
   "version": "3.10.8"
  }
 },
 "nbformat": 4,
 "nbformat_minor": 5
}
