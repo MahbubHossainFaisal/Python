{
 "cells": [
  {
   "cell_type": "code",
   "execution_count": null,
   "id": "ee6d9fbc",
   "metadata": {},
   "outputs": [],
   "source": [
    "#User function Template for python3\n",
    "import math\n",
    "class Solution:\n",
    "    def countZeroes(self, arr, n):\n",
    "        # code here\n",
    "        left = 0\n",
    "        right = len(arr)-1\n",
    "        idx=-1\n",
    "        while(left <= right):\n",
    "            mid = int((left+right)/2)\n",
    "            \n",
    "            if arr[mid] == 0:\n",
    "                idx = mid\n",
    "                break\n",
    "            elif arr[mid] == 1:\n",
    "                left = mid+1\n",
    "                \n",
    "        if idx == -1:\n",
    "            return 0\n",
    "        else:\n",
    "          #  print(idx)\n",
    "            while arr[idx] == 0:\n",
    "                 if idx <0:\n",
    "                     break\n",
    "                 idx -= 1\n",
    "        \n",
    "        return len(arr)-1-idx\n",
    "\n",
    "\n",
    "#{ \n",
    " # Driver Code Starts\n",
    "#Initial Template for Python 3\n",
    "\n",
    "if __name__ == '__main__':\n",
    "    tc = int(input())\n",
    "    while tc > 0:\n",
    "        n = int(input())\n",
    "        arr = list(map(int, input().strip().split()))\n",
    "        ob = Solution()\n",
    "        ans = ob.countZeroes(arr, n)\n",
    "        print(ans)\n",
    "        tc -= 1\n",
    "\n",
    "# } Driver Code Ends"
   ]
  }
 ],
 "metadata": {
  "kernelspec": {
   "display_name": "Python 3 (ipykernel)",
   "language": "python",
   "name": "python3"
  },
  "language_info": {
   "codemirror_mode": {
    "name": "ipython",
    "version": 3
   },
   "file_extension": ".py",
   "mimetype": "text/x-python",
   "name": "python",
   "nbconvert_exporter": "python",
   "pygments_lexer": "ipython3",
   "version": "3.9.13"
  }
 },
 "nbformat": 4,
 "nbformat_minor": 5
}
