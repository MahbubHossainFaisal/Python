{
 "cells": [
  {
   "cell_type": "markdown",
   "id": "139f1aa0-c6bd-4b98-bcc4-4222949de913",
   "metadata": {},
   "source": [
    "Given a sorted array arr containing n elements with possibly duplicate elements, the task is to find indexes of first and last occurrences of an element x in the given array.\n",
    "\n",
    "GFG Link: https://practice.geeksforgeeks.org/problems/first-and-last-occurrences-of-x3116/1?utm_source=youtube&utm_medium=collab_striver_ytdescription&utm_campaign=first-and-last-occurrences-of-x"
   ]
  },
  {
   "cell_type": "code",
   "execution_count": 3,
   "id": "893aa5f7-41f7-43d8-b759-6a6e8f19a7fb",
   "metadata": {},
   "outputs": [
    {
     "name": "stdout",
     "output_type": "stream",
     "text": [
      "2 5\n"
     ]
    }
   ],
   "source": [
    "import math\n",
    "def find(arr,n,x):\n",
    "    low=0\n",
    "    high=n-1\n",
    "    first = -1\n",
    "    last = -1\n",
    "    while(low<=high):\n",
    "        mid = math.floor((low+high)/2)\n",
    "        if arr[mid] == x:\n",
    "            first = mid\n",
    "            last = mid\n",
    "            break\n",
    "        elif arr[mid] < x:\n",
    "            low=mid+1\n",
    "        else:\n",
    "            high=mid-1\n",
    "            \n",
    "    \n",
    "    while first > 0 and arr[first-1] == arr[first]:\n",
    "        first-=1\n",
    "        \n",
    "    while last < n-1 and arr[last+1] == arr[last]:\n",
    "        last+=1\n",
    "        \n",
    "        \n",
    "    return first,last\n",
    "\n",
    "\n",
    "arr = [1,3,5,5,5,5,67,123,125]\n",
    "n = 9\n",
    "x = 5\n",
    "\n",
    "ans = find(arr,n,x)\n",
    "print(*ans)"
   ]
  },
  {
   "cell_type": "code",
   "execution_count": null,
   "id": "667ee080-11bb-49a7-b10d-11a63629c758",
   "metadata": {},
   "outputs": [],
   "source": []
  }
 ],
 "metadata": {
  "kernelspec": {
   "display_name": "Python 3 (ipykernel)",
   "language": "python",
   "name": "python3"
  },
  "language_info": {
   "codemirror_mode": {
    "name": "ipython",
    "version": 3
   },
   "file_extension": ".py",
   "mimetype": "text/x-python",
   "name": "python",
   "nbconvert_exporter": "python",
   "pygments_lexer": "ipython3",
   "version": "3.10.8"
  }
 },
 "nbformat": 4,
 "nbformat_minor": 5
}
