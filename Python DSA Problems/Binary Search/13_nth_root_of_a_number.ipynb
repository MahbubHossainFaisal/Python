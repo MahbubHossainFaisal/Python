{
 "cells": [
  {
   "cell_type": "markdown",
   "id": "445e3099-9314-4016-b18a-d25b76447dde",
   "metadata": {},
   "source": [
    "You are given 2 numbers (n , m); the task is to find n√m (nth root of m).\n",
    "\n",
    "GFG link: https://practice.geeksforgeeks.org/problems/find-nth-root-of-m5843/1?utm_source=youtube&utm_medium=collab_striver_ytdescription&utm_campaign=find-nth-root-of-m"
   ]
  },
  {
   "cell_type": "code",
   "execution_count": null,
   "id": "d6f126c5-dab3-4702-98f4-9f851be8b396",
   "metadata": {},
   "outputs": [],
   "source": [
    "import math\n",
    "def floorSqrt(n,m): \n",
    "        #Your code here\n",
    "        low= 0\n",
    "        high = m\n",
    "        nth = -1\n",
    "        while(low<=high):\n",
    "            mid = math.floor((low+high)/2)\n",
    "            #print(mid)\n",
    "            if mid**n == m:\n",
    "                return mid\n",
    "            elif mid**n > m:\n",
    "                high = mid-1\n",
    "            else:\n",
    "                low = mid+1\n",
    "            \n",
    "        return nth\n",
    "    \n",
    "\n",
    "n=2\n",
    "x = 9\n",
    "\n",
    "ans = floorSqrt(n,x)\n",
    "\n",
    "print(ans)\n"
   ]
  }
 ],
 "metadata": {
  "kernelspec": {
   "display_name": "Python 3 (ipykernel)",
   "language": "python",
   "name": "python3"
  },
  "language_info": {
   "codemirror_mode": {
    "name": "ipython",
    "version": 3
   },
   "file_extension": ".py",
   "mimetype": "text/x-python",
   "name": "python",
   "nbconvert_exporter": "python",
   "pygments_lexer": "ipython3",
   "version": "3.10.8"
  }
 },
 "nbformat": 4,
 "nbformat_minor": 5
}
