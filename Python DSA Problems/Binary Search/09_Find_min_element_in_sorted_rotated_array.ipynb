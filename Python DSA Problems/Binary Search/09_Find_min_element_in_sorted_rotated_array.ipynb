{
 "cells": [
  {
   "cell_type": "markdown",
   "id": "f1baad40-8c9d-487f-ac0d-9fb4bb218ea2",
   "metadata": {},
   "source": [
    "Suppose an array of length n sorted in ascending order is rotated between 1 and n times. For example, the array nums = [0,1,2,4,5,6,7] might become:\n",
    "\n",
    "[4,5,6,7,0,1,2] if it was rotated 4 times.\n",
    "[0,1,2,4,5,6,7] if it was rotated 7 times.\n",
    "Notice that rotating an array [a[0], a[1], a[2], ..., a[n-1]] 1 time results in the array [a[n-1], a[0], a[1], a[2], ..., a[n-2]].\n",
    "\n",
    "Given the sorted rotated array nums of unique elements, return the minimum element of this array.\n",
    "\n",
    "You must write an algorithm that runs in O(log n) time.\n",
    "\n",
    "Leetcode link: \n",
    "https://leetcode.com/problems/find-minimum-in-rotated-sorted-array/\n",
    " "
   ]
  },
  {
   "cell_type": "code",
   "execution_count": 4,
   "id": "0d867720-4a1a-4760-ae52-4bc12810ccdb",
   "metadata": {},
   "outputs": [
    {
     "name": "stdout",
     "output_type": "stream",
     "text": [
      "1\n"
     ]
    }
   ],
   "source": [
    "import sys\n",
    "import math\n",
    "\n",
    "def findMin(arr):\n",
    "    n = len(arr)\n",
    "    low = 0\n",
    "    high = n-1\n",
    "    min_ele = sys.maxsize\n",
    "    \n",
    "    while(low<=high):\n",
    "        mid = math.floor((low + high) / 2)\n",
    "        \n",
    "        if arr[mid] >= arr[low]:\n",
    "            if min_ele > arr[low]:\n",
    "                min_ele = arr[low]\n",
    "                \n",
    "            low = mid+1\n",
    "        else:\n",
    "            if min_ele > arr[mid]:\n",
    "                min_ele = arr[mid]\n",
    "            high = mid-1\n",
    "            \n",
    "    \n",
    "    return min_ele\n",
    "\n",
    "\n",
    "\n",
    "\n",
    "arr = [5,6,7,8,9,1,2]\n",
    "\n",
    "\n",
    "ans = findMin(arr)\n",
    "\n",
    "print(ans)"
   ]
  },
  {
   "cell_type": "markdown",
   "id": "640ca78d-2906-4025-b58a-55f473a0d54b",
   "metadata": {},
   "source": [
    "The code is an implementation of finding the minimum element in a rotated sorted array using a binary search algorithm.\n",
    "\n",
    "Here is the step-by-step explanation of the code logic:\n",
    "\n",
    "1. The function `findMin` takes an array `arr` as input.\n",
    "\n",
    "2. The variables `low` and `high` are initialized to store the indices of the first and last elements of the array, respectively. `n` is assigned the length of the array.\n",
    "\n",
    "3. The variable `min_ele` is initialized with a large value (`sys.maxsize`) to store the minimum element.\n",
    "\n",
    "4. The binary search algorithm is implemented with a while loop that continues until `low` becomes greater than `high`.\n",
    "\n",
    "5. Inside the loop, the midpoint of the current sub-array is calculated using the formula `mid = math.floor((low + high) / 2)`.\n",
    "\n",
    "6. The next step is to compare the element at the midpoint (`arr[mid]`) with the element at the start of the sub-array (`arr[low]`).\n",
    "\n",
    "7. If `arr[mid] >= arr[low]`, it means the first half of the sub-array is sorted in non-decreasing order. In this case, we check if the element at the start of the sub-array (`arr[low]`) is smaller than the current minimum element (`min_ele`), and if true, update `min_ele` with the smaller value. Then, `low` is updated to `mid+1` to continue the search in the second half of the sub-array.\n",
    "\n",
    "8. If `arr[mid] < arr[low]`, it means the second half of the sub-array is sorted in non-decreasing order. In this case, we check if the element at the midpoint (`arr[mid]`) is smaller than the current minimum element (`min_ele`), and if true, update `min_ele` with the smaller value. Then, `high` is updated to `mid-1` to continue the search in the first half of the sub-array.\n",
    "\n",
    "9. After the while loop terminates, the minimum element (`min_ele`) is returned.\n",
    "\n",
    "10. In the main part of the code, an example array `arr` is created with values `[5, 6, 7, 8, 9, 1, 2]`. This array represents a rotated sorted array.\n",
    "\n",
    "11. The `findMin` function is called with `arr` as an argument, and the returned minimum element is stored in the variable `ans`.\n",
    "\n",
    "12. Finally, the minimum element is printed to the console using `print(ans)`.\n",
    "\n",
    "The output of the code will be `1`, which is the minimum element in the rotated sorted array `[5, 6, 7, 8, 9, 1, 2]`."
   ]
  },
  {
   "cell_type": "markdown",
   "id": "69a59443-2509-461a-9b00-5e5fc97b90f7",
   "metadata": {},
   "source": [
    "### Time and Space complexity"
   ]
  },
  {
   "cell_type": "markdown",
   "id": "abcd96b9-5235-4500-a9df-c2e6c250724d",
   "metadata": {},
   "source": [
    "The time complexity of the provided code is O(log n), where n is the length of the rotated sorted array.\n",
    "\n",
    "The binary search algorithm is used to find the minimum element in the rotated sorted array. In each iteration of the while loop, the search space is halved. Thus, the time complexity is logarithmic.\n",
    "\n",
    "The space complexity of the code is O(1) as it only uses a constant amount of additional space for storing the indices (`low`, `high`) and the minimum element (`min_ele`).\n",
    "\n",
    "Overall, the code is efficient with a time complexity of O(log n) and a space complexity of O(1)."
   ]
  },
  {
   "cell_type": "code",
   "execution_count": null,
   "id": "8e8d9b29-fcfc-4e75-b8e3-ac8b3ee588b9",
   "metadata": {},
   "outputs": [],
   "source": []
  }
 ],
 "metadata": {
  "kernelspec": {
   "display_name": "Python 3 (ipykernel)",
   "language": "python",
   "name": "python3"
  },
  "language_info": {
   "codemirror_mode": {
    "name": "ipython",
    "version": 3
   },
   "file_extension": ".py",
   "mimetype": "text/x-python",
   "name": "python",
   "nbconvert_exporter": "python",
   "pygments_lexer": "ipython3",
   "version": "3.10.8"
  }
 },
 "nbformat": 4,
 "nbformat_minor": 5
}
