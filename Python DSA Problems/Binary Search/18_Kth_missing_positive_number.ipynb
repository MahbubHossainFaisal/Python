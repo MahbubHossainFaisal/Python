{
 "cells": [
  {
   "cell_type": "markdown",
   "id": "c0e63d98-cf83-42d5-bc34-d69c8471524d",
   "metadata": {},
   "source": [
    "Given an array arr of positive integers sorted in a strictly increasing order, and an integer k.\n",
    "\n",
    "Return the kth positive integer that is missing from this array.\n",
    "\n",
    "Leetcode link: https://leetcode.com/problems/kth-missing-positive-number/"
   ]
  },
  {
   "cell_type": "markdown",
   "id": "390c4504-eaa2-405a-be89-cceb355e61cc",
   "metadata": {},
   "source": [
    "# Brute Force\n",
    "Linear Search"
   ]
  },
  {
   "cell_type": "code",
   "execution_count": 5,
   "id": "b8d73189-5135-4f78-8588-cb4af9c466ef",
   "metadata": {},
   "outputs": [
    {
     "name": "stdout",
     "output_type": "stream",
     "text": [
      "6\n"
     ]
    }
   ],
   "source": [
    "def findKthPositive(arr, k):\n",
    "    mx = arr[len(arr)-1]\n",
    "    count = 0\n",
    "    j=0\n",
    "    for i in range(1,mx+1):\n",
    "        if i == arr[j]:\n",
    "            j+=1\n",
    "        else:\n",
    "            count+=1\n",
    "            if count == k:\n",
    "                return i\n",
    "            \n",
    "\n",
    "    if count!=k:\n",
    "        return arr[len(arr)-1] + k - count\n",
    "    \n",
    "arr = [1,2,3,4]\n",
    "k = 2\n",
    "\n",
    "ans = findKthPositive(arr,k)\n",
    "print(ans)\n",
    "            "
   ]
  },
  {
   "cell_type": "markdown",
   "id": "a483ad70-7454-4113-8f42-f8f4674c373e",
   "metadata": {},
   "source": [
    "# Optimal Approach\n",
    "Binary Search"
   ]
  },
  {
   "cell_type": "code",
   "execution_count": 9,
   "id": "17232468-805e-4448-8340-aeba16549ebc",
   "metadata": {},
   "outputs": [
    {
     "name": "stdout",
     "output_type": "stream",
     "text": [
      "6\n"
     ]
    }
   ],
   "source": [
    "def findKthPositive(arr, k):\n",
    "    low = 0\n",
    "    high = len(arr)-1\n",
    "    \n",
    "    while(low<=high):\n",
    "        mid = int((low+high)/2)\n",
    "        left_should = arr[mid] - 1\n",
    "        left_has = mid-low\n",
    "        left_missing = left_should-left_has\n",
    "        if left_missing == k:\n",
    "            return arr[mid] - 1\n",
    "        elif left_missing > k:\n",
    "            high = mid-1\n",
    "        else:\n",
    "            low = mid+1\n",
    "    \n",
    "    \n",
    "    return arr[low]-1\n",
    "\n",
    "arr = [2,3,4,7,11]\n",
    "k = 5\n",
    "\n",
    "ans = findKthPositive(arr,k)\n",
    "print(ans)\n",
    "    "
   ]
  },
  {
   "cell_type": "code",
   "execution_count": null,
   "id": "925888b4-5e6b-4bc3-bd12-7ada8643045c",
   "metadata": {},
   "outputs": [],
   "source": []
  }
 ],
 "metadata": {
  "kernelspec": {
   "display_name": "Python 3 (ipykernel)",
   "language": "python",
   "name": "python3"
  },
  "language_info": {
   "codemirror_mode": {
    "name": "ipython",
    "version": 3
   },
   "file_extension": ".py",
   "mimetype": "text/x-python",
   "name": "python",
   "nbconvert_exporter": "python",
   "pygments_lexer": "ipython3",
   "version": "3.10.8"
  }
 },
 "nbformat": 4,
 "nbformat_minor": 5
}
