{
 "cells": [
  {
   "cell_type": "markdown",
   "id": "159a12e8-ee97-4915-966d-1012b1a47a86",
   "metadata": {},
   "source": [
    "The given code implements a binary search algorithm to check if a given `target` element is present in a rotated sorted array `nums`. The algorithm works in the following way:\n",
    "\n",
    "1. The input array `nums` is assumed to be a rotated sorted array. The length of the array is stored in a variable `n`.\n",
    "2. Initialize two pointers `low` and `high` to the first and last index of `nums` respectively.\n",
    "3. Enter into a while loop where the condition is `low<=high`. The loop terminates when `low` becomes greater than `high` i.e. we have searched the entire array without finding the `target`.\n",
    "4. Calculate the mid index of the array, `mid = math.floor((low+high)/2)`.\n",
    "5. Check if the element at `mid` index equals `target`.\n",
    "    - If true, return `True` as `target` is found in the array.\n",
    "6. Check for cases when `nums[low] == nums[mid]` and `nums[mid] == nums[high]`. In these cases, it is not possible to determine in which side the sorted part of the array lies, hence increment `low` and decrement `high` to exclude the duplicates and continue with the next iteration of the loop.\n",
    "7. If `nums[low] <= nums[mid]`, then the left part of the array is sorted. Check if the `target` is present in the left part; if yes, update `high` to move towards the left part else update `low` to move towards the right part.\n",
    "8. If `nums[low] > nums[mid]`, then the right part of the array is sorted. Check if the `target` is present in the right part; if yes, update `low` to move towards the right part else update `high` to move towards the left part.\n",
    "9. If `target` is not found in the array, return `False`."
   ]
  },
  {
   "cell_type": "code",
   "execution_count": null,
   "id": "d59d4a6d-9134-4154-98e1-171f8058ecfc",
   "metadata": {},
   "outputs": [],
   "source": [
    "class Solution:\n",
    "    def search(self, nums: List[int], target: int) -> bool:\n",
    "        n = len(nums)\n",
    "        low = 0\n",
    "        high = n-1\n",
    "\n",
    "        while(low<=high):\n",
    "            mid = math.floor((low+high)/2)\n",
    "\n",
    "            if nums[mid] == target:\n",
    "                return True\n",
    "\n",
    "            if nums[low] == nums[mid] and nums[mid] == nums[high]:\n",
    "                low +=1\n",
    "                high -=1\n",
    "                continue\n",
    "            if nums[low] <= nums[mid]:\n",
    "                if nums[low] <= target and target <= nums[mid]:\n",
    "                    high = mid-1\n",
    "                else:\n",
    "                    low = mid+1\n",
    "            \n",
    "            else:\n",
    "                if nums[mid] < target and target <= nums[high]:\n",
    "                    low = mid+1\n",
    "                else:\n",
    "                    high = mid-1\n",
    "\n",
    "\n",
    "        return False"
   ]
  }
 ],
 "metadata": {
  "kernelspec": {
   "display_name": "Python 3 (ipykernel)",
   "language": "python",
   "name": "python3"
  },
  "language_info": {
   "codemirror_mode": {
    "name": "ipython",
    "version": 3
   },
   "file_extension": ".py",
   "mimetype": "text/x-python",
   "name": "python",
   "nbconvert_exporter": "python",
   "pygments_lexer": "ipython3",
   "version": "3.10.8"
  }
 },
 "nbformat": 4,
 "nbformat_minor": 5
}
