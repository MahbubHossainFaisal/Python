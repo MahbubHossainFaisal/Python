{
 "cells": [
  {
   "cell_type": "markdown",
   "id": "6f58ade0-a27a-4200-9e40-a397af78fd95",
   "metadata": {},
   "source": [
    "Given a sorted array Arr[](0-index based) consisting of N distinct integers and an integer k, the task is to find the index of k, if its present in the array Arr[]. Otherwise, find the index where k must be inserted to keep the array sorted.\n",
    "\n",
    "GFG Link: https://practice.geeksforgeeks.org/problems/search-insert-position-of-k-in-a-sorted-array/1?utm_source=youtube&utm_medium=collab_striver_ytdescription&utm_campaign=search-insert-position-of-k-in-a-sorted-array"
   ]
  },
  {
   "cell_type": "code",
   "execution_count": 1,
   "id": "273384fa-3e44-495f-a229-f787145e0081",
   "metadata": {},
   "outputs": [
    {
     "name": "stdout",
     "output_type": "stream",
     "text": [
      "1\n"
     ]
    }
   ],
   "source": [
    "import math\n",
    "def searchInsertK(arr,n,x):\n",
    "    low=0\n",
    "    high=n-1\n",
    "        \n",
    "    while(low<=high):\n",
    "        mid = math.floor((low+high)/2)\n",
    "        if arr[mid] == x:\n",
    "            return mid\n",
    "        elif arr[mid] < x:\n",
    "            low=mid+1\n",
    "        else:\n",
    "            high=mid-1\n",
    "            \n",
    "    \n",
    "    return low\n",
    "\n",
    "\n",
    "N = 4\n",
    "Arr = [1, 3, 5, 6]\n",
    "k = 2\n",
    "\n",
    "ans = searchInsertK(Arr,N,k)\n",
    "print(ans)\n"
   ]
  },
  {
   "cell_type": "code",
   "execution_count": null,
   "id": "feefe7d0-9045-4e35-b722-d98dd17add4b",
   "metadata": {},
   "outputs": [],
   "source": []
  }
 ],
 "metadata": {
  "kernelspec": {
   "display_name": "Python 3 (ipykernel)",
   "language": "python",
   "name": "python3"
  },
  "language_info": {
   "codemirror_mode": {
    "name": "ipython",
    "version": 3
   },
   "file_extension": ".py",
   "mimetype": "text/x-python",
   "name": "python",
   "nbconvert_exporter": "python",
   "pygments_lexer": "ipython3",
   "version": "3.10.8"
  }
 },
 "nbformat": 4,
 "nbformat_minor": 5
}
