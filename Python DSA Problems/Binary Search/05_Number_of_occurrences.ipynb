{
 "cells": [
  {
   "cell_type": "markdown",
   "id": "5ac9bf29-316b-4257-8e61-dc151517a345",
   "metadata": {},
   "source": [
    "Given a sorted array Arr of size N and a number X, you need to find the number of occurrences of X in Arr.\n",
    "\n",
    "GFG Link: https://practice.geeksforgeeks.org/problems/number-of-occurrence2259/1?utm_source=youtube&utm_medium=collab_striver_ytdescription&utm_campaign=number-of-occurrence"
   ]
  },
  {
   "cell_type": "code",
   "execution_count": 4,
   "id": "e18d1da7-fe9a-4cb1-9db4-0181fd44560d",
   "metadata": {},
   "outputs": [
    {
     "name": "stdout",
     "output_type": "stream",
     "text": [
      "4\n"
     ]
    }
   ],
   "source": [
    "import math\n",
    "def find(arr,n,x):\n",
    "    low=0\n",
    "    high=n-1\n",
    "    first = -1\n",
    "    last = -1\n",
    "    while(low<=high):\n",
    "        mid = math.floor((low+high)/2)\n",
    "        if arr[mid] == x:\n",
    "            first = mid\n",
    "            last = mid\n",
    "            break\n",
    "        elif arr[mid] < x:\n",
    "            low=mid+1\n",
    "        else:\n",
    "            high=mid-1\n",
    "\n",
    "\n",
    "    while first > 0 and arr[first-1] == arr[first]:\n",
    "        first-=1\n",
    "\n",
    "    while last < n-1 and arr[last+1] == arr[last]:\n",
    "        last+=1\n",
    "\n",
    "\n",
    "    if first == -1:\n",
    "        return 0\n",
    "    else:\n",
    "        return last-first+1\n",
    "\n",
    "arr = [1,3,5,5,5,5,67,123,125]\n",
    "n = 9\n",
    "x = 5\n",
    "\n",
    "ans = find(arr,n,x)\n",
    "print(ans)"
   ]
  },
  {
   "cell_type": "code",
   "execution_count": null,
   "id": "53908efc-179b-4913-8ac2-e8f94ef3b7b8",
   "metadata": {},
   "outputs": [],
   "source": []
  }
 ],
 "metadata": {
  "kernelspec": {
   "display_name": "Python 3 (ipykernel)",
   "language": "python",
   "name": "python3"
  },
  "language_info": {
   "codemirror_mode": {
    "name": "ipython",
    "version": 3
   },
   "file_extension": ".py",
   "mimetype": "text/x-python",
   "name": "python",
   "nbconvert_exporter": "python",
   "pygments_lexer": "ipython3",
   "version": "3.10.8"
  }
 },
 "nbformat": 4,
 "nbformat_minor": 5
}
