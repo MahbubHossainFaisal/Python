{
 "cells": [
  {
   "cell_type": "code",
   "execution_count": null,
   "id": "a9237524-86e3-4be0-8f8c-73b757ca1ef8",
   "metadata": {},
   "outputs": [],
   "source": []
  },
  {
   "cell_type": "markdown",
   "id": "140788ff-c389-4098-92cf-e13269374272",
   "metadata": {},
   "source": [
    "The problem statement asks us to find a target element in a rotated sorted array. A rotated sorted array is one that has been rotated at a certain pivot point, such that the array is no longer strictly sorted in ascending order. For example, an array that was originally sorted as [0, 1, 2, 3, 4, 5] might be rotated to become [3, 4, 5, 0, 1, 2]. The goal is to find the target element in this rotated array.\n",
    "\n",
    "One approach to this problem is to use a variation of binary search. A regular binary search algorithm works by repeatedly dividing the search space in half based on a comparison between the middle element and the target. However, this method doesn't work on a rotated sorted array. Instead, we use a rotated binary search algorithm, which works as follows:\n",
    "\n",
    "1. Initialize low and high pointers to be the first and last indices of the array, respectively.\n",
    "\n",
    "2. While the search space is not empty (i.e., low <= high), find the middle index (mid) of the search space by computing the average of low and high.\n",
    "\n",
    "3. Compare the middle element (nums[mid]) with the target element.\n",
    "\n",
    "4. If they are the same, we have found the target and can return the current middle index.\n",
    "\n",
    "5. If nums[low] <= nums[mid], then the left half of the search space (from low to mid) is sorted in ascending order. We can check if the target falls within this sorted range, and if so, we update the search space to only search within the left half. Otherwise, we update the search space to only search within the right half.\n",
    "\n",
    "6. If nums[low] > nums[mid], then the right half of the search space (from mid to high) is sorted in ascending order. We can check if the target falls within this sorted range, and if so, we update the search space to only search within the right half. Otherwise, we update the search space to only search within the left half.\n",
    "\n",
    "7. If we exit the while loop without finding the target, it is not present in the array and we return -1.\n",
    "\n",
    "The reasoning behind why this algorithm works is that at each step, we are ruling out half of the possible search space based on the fact that at least one half of that range must be sorted in ascending order. By repeatedly halving the search space in this way, we narrow down the search to the target element."
   ]
  },
  {
   "cell_type": "code",
   "execution_count": null,
   "id": "aac3ce4d-e448-4d9f-b138-9d092285015d",
   "metadata": {},
   "outputs": [],
   "source": [
    "import math\n",
    "class Solution:\n",
    "    def search(self, nums: List[int], target: int) -> int:\n",
    "        n = len(nums)\n",
    "        low = 0\n",
    "        high = n-1\n",
    "\n",
    "        while(low<=high):\n",
    "            mid = math.floor((low+high)/2)\n",
    "\n",
    "            if nums[mid] == target:\n",
    "                return mid\n",
    "\n",
    "            if nums[low] <= nums[mid]:\n",
    "                if nums[low] <= target and target <= nums[mid]:\n",
    "                    high = mid-1\n",
    "                else:\n",
    "                    low = mid+1\n",
    "            \n",
    "            else:\n",
    "                if nums[mid] < target and target <= nums[high]:\n",
    "                    low = mid+1\n",
    "                else:\n",
    "                    high = mid-1\n",
    "\n",
    "\n",
    "        return -1"
   ]
  },
  {
   "cell_type": "code",
   "execution_count": null,
   "id": "6a281d96-b68d-4f84-b726-c89049fc3fcf",
   "metadata": {},
   "outputs": [],
   "source": []
  }
 ],
 "metadata": {
  "kernelspec": {
   "display_name": "Python 3 (ipykernel)",
   "language": "python",
   "name": "python3"
  },
  "language_info": {
   "codemirror_mode": {
    "name": "ipython",
    "version": 3
   },
   "file_extension": ".py",
   "mimetype": "text/x-python",
   "name": "python",
   "nbconvert_exporter": "python",
   "pygments_lexer": "ipython3",
   "version": "3.10.8"
  }
 },
 "nbformat": 4,
 "nbformat_minor": 5
}
