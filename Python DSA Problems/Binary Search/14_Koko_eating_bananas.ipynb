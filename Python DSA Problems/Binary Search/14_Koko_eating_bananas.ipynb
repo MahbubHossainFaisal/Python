{
 "cells": [
  {
   "cell_type": "markdown",
   "id": "4b6e6f48-ccfd-43e1-8f1a-04a038a7627a",
   "metadata": {},
   "source": [
    "Koko loves to eat bananas. There are n piles of bananas, the ith pile has piles[i] bananas. The guards have gone and will come back in h hours.\n",
    "\n",
    "Koko can decide her bananas-per-hour eating speed of k. Each hour, she chooses some pile of bananas and eats k bananas from that pile. If the pile has less than k bananas, she eats all of them instead and will not eat any more bananas during this hour.\n",
    "\n",
    "Koko likes to eat slowly but still wants to finish eating all the bananas before the guards return.\n",
    "\n",
    "Return the minimum integer k such that she can eat all the bananas within h hours.\n",
    "\n",
    "\n",
    "Leetcode link: https://leetcode.com/problems/koko-eating-bananas/"
   ]
  },
  {
   "cell_type": "markdown",
   "id": "cb7af234-2cac-480b-9463-a4e3058f1483",
   "metadata": {},
   "source": [
    "### Brute Force"
   ]
  },
  {
   "cell_type": "code",
   "execution_count": 8,
   "id": "b5a030ba-cc3a-448d-b219-b7605e579c81",
   "metadata": {},
   "outputs": [
    {
     "name": "stdout",
     "output_type": "stream",
     "text": [
      "4\n"
     ]
    }
   ],
   "source": [
    "import sys\n",
    "import math\n",
    "def checkPossibility(piles,k,h):\n",
    "    totalHours = 0\n",
    "    for i in piles:\n",
    "        totalHours += math.ceil(i/k)\n",
    "    \n",
    "    #print(f'For {k} total hours: {totalHours}')\n",
    "    if totalHours <= h:\n",
    "        return True\n",
    "    else:\n",
    "        return False\n",
    "\n",
    "\n",
    "def minEatingSpeed(piles, h):\n",
    "    \n",
    "    #max value in piles\n",
    "    mx = -sys.maxsize - 1\n",
    "    for i in range(len(piles)):\n",
    "        if mx < piles[i]:\n",
    "            mx = piles[i]\n",
    "            \n",
    "    #print('max val',mx)\n",
    "    for i in range(1,mx+1):\n",
    "        ans = checkPossibility(piles,i,h)\n",
    "        if ans:\n",
    "            return i\n",
    "    \n",
    "    return -1\n",
    "    \n",
    "    \n",
    "piles = [3,6,7,11]\n",
    "h=8\n",
    "\n",
    "ans = minEatingSpeed(piles,h)\n",
    "print(ans)\n",
    "    \n",
    "        "
   ]
  },
  {
   "cell_type": "markdown",
   "id": "c13056fa-5eed-492e-b644-97876e822ecb",
   "metadata": {},
   "source": [
    "The code solves the problem of finding the minimum eating speed required to eat all the piles of bananas within a given number of hours. Here is a step-by-step breakdown of the logic:\n",
    "\n",
    "1. The `checkPossibility` function calculates the total number of hours required to eat all the piles of bananas at a given eating speed (`k`). It iterates over each pile, divides it by the eating speed (`k`), and rounds it up to the nearest integer using the `math.ceil` function. The sum of these rounded values represents the total hours required.\n",
    "\n",
    "2. If the total hours calculated in `checkPossibility` is less than or equal to the given number of hours (`h`), it returns `True`, indicating that it is possible to eat all the piles within the given time.\n",
    "\n",
    "3. The `minEatingSpeed` function finds the maximum value in the `piles` list by iterating over each element. It initializes `mx` as the smallest possible value using `sys.maxsize`.\n",
    "\n",
    "4. The `minEatingSpeed` function then iterates over the range from 1 to the maximum value found in `piles`. For each value `i`, it calls the `checkPossibility` function to check if it is possible to eat all the piles at the eating speed `i` within the given hours `h`. If it is possible, it returns `i` as the minimum eating speed required.\n",
    "\n",
    "5. If no minimum eating speed is found within the range, the function returns -1, indicating that it is not possible to eat all the piles within the given hours.\n",
    "\n",
    "6. In the example code, the `piles` list contains the number of bananas in each pile, and `h` is set to 8. The `minEatingSpeed` function is called with these inputs, and the result is printed."
   ]
  },
  {
   "cell_type": "markdown",
   "id": "7d7342e5-cf48-4476-bc3a-7e9adbb757ce",
   "metadata": {},
   "source": [
    "### Time and Space complexity"
   ]
  },
  {
   "cell_type": "markdown",
   "id": "1157b875-cae3-459b-ae3f-6540dea04b51",
   "metadata": {},
   "source": [
    "The time complexity of the provided code is O(n * m), where n is the number of elements in the `piles` list and m is the maximum element in the `piles` list. \n",
    "\n",
    "1. The `checkPossibility` function iterates over each element in the `piles` list, which has a time complexity of O(n). For each element, it performs division and rounding to calculate the total hours, which takes constant time. Therefore, the time complexity of this function is O(n).\n",
    "\n",
    "2. The `minEatingSpeed` function first finds the maximum value in the `piles` list by iterating over each element, which has a time complexity of O(n). \n",
    "\n",
    "3. Then, it iterates over the range from 1 to the maximum value in the `piles` list, which has a time complexity of O(m). For each value, it calls the `checkPossibility` function, which has a time complexity of O(n). Therefore, the overall time complexity of this function is O(n * m).\n",
    "\n",
    "The space complexity of the provided code is O(1) because it only uses a constant amount of additional space to store variables like `totalHours`, `mx`, and `ans`, regardless of the size of the input."
   ]
  },
  {
   "cell_type": "code",
   "execution_count": 10,
   "id": "b1038a74-9ce3-4ad4-8201-7ed32c7ef25b",
   "metadata": {},
   "outputs": [
    {
     "name": "stdout",
     "output_type": "stream",
     "text": [
      "4\n"
     ]
    }
   ],
   "source": [
    "import math\n",
    "def checkPossibility(piles,k,h):\n",
    "    totalHours = 0\n",
    "    for i in piles:\n",
    "        totalHours += math.ceil(i/k)\n",
    "    \n",
    "    #print(f'For {k} total hours: {totalHours}')\n",
    "    if totalHours <= h:\n",
    "        return True\n",
    "    else:\n",
    "        return False\n",
    "\n",
    "\n",
    "def minEatingSpeed(piles, h):\n",
    "    \n",
    "    #max value in piles\n",
    "    mx = max(piles)\n",
    "            \n",
    "    #print('max val',mx)\n",
    "    low=1\n",
    "    high = mx\n",
    "    \n",
    "    while(low<=high):\n",
    "        mid = int((low+high)/2)\n",
    "        ans = checkPossibility(piles,mid,h)\n",
    "        if ans:\n",
    "            high = mid-1\n",
    "        else:\n",
    "            low = mid+1\n",
    "    \n",
    "    return low\n",
    "\n",
    "\n",
    "piles = [3,6,7,11]\n",
    "h=8\n",
    "\n",
    "ans = minEatingSpeed(piles,h)\n",
    "print(ans)\n",
    "    "
   ]
  },
  {
   "cell_type": "markdown",
   "id": "84f79dd6-e7af-4088-acf6-3184db2de8e8",
   "metadata": {},
   "source": [
    "The code solves the problem of finding the minimum eating speed required to eat all the piles of bananas within a given number of hours. Here is a step-by-step breakdown of the logic:\n",
    "\n",
    "1. The `checkPossibility` function calculates the total number of hours required to eat all the piles of bananas at a given eating speed (`k`). It iterates over each pile, divides it by the eating speed (`k`), and rounds it up to the nearest integer using the `math.ceil` function. The sum of these rounded values represents the total hours required.\n",
    "\n",
    "2. If the total hours calculated in `checkPossibility` is less than or equal to the given number of hours (`h`), it returns `True`, indicating that it is possible to eat all the piles within the given time.\n",
    "\n",
    "3. The `minEatingSpeed` function finds the maximum value in the `piles` list by using the `max` function.\n",
    "\n",
    "4. It initializes two variables, `low` and `high`, with the values of 1 and the maximum value respectively.\n",
    "\n",
    "5. The function enters a binary search loop, where it continuously divides the search space in half until it finds the minimum eating speed that satisfies the condition in the `checkPossibility` function.\n",
    "\n",
    "6. In each iteration of the binary search loop, it calculates the middle value as the average of `low` and `high`.\n",
    "\n",
    "7. It calls the `checkPossibility` function with the piles, the middle value as the eating speed, and the given number of hours.\n",
    "\n",
    "8. If the result is `True`, it means that it is possible to eat all the piles within the given hours at the current eating speed. In this case, it updates the `high` variable to `mid-1` to search for a lower eating speed.\n",
    "\n",
    "9. If the result is `False`, it means that it is not possible to eat all the piles within the given hours at the current eating speed. In this case, it updates the `low` variable to `mid+1` to search for a higher eating speed.\n",
    "\n",
    "10. The binary search loop continues until `low` is greater than `high`, indicating that the search space has been exhausted.\n",
    "\n",
    "11. Finally, the function returns the value of `low`, which represents the minimum eating speed required to eat all the piles within the given hours.\n",
    "\n",
    "12. In the example code, the `piles` list contains the number of bananas in each pile, and `h` is set to 8. The `minEatingSpeed` function is called with these inputs, and the result is printed."
   ]
  },
  {
   "cell_type": "markdown",
   "id": "ba92fed3-3ba2-41e2-9546-2634c5e03f9c",
   "metadata": {},
   "source": [
    "### Time and Space Complexity"
   ]
  },
  {
   "cell_type": "markdown",
   "id": "1f947bf7-c230-4ec6-885a-1fe4a64d0c8a",
   "metadata": {},
   "source": [
    "You are correct, the overall time complexity of the code should be O(nlogn). Let me explain in more detail.\n",
    "\n",
    "The `minEatingSpeed` function performs a binary search to find the minimum eating speed required. The binary search operates on the range of possible eating speeds, which is from 1 to the maximum value in the `piles` list.\n",
    "\n",
    "In each iteration of the binary search, the code calls the `checkPossibility` function, which has a time complexity of O(n). Therefore, the total number of iterations in the binary search is O(logn), where n is the maximum value in the `piles` list.\n",
    "\n",
    "Since each iteration of the binary search takes O(n) time, the overall time complexity of the code is O(nlogn).\n",
    "\n",
    "The space complexity of the provided code is O(1) because it only uses a constant amount of additional space to store variables like `totalHours`, `mx`, `ans`, and the loop variables. The space complexity does not grow with the size of the input."
   ]
  },
  {
   "cell_type": "code",
   "execution_count": null,
   "id": "97f61dec-a2ed-4e40-96be-b9c6de90b601",
   "metadata": {},
   "outputs": [],
   "source": []
  }
 ],
 "metadata": {
  "kernelspec": {
   "display_name": "Python 3 (ipykernel)",
   "language": "python",
   "name": "python3"
  },
  "language_info": {
   "codemirror_mode": {
    "name": "ipython",
    "version": 3
   },
   "file_extension": ".py",
   "mimetype": "text/x-python",
   "name": "python",
   "nbconvert_exporter": "python",
   "pygments_lexer": "ipython3",
   "version": "3.10.8"
  }
 },
 "nbformat": 4,
 "nbformat_minor": 5
}
