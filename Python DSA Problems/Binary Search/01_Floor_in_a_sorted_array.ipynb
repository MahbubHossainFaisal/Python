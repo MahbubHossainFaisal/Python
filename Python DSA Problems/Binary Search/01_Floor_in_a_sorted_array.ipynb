{
 "cells": [
  {
   "cell_type": "markdown",
   "id": "2fbd0caa-d83a-4dbf-84df-7a09fa7031ed",
   "metadata": {},
   "source": [
    "Given a sorted array arr[] of size N without duplicates, and given a value x. Floor of x is defined as the largest element K in arr[] such that K is smaller than or equal to x. Find the index of K(0-based indexing).\n",
    "\n",
    "GFG Link: https://practice.geeksforgeeks.org/problems/floor-in-a-sorted-array-1587115620/1?track=DSASP-Searching&amp%3BbatchId=154&utm_source=youtube&utm_medium=collab_striver_ytdescription&utm_campaign=floor-in-a-sorted-array"
   ]
  },
  {
   "cell_type": "code",
   "execution_count": 11,
   "id": "0fcc11e6-ac36-45e5-8504-c305329c20c5",
   "metadata": {},
   "outputs": [
    {
     "name": "stdout",
     "output_type": "stream",
     "text": [
      "40\n"
     ]
    }
   ],
   "source": [
    "import math\n",
    "def findFloor(A,N,X):\n",
    "    low=0\n",
    "    high=N-1\n",
    "    if X < A[low]:\n",
    "        return -1\n",
    "    if X > A[high]:\n",
    "        return high\n",
    "\n",
    "    while(low<=high):\n",
    "        mid = math.floor((low+high)/2)\n",
    "        index=mid\n",
    "        if A[mid] == X:\n",
    "            return mid\n",
    "        elif A[mid] < X:\n",
    "            low=mid+1\n",
    "        else:\n",
    "            high=mid-1\n",
    "\n",
    "\n",
    "\n",
    "    return high\n",
    "\n",
    "\n",
    "arr = [66, 67, 68, 69, 70, 71, 72, 73, 74, 75, 76, 77, 78, 79, 80, 81, 82, 83, 84, 85, 86, 87, 88, 89, 90, 91, 92, 93, 94, 95, 96, 97, 98, 99, 100, 101, 102, 103, 104, 105, 106, 107, 108, 109, 110, 111, 112, 113, 114, 115, 116, 117, 118, 119, 120, 121, 122, 123, 124, 125, 126, 127, 128, 129, 130]\n",
    "target_number = 106\n",
    "\n",
    "ans = findFloor(arr,len(arr),106)\n",
    "\n",
    "print(ans)"
   ]
  },
  {
   "cell_type": "code",
   "execution_count": null,
   "id": "ce91af80-8eb2-4a6e-aba1-ce863f3846d7",
   "metadata": {},
   "outputs": [],
   "source": []
  }
 ],
 "metadata": {
  "kernelspec": {
   "display_name": "Python 3 (ipykernel)",
   "language": "python",
   "name": "python3"
  },
  "language_info": {
   "codemirror_mode": {
    "name": "ipython",
    "version": 3
   },
   "file_extension": ".py",
   "mimetype": "text/x-python",
   "name": "python",
   "nbconvert_exporter": "python",
   "pygments_lexer": "ipython3",
   "version": "3.10.8"
  }
 },
 "nbformat": 4,
 "nbformat_minor": 5
}
