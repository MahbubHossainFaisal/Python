{
 "cells": [
  {
   "cell_type": "markdown",
   "id": "33b2ae27-87e3-4dbb-a544-502aedd72275",
   "metadata": {},
   "source": [
    "Given an ascending sorted rotated array Arr of distinct integers of size N. The array is right rotated K times. Find the value of K.\n",
    "\n",
    "Example 1:\n",
    "\n",
    "Input:\n",
    "\n",
    "N = 5\n",
    "\n",
    "Arr[] = {5, 1, 2, 3, 4}\n",
    "\n",
    "Output: 1\n",
    "\n",
    "Explanation: The given array is 5 1 2 3 4. \n",
    "\n",
    "The original sorted array is 1 2 3 4 5. \n",
    "\n",
    "We can see that the array was rotated \n",
    "\n",
    "1 times to the right.\n",
    "\n",
    "\n",
    "GFG Link: https://practice.geeksforgeeks.org/problems/rotation4723/1?utm_source=youtube&utm_medium=collab_striver_ytdescription&utm_campaign=rotation"
   ]
  },
  {
   "cell_type": "code",
   "execution_count": 2,
   "id": "4c2c5de8-fd3b-40b8-a44b-c594d6528be7",
   "metadata": {},
   "outputs": [
    {
     "name": "stdout",
     "output_type": "stream",
     "text": [
      "1\n"
     ]
    }
   ],
   "source": [
    "import sys\n",
    "import math\n",
    "def findKRotation(arr,  n):\n",
    "        # code here\n",
    "        n = len(arr)\n",
    "        low = 0\n",
    "        high = n-1\n",
    "        min_ele = sys.maxsize\n",
    "        rot_index = 0\n",
    "        while(low<=high):\n",
    "            mid = math.floor((low + high) / 2)\n",
    "            \n",
    "            if arr[mid] >= arr[low]:\n",
    "                if min_ele > arr[low]:\n",
    "                    min_ele = arr[low]\n",
    "                    \n",
    "                    rot_index=low\n",
    "                    \n",
    "                low = mid+1\n",
    "            else:\n",
    "                if min_ele > arr[mid]:\n",
    "                    min_ele = arr[mid]\n",
    "                    rot_index = mid\n",
    "                high = mid-1\n",
    "                \n",
    "        \n",
    "        return rot_index\n",
    "    \n",
    "    \n",
    "arr = [5,1,2,3,4]\n",
    "\n",
    "ans = findKRotation(arr,5)\n",
    "\n",
    "print(ans)"
   ]
  },
  {
   "cell_type": "markdown",
   "id": "853684d0-b344-479d-befb-cce50edbadb0",
   "metadata": {},
   "source": [
    "\n",
    "1. The function `findKRotation(arr)` takes an input array `arr` and finds the index of the smallest element in the array.\n",
    "\n",
    "2. The variables `low` and `high` are initialized to the first and last indices of the array respectively.\n",
    "\n",
    "3. The variable `min_ele` is initialized to hold the maximum possible value.\n",
    "\n",
    "4. The variable `rot_index` is initialized to store the index of the smallest element in the rotated array.\n",
    "\n",
    "5. The while loop continues until the `low` index becomes greater than the `high` index.\n",
    "\n",
    "6. Inside the loop, the `mid` index is calculated as the floor division of the sum of `low` and `high` indices by 2.\n",
    "\n",
    "7. The code then checks if the element at `mid` is greater than or equal to the element at the `low` index.\n",
    "\n",
    "8. If it is true, it means that the left half of the array is sorted (`arr[low:mid]`).\n",
    "\n",
    "9. In this case, we compare the element at the `low` index with the current minimum element `min_ele`.\n",
    "\n",
    "10. If the element at the `low` index is smaller than `min_ele`, we update `min_ele` with the element at the `low` index and update `rot_index` with the `low` index.\n",
    "\n",
    "11. We then update `low` to be `mid + 1` to search in the right half of the array (`arr[mid+1:high+1]`).\n",
    "\n",
    "12. If the element at `mid` is not greater than or equal to the element at the `low` index, it means that the right half of the array is sorted (`arr[mid:high+1]`).\n",
    "\n",
    "13. In this case, we compare the element at the `mid` index with the current minimum element `min_ele`.\n",
    "\n",
    "14. If the element at the `mid` index is smaller than `min_ele`, we update `min_ele` with the element at the `mid` index and `rot_index` with the `mid` index.\n",
    "\n",
    "15. We then update `high` to be `mid - 1` to search in the left half of the array (`arr[low:mid]`).\n",
    "\n",
    "16. Finally, when the loop ends, we return the value of `rot_index`, which holds the index of the smallest element in the rotated array.\n",
    "\n",
    "In summary, the algorithm maintains a search space by narrowing down the indices `low` and `high` in each iteration of the loop until these indices converge. It compares the middle element with the first element to determine in which half of the array to search for the smallest element. The algorithm keeps track of the smallest element encountered so far and its corresponding index, updating them as necessary. The final value of `rot_index` represents the index of the smallest element in the array which also represents the number of rotation"
   ]
  },
  {
   "cell_type": "markdown",
   "id": "d2065e85-bca9-46fb-8f0b-b3c0daf2b6ab",
   "metadata": {},
   "source": [
    "### Time and Space complexity"
   ]
  },
  {
   "cell_type": "markdown",
   "id": "5bc7a508-a631-4501-8f5f-3f4781e446df",
   "metadata": {},
   "source": [
    "The time complexity of the `findKRotation` function is O(log n), where n is the length of the input array `arr`. This is because the function uses a binary search algorithm to find the index of the smallest element in the rotated sorted array. In each iteration of the while loop, the search space is halved by comparing the middle element with the first element, which allows for a logarithmic time complexity.\n",
    "\n",
    "The space complexity of the function is O(1) because it uses a constant amount of additional space to store the variables `low`, `high`, `min_ele`, and `rot_index`. These variables do not scale with the size of the input array, so the space complexity remains constant.\n",
    "\n",
    "Overall, the function has an efficient time complexity and uses a minimal amount of extra space to find the index of the smallest element in the rotated sorted array."
   ]
  },
  {
   "cell_type": "code",
   "execution_count": null,
   "id": "86da4395-25b7-434d-8df6-c144d23c20ae",
   "metadata": {},
   "outputs": [],
   "source": []
  }
 ],
 "metadata": {
  "kernelspec": {
   "display_name": "Python 3 (ipykernel)",
   "language": "python",
   "name": "python3"
  },
  "language_info": {
   "codemirror_mode": {
    "name": "ipython",
    "version": 3
   },
   "file_extension": ".py",
   "mimetype": "text/x-python",
   "name": "python",
   "nbconvert_exporter": "python",
   "pygments_lexer": "ipython3",
   "version": "3.10.8"
  }
 },
 "nbformat": 4,
 "nbformat_minor": 5
}
