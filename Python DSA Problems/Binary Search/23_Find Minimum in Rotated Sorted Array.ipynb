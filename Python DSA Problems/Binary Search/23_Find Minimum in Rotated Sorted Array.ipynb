{
 "cells": [
  {
   "cell_type": "markdown",
   "id": "f21462e8",
   "metadata": {},
   "source": [
    "Leetcode link: https://leetcode.com/problems/find-minimum-in-rotated-sorted-array/description/"
   ]
  },
  {
   "cell_type": "code",
   "execution_count": null,
   "id": "267cb460",
   "metadata": {},
   "outputs": [],
   "source": [
    "import math\n",
    "class Solution:\n",
    "    def findMin(self, arr: List[int]) -> int:\n",
    "        left = 0\n",
    "        right = len(arr)-1\n",
    "        ans=arr[0]\n",
    "\n",
    "        while(left<=right):\n",
    "            mid  = math.floor((left+right)//2)\n",
    "\n",
    "            if arr[mid] >= arr[0]:\n",
    "                left = mid+1\n",
    "            else:\n",
    "                ans=arr[mid]\n",
    "                right = mid-1\n",
    "\n",
    "        return ans"
   ]
  }
 ],
 "metadata": {
  "kernelspec": {
   "display_name": "Python 3 (ipykernel)",
   "language": "python",
   "name": "python3"
  },
  "language_info": {
   "codemirror_mode": {
    "name": "ipython",
    "version": 3
   },
   "file_extension": ".py",
   "mimetype": "text/x-python",
   "name": "python",
   "nbconvert_exporter": "python",
   "pygments_lexer": "ipython3",
   "version": "3.9.13"
  }
 },
 "nbformat": 4,
 "nbformat_minor": 5
}
