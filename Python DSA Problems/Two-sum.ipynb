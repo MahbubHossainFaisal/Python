{
 "cells": [
  {
   "cell_type": "markdown",
   "id": "dced6440-1f0d-4042-8bd2-de5a0d33048a",
   "metadata": {},
   "source": [
    "# Two Sum Problem"
   ]
  },
  {
   "cell_type": "markdown",
   "id": "c721ad95-dba4-4a9f-a928-79061c22f4a3",
   "metadata": {},
   "source": [
    "Given an array of integers nums and an integer target, return indices of the two numbers such that they add up to target.\n",
    "\n",
    "You may assume that each input would have exactly one solution, and you may not use the same element twice.\n",
    "\n",
    "You can return the answer in any order."
   ]
  },
  {
   "cell_type": "markdown",
   "id": "6543ea08-066e-4625-8455-a047fb950f46",
   "metadata": {},
   "source": [
    "Example 1:\n",
    "\n",
    "Input: nums = [2,7,11,15], target = 9\n",
    "Output: [0,1]\n",
    "Explanation: Because nums[0] + nums[1] == 9, we return [0, 1]."
   ]
  },
  {
   "cell_type": "markdown",
   "id": "78c7ef07-0b03-4f37-ba45-63259c290377",
   "metadata": {},
   "source": [
    "Example 2:\n",
    "\n",
    "Input: nums = [3,2,4], target = 6\n",
    "Output: [1,2]"
   ]
  },
  {
   "cell_type": "markdown",
   "id": "f71e2c67-a791-43c6-a834-b0dc50434e27",
   "metadata": {},
   "source": [
    "### Two pointer approach\n"
   ]
  },
  {
   "cell_type": "markdown",
   "id": "d5279fdc-51fe-4c4e-ba8c-e5fdb8a5db5e",
   "metadata": {},
   "source": [
    "- Time complexity: O(nlogn)\n",
    "- Space complexity: O(1)"
   ]
  },
  {
   "cell_type": "code",
   "execution_count": 2,
   "id": "ab40c4fd-fd08-4444-8038-c4e552cf741c",
   "metadata": {},
   "outputs": [],
   "source": [
    "def twoSum(nums, target):\n",
    "        \"\"\"\n",
    "        :type nums: List[int]\n",
    "        :type target: int\n",
    "        :rtype: List[int]\n",
    "        \"\"\"\n",
    "        nums.sort()\n",
    "        left = 0\n",
    "        right = len(nums) - 1\n",
    "        while left < right:\n",
    "            if nums[left] + nums[right] == target:\n",
    "                return [left,right]\n",
    "            elif nums[left] + nums[right] < target:\n",
    "                left+=1\n",
    "            else:\n",
    "                right -=1\n",
    "\n",
    "        return []"
   ]
  },
  {
   "cell_type": "code",
   "execution_count": 4,
   "id": "d73ecd8d-fbb4-4002-b937-74652c45a44d",
   "metadata": {},
   "outputs": [
    {
     "name": "stdout",
     "output_type": "stream",
     "text": [
      "[0, 2]\n"
     ]
    }
   ],
   "source": [
    "print(twoSum([3,2,4],6))"
   ]
  },
  {
   "cell_type": "markdown",
   "id": "aa595e90-b89d-49f6-aed1-2a485b21bd12",
   "metadata": {},
   "source": [
    "### Map approach"
   ]
  },
  {
   "cell_type": "markdown",
   "id": "3bfd7e2a-21af-4ae1-bdc6-acd651aba5cc",
   "metadata": {},
   "source": [
    "- Time complexity: O(n)\n",
    "- Space complexity: O(n)"
   ]
  },
  {
   "cell_type": "code",
   "execution_count": null,
   "id": "1c816d08-7fe5-438b-9829-55ff74146237",
   "metadata": {},
   "outputs": [],
   "source": [
    "class Solution(object):\n",
    "    def twoSum(self, nums, target):\n",
    "        \"\"\"\n",
    "        :type nums: List[int]\n",
    "        :type target: int\n",
    "        :rtype: List[int]\n",
    "        \"\"\"\n",
    "        available_elements = {}\n",
    "        for i in range(len(nums)):\n",
    "            var = target-nums[i]\n",
    "            #print(available_elements)\n",
    "            if nums[i] in available_elements.keys():\n",
    "                ans = available_elements[nums[i]]\n",
    "                return [ans[1],i]\n",
    "            else:\n",
    "                available_elements[var] = [True,i]\n",
    "        return []"
   ]
  },
  {
   "cell_type": "code",
   "execution_count": null,
   "id": "13089308-2b84-44f9-ab81-0c288b72bb04",
   "metadata": {},
   "outputs": [],
   "source": []
  }
 ],
 "metadata": {
  "kernelspec": {
   "display_name": "Python 3 (ipykernel)",
   "language": "python",
   "name": "python3"
  },
  "language_info": {
   "codemirror_mode": {
    "name": "ipython",
    "version": 3
   },
   "file_extension": ".py",
   "mimetype": "text/x-python",
   "name": "python",
   "nbconvert_exporter": "python",
   "pygments_lexer": "ipython3",
   "version": "3.10.8"
  }
 },
 "nbformat": 4,
 "nbformat_minor": 5
}
