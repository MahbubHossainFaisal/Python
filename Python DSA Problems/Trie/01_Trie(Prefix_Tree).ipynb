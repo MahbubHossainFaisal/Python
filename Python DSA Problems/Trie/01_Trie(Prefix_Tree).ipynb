{
 "cells": [
  {
   "cell_type": "code",
   "execution_count": 10,
   "id": "1110d3db",
   "metadata": {},
   "outputs": [],
   "source": [
    "class TrieNode:\n",
    "    def __init__(self):\n",
    "        self.children = {}\n",
    "        self.endOfWord = False\n",
    "    \n",
    "    \n",
    "class Trie:\n",
    "    def __init__(self):\n",
    "        self.root = TrieNode()\n",
    "        \n",
    "    def insert(self,word):\n",
    "        curr = self.root\n",
    "        \n",
    "        for c in word:\n",
    "            if c not in curr.children:\n",
    "                curr.children[c] = TrieNode()\n",
    "            curr = curr.children[c]\n",
    "        curr.endOfWord=True\n",
    "        \n",
    "    def search(self,word):\n",
    "        curr = self.root\n",
    "        \n",
    "        for c in word:\n",
    "            if c not in curr.children:\n",
    "                return False\n",
    "            curr = curr.children[c]\n",
    "        \n",
    "        return curr.endOfWord\n",
    "    \n",
    "    \n",
    "    def startswith(self,word):\n",
    "        curr = self.root\n",
    "        \n",
    "        for c in word:\n",
    "            if c not in curr.children:\n",
    "                return False\n",
    "            curr = curr.children[c]\n",
    "        return True"
   ]
  },
  {
   "cell_type": "code",
   "execution_count": 11,
   "id": "f028363f",
   "metadata": {},
   "outputs": [
    {
     "name": "stdout",
     "output_type": "stream",
     "text": [
      "None\n",
      "True\n",
      "False\n",
      "True\n"
     ]
    }
   ],
   "source": [
    "obj = Trie()\n",
    "print(obj.insert('apple'))\n",
    "print(obj.search('apple'))\n",
    "print(obj.search('appel'))\n",
    "print(obj.startswith('app'))"
   ]
  },
  {
   "cell_type": "code",
   "execution_count": null,
   "id": "3b8046a2",
   "metadata": {},
   "outputs": [],
   "source": []
  }
 ],
 "metadata": {
  "kernelspec": {
   "display_name": "Python 3 (ipykernel)",
   "language": "python",
   "name": "python3"
  },
  "language_info": {
   "codemirror_mode": {
    "name": "ipython",
    "version": 3
   },
   "file_extension": ".py",
   "mimetype": "text/x-python",
   "name": "python",
   "nbconvert_exporter": "python",
   "pygments_lexer": "ipython3",
   "version": "3.9.13"
  }
 },
 "nbformat": 4,
 "nbformat_minor": 5
}
