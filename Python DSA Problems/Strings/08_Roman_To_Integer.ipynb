{
 "cells": [
  {
   "cell_type": "markdown",
   "id": "e927a538-b21e-4312-9c4e-4347281efc2d",
   "metadata": {},
   "source": [
    "Roman numerals are represented by seven different symbols: I, V, X, L, C, D and M.\n",
    "\n",
    "Symbol       Value\n",
    "\n",
    "I   -----          1\n",
    "\n",
    "V   -----          5\n",
    "\n",
    "X  -----           10\n",
    "\n",
    "L  -----           50\n",
    "\n",
    "C  -----          100\n",
    "\n",
    "D  -----           500\n",
    "\n",
    "M  -----           1000\n",
    "\n",
    "For example, 2 is written as II in Roman numeral, just two ones added together. 12 is written as XII, which is simply X + II. The number 27 is written as XXVII, which is XX + V + II.\n",
    "\n",
    "Roman numerals are usually written largest to smallest from left to right. However, the numeral for four is not IIII. Instead, the number four is written as IV. Because the one is before the five we subtract it making four. The same principle applies to the number nine, which is written as IX. There are six instances where subtraction is used:\n",
    "\n",
    "I can be placed before V (5) and X (10) to make 4 and 9. \n",
    "X can be placed before L (50) and C (100) to make 40 and 90. \n",
    "C can be placed before D (500) and M (1000) to make 400 and 900.\n",
    "Given a roman numeral, convert it to an integer.\n",
    "\n",
    "Leetcode link: https://leetcode.com/problems/roman-to-integer/"
   ]
  },
  {
   "cell_type": "code",
   "execution_count": 3,
   "id": "6f1493cc-46d5-48db-8c4d-e80fa308bb91",
   "metadata": {},
   "outputs": [
    {
     "name": "stdout",
     "output_type": "stream",
     "text": [
      "58\n"
     ]
    }
   ],
   "source": [
    "def romanToInt(roman_num):\n",
    "    int_to_roman = {\n",
    "        'I': 1,\n",
    "        'V': 5,\n",
    "        'X': 10,\n",
    "        'L': 50,\n",
    "        'C': 100,\n",
    "        'D': 500,\n",
    "        'M': 1000\n",
    "        \n",
    "    }\n",
    "    int_val = 0\n",
    "    #print(int_val)\n",
    "    \n",
    "    for i in range(len(roman_num)-1):\n",
    "        if int_to_roman[roman_num[i]] < int_to_roman[roman_num[i+1]]:\n",
    "            int_val-=int_to_roman[roman_num[i]]\n",
    "        else:\n",
    "            int_val += int_to_roman[roman_num[i]]\n",
    "            \n",
    "    int_val += int_to_roman[roman_num[-1]]\n",
    "        \n",
    "    return int_val\n",
    "    \n",
    "    \n",
    "    \n",
    "roman_num = \"LVIII\"\n",
    "\n",
    "ans = romanToInt(roman_num)\n",
    "print(ans)"
   ]
  },
  {
   "cell_type": "markdown",
   "id": "34adcb51-fa65-49c4-93b1-ccf57c7d7b3f",
   "metadata": {},
   "source": [
    "**Step 1: Introduction to the Algorithm - Roman to Integer Conversion**\n",
    "The given code is an implementation of a function called `romanToInt`, which converts a given Roman numeral representation into its corresponding integer value. Roman numerals are represented using letters: 'I' for 1, 'V' for 5, 'X' for 10, 'L' for 50, 'C' for 100, 'D' for 500, and 'M' for 1000. The function iterates through the input Roman numeral and calculates its corresponding integer value.\n",
    "\n",
    "**Step 2: Algorithm Explanation with an Example**\n",
    "Let's start by understanding the algorithm with an example. Consider the Roman numeral \"LVIII.\"\n",
    "\n",
    "1. Initialize a dictionary `int_to_roman` that maps Roman numerals to their integer values.\n",
    "2. Initialize `int_val` to 0, which will be the final integer representation of the Roman numeral.\n",
    "3. Iterate through the input Roman numeral from left to right, except for the last character.\n",
    "4. Compare the current Roman numeral's integer value with the next Roman numeral's integer value.\n",
    "5. If the current value is less than the next value, subtract the current value from the total (`int_val`). Otherwise, add it to the total.\n",
    "6. Finally, add the last Roman numeral's integer value to `int_val`.\n",
    "7. The final value of `int_val` will be the integer representation of the given Roman numeral.\n",
    "\n",
    "**Step 3: Edge Cases**\n",
    "Edge Case 1: The input Roman numeral is an empty string (\"\").\n",
    "Example: roman_num = \"\"\n",
    "In this case, the function should return 0 since there is no Roman numeral to convert.\n",
    "\n",
    "Edge Case 2: The input Roman numeral contains invalid characters.\n",
    "Example: roman_num = \"ABC\"\n",
    "In this case, the function should raise an exception or return an error since \"A,\" \"B,\" and \"C\" are not valid Roman numerals.\n",
    "\n",
    "**Step 4: Time and Space Complexity**\n",
    "Time Complexity: The algorithm uses a single loop to iterate through the Roman numeral string, making it linear in time complexity. Thus, the time complexity is O(n), where n is the length of the input Roman numeral.\n",
    "\n",
    "Space Complexity: The space complexity is O(1) because the algorithm uses a constant amount of extra space for the dictionary and a few variables that do not depend on the input size.\n",
    "\n",
    "**Step 5: Possible Improvements**\n",
    "The given algorithm is already quite efficient for converting Roman numerals to integers, as it runs in linear time and constant space complexity. There is no known more efficient algorithm to achieve this conversion since the input Roman numerals must be processed to determine their integer value.\n",
    "\n",
    "**Step 6: Best Code Practices**\n",
    "1. Variable Naming: The variable names used in the code are meaningful and concise, which is good practice for code readability.\n",
    "2. Comments: Adding comments to clarify the purpose of the code or specific steps can improve code maintainability and readability. The code currently has a commented line that can be helpful for debugging, but more comments could be added to describe the steps of the algorithm.\n",
    "\n",
    "In conclusion, the provided code efficiently converts Roman numerals to their corresponding integer values. It follows good coding practices in terms of variable naming and has room for improvement with additional comments to enhance code understanding. The algorithm has a linear time and constant space complexity, making it an optimal solution for this specific problem."
   ]
  },
  {
   "cell_type": "code",
   "execution_count": null,
   "id": "ac125d62-7dce-4626-8029-c11c58368690",
   "metadata": {},
   "outputs": [],
   "source": []
  }
 ],
 "metadata": {
  "kernelspec": {
   "display_name": "Python 3 (ipykernel)",
   "language": "python",
   "name": "python3"
  },
  "language_info": {
   "codemirror_mode": {
    "name": "ipython",
    "version": 3
   },
   "file_extension": ".py",
   "mimetype": "text/x-python",
   "name": "python",
   "nbconvert_exporter": "python",
   "pygments_lexer": "ipython3",
   "version": "3.10.8"
  }
 },
 "nbformat": 4,
 "nbformat_minor": 5
}
