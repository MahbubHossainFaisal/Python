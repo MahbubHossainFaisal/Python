{
 "cells": [
  {
   "cell_type": "markdown",
   "id": "c6b3c831-ad07-4228-ba9a-bdf84adc4d8e",
   "metadata": {},
   "source": [
    "Given an input string s, reverse the order of the words.\n",
    "\n",
    "A word is defined as a sequence of non-space characters. The words in s will be separated by at least one space.\n",
    "\n",
    "Return a string of the words in reverse order concatenated by a single space.\n",
    "\n",
    "Note that s may contain leading or trailing spaces or multiple spaces between two words. The returned string should only have a single space separating the words. Do not include any extra spaces.\n",
    "\n",
    "Leetcode link: https://leetcode.com/problems/reverse-words-in-a-string/"
   ]
  },
  {
   "cell_type": "code",
   "execution_count": 5,
   "id": "ffd711ae-9bde-4270-9dcf-4fd2eecf4873",
   "metadata": {},
   "outputs": [
    {
     "name": "stdout",
     "output_type": "stream",
     "text": [
      "['a', 'good', '', '', 'example']\n",
      "example   good a\n"
     ]
    }
   ],
   "source": [
    "def reverseWords(s):\n",
    "        listarr = s.split(' ')\n",
    "        print(listarr)\n",
    "        ans=\"\"\n",
    "        for i in range(len(listarr)-1,-1,-1):\n",
    "            if listarr[i] == ' ':\n",
    "                continue\n",
    "            ans+=listarr[i]\n",
    "            ans+=\" \"\n",
    "        \n",
    "        return  ans[:len(ans)-1]\n",
    "    \n",
    "s = \"a good   example\"\n",
    "\n",
    "ans = reverseWords(s);\n",
    "print(ans)"
   ]
  },
  {
   "cell_type": "markdown",
   "id": "335ae039-a4de-4d04-b5e1-2aae800703d7",
   "metadata": {},
   "source": [
    "The code logic is as follows:\n",
    "\n",
    "1. Split the input string `s` into a list of words using the `split(' ')` function. The delimiter is set to a space (' ').\n",
    "2. Initialize an empty string `ans` where we will store the reversed words.\n",
    "3. Iterate over the list of words in reverse order using a for loop with the range function.\n",
    "4. If the current word is an empty string, continue to the next iteration.\n",
    "5. Append the current word to the `ans` string, followed by a space.\n",
    "6. After the loop ends, return the `ans` string, but removing the last trailing space and any leading or trailing whitespace.\n",
    "\n",
    "Here are some edge cases to consider:\n",
    "\n",
    "1. If the input string `s` is an empty string, the result will also be an empty string.\n",
    "2. If the input string `s` contains only one word, the result will be the same word.\n",
    "3. If the input string `s` contains multiple spaces between words, the split function will create empty strings in the list, which will be skipped in the loop. The resulting string will have a single space separating the reversed words."
   ]
  },
  {
   "cell_type": "markdown",
   "id": "dbe8a674-aa34-4304-96c9-0ec66eb20a74",
   "metadata": {},
   "source": [
    "### Time and Space complexity"
   ]
  },
  {
   "cell_type": "markdown",
   "id": "88a7dba2-b5a8-47e2-bc1e-b360bfccfcea",
   "metadata": {},
   "source": [
    "The time complexity of this code is O(n), where n is the length of the input string `s`. This is because the split operation takes O(n) time, and the for loop iterates over the words in reverse order.\n",
    "The space complexity is O(n), where n is the length of the input string `s`, because the split operation creates a new list of words."
   ]
  },
  {
   "cell_type": "code",
   "execution_count": null,
   "id": "13e41f9f-182a-45fa-804a-ca90b37869e5",
   "metadata": {},
   "outputs": [],
   "source": []
  }
 ],
 "metadata": {
  "kernelspec": {
   "display_name": "Python 3 (ipykernel)",
   "language": "python",
   "name": "python3"
  },
  "language_info": {
   "codemirror_mode": {
    "name": "ipython",
    "version": 3
   },
   "file_extension": ".py",
   "mimetype": "text/x-python",
   "name": "python",
   "nbconvert_exporter": "python",
   "pygments_lexer": "ipython3",
   "version": "3.10.8"
  }
 },
 "nbformat": 4,
 "nbformat_minor": 5
}
