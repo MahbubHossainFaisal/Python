{
 "cells": [
  {
   "cell_type": "markdown",
   "id": "bf6b90e5-fc94-4089-a66b-00edf7d9e26d",
   "metadata": {},
   "source": [
    "Given two strings s and goal, return true if and only if s can become goal after some number of shifts on s.\n",
    "\n",
    "A shift on s consists of moving the leftmost character of s to the rightmost position.\n",
    "\n",
    "For example, if s = \"abcde\", then it will be \"bcdea\" after one shift.\n",
    "\n",
    "Link: https://leetcode.com/problems/rotate-string/"
   ]
  },
  {
   "cell_type": "code",
   "execution_count": 6,
   "id": "aa09d848-9b00-427b-8cb8-9776c34f9725",
   "metadata": {},
   "outputs": [
    {
     "name": "stdout",
     "output_type": "stream",
     "text": [
      "abcde\n",
      "bcdea\n",
      "cdeab\n",
      "True\n"
     ]
    }
   ],
   "source": [
    "def rotateString(s, goal):\n",
    "    n = len(s)\n",
    "    for i in range(n):\n",
    "        rotated = s[i:] + s[:i]\n",
    "        print(rotated)\n",
    "        if rotated == goal:\n",
    "            return True\n",
    "    \n",
    "    return False\n",
    "\n",
    "s = \"abcde\"\n",
    "goal = \"cdeab\"\n",
    "\n",
    "ans = rotateString(s, goal)\n",
    "print(ans)\n"
   ]
  },
  {
   "cell_type": "markdown",
   "id": "632ff4a4-ee30-47ed-b240-a7e503e5deff",
   "metadata": {},
   "source": [
    "## Another method"
   ]
  },
  {
   "cell_type": "code",
   "execution_count": null,
   "id": "52d786bb-7a10-4b80-a543-cb17a0c0c0dd",
   "metadata": {},
   "outputs": [],
   "source": [
    "def rotateString(s, goal):\n",
    "    n = len(s)\n",
    "    if n != len(goal):\n",
    "        return False\n",
    "    \n",
    "    rotated = s + s\n",
    "    for i in range(n):\n",
    "        substring = rotated[i:i+n]\n",
    "        if substring == goal:\n",
    "            return True\n",
    "    \n",
    "    return False\n",
    "\n",
    "s = \"abcde\"\n",
    "goal = \"cdeab\"\n",
    "\n",
    "ans = rotateString(s, goal)\n",
    "print(ans)\n"
   ]
  }
 ],
 "metadata": {
  "kernelspec": {
   "display_name": "Python 3 (ipykernel)",
   "language": "python",
   "name": "python3"
  },
  "language_info": {
   "codemirror_mode": {
    "name": "ipython",
    "version": 3
   },
   "file_extension": ".py",
   "mimetype": "text/x-python",
   "name": "python",
   "nbconvert_exporter": "python",
   "pygments_lexer": "ipython3",
   "version": "3.10.8"
  }
 },
 "nbformat": 4,
 "nbformat_minor": 5
}
