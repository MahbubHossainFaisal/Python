{
 "cells": [
  {
   "cell_type": "markdown",
   "id": "f6aecb85-a58d-4178-9f01-4b0a6d86c028",
   "metadata": {},
   "source": [
    "You are given a string num, representing a large integer. Return the largest-valued odd integer (as a string) that is a non-empty substring of num, or an empty string \"\" if no odd integer exists.\n",
    "\n",
    "A substring is a contiguous sequence of characters within a string.\n",
    "\n",
    "Leetcode link: https://leetcode.com/problems/largest-odd-number-in-string/description/"
   ]
  },
  {
   "cell_type": "code",
   "execution_count": 1,
   "id": "c96c39ff-fc2a-42f4-9f87-256889574cf9",
   "metadata": {},
   "outputs": [
    {
     "name": "stdout",
     "output_type": "stream",
     "text": [
      "223138121\n"
     ]
    }
   ],
   "source": [
    "def largestOddNumber(string: str):\n",
    "        for i in range(len(string)-1,-1,-1):\n",
    "            if int(string[i]) % 2 != 0:\n",
    "                return string[:i+1]\n",
    "            \n",
    "        return \"\"\n",
    "    \n",
    "string ='223138121'\n",
    "\n",
    "ans = largestOddNumber(string)\n",
    "print(ans)\n",
    "    "
   ]
  },
  {
   "cell_type": "code",
   "execution_count": 2,
   "id": "6f7a9459-6527-4838-a6d9-09a8341fd20b",
   "metadata": {},
   "outputs": [
    {
     "name": "stdout",
     "output_type": "stream",
     "text": [
      "2231381\n"
     ]
    }
   ],
   "source": [
    "string ='22313812'\n",
    "\n",
    "ans = largestOddNumber(string)\n",
    "print(ans)"
   ]
  },
  {
   "cell_type": "code",
   "execution_count": null,
   "id": "3ea4621b-64d2-47af-947a-2b3003db9592",
   "metadata": {},
   "outputs": [],
   "source": []
  }
 ],
 "metadata": {
  "kernelspec": {
   "display_name": "Python 3 (ipykernel)",
   "language": "python",
   "name": "python3"
  },
  "language_info": {
   "codemirror_mode": {
    "name": "ipython",
    "version": 3
   },
   "file_extension": ".py",
   "mimetype": "text/x-python",
   "name": "python",
   "nbconvert_exporter": "python",
   "pygments_lexer": "ipython3",
   "version": "3.10.8"
  }
 },
 "nbformat": 4,
 "nbformat_minor": 5
}
