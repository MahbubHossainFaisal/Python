{
 "cells": [
  {
   "cell_type": "code",
   "execution_count": 1,
   "id": "569f0b1d-3b4c-49ac-8b58-4457270c6e35",
   "metadata": {},
   "outputs": [
    {
     "name": "stdout",
     "output_type": "stream",
     "text": [
      "()((()))\n"
     ]
    }
   ],
   "source": [
    "def removeOuterParentheses(s):\n",
    "        j=0\n",
    "        ans=\"\"\n",
    "        for i in range(len(s)):\n",
    "            \n",
    "            if s[i] == ')':\n",
    "                j-=1\n",
    "            \n",
    "            if j!=0:\n",
    "                ans+=s[i]\n",
    "\n",
    "            if s[i] == '(':\n",
    "                j+=1\n",
    "\n",
    "        return ans\n",
    "    \n",
    "\n",
    "s=\"()(())(((())))\"\n",
    "ans = removeOuterParentheses(s)\n",
    "print(ans)\n"
   ]
  },
  {
   "cell_type": "markdown",
   "id": "e571dc9e-d038-4e0c-a49d-fd536970a5ae",
   "metadata": {},
   "source": [
    "This code is a function that removes the outermost parentheses from a given string of parentheses. \n",
    "\n",
    "The function iterates through the string `s` character by character. It keeps track of the number of open parentheses encountered (`j`) and creates an empty string to store the result (`ans`).\n",
    "\n",
    "For each character in the string, the function checks if it is an opening parenthesis `'('` or a closing parenthesis `')'`.\n",
    "\n",
    "If it is an opening parenthesis, the value of `j` is incremented by 1 to keep track of the nesting level of parentheses.\n",
    "\n",
    "If it is a closing parenthesis, the value of `j` is decremented by 1.\n",
    "\n",
    "The function then checks if `j` is not equal to 0. If it is not 0, it means that the current parenthesis is not the outermost parenthesis, so the character is appended to the result string `ans`.\n",
    "\n",
    "Finally, the function returns the resulting string `ans` after iterating through all the characters in the input string.\n",
    "\n",
    "Let's go through some edge cases to better understand the logic:\n",
    "\n",
    "1. If the input string is empty `s = \"\"`, the function will return an empty string as there are no parentheses to remove.\n",
    "\n",
    "2. If the input string contains only one pair of parentheses `s = \"()\"`, the function will return an empty string as the outermost parentheses are removed.\n",
    "\n",
    "3. If the input string contains multiple pairs of parentheses `s = \"(()())\"`, the function will remove the outermost parentheses and return the string `\"()()\"`.\n",
    "\n",
    "Overall, the code uses a linear iteration through the string and keeps track of the nesting level of parentheses to identify and remove the outermost parentheses."
   ]
  },
  {
   "cell_type": "markdown",
   "id": "d3e31962-925e-4340-8a55-22b33c7e7488",
   "metadata": {},
   "source": [
    "### Time and Space Complexity"
   ]
  },
  {
   "cell_type": "markdown",
   "id": "1ecf8d2c-7a78-4794-9a8f-7c9ef4bfd2b5",
   "metadata": {},
   "source": [
    "The time complexity of this code is O(n), where n is the length of the input string `s`. This is because the code iterates through each character in the string exactly once.\n",
    "\n",
    "The space complexity of this code is also O(n). This is because the code creates a new string `ans` to store the result, which can have a maximum length equal to `n` when there are no outer parentheses to remove. Therefore, the space required to store the result is proportional to the length of the input string."
   ]
  },
  {
   "cell_type": "code",
   "execution_count": null,
   "id": "443e52f8-1d64-40b9-b8aa-75e17123892f",
   "metadata": {},
   "outputs": [],
   "source": []
  }
 ],
 "metadata": {
  "kernelspec": {
   "display_name": "Python 3 (ipykernel)",
   "language": "python",
   "name": "python3"
  },
  "language_info": {
   "codemirror_mode": {
    "name": "ipython",
    "version": 3
   },
   "file_extension": ".py",
   "mimetype": "text/x-python",
   "name": "python",
   "nbconvert_exporter": "python",
   "pygments_lexer": "ipython3",
   "version": "3.10.8"
  }
 },
 "nbformat": 4,
 "nbformat_minor": 5
}
