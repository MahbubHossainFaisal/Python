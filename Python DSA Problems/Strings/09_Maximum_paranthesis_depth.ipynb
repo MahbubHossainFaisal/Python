{
 "cells": [
  {
   "cell_type": "markdown",
   "id": "dad9942d-cbb7-4be5-8a8d-a19be89772d6",
   "metadata": {},
   "source": [
    "Leetcode Link : https://leetcode.com/problems/maximum-nesting-depth-of-the-parentheses/"
   ]
  },
  {
   "cell_type": "code",
   "execution_count": 3,
   "id": "e11b67b9-a944-4112-bd28-3fa96b474601",
   "metadata": {},
   "outputs": [
    {
     "name": "stdout",
     "output_type": "stream",
     "text": [
      "3\n"
     ]
    }
   ],
   "source": [
    "def maxDepth(string):\n",
    "    maxCount = 0\n",
    "    count = 0\n",
    "    for i in string:\n",
    "        if i == '(':\n",
    "            count+=1\n",
    "            if maxCount<count:\n",
    "                maxCount=count\n",
    "        if i == ')':\n",
    "            count-=1\n",
    "    return maxCount\n",
    "\n",
    "s = \"(1+(2*3)+((8)/4))+1\"\n",
    "ans = maxDepth(s)\n",
    "print(ans)"
   ]
  },
  {
   "cell_type": "markdown",
   "id": "26ad77a6-4641-4a77-a3a4-fa7e12eb9cf7",
   "metadata": {},
   "source": [
    "**Step 1: Introduction to the Algorithm - Maximum Parentheses Depth**\n",
    "The given code defines a function called `maxDepth`, which calculates the maximum depth of nested parentheses in a given string. The depth of parentheses is determined by counting how many nested levels of parentheses are present in the string. The algorithm uses a loop to traverse the string and maintain a count of open parentheses to calculate the maximum depth.\n",
    "\n",
    "**Step 2: Algorithm Explanation with an Example**\n",
    "Let's understand the algorithm with an example string: \"(1+(2*3)+((8)/4))+1\"\n",
    "\n",
    "1. Initialize `maxCount` and `count` variables to 0. `maxCount` will keep track of the maximum depth encountered, and `count` will keep track of the current depth while traversing the string.\n",
    "2. Iterate through the characters of the given string.\n",
    "3. If an open parenthesis '(' is encountered, increment the `count` variable, indicating that we have entered a nested level.\n",
    "4. Check if the current `count` value is greater than the current `maxCount`. If it is, update `maxCount` to the current `count` value. This ensures that we always have the maximum depth encountered up to the current position.\n",
    "5. If a closing parenthesis ')' is encountered, decrement the `count` variable, indicating that we have exited a nested level.\n",
    "6. Repeat the process for all characters in the string.\n",
    "7. Finally, return the `maxCount` value, which represents the maximum depth of nested parentheses in the given string.\n",
    "\n",
    "**Step 3: Edge Cases**\n",
    "Edge Case 1: The input string is empty (\"\").\n",
    "Example: string = \"\"\n",
    "In this case, the function should return 0 since there are no parentheses to count.\n",
    "\n",
    "Edge Case 2: The input string contains unbalanced parentheses.\n",
    "Example: string = \"(1+(2*3)+(8)/4))+1\"\n",
    "In this case, the function may not return the correct result since the parentheses are unbalanced. It is crucial to handle unbalanced parentheses in a proper way, either by returning an error or handling the situation appropriately.\n",
    "\n",
    "**Step 4: Time and Space Complexity**\n",
    "Time Complexity: The algorithm iterates through the given string once, performing constant-time operations in each iteration. Thus, the time complexity is O(n), where n is the length of the input string.\n",
    "\n",
    "Space Complexity: The algorithm uses a constant amount of extra space to store the `maxCount` and `count` variables, regardless of the input size. Therefore, the space complexity is O(1).\n",
    "\n",
    "**Step 5: Possible Improvements**\n",
    "The given algorithm is already quite efficient for calculating the maximum depth of nested parentheses in a string. There is no known more efficient algorithm to achieve this task, as the input string must be processed to count the nested parentheses.\n",
    "\n",
    "**Step 6: Best Code Practices**\n",
    "1. Variable Naming: The variable names used in the code are meaningful and self-explanatory, adhering to good coding practices.\n",
    "2. Code Clarity: The code is concise and easy to read, which is essential for maintainability.\n",
    "3. Handling Edge Cases: The code should handle edge cases, such as an empty input string or unbalanced parentheses, gracefully and return appropriate results or errors.\n",
    "\n",
    "In conclusion, the provided code efficiently calculates the maximum depth of nested parentheses in a given string. The algorithm has a linear time complexity and constant space complexity, making it an optimal solution for this specific problem. However, it should handle edge cases properly to ensure robustness and accuracy."
   ]
  },
  {
   "cell_type": "code",
   "execution_count": null,
   "id": "f0baef91-4d59-46be-97eb-a7338521f2dd",
   "metadata": {},
   "outputs": [],
   "source": []
  }
 ],
 "metadata": {
  "kernelspec": {
   "display_name": "Python 3 (ipykernel)",
   "language": "python",
   "name": "python3"
  },
  "language_info": {
   "codemirror_mode": {
    "name": "ipython",
    "version": 3
   },
   "file_extension": ".py",
   "mimetype": "text/x-python",
   "name": "python",
   "nbconvert_exporter": "python",
   "pygments_lexer": "ipython3",
   "version": "3.10.8"
  }
 },
 "nbformat": 4,
 "nbformat_minor": 5
}
