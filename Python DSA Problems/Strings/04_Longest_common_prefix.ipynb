{
 "cells": [
  {
   "cell_type": "markdown",
   "id": "94b3138f-b8a1-4075-ae01-5ec6e4e16951",
   "metadata": {},
   "source": [
    "Write a function to find the longest common prefix string amongst an array of strings.\n",
    "\n",
    "If there is no common prefix, return an empty string \"\".\n",
    "\n",
    "\n",
    "Leetcode Link: https://leetcode.com/problems/longest-common-prefix/description/"
   ]
  },
  {
   "cell_type": "markdown",
   "id": "c2baa919-28ae-4982-9323-7d9088356f26",
   "metadata": {},
   "source": [
    "## Brute Force"
   ]
  },
  {
   "cell_type": "code",
   "execution_count": 28,
   "id": "d3382315-3cb7-475e-a119-9a9debf11be9",
   "metadata": {},
   "outputs": [
    {
     "name": "stdout",
     "output_type": "stream",
     "text": [
      "fl\n"
     ]
    }
   ],
   "source": [
    "def longestCommonPrefix( strs ):\n",
    "        sorted_strs = sorted(strs,key=len)\n",
    "        x=''\n",
    "        ans=\"\"\n",
    "        if not sorted_strs:\n",
    "            return ans\n",
    "        \n",
    "        for i in range(0,len(sorted_strs[0])):\n",
    "            x=sorted_strs[0][i]\n",
    "           # print('x: ',x)\n",
    "            for j in range(1,len(sorted_strs)):\n",
    "                if i >= len(sorted_strs[j]) or sorted_strs[j][i] != x:\n",
    "                    return ans\n",
    "            ans+=x\n",
    "        return ans\n",
    "\n",
    "strs = [\"flower\",\"flow\",\"flight\"]\n",
    "ans = longestCommonPrefix(strs)\n",
    "print(ans)"
   ]
  },
  {
   "cell_type": "markdown",
   "id": "88355051-3185-448b-9ee7-5a709ceda6e8",
   "metadata": {},
   "source": [
    "The code starts by sorting the input list of strings (`strs`) based on their length using the `sorted()` function. This is done to ensure that the shortest string is selected as the reference string, as the common prefix cannot be longer than that.\n",
    "\n",
    "Next, a variable `x` is created to store the current character being compared. An empty string `ans` is initialized to store the common prefix.\n",
    "\n",
    "The code then checks if the sorted strings list is empty. If it is, it means there are no strings to compare and the `ans` will still be an empty string, which is returned.\n",
    "\n",
    "Then, a nested loop is used to iterate over each character in the reference string (the shortest string in `sorted_strs`). The outer loop iterates over the indices of the characters in `sorted_strs[0]`, and the inner loop iterates over the indices of the other strings in `sorted_strs` starting from the second string (index 1).\n",
    "\n",
    "In each iteration, the code checks if the current index (`i`) is greater than or equal to the length of the current string being compared (`sorted_strs[j]`), or if the character at the current index in the current string is not equal to `x`. If any of these conditions is true, it means that there is no common prefix at the current index, so the `ans` is returned.\n",
    "\n",
    "If none of these conditions are met, it means that the current index has a common character in all strings being compared, so the character `x` is added to the `ans`.\n",
    "\n",
    "Finally, the `ans` is returned as the longest common prefix.\n",
    "\n",
    "Edge cases:\n",
    "1. If the input list `strs` is empty, i.e., `[]`, the code will return an empty string `ans` as there are no strings to compare.\n",
    "2. If the input list `strs` contains one or more empty strings, the code will still work correctly, as an empty string will be returned as the common prefix."
   ]
  },
  {
   "cell_type": "markdown",
   "id": "8e9574ec-96e6-4bb6-9859-764533c110b5",
   "metadata": {},
   "source": [
    "### Time and Space Complexity"
   ]
  },
  {
   "cell_type": "markdown",
   "id": "428b4e7b-402a-493d-8d3b-3a7a82d9ced6",
   "metadata": {},
   "source": [
    "Time complexity: The time complexity of this code is O(nklogk), where n is the number of strings in `strs` and k is the maximum length of the strings. This is because the code first sorts the strings based on length, which takes O(nlogn) time. Then, in the nested loop, the code iterates over each character in the reference string (`sorted_strs[0]`), which takes O(k) time, and checks the characters in the other strings, which takes O(n) time. Hence, the overall time complexity is O(nklogk).\n",
    "\n",
    "Space complexity: The space complexity of this code is O(n), where n is the number of strings in `strs`. This is because the code creates a sorted copy of the input list, which takes O(n) extra space. The other variables used in the code take constant space, so they do not contribute to the overall space complexity."
   ]
  },
  {
   "cell_type": "code",
   "execution_count": null,
   "id": "97ca742f-3a25-4d00-b700-df59a0295c26",
   "metadata": {},
   "outputs": [],
   "source": []
  },
  {
   "cell_type": "markdown",
   "id": "697d62e6-b520-40ca-8d45-aca15c9172c6",
   "metadata": {},
   "source": [
    "## Efficient Approach"
   ]
  },
  {
   "cell_type": "code",
   "execution_count": 73,
   "id": "471018c2-c52f-4873-b5d0-1dfa3fe8037b",
   "metadata": {},
   "outputs": [
    {
     "name": "stdout",
     "output_type": "stream",
     "text": [
      "clu\n"
     ]
    }
   ],
   "source": [
    "def longestCommonPrefix( strs ):\n",
    "    \n",
    "    sorted_strs = sorted(strs)\n",
    "        \n",
    "    j=0\n",
    "    ans=\"\"\n",
    "    i_len = min(len(sorted_strs[0]),len(sorted_strs[-1]))\n",
    "    #print(sorted_strs[-1])\n",
    "    #print(j_len)\n",
    "    for i in range(i_len):\n",
    "\n",
    "        if sorted_strs[0][i] == sorted_strs[-1][i]:\n",
    "            ans+=sorted_strs[0][i]\n",
    "        else:\n",
    "            break\n",
    "\n",
    "    return ans\n",
    "                   \n",
    "                   \n",
    "    \n",
    "    \n",
    "strs = [\"cluster\",\"clue\",\"clutch\",\"club\",\"clumsy\",\"cluent\",\"cluz\"]\n",
    "#strs=[\"\"]\n",
    "ans = longestCommonPrefix(strs)\n",
    "print(ans)"
   ]
  },
  {
   "cell_type": "markdown",
   "id": "3aa138f8-e4d6-4349-b738-1e105fe76644",
   "metadata": {},
   "source": [
    "The code begins by sorting the input list of strings `strs` in ascending order using the `sorted()` function. This is done to ensure that the shortest string is selected as the reference string and the longest string is used to determine the stopping point for the prefix matching.\n",
    "\n",
    "Next, the code initializes variables `j` and `ans`. The variable `j` is not used in the current implementation of the code and can be removed. The variable `ans` is used to store the common prefix and is initially set to an empty string.\n",
    "\n",
    "The variable `j_len` is set to the minimum length between the shortest string (`sorted_strs[0]`) and the longest string (`sorted_strs[-1]`). This is done to ensure that the loop iterating over the characters in the common prefix does not exceed the length of the shortest string and avoids index out of range errors.\n",
    "\n",
    "The loop iterates from index 0 to index `j_len-1`. In each iteration, it compares the character at index `i` in the shortest string with the character at index `i` in the longest string. If the characters are equal, it appends the character to the `ans` string. If the characters are not equal, it breaks out of the loop, as there is no more common prefix.\n",
    "\n",
    "Finally, the `ans` string, which contains the longest common prefix, is returned.\n",
    "\n",
    "Edge cases:\n",
    "1. If the input list `strs` is empty, i.e., `[]`, the code will still work correctly. It will return an empty string `ans` because there are no strings to compare.\n",
    "2. If the input list `strs` contains one or more empty strings, the code will still work correctly. An empty string will be returned as the common prefix because there are no characters to compare.\n",
    "\n"
   ]
  },
  {
   "cell_type": "markdown",
   "id": "57f34bad-5a9f-42d0-a3a3-a3b12edbfd2b",
   "metadata": {},
   "source": [
    "### Time and Space Complexity"
   ]
  },
  {
   "cell_type": "markdown",
   "id": "f1a3c5ab-622a-47cf-84b2-215f7dffc7dd",
   "metadata": {},
   "source": [
    "Time complexity: The time complexity of this code is O(nklogn), where n is the number of strings in `strs` and k is the average length of the strings. This is because the code starts by sorting the strings, which takes O(nlogn) time. Then, the loop iterates up to `j_len`, which is the minimum length between the shortest and longest strings. In each iteration, it compares the characters, which takes O(n) time in the worst case, where n is the number of strings. Therefore, the overall time complexity is O(nklogn).\n",
    "\n",
    "Space complexity: The space complexity of this code is O(n), where n is the number of strings in `strs`. This is because the sorted list of strings takes O(n) extra space. The other variables used in the code take constant space, so they do not contribute significantly to the overall space complexity."
   ]
  },
  {
   "cell_type": "code",
   "execution_count": null,
   "id": "0f106716-a28f-4571-8a3c-56cde815497b",
   "metadata": {},
   "outputs": [],
   "source": []
  }
 ],
 "metadata": {
  "kernelspec": {
   "display_name": "Python 3 (ipykernel)",
   "language": "python",
   "name": "python3"
  },
  "language_info": {
   "codemirror_mode": {
    "name": "ipython",
    "version": 3
   },
   "file_extension": ".py",
   "mimetype": "text/x-python",
   "name": "python",
   "nbconvert_exporter": "python",
   "pygments_lexer": "ipython3",
   "version": "3.10.8"
  }
 },
 "nbformat": 4,
 "nbformat_minor": 5
}
