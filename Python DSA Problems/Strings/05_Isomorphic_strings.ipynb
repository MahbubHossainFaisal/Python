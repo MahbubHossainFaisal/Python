{
 "cells": [
  {
   "cell_type": "markdown",
   "id": "191ac478-fb82-4d67-840c-a7ddb0480550",
   "metadata": {},
   "source": [
    "Link: https://www.codingninjas.com/studio/problems/isomorphic-strings-_1117636?utm_source=striver&utm_medium=website&utm_campaign=a_zcoursetuf"
   ]
  },
  {
   "cell_type": "code",
   "execution_count": 15,
   "id": "1c01e465-31d1-4be0-aa95-9ebe87115ea6",
   "metadata": {},
   "outputs": [
    {
     "data": {
      "text/plain": [
       "False"
      ]
     },
     "execution_count": 15,
     "metadata": {},
     "output_type": "execute_result"
    }
   ],
   "source": [
    "\n",
    "def areIsomorphic(str1, str2):\n",
    "    dic={}\n",
    "    for i in range(len(str1)):\n",
    "        if str1[i] not in dic.keys() and str2[i] not in dic.values():\n",
    "            dic[str1[i]] = str2[i]\n",
    "        elif dic.get(str1[i]) == str2[i] :\n",
    "            continue\n",
    "        else:\n",
    "            return False\n",
    "    return True\n",
    "\n",
    "    \n",
    "\n",
    "str1 = 'badc'\n",
    "str2 = 'baba'\n",
    "\n",
    "areIsomorphic(str1,str2)"
   ]
  },
  {
   "cell_type": "markdown",
   "id": "e6dc2401-af83-49a2-84df-0f05542aff6e",
   "metadata": {},
   "source": [
    "The code checks if two strings, `str1` and `str2`, are isomorphic. \n",
    "\n",
    "To determine if two strings are isomorphic, we need to check if there is a one-to-one mapping of characters from `str1` to `str2`. In other words, each character in `str1` should correspond to exactly one character in `str2`, and vice versa.\n",
    "\n",
    "The code uses a dictionary, `dic`, to store the mapping between characters in `str1` and `str2`. \n",
    "\n",
    "The code iterates through each character in `str1` using the `range()` function. For each character at index `i`, it checks if `str1[i]` is not already present in the dictionary's keys and `str2[i]` is not already present as a value in the dictionary. If both conditions are met, it adds the mapping `str1[i]:str2[i]` to the dictionary.\n",
    "\n",
    "If either of the conditions is not met, it means that the mapping is not valid, and the code returns `False`.\n",
    "\n",
    "If the code completes the loop without encountering any invalid mappings, it returns `True`, indicating that the strings are isomorphic."
   ]
  },
  {
   "cell_type": "code",
   "execution_count": null,
   "id": "fc344274-dab7-465e-bdf0-2ffe995e5652",
   "metadata": {},
   "outputs": [],
   "source": [
    "\n"
   ]
  }
 ],
 "metadata": {
  "kernelspec": {
   "display_name": "Python 3 (ipykernel)",
   "language": "python",
   "name": "python3"
  },
  "language_info": {
   "codemirror_mode": {
    "name": "ipython",
    "version": 3
   },
   "file_extension": ".py",
   "mimetype": "text/x-python",
   "name": "python",
   "nbconvert_exporter": "python",
   "pygments_lexer": "ipython3",
   "version": "3.10.8"
  }
 },
 "nbformat": 4,
 "nbformat_minor": 5
}
