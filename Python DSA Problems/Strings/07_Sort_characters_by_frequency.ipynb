{
 "cells": [
  {
   "attachments": {},
   "cell_type": "markdown",
   "id": "2ae3b3d1-d72b-4772-83d7-ef0b8e96333b",
   "metadata": {},
   "source": [
    "Given a string s, sort it in decreasing order based on the frequency of the characters. The frequency of a character is the number of times it appears in the string.\n",
    "\n",
    "Return the sorted string. If there are multiple answers, return any of them.\n",
    "\n",
    "Leetcode link: https://leetcode.com/problems/sort-characters-by-frequency/"
   ]
  },
  {
   "cell_type": "code",
   "execution_count": 7,
   "id": "4ab10add-abba-4001-99cb-0a5b2d5a226c",
   "metadata": {},
   "outputs": [
    {
     "name": "stdout",
     "output_type": "stream",
     "text": [
      "eetr\n"
     ]
    }
   ],
   "source": [
    "def frequencySort(string):\n",
    "    frequency = {x:0 for x in string}\n",
    "    ans=''\n",
    "    \n",
    "    for i in string:\n",
    "        frequency[i] += 1\n",
    "        \n",
    "    sorted_frequency = dict(sorted(frequency.items(),key= lambda x:x[1],reverse=True))\n",
    "    \n",
    "    for key,value in sorted_frequency.items():\n",
    "        ans += key*value\n",
    "        \n",
    "    return ans\n",
    "    \n",
    "    \n",
    "string='tree'\n",
    "ans = frequencySort(string)\n",
    "print(ans)"
   ]
  },
  {
   "cell_type": "code",
   "execution_count": 8,
   "id": "c998b5ba-08d9-4d0a-8e78-5eeb03ba30b4",
   "metadata": {},
   "outputs": [
    {
     "name": "stdout",
     "output_type": "stream",
     "text": [
      "cccaaa\n"
     ]
    }
   ],
   "source": [
    "string='cccaaa'\n",
    "ans = frequencySort(string)\n",
    "print(ans)"
   ]
  },
  {
   "cell_type": "code",
   "execution_count": 9,
   "id": "e2a9f73c-10e4-47b1-8750-900e3b45bdac",
   "metadata": {},
   "outputs": [
    {
     "name": "stdout",
     "output_type": "stream",
     "text": [
      "bbAa\n"
     ]
    }
   ],
   "source": [
    "string='Aabb'\n",
    "ans = frequencySort(string)\n",
    "print(ans)"
   ]
  },
  {
   "attachments": {},
   "cell_type": "markdown",
   "id": "c9bdef26-c327-4234-ad50-096dc44c19c1",
   "metadata": {},
   "source": [
    "Step 1: Concept Explanation\n",
    "The code you provided is a function called `frequencySort`, which takes a string as input and returns the string with its characters sorted by frequency. The idea is to count the occurrences of each character in the input string and then generate a new string by appending each character the number of times it appears.\n",
    "\n",
    "Step 2: Algorithm Explanation\n",
    "The algorithm used in this code is a basic counting algorithm. It counts the occurrences of each character in the input string and then sorts the characters based on their frequencies in descending order. Finally, it generates the sorted string by concatenating the characters in the order determined by their frequencies.\n",
    "\n",
    "To help understand this algorithm, let's consider an example:\n",
    "Input: \"tree\"\n",
    "\n",
    "Step 1: Counting Frequencies\n",
    "- Initialize a dictionary called `frequency` to store the count of each character in the input string.\n",
    "- Iterate through the characters of the input string and update their counts in the `frequency` dictionary.\n",
    "- After counting frequencies, the `frequency` dictionary will look like this: {'t': 1, 'r': 1, 'e': 2}.\n",
    "\n",
    "Step 2: Sorting Frequencies\n",
    "- Sort the `frequency` dictionary by values (frequencies) in descending order.\n",
    "- The sorted `frequency` dictionary will look like this: {'e': 2, 't': 1, 'r': 1}.\n",
    "\n",
    "Step 3: Generating Sorted String\n",
    "- Iterate through the sorted `frequency` dictionary.\n",
    "- For each key-value pair, append the key (character) to the `ans` string the number of times equal to its value (frequency).\n",
    "- The final `ans` string will be \"eetr\".\n",
    "\n",
    "Step 3: Edge Cases\n",
    "The code should handle different edge cases to ensure correct behavior. Some possible edge cases for this code include:\n",
    "- An empty string: In this case, the code should return an empty string since there are no characters to sort.\n",
    "- A string with a single character: The code should return the input string itself, as there is only one character and no sorting is needed.\n",
    "- A string with all characters having the same frequency: The code should return the input string itself, as the sorted string would be the same as the input string.\n",
    "\n",
    "Step 4: Time and Space Complexity\n",
    "- Time Complexity: The code iterates through the input string once to count the frequencies, which takes O(n) time, where n is the length of the input string. Sorting the frequencies takes O(m log m) time, where m is the number of unique characters in the input string. Generating the sorted string also takes O(m) time. Therefore, the overall time complexity is O(n + m log m), where m <= n. In the worst case, where all characters are unique, the time complexity can be approximated as O(n log n).\n",
    "- Space Complexity: The code uses additional space to store the frequency dictionary, which can contain up to m unique characters. Therefore, the space complexity is O(m), where m <= n.\n",
    "\n",
    "Step 5: Optimization Possibilities\n",
    "The code provided already implements a reasonable solution for the given task. However, there is a potential optimization that can be considered:\n",
    "- Instead of sorting the frequencies dictionary, you can use a heap or priority queue data structure to extract the characters with the highest frequencies in an efficient manner. This can reduce the time complexity of the sorting step from O(m log m) to O(m log k), where k is the number of characters with non-zero frequencies. This optimization can be significant if the number of unique characters is much larger than the number of characters with non-zero frequencies.\n",
    "\n",
    "Step 6: Best Coding Practices\n",
    "Here are some best coding practices for this code:\n",
    "- Use meaningful variable names: Instead of `ans`, consider using a more descriptive name like `sorted_string` or `result`.\n",
    "- Add comments: It's always a good practice to include comments in your code to explain the purpose of each step or any complex logic.\n",
    "- Consider error handling: The code currently assumes a valid input string, but it's good practice to handle potential errors, such as a `None` input or a non-string input.\n",
    "\n",
    "That covers the step-by-step explanation, algorithms, edge cases, time and space complexity, possible optimizations, and best coding practices for the provided code."
   ]
  },
  {
   "attachments": {},
   "cell_type": "markdown",
   "id": "3499ee01-3a48-42ed-a214-f8c69ce36bb1",
   "metadata": {},
   "source": []
  },
  {
   "attachments": {},
   "cell_type": "markdown",
   "id": "6016781e-7674-4688-afbd-77d2766e5ffe",
   "metadata": {},
   "source": []
  },
  {
   "cell_type": "code",
   "execution_count": null,
   "id": "db8ce968-fef2-435c-bcd9-8c6bf64e4d63",
   "metadata": {},
   "outputs": [],
   "source": []
  }
 ],
 "metadata": {
  "kernelspec": {
   "display_name": "Python 3 (ipykernel)",
   "language": "python",
   "name": "python3"
  },
  "language_info": {
   "codemirror_mode": {
    "name": "ipython",
    "version": 3
   },
   "file_extension": ".py",
   "mimetype": "text/x-python",
   "name": "python",
   "nbconvert_exporter": "python",
   "pygments_lexer": "ipython3",
   "version": "3.10.8"
  }
 },
 "nbformat": 4,
 "nbformat_minor": 5
}
