{
 "cells": [
  {
   "cell_type": "code",
   "execution_count": 1,
   "id": "d70baa7d",
   "metadata": {},
   "outputs": [],
   "source": [
    "class LinkedList:\n",
    "    def __init__(self,data):\n",
    "        self.data = data\n",
    "        self.next = None"
   ]
  },
  {
   "cell_type": "markdown",
   "id": "7ec43838",
   "metadata": {},
   "source": [
    "### Linked List input"
   ]
  },
  {
   "cell_type": "code",
   "execution_count": 2,
   "id": "6befe327",
   "metadata": {},
   "outputs": [],
   "source": [
    "def LL_input():\n",
    "    elements = input('Provide your desired elements for the linked list:')\n",
    "    arr = [int(ele) for ele in elements.split(' ')]\n",
    "    if len(arr) == 0:\n",
    "        return\n",
    "    head = None\n",
    "    tail = None\n",
    "    for i in arr:\n",
    "        if head is None:\n",
    "            head = LinkedList(i)\n",
    "            tail = head\n",
    "        else:\n",
    "            newNode = LinkedList(i)\n",
    "            tail.next = newNode\n",
    "            tail = tail.next\n",
    "        \n",
    "    return head\n"
   ]
  },
  {
   "cell_type": "markdown",
   "id": "1900f1fe",
   "metadata": {},
   "source": [
    "### Insert at ith position"
   ]
  },
  {
   "cell_type": "code",
   "execution_count": 3,
   "id": "73d69681",
   "metadata": {},
   "outputs": [],
   "source": [
    "def lengthLL(head):\n",
    "    count = 0\n",
    "    if head is None:\n",
    "        return 0\n",
    "    else:\n",
    "        while head:\n",
    "            count+=1\n",
    "            head = head.next\n",
    "    return count\n",
    "\n",
    "def insertAtI(head,pos,data):\n",
    "    if pos < 0 or pos > lengthLL(head):\n",
    "        return head\n",
    "    if pos == 0:\n",
    "        newNode = LinkedList(data)\n",
    "        newNode.next = head\n",
    "        head = newNode\n",
    "    else:\n",
    "        prev = None\n",
    "        curr = head\n",
    "        while pos>1:\n",
    "            prev = curr\n",
    "            curr = curr.next\n",
    "            pos-=1\n",
    "        newNode = LinkedList(data)\n",
    "        prev.next = newNode\n",
    "        newNode.next = curr\n",
    "    \n",
    "    return head\n",
    "        "
   ]
  },
  {
   "cell_type": "markdown",
   "id": "b70556ca",
   "metadata": {},
   "source": [
    "### Insert at Ith position recursively"
   ]
  },
  {
   "cell_type": "code",
   "execution_count": 4,
   "id": "61fca454",
   "metadata": {},
   "outputs": [],
   "source": [
    "def lengthLL(head):\n",
    "    count = 0\n",
    "    if head is None:\n",
    "        return 0\n",
    "    else:\n",
    "        while head:\n",
    "            count+=1\n",
    "            head = head.next\n",
    "    return count\n",
    "\n",
    "def insertAtIR(head,pos,data):\n",
    "    if pos < 0 or pos > lengthLL(head):\n",
    "        return head\n",
    "    if pos == 0:\n",
    "        newNode = LinkedList(data)\n",
    "        newNode.next = head\n",
    "        return newNode\n",
    "    \n",
    "    smallHead = insertAtIR(head.next,pos-1,data)\n",
    "    head.next = smallHead\n",
    "    return head\n",
    "        \n",
    "        \n",
    "    "
   ]
  },
  {
   "cell_type": "markdown",
   "id": "bcc1856b",
   "metadata": {},
   "source": [
    "### Delete ith Node"
   ]
  },
  {
   "cell_type": "code",
   "execution_count": 5,
   "id": "71e5538a",
   "metadata": {},
   "outputs": [],
   "source": [
    "def lengthLL(head):\n",
    "    count = 0\n",
    "    if head is None:\n",
    "        return 0\n",
    "    else:\n",
    "        while head:\n",
    "            count+=1\n",
    "            head = head.next\n",
    "    return count\n",
    "\n",
    "def deletAtI(head,pos):\n",
    "    if pos < 0 or pos >= lengthLL(head):\n",
    "        return head\n",
    "\n",
    "    if pos == 0:\n",
    "        head = head.next\n",
    "        return head\n",
    "\n",
    "    curr = head\n",
    "    while pos > 1:\n",
    "        curr = curr.next\n",
    "        pos -= 1\n",
    "\n",
    "    if curr.next:\n",
    "        curr.next = curr.next.next\n",
    "\n",
    "    return head\n",
    "        "
   ]
  },
  {
   "cell_type": "markdown",
   "id": "49cce784",
   "metadata": {},
   "source": [
    "### Delete ith Node recursively"
   ]
  },
  {
   "cell_type": "code",
   "execution_count": 6,
   "id": "be9d073c",
   "metadata": {},
   "outputs": [],
   "source": [
    "def lengthLL(head):\n",
    "    count = 0\n",
    "    if head is None:\n",
    "        return 0\n",
    "    else:\n",
    "        while head:\n",
    "            count+=1\n",
    "            head = head.next\n",
    "    return count\n",
    "\n",
    "def deleteAtR(head,pos):\n",
    "    if pos < 0 or pos > lengthLL(head):\n",
    "        return head\n",
    "    if pos == 0:\n",
    "        head = head.next\n",
    "        return head\n",
    "    \n",
    "    smallHead = deleteAtR(head.next,pos-1)\n",
    "    head.next = smallHead\n",
    "    return head\n",
    "        \n",
    "        \n",
    "    "
   ]
  },
  {
   "cell_type": "markdown",
   "id": "2f7f005c",
   "metadata": {},
   "source": [
    "### Print Linked list"
   ]
  },
  {
   "cell_type": "code",
   "execution_count": 7,
   "id": "f0092cbf",
   "metadata": {},
   "outputs": [],
   "source": [
    "def printLL(head):\n",
    "    if head is None:\n",
    "        return 'Linked List is empty!'\n",
    "    \n",
    "    while head:\n",
    "        print(head.data,'-> ',end='')\n",
    "        head = head.next\n",
    "    \n",
    "    print('None',end='')"
   ]
  },
  {
   "cell_type": "code",
   "execution_count": 8,
   "id": "c23b8508",
   "metadata": {},
   "outputs": [
    {
     "name": "stdout",
     "output_type": "stream",
     "text": [
      "Provide your desired elements for the linked list:1 4 6 8 9\n",
      "1 -> 4 -> 6 -> 8 -> 9 -> None\n",
      "1 -> 4 -> 6 -> 3 -> 8 -> 9 -> None\n",
      "10 -> 1 -> 4 -> 6 -> 3 -> 8 -> 9 -> None\n",
      "10 -> 1 -> 4 -> 6 -> 3 -> 8 -> 99 -> 9 -> None\n",
      "10 -> 1 -> 4 -> 6 -> 3 -> 99 -> 9 -> None\n",
      "1 -> 4 -> 6 -> 3 -> 99 -> 9 -> None\n",
      "1 -> 4 -> 6 -> 3 -> 99 -> None"
     ]
    }
   ],
   "source": [
    "head = LL_input()\n",
    "printLL(head)\n",
    "head = insertAtIR(head,3,3)\n",
    "print()\n",
    "printLL(head)\n",
    "head = insertAtIR(head,0,10)\n",
    "print()\n",
    "printLL(head)\n",
    "head = insertAtIR(head,6,99)\n",
    "print()\n",
    "printLL(head)\n",
    "head = deletAtI(head,5)\n",
    "print()\n",
    "printLL(head)\n",
    "head = deleteAtR(head,0)\n",
    "print()\n",
    "printLL(head)\n",
    "head = deleteAtR(head,5)\n",
    "print()\n",
    "printLL(head)"
   ]
  },
  {
   "cell_type": "code",
   "execution_count": null,
   "id": "93a8478d",
   "metadata": {},
   "outputs": [],
   "source": []
  }
 ],
 "metadata": {
  "kernelspec": {
   "display_name": "Python 3 (ipykernel)",
   "language": "python",
   "name": "python3"
  },
  "language_info": {
   "codemirror_mode": {
    "name": "ipython",
    "version": 3
   },
   "file_extension": ".py",
   "mimetype": "text/x-python",
   "name": "python",
   "nbconvert_exporter": "python",
   "pygments_lexer": "ipython3",
   "version": "3.9.13"
  }
 },
 "nbformat": 4,
 "nbformat_minor": 5
}
