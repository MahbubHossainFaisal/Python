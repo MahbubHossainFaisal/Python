{
 "cells": [
  {
   "cell_type": "code",
   "execution_count": null,
   "id": "4d461a42-6c04-4971-a9ed-60c606aee660",
   "metadata": {},
   "outputs": [],
   "source": [
    "class Node:\n",
    "    def __init__(self, val=0, next=None, prev=None):\n",
    "        self.val = val\n",
    "        self.prev = prev\n",
    "        self.next = next\n",
    "\n",
    "\n",
    "# Please do not change code above.\n",
    "\n",
    "\n",
    "def insertAtTail(head: Node, k: int) -> Node:\n",
    "    # Write your code here\n",
    "    if not head:\n",
    "        head = Node(k)\n",
    "        return head\n",
    "    tail = head\n",
    "    while tail.next:\n",
    "        tail = tail.next\n",
    "    \n",
    "    new_node = Node(k)\n",
    "    tail.next = new_node\n",
    "    tail = new_node\n",
    "    return head\n"
   ]
  },
  {
   "cell_type": "code",
   "execution_count": null,
   "id": "94ef6753-528e-4dbf-b89b-a4ced876f643",
   "metadata": {},
   "outputs": [],
   "source": []
  }
 ],
 "metadata": {
  "kernelspec": {
   "display_name": "Python 3 (ipykernel)",
   "language": "python",
   "name": "python3"
  },
  "language_info": {
   "codemirror_mode": {
    "name": "ipython",
    "version": 3
   },
   "file_extension": ".py",
   "mimetype": "text/x-python",
   "name": "python",
   "nbconvert_exporter": "python",
   "pygments_lexer": "ipython3",
   "version": "3.10.8"
  }
 },
 "nbformat": 4,
 "nbformat_minor": 5
}
