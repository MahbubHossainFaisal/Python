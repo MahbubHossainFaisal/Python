{
 "cells": [
  {
   "cell_type": "markdown",
   "id": "63ba6eb2-3145-4ef7-9193-b68c8cc98fd9",
   "metadata": {},
   "source": [
    "Leetcode Link:https://leetcode.com/problems/palindrome-linked-list/submissions/ "
   ]
  },
  {
   "cell_type": "code",
   "execution_count": null,
   "id": "fc61563d-2170-4d45-b60b-39116545261b",
   "metadata": {},
   "outputs": [],
   "source": [
    "def reverse(self, head):\n",
    "        prev = None\n",
    "        current = head\n",
    "        while current:\n",
    "            next_node = current.next\n",
    "            current.next = prev\n",
    "            prev = current\n",
    "            current = next_node\n",
    "        return prev\n",
    "    \n",
    "    def isPalindrome(self, head: Optional[ListNode]) -> bool:\n",
    "        if not head or not head.next:\n",
    "            return True\n",
    "        \n",
    "        slow = head\n",
    "        fast = head\n",
    "        while fast.next and fast.next.next:\n",
    "            slow = slow.next\n",
    "            fast = fast.next.next\n",
    "        \n",
    "        second_half = self.reverse(slow.next)\n",
    "        first_half = head\n",
    "        \n",
    "        while second_half:\n",
    "            if first_half.val != second_half.val:\n",
    "                return False\n",
    "            first_half = first_half.next\n",
    "            second_half = second_half.next\n",
    "        \n",
    "        return True"
   ]
  },
  {
   "cell_type": "code",
   "execution_count": null,
   "id": "60222068-d829-4cac-83b3-1236ad79182e",
   "metadata": {},
   "outputs": [],
   "source": []
  },
  {
   "cell_type": "code",
   "execution_count": null,
   "id": "ee787ea4-bfbe-4a71-b40a-0859b8e8ba7d",
   "metadata": {},
   "outputs": [],
   "source": []
  }
 ],
 "metadata": {
  "kernelspec": {
   "display_name": "Python 3 (ipykernel)",
   "language": "python",
   "name": "python3"
  },
  "language_info": {
   "codemirror_mode": {
    "name": "ipython",
    "version": 3
   },
   "file_extension": ".py",
   "mimetype": "text/x-python",
   "name": "python",
   "nbconvert_exporter": "python",
   "pygments_lexer": "ipython3",
   "version": "3.10.8"
  }
 },
 "nbformat": 4,
 "nbformat_minor": 5
}
