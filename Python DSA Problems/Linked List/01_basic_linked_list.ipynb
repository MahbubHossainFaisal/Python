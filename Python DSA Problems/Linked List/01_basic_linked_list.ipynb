{
 "cells": [
  {
   "cell_type": "code",
   "execution_count": null,
   "id": "81f606f9-ed31-4991-aade-cad8f8b96ada",
   "metadata": {},
   "outputs": [],
   "source": [
    "def constructLL(self, arr):\n",
    "        # code here\n",
    "        head=None\n",
    "        tail=None\n",
    "            \n",
    "        for i in range(len(arr)):\n",
    "            newnode=Node(arr[i])\n",
    "            newnode.next=None\n",
    "            if(head==None):\n",
    "                head=newnode\n",
    "                tail=newnode\n",
    "            else:\n",
    "                tail.next=newnode\n",
    "                tail=newnode\n",
    "        return head"
   ]
  }
 ],
 "metadata": {
  "kernelspec": {
   "display_name": "Python 3 (ipykernel)",
   "language": "python",
   "name": "python3"
  },
  "language_info": {
   "codemirror_mode": {
    "name": "ipython",
    "version": 3
   },
   "file_extension": ".py",
   "mimetype": "text/x-python",
   "name": "python",
   "nbconvert_exporter": "python",
   "pygments_lexer": "ipython3",
   "version": "3.10.8"
  }
 },
 "nbformat": 4,
 "nbformat_minor": 5
}
