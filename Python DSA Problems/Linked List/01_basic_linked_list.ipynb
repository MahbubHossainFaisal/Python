{
 "cells": [
  {
   "cell_type": "markdown",
   "id": "186d29d6-986c-4e17-a792-ac6194c0051c",
   "metadata": {},
   "source": [
    "## Node Class"
   ]
  },
  {
   "cell_type": "code",
   "execution_count": 1,
   "id": "ee3dc7eb-e933-4662-a733-834699b08b9e",
   "metadata": {},
   "outputs": [],
   "source": [
    "class Node:\n",
    "    def __init__(self,data):\n",
    "        self.data = data\n",
    "        self.next = None"
   ]
  },
  {
   "cell_type": "markdown",
   "id": "8be888fb-f38f-4784-b1a3-f952169c555b",
   "metadata": {},
   "source": [
    "## Basic LL class"
   ]
  },
  {
   "cell_type": "code",
   "execution_count": 2,
   "id": "3eb0b0d2-988a-4f68-abb9-19f6feee9983",
   "metadata": {},
   "outputs": [],
   "source": [
    "class Linked_List:\n",
    "    def __init__(self):\n",
    "        self.head = None\n",
    "    \n",
    "    def append_node(self,data):\n",
    "        new_node = Node(data)\n",
    "        if not self.head:\n",
    "            self.head = new_node\n",
    "        else:\n",
    "            curr_node = self.head\n",
    "            while curr_node.next:\n",
    "                curr_node = curr_node.next\n",
    "            curr_node.next = new_node\n",
    "    \n",
    "    def prepend_node(self,data):\n",
    "        new_node = Node(data)\n",
    "        new_node.next = self.head\n",
    "        self.head = new_node\n",
    "        \n",
    "    def delete_node(self,data):\n",
    "        if not self.head:\n",
    "            print(\"No data is in the linked list to perform delete!\")\n",
    "            return\n",
    "        if self.head.data == data:\n",
    "            self.head = self.head.next\n",
    "            print(\"Data deleted!\")\n",
    "            return\n",
    "        \n",
    "        curr_node = self.head\n",
    "        while curr_node.next:\n",
    "            if curr_node.next.data == data:\n",
    "                curr_node.next = curr_node.next.next\n",
    "                print(\"Data deleted!\")\n",
    "                return\n",
    "            \n",
    "            curr_node = curr_node.next\n",
    "    \n",
    "    def find_x(self,data):\n",
    "        if not self.head:\n",
    "            print(\"No elements in the Linked List!\")\n",
    "        \n",
    "        curr_node = self.head\n",
    "        \n",
    "        while(curr_node):\n",
    "            if curr_node.data == data:\n",
    "                print(\"Element found!\")\n",
    "                return\n",
    "            curr_node = curr_node.next\n",
    "        \n",
    "        print(\"Element not found!\")\n",
    "        \n",
    "        \n",
    "    def find_length(self):\n",
    "        count = 0\n",
    "        curr_node = self.head\n",
    "        \n",
    "        while(curr_node):\n",
    "            count+=1\n",
    "            curr_node = curr_node.next\n",
    "        \n",
    "        print(\"Length of LL: \",count)\n",
    "                \n",
    "    \n",
    "    def display_node(self):\n",
    "        if not self.head:\n",
    "            print(\"Nothing to display!\")\n",
    "            return\n",
    "        curr_node = self.head\n",
    "        while curr_node:\n",
    "            print(curr_node.data,end='-->')\n",
    "            curr_node = curr_node.next\n",
    "        print(\"None\")\n",
    "                \n",
    "        "
   ]
  },
  {
   "cell_type": "markdown",
   "id": "82508419-3d90-4d7d-819c-b3aa8645a1d3",
   "metadata": {},
   "source": [
    "## Basic operations"
   ]
  },
  {
   "cell_type": "code",
   "execution_count": 3,
   "id": "997534de-e602-4353-a365-9e73ffe8a576",
   "metadata": {},
   "outputs": [
    {
     "name": "stdout",
     "output_type": "stream",
     "text": [
      "1-->2-->3-->4-->5-->6-->7-->8-->9-->10-->None\n"
     ]
    }
   ],
   "source": [
    "ll = Linked_List()\n",
    "\n",
    "for i in range(1,11):\n",
    "    ll.append_node(i)\n",
    "    \n",
    "ll.display_node()"
   ]
  },
  {
   "cell_type": "code",
   "execution_count": 4,
   "id": "f64f5589-e455-4cea-9b28-76b03f0d69c9",
   "metadata": {},
   "outputs": [
    {
     "name": "stdout",
     "output_type": "stream",
     "text": [
      "0-->1-->2-->3-->4-->5-->6-->7-->8-->9-->10-->None\n"
     ]
    }
   ],
   "source": [
    "ll.prepend_node(0)\n",
    "\n",
    "ll.display_node()"
   ]
  },
  {
   "cell_type": "code",
   "execution_count": 5,
   "id": "39b59d59-65ae-40ab-a7b8-ee259069e0ee",
   "metadata": {},
   "outputs": [
    {
     "name": "stdout",
     "output_type": "stream",
     "text": [
      "Data deleted!\n",
      "0-->1-->2-->3-->4-->5-->6-->8-->9-->10-->None\n"
     ]
    }
   ],
   "source": [
    "ll.delete_node(7)\n",
    "\n",
    "ll.display_node()"
   ]
  },
  {
   "cell_type": "code",
   "execution_count": 6,
   "id": "7c9c0590-1672-41b1-b758-f929e5666246",
   "metadata": {},
   "outputs": [
    {
     "name": "stdout",
     "output_type": "stream",
     "text": [
      "Element not found!\n"
     ]
    }
   ],
   "source": [
    "ll.find_x(11)"
   ]
  },
  {
   "cell_type": "code",
   "execution_count": 7,
   "id": "56c4e216-7b58-4684-ac89-d07536b5bd39",
   "metadata": {},
   "outputs": [
    {
     "name": "stdout",
     "output_type": "stream",
     "text": [
      "Element not found!\n"
     ]
    }
   ],
   "source": [
    "ll.find_x(7)"
   ]
  },
  {
   "cell_type": "code",
   "execution_count": 8,
   "id": "acc12362-dcfa-4cab-afd8-633d297c150a",
   "metadata": {},
   "outputs": [
    {
     "name": "stdout",
     "output_type": "stream",
     "text": [
      "Element found!\n"
     ]
    }
   ],
   "source": [
    "ll.find_x(6)"
   ]
  },
  {
   "cell_type": "code",
   "execution_count": 9,
   "id": "a0dcb918-e6b3-4d7c-b159-e3392cadb3e9",
   "metadata": {},
   "outputs": [
    {
     "name": "stdout",
     "output_type": "stream",
     "text": [
      "Element found!\n"
     ]
    }
   ],
   "source": [
    "ll.find_x(0)"
   ]
  },
  {
   "cell_type": "code",
   "execution_count": 10,
   "id": "324c5696-593c-4b4c-b1bd-d063215e43d5",
   "metadata": {},
   "outputs": [
    {
     "name": "stdout",
     "output_type": "stream",
     "text": [
      "Length of LL:  10\n"
     ]
    }
   ],
   "source": [
    "ll.find_length()"
   ]
  },
  {
   "cell_type": "code",
   "execution_count": 11,
   "id": "a51f0be6-c8b3-451d-a154-989af7b3143d",
   "metadata": {},
   "outputs": [
    {
     "name": "stdout",
     "output_type": "stream",
     "text": [
      "Data deleted!\n"
     ]
    }
   ],
   "source": [
    "ll.delete_node(6)"
   ]
  },
  {
   "cell_type": "code",
   "execution_count": 12,
   "id": "18452f4a-b511-46dd-8a55-bb3ec3df46bb",
   "metadata": {},
   "outputs": [
    {
     "name": "stdout",
     "output_type": "stream",
     "text": [
      "Length of LL:  9\n"
     ]
    }
   ],
   "source": [
    "ll.find_length()"
   ]
  },
  {
   "cell_type": "code",
   "execution_count": null,
   "id": "623b37dd-5d2f-444a-8dec-e05429eba906",
   "metadata": {},
   "outputs": [],
   "source": []
  }
 ],
 "metadata": {
  "kernelspec": {
   "display_name": "Python 3 (ipykernel)",
   "language": "python",
   "name": "python3"
  },
  "language_info": {
   "codemirror_mode": {
    "name": "ipython",
    "version": 3
   },
   "file_extension": ".py",
   "mimetype": "text/x-python",
   "name": "python",
   "nbconvert_exporter": "python",
   "pygments_lexer": "ipython3",
   "version": "3.10.8"
  }
 },
 "nbformat": 4,
 "nbformat_minor": 5
}
