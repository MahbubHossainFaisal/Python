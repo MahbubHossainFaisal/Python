{
 "cells": [
  {
   "cell_type": "markdown",
   "id": "c0d7e05e-00b5-4b8a-b089-04a9e8be847d",
   "metadata": {},
   "source": [
    "Leetcode link: https://leetcode.com/problems/linked-list-cycle-ii/description/"
   ]
  },
  {
   "cell_type": "code",
   "execution_count": null,
   "id": "4a74ce09-b32e-42f8-a040-58e7cba5d536",
   "metadata": {},
   "outputs": [],
   "source": [
    "# Definition for singly-linked list.\n",
    "# class ListNode:\n",
    "#     def __init__(self, x):\n",
    "#         self.val = x\n",
    "#         self.next = None\n",
    "\n",
    "class Solution:\n",
    "    def detectCycle(self, head: Optional[ListNode]) -> Optional[ListNode]:\n",
    "        slow = head\n",
    "        fast = head\n",
    "\n",
    "        tail = head\n",
    "\n",
    "        while(tail):\n",
    "            slow = slow.next\n",
    "            if fast.next:\n",
    "                fast = fast.next.next\n",
    "            else:\n",
    "                return None\n",
    "            if fast == None:\n",
    "                return None\n",
    "            if slow == fast:\n",
    "                break\n",
    "        \n",
    "        slow = head\n",
    "        index = 0\n",
    "        while(slow != fast):\n",
    "            slow = slow.next\n",
    "            index+=1\n",
    "            fast = fast.next\n",
    "        \n",
    "        return fast\n"
   ]
  }
 ],
 "metadata": {
  "kernelspec": {
   "display_name": "Python 3 (ipykernel)",
   "language": "python",
   "name": "python3"
  },
  "language_info": {
   "codemirror_mode": {
    "name": "ipython",
    "version": 3
   },
   "file_extension": ".py",
   "mimetype": "text/x-python",
   "name": "python",
   "nbconvert_exporter": "python",
   "pygments_lexer": "ipython3",
   "version": "3.10.8"
  }
 },
 "nbformat": 4,
 "nbformat_minor": 5
}
