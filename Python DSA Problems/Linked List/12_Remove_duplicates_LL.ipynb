{
 "cells": [
  {
   "cell_type": "code",
   "execution_count": null,
   "id": "bed355d4-f34b-4cd6-b1d9-dbf70274fe39",
   "metadata": {},
   "outputs": [],
   "source": [
    "# Definition for singly-linked list.\n",
    "# class ListNode:\n",
    "#     def __init__(self, val=0, next=None):\n",
    "#         self.val = val\n",
    "#         self.next = next\n",
    "class Solution:\n",
    "    def deleteDuplicates(self, head: Optional[ListNode]) -> Optional[ListNode]:\n",
    "        if not head:\n",
    "            return None\n",
    "        node = head\n",
    "        while node and node.next:\n",
    "            if node.next.val == node.val:\n",
    "                node.next = node.next.next\n",
    "            else:\n",
    "                node = node.next\n",
    "        \n",
    "        return head"
   ]
  },
  {
   "cell_type": "markdown",
   "id": "1b2d2766-d5d9-4bcd-919c-d89a5c34b711",
   "metadata": {},
   "source": [
    "Sure, I'd be happy to explain the code step by step while covering the requested points. Let's dive in!\n",
    "\n",
    "**Step 1: Introduction**\n",
    "\n",
    "This code is an implementation of a function that removes duplicates from a singly-linked list. The function is part of a class called `Solution`.\n",
    "\n",
    "**Step 2: Algorithm Explanation**\n",
    "\n",
    "The algorithm used here is similar to the \"Two Pointers\" technique. It involves iterating through the linked list with two pointers: `node` and `node.next`. If the value of the current node (`node.val`) is the same as the value of the next node (`node.next.val`), then we skip the next node by updating the `node.next` pointer. If the values are different, we move the `node` pointer to the next node.\n",
    "\n",
    "**Step 3: Edge Cases**\n",
    "\n",
    "- **Edge Case 1:** If the linked list is empty (`head` is `None`), the function should return `None`.\n",
    "- **Edge Case 2:** If there are no duplicate values in the linked list, the function should return the same linked list as input.\n",
    "\n",
    "**Step 4: Detailed Explanation**\n",
    "\n",
    "Let's illustrate the algorithm with an example: Suppose the linked list is: 1 -> 1 -> 2 -> 3 -> 3.\n",
    "\n",
    "1. Initialize the `node` pointer with the head of the linked list (1st node: 1).\n",
    "2. In the first iteration, `node.val` is 1 and `node.next.val` is also 1 (duplicate). So, we update `node.next` to point to the node after the duplicate (2nd node: 2).\n",
    "3. In the next iteration, `node.val` is 1, and `node.next.val` is 2 (not a duplicate). We move `node` to the next node (2nd node: 2).\n",
    "4. In the subsequent iteration, `node.val` is 2 and `node.next.val` is 3 (not a duplicate). We move `node` to the next node (3rd node: 3).\n",
    "5. In the final iteration, `node.val` is 3, and `node.next` is `None`. We've reached the end of the list, so the loop ends.\n",
    "\n",
    "**Step 5: Time and Space Complexity**\n",
    "\n",
    "- **Time Complexity:** The algorithm runs in O(n) time, where n is the number of nodes in the linked list. This is because we traverse the list once.\n",
    "- **Space Complexity:** The algorithm has a constant space complexity of O(1) since it only uses a constant amount of additional memory regardless of the input size.\n",
    "\n",
    "**Step 6: More Efficient Solution**\n",
    "\n",
    "The provided code already implements an efficient solution with O(n) time complexity. There's no more efficient way to solve this problem since we have to examine each node at least once to determine if there are any duplicates.\n",
    "\n",
    "**Step 7: Best Code Practices**\n",
    "\n",
    "- Variable Naming: The variable names are clear and concise, aiding code readability.\n",
    "- Avoiding Redundancy: The code avoids unnecessary checks and iterations by directly updating pointers when duplicates are encountered.\n",
    "- Simplification: The code doesn't need additional data structures, and it solves the problem efficiently.\n",
    "- Code Documentation: It's a good practice to include comments or docstrings explaining the purpose of the code, especially for complex algorithms.\n",
    "\n",
    "**Improvement Suggestion:**\n",
    "- Although the code is well-structured, adding comments explaining the algorithm's purpose and logic at the beginning of the function could enhance its clarity, especially for someone reading it for the first time.\n",
    "- If you anticipate working with linked lists frequently, you might consider writing a helper function to create and manipulate linked lists. This can improve code reusability and maintainability.\n",
    "\n",
    "Remember that these suggestions are not strict rules but rather guidelines to enhance the readability and maintainability of your code."
   ]
  },
  {
   "cell_type": "code",
   "execution_count": null,
   "id": "2c1df403-cd1f-453d-af0f-2c3db70e1e1e",
   "metadata": {},
   "outputs": [],
   "source": []
  }
 ],
 "metadata": {
  "kernelspec": {
   "display_name": "Python 3 (ipykernel)",
   "language": "python",
   "name": "python3"
  },
  "language_info": {
   "codemirror_mode": {
    "name": "ipython",
    "version": 3
   },
   "file_extension": ".py",
   "mimetype": "text/x-python",
   "name": "python",
   "nbconvert_exporter": "python",
   "pygments_lexer": "ipython3",
   "version": "3.10.8"
  }
 },
 "nbformat": 4,
 "nbformat_minor": 5
}
