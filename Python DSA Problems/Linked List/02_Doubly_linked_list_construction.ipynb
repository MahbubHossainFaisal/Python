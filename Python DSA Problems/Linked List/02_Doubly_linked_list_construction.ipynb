{
 "cells": [
  {
   "cell_type": "code",
   "execution_count": null,
   "id": "4d461a42-6c04-4971-a9ed-60c606aee660",
   "metadata": {},
   "outputs": [],
   "source": [
    "class Node:\n",
    "    def __init__(self,data):\n",
    "        self.prev = None\n",
    "        self.data = data\n",
    "        self.next = None\n",
    "        \n",
    "        \n",
    "def constructDll(arr):\n",
    "    head = Node(arr[0])\n",
    "    tail = head\n",
    "    \n",
    "    for i  in range(1,len(arr)):\n",
    "        new_node = Node(arr[i])\n",
    "        tail.next = new_node\n",
    "        tail = new_node\n",
    "        \n",
    "    return head\n",
    "\n",
    "\n",
    "\n",
    "arr = [1,2,3,4,5,6]\n",
    "\n",
    "head"
   ]
  }
 ],
 "metadata": {
  "kernelspec": {
   "display_name": "Python 3 (ipykernel)",
   "language": "python",
   "name": "python3"
  },
  "language_info": {
   "codemirror_mode": {
    "name": "ipython",
    "version": 3
   },
   "file_extension": ".py",
   "mimetype": "text/x-python",
   "name": "python",
   "nbconvert_exporter": "python",
   "pygments_lexer": "ipython3",
   "version": "3.10.8"
  }
 },
 "nbformat": 4,
 "nbformat_minor": 5
}
