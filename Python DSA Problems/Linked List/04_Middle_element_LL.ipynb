{
 "cells": [
  {
   "cell_type": "markdown",
   "id": "047f26e3-02c0-4971-b3a9-9c9b3f59003d",
   "metadata": {},
   "source": [
    "Leetcode Link: https://leetcode.com/problems/middle-of-the-linked-list/description/"
   ]
  },
  {
   "cell_type": "code",
   "execution_count": null,
   "id": "06a4af9c-a8dd-4e2a-8cff-c6383fd0b0cc",
   "metadata": {},
   "outputs": [],
   "source": [
    "# Definition for singly-linked list.\n",
    "# class ListNode:\n",
    "#     def __init__(self, val=0, next=None):\n",
    "#         self.val = val\n",
    "#         self.next = next\n",
    "class Solution:\n",
    "    def middleNode(self, head: Optional[ListNode]) -> Optional[ListNode]:\n",
    "        slow = head\n",
    "        fast = head\n",
    "\n",
    "        while fast.next:\n",
    "            slow = slow.next\n",
    "            if fast.next.next == None:\n",
    "                break\n",
    "            else:\n",
    "                fast = fast.next.next\n",
    "            \n",
    "        \n",
    "        return slow"
   ]
  }
 ],
 "metadata": {
  "kernelspec": {
   "display_name": "Python 3 (ipykernel)",
   "language": "python",
   "name": "python3"
  },
  "language_info": {
   "codemirror_mode": {
    "name": "ipython",
    "version": 3
   },
   "file_extension": ".py",
   "mimetype": "text/x-python",
   "name": "python",
   "nbconvert_exporter": "python",
   "pygments_lexer": "ipython3",
   "version": "3.10.8"
  }
 },
 "nbformat": 4,
 "nbformat_minor": 5
}
