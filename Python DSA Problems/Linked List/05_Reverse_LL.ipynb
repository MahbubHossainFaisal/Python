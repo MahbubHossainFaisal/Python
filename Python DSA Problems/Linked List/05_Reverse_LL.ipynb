{
 "cells": [
  {
   "cell_type": "markdown",
   "id": "54610e9b-7d35-46ed-8346-000dd3850d90",
   "metadata": {},
   "source": [
    "Leetcode Link: https://leetcode.com/problems/reverse-linked-list/submissions/"
   ]
  },
  {
   "cell_type": "code",
   "execution_count": null,
   "id": "82eb6cd3-50b7-4ced-bc8d-47dbdae9ce12",
   "metadata": {},
   "outputs": [],
   "source": [
    "# Definition for singly-linked list.\n",
    "# class ListNode:\n",
    "#     def __init__(self, val=0, next=None):\n",
    "#         self.val = val\n",
    "#         self.next = next\n",
    "class Solution:\n",
    "    def reverseList(self, head: Optional[ListNode]) -> Optional[ListNode]:\n",
    "        if head == None or head.next == None:\n",
    "            return head\n",
    "        \n",
    "        tail = head.next\n",
    "        prev_node = head\n",
    "        while(tail.next):\n",
    "            node = tail.next\n",
    "            tail.next = prev_node\n",
    "            prev_node = tail\n",
    "            tail = node\n",
    "        node = tail.next\n",
    "        tail.next = prev_node\n",
    "        prev_node = tail\n",
    "        \n",
    "        head.next = None\n",
    "        return tail\n",
    "        "
   ]
  }
 ],
 "metadata": {
  "kernelspec": {
   "display_name": "Python 3 (ipykernel)",
   "language": "python",
   "name": "python3"
  },
  "language_info": {
   "codemirror_mode": {
    "name": "ipython",
    "version": 3
   },
   "file_extension": ".py",
   "mimetype": "text/x-python",
   "name": "python",
   "nbconvert_exporter": "python",
   "pygments_lexer": "ipython3",
   "version": "3.10.8"
  }
 },
 "nbformat": 4,
 "nbformat_minor": 5
}
