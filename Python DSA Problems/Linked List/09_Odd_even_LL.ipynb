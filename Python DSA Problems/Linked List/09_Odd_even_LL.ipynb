{
 "cells": [
  {
   "cell_type": "markdown",
   "id": "59792e2e-b44b-4a77-a841-245bee8c0266",
   "metadata": {},
   "source": [
    "Link: https://green-dentist-vksqb.pwskills.app/lab/tree/work/Odd_even_LL"
   ]
  },
  {
   "cell_type": "code",
   "execution_count": null,
   "id": "57e8f36f-97fc-4d08-87fd-559cbdd1081c",
   "metadata": {},
   "outputs": [],
   "source": [
    "# Definition for singly-linked list.\n",
    "# class ListNode:\n",
    "#     def __init__(self, val=0, next=None):\n",
    "#         self.val = val\n",
    "#         self.next = next\n",
    "class Solution:\n",
    "    def oddEvenList(self, head: Optional[ListNode]) -> Optional[ListNode]:\n",
    "        if not head:\n",
    "            return head\n",
    "        odd = head\n",
    "        even = head.next\n",
    "        even_head = head.next\n",
    "\n",
    "        while(even and even.next):\n",
    "            odd.next = odd.next.next\n",
    "            even.next = even.next.next\n",
    "            odd = odd.next\n",
    "            even = even.next\n",
    "        \n",
    "        odd.next = even_head\n",
    "\n",
    "        return head"
   ]
  },
  {
   "cell_type": "markdown",
   "id": "63be14f7-792c-40ee-80d1-7ff1d7a09dd0",
   "metadata": {},
   "source": [
    "### Introduction:\n",
    "The given code aims to rearrange a singly-linked list so that all the odd-indexed nodes come before the even-indexed nodes. The goal is to achieve this rearrangement while maintaining the relative order of the nodes within odd and even indices.\n",
    "\n",
    "### Algorithm Name:\n",
    "The algorithm used in this code is called the \"Odd-Even Linked List\" algorithm.\n",
    "\n",
    "### Algorithm Explanation with Example:\n",
    "Imagine you have a deck of cards, where the odd-indexed cards are red and the even-indexed cards are blue. Your goal is to separate the cards based on their colors, while keeping the order of the colors unchanged.\n",
    "\n",
    "1. **Initialization:**\n",
    "   - Initialize two pointers, `odd` and `even`, to the first and second nodes of the list, respectively. Also, create a pointer `even_head` to keep track of the starting node of the even-indexed sublist.\n",
    "\n",
    "2. **Rearranging the List:**\n",
    "   - Using a loop, traverse through the list. For each iteration, do the following:\n",
    "     - Update the `odd.next` to `odd.next.next`, effectively skipping the next node and connecting `odd` to the node after the skipped one.\n",
    "     - Similarly, update the `even.next` to `even.next.next` to skip the next even-indexed node.\n",
    "     - Move both `odd` and `even` pointers to their respective next nodes.\n",
    "\n",
    "3. **Connecting Odd and Even Sublists:**\n",
    "   - Once the loop completes, the odd-indexed nodes are disconnected from the even-indexed nodes. To reconnect them, set `odd.next` to `even_head`, which is the starting node of the even-indexed sublist.\n",
    "\n",
    "4. **Final Result:**\n",
    "   - Return the modified `head` of the list.\n",
    "\n",
    "### Edge Cases and Examples:\n",
    "1. **Edge Case 1: Empty List**\n",
    "   - Input: `head = None`\n",
    "   - Output: `None`\n",
    "   - Explanation: An empty list remains empty.\n",
    "\n",
    "2. **Edge Case 2: List with One Node**\n",
    "   - Input: `1 -> None`\n",
    "   - Output: `1 -> None`\n",
    "   - Explanation: Since there is only one node, there is no need for rearrangement.\n",
    "\n",
    "3. **Edge Case 3: List with Two Nodes**\n",
    "   - Input: `1 -> 2 -> None`\n",
    "   - Output: `1 -> 2 -> None`\n",
    "   - Explanation: The list is already in the desired format (odd, even).\n",
    "\n",
    "### Time and Space Complexity:\n",
    "- Time Complexity: O(N), where N is the number of nodes in the linked list. The algorithm iterates through the list once.\n",
    "- Space Complexity: O(1), as the algorithm uses a constant amount of extra space to store pointers.\n",
    "\n",
    "### Optimization:\n",
    "The provided code is already quite efficient for the given task, and there's not much room for significant optimization.\n",
    "\n",
    "### Best Coding Practices:\n",
    "1. **Descriptive Variable Names:** The code uses descriptive variable names like `odd`, `even`, and `even_head`, which aids readability.\n",
    "2. **Modular Approach:** The code is well-organized into distinct steps, making it easier to understand and maintain.\n",
    "3. **Commenting:** The code has comments explaining the purpose of each step, improving its clarity.\n",
    "\n",
    "### Improvements:\n",
    "The provided code seems to adhere to clean coding practices. However, one consideration might be error handling for cases where the input linked list is unexpectedly invalid or inconsistent.\n",
    "\n",
    "Remember that clean coding also involves maintaining consistent indentation, following naming conventions, and ensuring code readability through proper spacing and formatting."
   ]
  },
  {
   "cell_type": "code",
   "execution_count": null,
   "id": "896842c4-5c65-44e0-b1bb-d6b44f856001",
   "metadata": {},
   "outputs": [],
   "source": []
  }
 ],
 "metadata": {
  "kernelspec": {
   "display_name": "Python 3 (ipykernel)",
   "language": "python",
   "name": "python3"
  },
  "language_info": {
   "codemirror_mode": {
    "name": "ipython",
    "version": 3
   },
   "file_extension": ".py",
   "mimetype": "text/x-python",
   "name": "python",
   "nbconvert_exporter": "python",
   "pygments_lexer": "ipython3",
   "version": "3.10.8"
  }
 },
 "nbformat": 4,
 "nbformat_minor": 5
}
