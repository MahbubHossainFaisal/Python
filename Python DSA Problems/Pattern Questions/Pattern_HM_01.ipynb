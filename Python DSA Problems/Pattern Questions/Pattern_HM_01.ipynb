{
 "cells": [
  {
   "cell_type": "markdown",
   "id": "33acb4b1",
   "metadata": {},
   "source": [
    "First Pattern:\n",
    "\n",
    "       4 4 4 4 4 4\n",
    "       4 4 4 4 4 4\n",
    "       4 4 4 4 4 4  \n",
    "       4 4 4 4 4 4\n",
    "       4 4 4 4 4 4 \n"
   ]
  },
  {
   "cell_type": "code",
   "execution_count": 2,
   "id": "3613081c",
   "metadata": {},
   "outputs": [
    {
     "name": "stdout",
     "output_type": "stream",
     "text": [
      "4 4 4 4 4 4 \n",
      "4 4 4 4 4 4 \n",
      "4 4 4 4 4 4 \n",
      "4 4 4 4 4 4 \n",
      "4 4 4 4 4 4 \n",
      "4 4 4 4 4 4 \n"
     ]
    }
   ],
   "source": [
    "for i in range(6):\n",
    "    for j in range(6):\n",
    "        print(4,end=' ')\n",
    "    print()"
   ]
  },
  {
   "cell_type": "markdown",
   "id": "6c439e1e",
   "metadata": {},
   "source": [
    "Second Pattern:\n",
    "   \n",
    "       1 4 9 16 25\n",
    "       1 4 9 16 25\n",
    "       1 4 9 16 25\n",
    "       1 4 9 16 25\n",
    "       1 4 9 16 25\n",
    "       1 4 9 16 25\n"
   ]
  },
  {
   "cell_type": "code",
   "execution_count": 4,
   "id": "22598ea4",
   "metadata": {},
   "outputs": [
    {
     "name": "stdout",
     "output_type": "stream",
     "text": [
      "1 4 9 16 25 \n",
      "1 4 9 16 25 \n",
      "1 4 9 16 25 \n",
      "1 4 9 16 25 \n",
      "1 4 9 16 25 \n",
      "1 4 9 16 25 \n"
     ]
    }
   ],
   "source": [
    "for i in range(1,7):\n",
    "    for j in range(1,6):\n",
    "        print(j**2,end=' ')\n",
    "    print()"
   ]
  },
  {
   "cell_type": "markdown",
   "id": "0dd188f4",
   "metadata": {},
   "source": [
    "Third Pattern:\n",
    "  \n",
    "    1 8 27 64 125 216\n",
    "    1 8 27 64 125 216\n",
    "    1 8 27 64 125 216\n",
    "    1 8 27 64 125 216\n",
    "    1 8 27 64 125 216\n"
   ]
  },
  {
   "cell_type": "code",
   "execution_count": 7,
   "id": "b3c325bf",
   "metadata": {},
   "outputs": [
    {
     "name": "stdout",
     "output_type": "stream",
     "text": [
      "1 8 27 64 125 216 \n",
      "1 8 27 64 125 216 \n",
      "1 8 27 64 125 216 \n",
      "1 8 27 64 125 216 \n",
      "1 8 27 64 125 216 \n"
     ]
    }
   ],
   "source": [
    "for i in range(1,6):\n",
    "    for j in range(1,7):\n",
    "        print(j**3,end=' ')\n",
    "    print()"
   ]
  },
  {
   "cell_type": "markdown",
   "id": "d78ba355",
   "metadata": {},
   "source": [
    "Fourth Pattern:\n",
    "\n",
    "    F G H I J K  \n",
    "    F G H I J K\n",
    "    F G H I J K\n",
    "    F G H I J K\n",
    "    F G H I J K\n"
   ]
  },
  {
   "cell_type": "code",
   "execution_count": 10,
   "id": "ef29359c",
   "metadata": {},
   "outputs": [
    {
     "name": "stdout",
     "output_type": "stream",
     "text": [
      "F G H I J K \n",
      "F G H I J K \n",
      "F G H I J K \n",
      "F G H I J K \n",
      "F G H I J K \n",
      "F G H I J K \n"
     ]
    }
   ],
   "source": [
    "x = 'F'\n",
    "for i in range(6):\n",
    "    for j in range(6):\n",
    "        print(x,end=' ')\n",
    "        x = chr(ord(x)+1)\n",
    "    x='F'\n",
    "    print()"
   ]
  },
  {
   "cell_type": "code",
   "execution_count": null,
   "id": "9f93ce83",
   "metadata": {},
   "outputs": [],
   "source": []
  }
 ],
 "metadata": {
  "kernelspec": {
   "display_name": "Python 3 (ipykernel)",
   "language": "python",
   "name": "python3"
  },
  "language_info": {
   "codemirror_mode": {
    "name": "ipython",
    "version": 3
   },
   "file_extension": ".py",
   "mimetype": "text/x-python",
   "name": "python",
   "nbconvert_exporter": "python",
   "pygments_lexer": "ipython3",
   "version": "3.9.13"
  }
 },
 "nbformat": 4,
 "nbformat_minor": 5
}
