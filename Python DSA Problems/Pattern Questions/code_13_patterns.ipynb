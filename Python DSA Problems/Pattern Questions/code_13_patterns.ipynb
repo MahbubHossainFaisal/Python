{
 "cells": [
  {
   "cell_type": "markdown",
   "id": "1da1142f-b036-42ed-ab88-ece39d5b3c76",
   "metadata": {},
   "source": [
    "12)"
   ]
  },
  {
   "cell_type": "markdown",
   "id": "8f40cdb6-fd8c-4a93-b81d-d84bf28cbeb8",
   "metadata": {},
   "source": [
    "    1          1\n",
    "    12        21\n",
    "    12       321\n",
    "    1234    4321\n",
    "    12345  54321\n",
    "    123456654321"
   ]
  },
  {
   "cell_type": "code",
   "execution_count": 17,
   "id": "3220d207-8ad7-4e1d-9075-a541e6457e57",
   "metadata": {},
   "outputs": [
    {
     "name": "stdout",
     "output_type": "stream",
     "text": [
      "1                1\n",
      "12              21\n",
      "123            321\n",
      "1234          4321\n",
      "12345        54321\n",
      "123456      654321\n",
      "1234567    7654321\n",
      "12345678  87654321\n",
      "123456789987654321\n"
     ]
    }
   ],
   "source": [
    "n=9\n",
    "total = n*2\n",
    "x=[x for x in range(1,n+1)]\n",
    "space = total-2\n",
    "\n",
    "for i in range(1,n+1):\n",
    "    for j in x[:i]:\n",
    "        print(j,end='')\n",
    "    for j in range(space):\n",
    "        print(' ',end='')\n",
    "        \n",
    "    for j in x[:i][::-1]:\n",
    "        print(j,end='')\n",
    "    \n",
    "    space-=2\n",
    "    print()"
   ]
  },
  {
   "cell_type": "markdown",
   "id": "7266a243-4188-4b8e-9087-b1683c8eee4f",
   "metadata": {},
   "source": [
    "13)"
   ]
  },
  {
   "cell_type": "markdown",
   "id": "b58f5a2d-f49a-47a2-bd66-790915fe2a60",
   "metadata": {},
   "source": [
    "    1\n",
    "    2  3\n",
    "    4  5  6\n",
    "    7  8  9  10\n",
    "    11  12  13  14  15\n",
    "    16  17  18  19  20  21"
   ]
  },
  {
   "cell_type": "code",
   "execution_count": 3,
   "id": "ce0d8249-761c-462a-8477-7fff69f1396e",
   "metadata": {},
   "outputs": [
    {
     "name": "stdout",
     "output_type": "stream",
     "text": [
      "1 \n",
      "2 3 \n",
      "4 5 6 \n",
      "7 8 9 10 \n",
      "11 12 13 14 15 \n",
      "16 17 18 19 20 21 \n"
     ]
    }
   ],
   "source": [
    "n=6\n",
    "x=1\n",
    "for i in range(1,n+1):\n",
    "    for j in range(i):\n",
    "        print(x,end=' ')\n",
    "        x+=1\n",
    "    print()"
   ]
  },
  {
   "cell_type": "markdown",
   "id": "b20234f1-1875-4a4f-abfd-99f63f070176",
   "metadata": {},
   "source": [
    "14)"
   ]
  },
  {
   "cell_type": "markdown",
   "id": "212ea075-8fe3-4abe-9082-b3b6367e9067",
   "metadata": {},
   "source": [
    "    A\n",
    "    A B\n",
    "    A B C\n",
    "    A B C D\n",
    "    A B C D E\n",
    "    A B C D E F"
   ]
  },
  {
   "cell_type": "code",
   "execution_count": 6,
   "id": "7955a036-ae2c-4b51-8bb9-feea9c06345e",
   "metadata": {},
   "outputs": [
    {
     "name": "stdout",
     "output_type": "stream",
     "text": [
      "\n",
      "A \n",
      "A B \n",
      "A B C \n",
      "A B C D \n",
      "A B C D E \n",
      "A B C D E F \n"
     ]
    }
   ],
   "source": [
    "n=6\n",
    "x='A'\n",
    "\n",
    "for i in range(n+1):\n",
    "    for j in range(i):\n",
    "        print(x,end=' ')\n",
    "        x = chr(ord(x) + 1)\n",
    "    x='A'\n",
    "    print()\n",
    "    "
   ]
  },
  {
   "cell_type": "markdown",
   "id": "5bda5488-d1c1-47eb-bd83-93e8f888bfd2",
   "metadata": {},
   "source": [
    "15)"
   ]
  },
  {
   "cell_type": "markdown",
   "id": "d3d17935-706c-4562-ac6d-c33cffaeb0a7",
   "metadata": {},
   "source": [
    "    A B C D E F\n",
    "    A B C D E \n",
    "    A B C D\n",
    "    A B C\n",
    "    A B\n",
    "    A"
   ]
  },
  {
   "cell_type": "code",
   "execution_count": 7,
   "id": "17ab40e2-2b40-4b35-9f93-c5364f4fed1f",
   "metadata": {},
   "outputs": [
    {
     "name": "stdout",
     "output_type": "stream",
     "text": [
      "A B C D E F \n",
      "A B C D E \n",
      "A B C D \n",
      "A B C \n",
      "A B \n",
      "A \n",
      "\n"
     ]
    }
   ],
   "source": [
    "for i in range(n+1):\n",
    "    for j in range(n-i):\n",
    "        print(x,end=' ')\n",
    "        x = chr(ord(x) + 1)\n",
    "    x='A'\n",
    "    print()"
   ]
  },
  {
   "cell_type": "markdown",
   "id": "841f2d74-0a36-420e-a0c9-070c2f6b2d9f",
   "metadata": {},
   "source": [
    "16)"
   ]
  },
  {
   "cell_type": "markdown",
   "id": "a33c0453-f05a-40b3-9594-fe999affaea9",
   "metadata": {},
   "source": [
    "\n",
    "    A \n",
    "    B B\n",
    "    C C C\n",
    "    D D D D\n",
    "    E E E E E\n",
    "    F F F F F F"
   ]
  },
  {
   "cell_type": "code",
   "execution_count": 11,
   "id": "29d2802b-cb2f-4e16-b28e-0fcbe6ae6f57",
   "metadata": {},
   "outputs": [
    {
     "name": "stdout",
     "output_type": "stream",
     "text": [
      "A \n",
      "B B \n",
      "C C C \n",
      "D D D D \n",
      "E E E E E \n",
      "F F F F F F \n"
     ]
    }
   ],
   "source": [
    "n=6\n",
    "x='A'\n",
    "for i in range(n):\n",
    "    for j in range(i+1):\n",
    "        print(x,end=' ')\n",
    "    x = chr(ord(x) + 1)\n",
    "    print()"
   ]
  },
  {
   "cell_type": "markdown",
   "id": "a98b1f63-bb69-4c0f-b1a7-980b7190961e",
   "metadata": {},
   "source": [
    "17)"
   ]
  },
  {
   "cell_type": "markdown",
   "id": "4b2761ef-9b1e-4688-bc8c-068c3ddb579a",
   "metadata": {},
   "source": [
    "         A     \n",
    "        ABA    \n",
    "       ABCBA   \n",
    "      ABCDCBA  \n",
    "     ABCDEDCBA \n",
    "    ABCDEFEDCBA"
   ]
  },
  {
   "cell_type": "code",
   "execution_count": 65,
   "id": "4ec9f89c-6a93-4b72-81bd-d07a9a200446",
   "metadata": {},
   "outputs": [
    {
     "name": "stdout",
     "output_type": "stream",
     "text": [
      "      A      \n",
      "     ABA     \n",
      "    ABCBA    \n",
      "   ABCDCBA   \n",
      "  ABCDEDCBA  \n",
      " ABCDEFEDCBA \n"
     ]
    }
   ],
   "source": [
    "import math\n",
    "n=6\n",
    "x=1\n",
    "c='A'\n",
    "for i in range(n):\n",
    "    for j in range(n-i):\n",
    "        print(' ',end='' )\n",
    "    mid = math.ceil(x/2)\n",
    "    for k in range(mid):\n",
    "        print(c,end='')\n",
    "        c=chr(ord(c) + 1)\n",
    "        \n",
    "    c=chr(ord(c) - 1)\n",
    "    for k in range(mid,x):\n",
    "        c=chr(ord(c) - 1)\n",
    "        print(c,end='')\n",
    "        \n",
    "    for j in range(n-i):\n",
    "        print(' ',end='')\n",
    "    print()\n",
    "    c='A'\n",
    "    x+=2"
   ]
  },
  {
   "cell_type": "markdown",
   "id": "a1644bf5-abef-41b8-bee0-55241e80c1b5",
   "metadata": {},
   "source": [
    "18)"
   ]
  },
  {
   "cell_type": "markdown",
   "id": "0e3d99c7-a1cc-47be-a471-c92ab4ccf6a6",
   "metadata": {},
   "source": [
    "    F\n",
    "    E F\n",
    "    D E F\n",
    "    C D E F\n",
    "    B C D E F\n",
    "    A B C D E F"
   ]
  },
  {
   "cell_type": "code",
   "execution_count": 57,
   "id": "2cb954bf-8df8-44e8-8c47-ca4d33e10e1e",
   "metadata": {},
   "outputs": [
    {
     "name": "stdout",
     "output_type": "stream",
     "text": [
      "F \n",
      "E F \n",
      "D E F \n",
      "C D E F \n",
      "B C D E F \n",
      "A B C D E F \n"
     ]
    }
   ],
   "source": [
    "n=6\n",
    "x='F'\n",
    "y='F'\n",
    "for i in range(1,n+1):\n",
    "    for j in range(i):\n",
    "        print(x,end=' ')\n",
    "        x = chr(ord(x) + 1)\n",
    "        cnt=j\n",
    "   # print('x----',x)\n",
    "    x = chr(ord(y) - 1)\n",
    "    y = chr(ord(y) - 1)\n",
    "  #  print('x---',x)\n",
    "    print()"
   ]
  },
  {
   "cell_type": "markdown",
   "id": "d50f8983-5430-4ea6-bb0d-05372eda77f1",
   "metadata": {},
   "source": [
    "19)"
   ]
  },
  {
   "cell_type": "markdown",
   "id": "ca16a78f-bf07-4e14-b9af-e290e5389a21",
   "metadata": {},
   "source": [
    "    ************\n",
    "    *****  *****\n",
    "    ****    ****\n",
    "    ***      ***\n",
    "    **        **\n",
    "    *          *\n",
    "    *          *\n",
    "    **        **\n",
    "    ***      ***\n",
    "    ****    ****\n",
    "    *****  *****\n",
    "    ************"
   ]
  },
  {
   "cell_type": "code",
   "execution_count": 64,
   "id": "3be61c4e-a287-4fcf-ada2-af3247624f4b",
   "metadata": {},
   "outputs": [
    {
     "name": "stdout",
     "output_type": "stream",
     "text": [
      "************\n",
      "*****  *****\n",
      "****    ****\n",
      "***      ***\n",
      "**        **\n",
      "*          *\n",
      "*          *\n",
      "**        **\n",
      "***      ***\n",
      "****    ****\n",
      "*****  *****\n",
      "************\n"
     ]
    }
   ],
   "source": [
    "sz=6\n",
    "n=sz\n",
    "total = n*2\n",
    "space = 0\n",
    "\n",
    "for i in range(sz):\n",
    "    for j in range(n):\n",
    "        print('*',end='')\n",
    "    for j in range(space):\n",
    "        print(' ',end='')\n",
    "    for j in range(n):\n",
    "        print('*',end='')\n",
    "    \n",
    "    print()\n",
    "    n-=1\n",
    "    space+=2\n",
    "sz=6    \n",
    "n=1\n",
    "space=total-2\n",
    "for i in range(sz):\n",
    "    for j in range(n):\n",
    "        print('*',end='')\n",
    "    for j in range(space):\n",
    "        print(' ',end='')\n",
    "    for j in range(n):\n",
    "        print('*',end='')\n",
    "    \n",
    "    print()\n",
    "    n+=1\n",
    "    space-=2"
   ]
  },
  {
   "cell_type": "markdown",
   "id": "82761cb4-ec5b-4120-9c80-069d3f8895b2",
   "metadata": {},
   "source": [
    "20)"
   ]
  },
  {
   "cell_type": "markdown",
   "id": "ba8acc54-7e91-4467-ace4-816bc88eb038",
   "metadata": {},
   "source": [
    "    *          *\n",
    "    **        **\n",
    "    ***      ***\n",
    "    ****    ****\n",
    "    *****  *****\n",
    "    ************\n",
    "    *****  *****\n",
    "    ****    ****\n",
    "    ***      ***\n",
    "    **        **\n",
    "    *          *"
   ]
  },
  {
   "cell_type": "code",
   "execution_count": 93,
   "id": "1f5a2bc9-fa7e-4e0d-b5e0-86da025efbaf",
   "metadata": {},
   "outputs": [
    {
     "name": "stdout",
     "output_type": "stream",
     "text": [
      "*          *\n",
      "**        **\n",
      "***      ***\n",
      "****    ****\n",
      "*****  *****\n",
      "************\n",
      "*****  *****\n",
      "****    ****\n",
      "***      ***\n",
      "**        **\n",
      "*          *\n",
      "            \n"
     ]
    }
   ],
   "source": [
    "sz=6\n",
    "n=1\n",
    "total = sz*2\n",
    "space=total-2\n",
    "\n",
    "for i in range(sz):\n",
    "    for j in range(n):\n",
    "        print('*',end='')\n",
    "    for j in range(space):\n",
    "        print(' ',end='')\n",
    "    for j in range(n):\n",
    "        print('*',end='')\n",
    "    n+=1\n",
    "    space-=2\n",
    "    print()\n",
    "    \n",
    "    \n",
    "n=sz-1\n",
    "space=2\n",
    "\n",
    "for i in range(sz):\n",
    "    for j in range(n):\n",
    "        print('*',end='')\n",
    "    for j in range(space):\n",
    "        print(' ',end='')\n",
    "    for j in range(n):\n",
    "        print('*',end='')\n",
    "    n-=1\n",
    "    space+=2\n",
    "    print()\n"
   ]
  },
  {
   "cell_type": "markdown",
   "id": "41a235ef-476d-484d-9339-33756f8962c6",
   "metadata": {},
   "source": [
    "21)"
   ]
  },
  {
   "cell_type": "markdown",
   "id": "ccc2a03a-2949-446c-aade-a88425651e1d",
   "metadata": {},
   "source": [
    "    ******\n",
    "    *    *\n",
    "    *    *\n",
    "    *    *\n",
    "    *    *\n",
    "    ******"
   ]
  },
  {
   "cell_type": "code",
   "execution_count": 110,
   "id": "68d22cb8-ea31-463c-9000-d2b2504eb403",
   "metadata": {},
   "outputs": [
    {
     "name": "stdout",
     "output_type": "stream",
     "text": [
      "******\n",
      "*    *\n",
      "*    *\n",
      "*    *\n",
      "*    *\n",
      "******\n"
     ]
    }
   ],
   "source": [
    "sz=6\n",
    "total = sz*2\n",
    "\n",
    "space=sz-1\n",
    "\n",
    "for i in range(sz):\n",
    "    if i == 0 or i == sz-1:\n",
    "        for j in range(sz):\n",
    "            print('*',end='')\n",
    "    else:\n",
    "        \n",
    "        for j in range(sz):\n",
    "            if j==0 or j==sz-1:\n",
    "                print('*',end='')\n",
    "            else:\n",
    "                print(' ',end='')\n",
    "    print()\n",
    "    "
   ]
  },
  {
   "cell_type": "markdown",
   "id": "7d5939cf-7d56-4298-9da3-589c7a58e5cf",
   "metadata": {},
   "source": [
    "22)"
   ]
  },
  {
   "cell_type": "markdown",
   "id": "ecb9b34f-769f-4b82-8f70-32f3742d9021",
   "metadata": {},
   "source": [
    "    6 6 6 6 6 6 6 6 6 6 6 \n",
    "    6 5 5 5 5 5 5 5 5 5 6 \n",
    "    6 5 4 4 4 4 4 4 4 5 6 \n",
    "    6 5 4 3 3 3 3 3 4 5 6 \n",
    "    6 5 4 3 2 2 2 3 4 5 6 \n",
    "    6 5 4 3 2 1 2 3 4 5 6 \n",
    "    6 5 4 3 2 2 2 3 4 5 6 \n",
    "    6 5 4 3 3 3 3 3 4 5 6 \n",
    "    6 5 4 4 4 4 4 4 4 5 6 \n",
    "    6 5 5 5 5 5 5 5 5 5 6 \n",
    "    6 6 6 6 6 6 6 6 6 6 6"
   ]
  },
  {
   "cell_type": "code",
   "execution_count": 141,
   "id": "13d8e50f-bf6a-4c54-bd2c-63be753fe153",
   "metadata": {},
   "outputs": [
    {
     "name": "stdout",
     "output_type": "stream",
     "text": [
      "6 6 6 6 6 6 6 6 6 6 6 \n",
      "6 5 5 5 5 5 5 5 5 5 6 \n",
      "6 5 4 4 4 4 4 4 4 5 6 \n",
      "6 5 4 3 3 3 3 3 4 5 6 \n",
      "6 5 4 3 2 2 2 3 4 5 6 \n",
      "6 5 4 3 2 1 2 3 4 5 6 \n",
      "6 5 4 3 2 1 1 2 3 4 5 6 \n",
      "6 5 4 3 2 1 2 3 4 5 6 \n",
      "6 5 4 3 2 2 2 3 4 5 6 \n",
      "6 5 4 3 3 3 3 3 4 5 6 \n",
      "6 6 6 6 6 6 6 6 6 6 6 \n"
     ]
    }
   ],
   "source": [
    "sz=6\n",
    "total = 2*sz-1\n",
    "x=sz\n",
    "num=1\n",
    "space=total-2\n",
    "flag=0\n",
    "for i in range(total):\n",
    "    if space < 0:\n",
    "        flag=1\n",
    "    if flag==0:\n",
    "        if i==0:\n",
    "            for j in range(total):\n",
    "                print(sz,end=' ')\n",
    "            print()\n",
    "            \n",
    "        else:\n",
    "            for j in range(num):\n",
    "                print(x,end=' ')\n",
    "                x-=1\n",
    "            for j in range(space):\n",
    "                print(x,end=' ')\n",
    "            for j in range(num):\n",
    "                x+=1\n",
    "                print(x,end=' ')\n",
    "\n",
    "            num+=1\n",
    "            space-=2\n",
    "            print()\n",
    "            \n",
    "    if flag == 1:\n",
    "            if i==total-1:\n",
    "                for j in range(total):\n",
    "                    print(sz,end=' ')\n",
    "                print()\n",
    "\n",
    "            else:\n",
    "                for j in range(num):\n",
    "                    print(x,end=' ')\n",
    "                    x-=1\n",
    "                for j in range(space):\n",
    "                    print(x,end=' ')\n",
    "                for j in range(num):\n",
    "                    x+=1\n",
    "                    print(x,end=' ')\n",
    "\n",
    "                num-=1\n",
    "                space+=2\n",
    "                print()\n",
    "\n",
    "            \n",
    "        \n"
   ]
  },
  {
   "cell_type": "code",
   "execution_count": null,
   "id": "9bf811a1-c080-4eee-aa82-8e7c954fe38e",
   "metadata": {},
   "outputs": [],
   "source": []
  },
  {
   "cell_type": "code",
   "execution_count": null,
   "id": "dd74db9e-bf83-4065-aa2d-6767e4cd9d71",
   "metadata": {},
   "outputs": [],
   "source": []
  }
 ],
 "metadata": {
  "kernelspec": {
   "display_name": "Python 3 (ipykernel)",
   "language": "python",
   "name": "python3"
  },
  "language_info": {
   "codemirror_mode": {
    "name": "ipython",
    "version": 3
   },
   "file_extension": ".py",
   "mimetype": "text/x-python",
   "name": "python",
   "nbconvert_exporter": "python",
   "pygments_lexer": "ipython3",
   "version": "3.10.8"
  }
 },
 "nbformat": 4,
 "nbformat_minor": 5
}
