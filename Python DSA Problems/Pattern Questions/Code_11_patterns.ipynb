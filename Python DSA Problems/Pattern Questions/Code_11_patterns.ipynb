{
 "cells": [
  {
   "cell_type": "markdown",
   "id": "39e28ab6-9a94-41c7-a91d-06bb43ba1e7a",
   "metadata": {},
   "source": [
    "\n",
    "1)"
   ]
  },
  {
   "cell_type": "markdown",
   "id": "8c86df73-3489-4f4e-8e05-f92ddfac57fa",
   "metadata": {},
   "source": [
    "    * * * * * *\n",
    "    * * * * * *\n",
    "    * * * * * *\n",
    "    * * * * * *\n",
    "    * * * * * *\n",
    "    * * * * * *"
   ]
  },
  {
   "cell_type": "code",
   "execution_count": 1,
   "id": "62972e2f-63ad-4936-ac01-35d6d0684ea0",
   "metadata": {},
   "outputs": [
    {
     "name": "stdout",
     "output_type": "stream",
     "text": [
      "* * * * * * \n",
      "* * * * * * \n",
      "* * * * * * \n",
      "* * * * * * \n",
      "* * * * * * \n",
      "* * * * * * \n"
     ]
    }
   ],
   "source": [
    "for i in range(6):\n",
    "    for j in range(6):\n",
    "        print('*',end=' ')\n",
    "    print()"
   ]
  },
  {
   "cell_type": "markdown",
   "id": "63696daa-a82a-4c69-8de8-b96de803fbc7",
   "metadata": {},
   "source": [
    "2)"
   ]
  },
  {
   "cell_type": "markdown",
   "id": "e009e121-cb85-488e-b27e-7e67453d0bc5",
   "metadata": {},
   "source": [
    "    * \n",
    "    * * \n",
    "    * * *\n",
    "    * * * *\n",
    "    * * * * *\n",
    "    * * * * * *"
   ]
  },
  {
   "cell_type": "code",
   "execution_count": 2,
   "id": "f4c524c7-2f13-44e5-a8a9-59b0b5ca932c",
   "metadata": {},
   "outputs": [
    {
     "name": "stdout",
     "output_type": "stream",
     "text": [
      "* \n",
      "* * \n",
      "* * * \n",
      "* * * * \n",
      "* * * * * \n",
      "* * * * * * \n"
     ]
    }
   ],
   "source": [
    "for i in range(6):\n",
    "    for j in range(i+1):\n",
    "        print('*',end=' ')\n",
    "    print()"
   ]
  },
  {
   "cell_type": "markdown",
   "id": "06297d4b-67c0-4d0f-83d5-a952681faaa0",
   "metadata": {},
   "source": [
    "3)"
   ]
  },
  {
   "cell_type": "markdown",
   "id": "a6c1c676-1d31-4367-871b-4c4f0ef058b7",
   "metadata": {},
   "source": [
    "    1\n",
    "    1 2\n",
    "    1 2 3\n",
    "    1 2 3 4\n",
    "    1 2 3 4 5\n",
    "    1 2 3 4 5 6"
   ]
  },
  {
   "cell_type": "code",
   "execution_count": 3,
   "id": "eea02fe6-a99a-4b0b-ab8b-10028db0ce86",
   "metadata": {},
   "outputs": [
    {
     "name": "stdout",
     "output_type": "stream",
     "text": [
      "1 \n",
      "1 2 \n",
      "1 2 3 \n",
      "1 2 3 4 \n",
      "1 2 3 4 5 \n",
      "1 2 3 4 5 6 \n"
     ]
    }
   ],
   "source": [
    "x=1\n",
    "for i in range(6):\n",
    "    for j in range(i+1):\n",
    "        print(x,end=' ')\n",
    "        x+=1\n",
    "    print()\n",
    "    x=1"
   ]
  },
  {
   "cell_type": "markdown",
   "id": "9d2d9124-11f6-4313-9f7e-776f6276a3b4",
   "metadata": {},
   "source": [
    "4)"
   ]
  },
  {
   "cell_type": "markdown",
   "id": "d07f7788-2570-46be-8093-3375a954b45c",
   "metadata": {},
   "source": [
    "    1\n",
    "    2 2\n",
    "    3 3 3\n",
    "    4 4 4 4\n",
    "    5 5 5 5 5\n",
    "    6 6 6 6 6 6"
   ]
  },
  {
   "cell_type": "code",
   "execution_count": 4,
   "id": "6fa19f33-6756-4b23-9af4-be6cf1999334",
   "metadata": {},
   "outputs": [
    {
     "name": "stdout",
     "output_type": "stream",
     "text": [
      "1 \n",
      "2 2 \n",
      "3 3 3 \n",
      "4 4 4 4 \n",
      "5 5 5 5 5 \n",
      "6 6 6 6 6 6 \n"
     ]
    }
   ],
   "source": [
    "x=1\n",
    "for i in range(6):\n",
    "    for j in range(i+1):\n",
    "        print(x,end=' ')\n",
    "       \n",
    "    print()\n",
    "    x+=1"
   ]
  },
  {
   "cell_type": "markdown",
   "id": "74e71c21-5604-47ca-9159-d0e10a8b0eb0",
   "metadata": {},
   "source": [
    "5)"
   ]
  },
  {
   "cell_type": "markdown",
   "id": "810d90c1-8968-4220-8af4-04f295aaf2be",
   "metadata": {},
   "source": [
    "    * * * * * *\n",
    "    * * * * * \n",
    "    * * * * \n",
    "    * * * \n",
    "    * * \n",
    "    * "
   ]
  },
  {
   "cell_type": "code",
   "execution_count": 5,
   "id": "8c74350e-647f-4a70-ba36-99364881da71",
   "metadata": {},
   "outputs": [
    {
     "name": "stdout",
     "output_type": "stream",
     "text": [
      "* * * * * * \n",
      "* * * * * \n",
      "* * * * \n",
      "* * * \n",
      "* * \n",
      "* \n"
     ]
    }
   ],
   "source": [
    "n=6\n",
    "for i in range(n):\n",
    "    for j in range(n-i):\n",
    "        print('*',end=' ')\n",
    "    print()"
   ]
  },
  {
   "cell_type": "markdown",
   "id": "443b54ad-55df-4801-97f4-345c3bfe621e",
   "metadata": {},
   "source": [
    "6)"
   ]
  },
  {
   "cell_type": "markdown",
   "id": "eea348fc-bfe1-4787-8817-a5208fa5e340",
   "metadata": {},
   "source": [
    "    1 2 3 4 5 6\n",
    "    1 2 3 4 5\n",
    "    1 2 3 4\n",
    "    1 2 3\n",
    "    1 2 \n",
    "    1"
   ]
  },
  {
   "cell_type": "code",
   "execution_count": 6,
   "id": "a75d5f10-b5ef-41a6-9b7f-b15cc92b655c",
   "metadata": {},
   "outputs": [
    {
     "name": "stdout",
     "output_type": "stream",
     "text": [
      "1 2 3 4 5 6 \n",
      "1 2 3 4 5 \n",
      "1 2 3 4 \n",
      "1 2 3 \n",
      "1 2 \n",
      "1 \n"
     ]
    }
   ],
   "source": [
    "n=6\n",
    "x=1\n",
    "for i in range(n):\n",
    "    for j in range(n-i):\n",
    "        print(x,end=' ')\n",
    "        x+=1\n",
    "    print()\n",
    "    x=1"
   ]
  },
  {
   "cell_type": "markdown",
   "id": "d15cb0c5-7bf2-4e77-b066-112d87012f03",
   "metadata": {},
   "source": [
    "7)"
   ]
  },
  {
   "cell_type": "markdown",
   "id": "fa6a79ed-d432-4a89-bf23-3a428f122646",
   "metadata": {},
   "source": [
    "         *     \n",
    "        ***    \n",
    "       *****   \n",
    "      *******  \n",
    "     ********* \n",
    "    ***********"
   ]
  },
  {
   "cell_type": "code",
   "execution_count": 13,
   "id": "144dc02e-dba2-4a56-b349-3d269ee1bce5",
   "metadata": {},
   "outputs": [
    {
     "name": "stdout",
     "output_type": "stream",
     "text": [
      "            *             \n",
      "          * * *           \n",
      "        * * * * *         \n",
      "      * * * * * * *       \n",
      "    * * * * * * * * *     \n",
      "  * * * * * * * * * * *   \n"
     ]
    }
   ],
   "source": [
    "n=6\n",
    "x=1\n",
    "for i in range(n):\n",
    "    for j in range(n-i):\n",
    "        print(' ',end=' ' )\n",
    "    for k in range(x):\n",
    "        print('*',end=' ')\n",
    "    for j in range(n-i):\n",
    "        print(' ',end=' ')\n",
    "    print()\n",
    "    x+=2"
   ]
  },
  {
   "cell_type": "markdown",
   "id": "b6e962cc-b4f1-433a-acab-888489ca35e5",
   "metadata": {},
   "source": [
    "8)"
   ]
  },
  {
   "cell_type": "markdown",
   "id": "18496f7f-9e7f-4e5b-bad9-b0618c395715",
   "metadata": {},
   "source": [
    "    ***********\n",
    "     *********\n",
    "      *******\n",
    "       ***** \n",
    "        ***    \n",
    "         *"
   ]
  },
  {
   "cell_type": "code",
   "execution_count": 15,
   "id": "c8d3d7b8-c4cd-4025-811b-d4fe77f8cb8d",
   "metadata": {},
   "outputs": [
    {
     "name": "stdout",
     "output_type": "stream",
     "text": [
      "* * * * * * * * * * * \n",
      "  * * * * * * * * *   \n",
      "    * * * * * * *     \n",
      "      * * * * *       \n",
      "        * * *         \n",
      "          *           \n",
      "                        \n"
     ]
    }
   ],
   "source": [
    "n=6\n",
    "x=2*n-1\n",
    "for i in range(n,-1,-1):\n",
    "    for j in range(n-i):\n",
    "        print(' ',end=' ' )\n",
    "    for k in range(x):\n",
    "        print('*',end=' ')\n",
    "    for j in range(n-i):\n",
    "        print(' ',end=' ')\n",
    "    print()\n",
    "    x-=2"
   ]
  },
  {
   "cell_type": "markdown",
   "id": "f59fbc96-b2a9-4743-8b52-b3dc2b09f718",
   "metadata": {},
   "source": [
    "9)"
   ]
  },
  {
   "cell_type": "markdown",
   "id": "733a1f21-a911-40ce-bc24-5490d3cf5e83",
   "metadata": {},
   "source": [
    "         *\n",
    "        ***\n",
    "       ***** \n",
    "      *******\n",
    "     *********\n",
    "    ***********  \n",
    "    ***********\n",
    "     *********\n",
    "      *******\n",
    "       ***** \n",
    "        ***    \n",
    "         *"
   ]
  },
  {
   "cell_type": "code",
   "execution_count": 21,
   "id": "6323f7f9-405a-4a4f-a167-3ee7c2e78fe1",
   "metadata": {},
   "outputs": [
    {
     "name": "stdout",
     "output_type": "stream",
     "text": [
      "      *      \n",
      "     ***     \n",
      "    *****    \n",
      "   *******   \n",
      "  *********  \n",
      " *********** \n",
      " ***********\n",
      "  ********* \n",
      "   *******  \n",
      "    *****   \n",
      "     ***    \n",
      "      *     \n",
      "             \n"
     ]
    }
   ],
   "source": [
    "n=6\n",
    "x=1\n",
    "for i in range(n):\n",
    "    for j in range(n-i):\n",
    "        print(' ',end='' )\n",
    "    for k in range(x):\n",
    "        print('*',end='')\n",
    "    for j in range(n-i):\n",
    "        print(' ',end='')\n",
    "    print()\n",
    "    x+=2\n",
    "    \n",
    "n=6\n",
    "x=2*n-1\n",
    "for i in range(n,-1,-1):\n",
    "    print(end=' ')\n",
    "    for j in range(n-i):\n",
    "        print(' ',end='' )\n",
    "    for k in range(x):\n",
    "        print('*',end='')\n",
    "    for j in range(n-i):\n",
    "        print(' ',end='')\n",
    "    print()\n",
    "    x-=2"
   ]
  },
  {
   "cell_type": "markdown",
   "id": "3672714c-9afe-4418-952d-e4eb535aa09c",
   "metadata": {},
   "source": [
    "10)"
   ]
  },
  {
   "cell_type": "markdown",
   "id": "717ab18f-9638-465d-afcc-fd25aa1de617",
   "metadata": {},
   "source": [
    "     *\n",
    "     **\n",
    "     *** \n",
    "     ****\n",
    "     *****\n",
    "     ******  \n",
    "     *****\n",
    "     ****\n",
    "     ***    \n",
    "     **\n",
    "     *"
   ]
  },
  {
   "cell_type": "code",
   "execution_count": 33,
   "id": "562a5f05-a29a-4fb7-a67d-3c6809416fac",
   "metadata": {},
   "outputs": [
    {
     "name": "stdout",
     "output_type": "stream",
     "text": [
      "\n",
      "*\n",
      "**\n",
      "***\n",
      "****\n",
      "*****\n",
      "******\n",
      "*****\n",
      "****\n",
      "***\n",
      "**\n",
      "*\n"
     ]
    }
   ],
   "source": [
    "n=6\n",
    "x=1\n",
    "flag = 0\n",
    "for i in range(n):\n",
    "    for j in range(i):\n",
    "        print('*',end='')\n",
    "    print()\n",
    "for i in range(n):\n",
    "    for j in range(n-i):\n",
    "        print('*',end='')\n",
    "    print()"
   ]
  },
  {
   "cell_type": "markdown",
   "id": "1ba66e21-7fce-4be2-803c-2ea85becb48f",
   "metadata": {},
   "source": [
    "11)"
   ]
  },
  {
   "cell_type": "markdown",
   "id": "143d9aee-9888-4301-9e41-6d1a657d5d54",
   "metadata": {},
   "source": [
    "    1\n",
    "    01\n",
    "    101\n",
    "    0101\n",
    "    10101\n",
    "    010101"
   ]
  },
  {
   "cell_type": "code",
   "execution_count": 68,
   "id": "dc476c2a-2901-4ead-aa18-e12de22df9cc",
   "metadata": {},
   "outputs": [
    {
     "name": "stdout",
     "output_type": "stream",
     "text": [
      "1 \n",
      "0 1 \n",
      "1 0 1 \n",
      "0 1 0 1 \n",
      "1 0 1 0 1 \n",
      "0 1 0 1 0 1 \n"
     ]
    }
   ],
   "source": [
    "n=6\n",
    "x=1\n",
    "a=0\n",
    "flag=0\n",
    "\n",
    "for i in range(n):\n",
    "    if i%2 ==0:\n",
    "        flag=1\n",
    "    for j in range(i+1):\n",
    "        \n",
    "        if flag == 0:\n",
    "            print(0,end=' ')\n",
    "            flag = 1\n",
    "        elif flag == 1:\n",
    "            print(1,end=' ')\n",
    "            flag =0\n",
    "   \n",
    "    print()\n",
    "        "
   ]
  },
  {
   "cell_type": "code",
   "execution_count": null,
   "id": "1e242351-f54e-496f-ac6b-b7cb299b9e49",
   "metadata": {},
   "outputs": [],
   "source": []
  }
 ],
 "metadata": {
  "kernelspec": {
   "display_name": "Python 3 (ipykernel)",
   "language": "python",
   "name": "python3"
  },
  "language_info": {
   "codemirror_mode": {
    "name": "ipython",
    "version": 3
   },
   "file_extension": ".py",
   "mimetype": "text/x-python",
   "name": "python",
   "nbconvert_exporter": "python",
   "pygments_lexer": "ipython3",
   "version": "3.10.8"
  }
 },
 "nbformat": 4,
 "nbformat_minor": 5
}
