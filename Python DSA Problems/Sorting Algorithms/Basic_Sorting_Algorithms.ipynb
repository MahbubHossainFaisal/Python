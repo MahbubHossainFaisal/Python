{
 "cells": [
  {
   "cell_type": "markdown",
   "id": "6e7047a9-85e1-4b6b-b45f-56b694dd40e6",
   "metadata": {},
   "source": [
    "## Selection Sort"
   ]
  },
  {
   "cell_type": "markdown",
   "id": "d2e72967-7364-40ef-8b2b-7ee49c03c862",
   "metadata": {},
   "source": [
    "Concept :\n",
    "    It is picking the minimum element from the array, swapping the position with the first element,\n",
    "    then starting from the second position, picking up the minimum element in the array, swapping the positions with the second element.\n",
    "    continue doing this.\n",
    "    \n",
    "    So in here , the first element is getting sorted, then the second,then the third..... like this"
   ]
  },
  {
   "cell_type": "code",
   "execution_count": 12,
   "id": "34884006-ad26-4a94-9481-a10480933c7a",
   "metadata": {},
   "outputs": [
    {
     "name": "stdout",
     "output_type": "stream",
     "text": [
      "[1, 2, 8, 4, 9, 7, 33, 54]\n"
     ]
    }
   ],
   "source": [
    "def selectionSort(arr):\n",
    "    for i in range(0,len(arr)-1):\n",
    "        minimum = arr[i]\n",
    "        minIdx = -1\n",
    "        \n",
    "        for j in range(i,len(arr)):\n",
    "            if arr[j] < minimum:\n",
    "               minimum= arr[j]\n",
    "               minIdx = j\n",
    "                \n",
    "        arr[i],arr[minIdx] = arr[minIdx],arr[i]\n",
    "        \n",
    "    return arr\n",
    "\n",
    "\n",
    "ans = selectionSort([7,1,4,9,2,33,54,8])\n",
    "\n",
    "print(ans)"
   ]
  },
  {
   "cell_type": "markdown",
   "id": "2bbcb404-d826-497d-acc7-9d155f9ac1f9",
   "metadata": {},
   "source": [
    "## Bubble Sort"
   ]
  },
  {
   "cell_type": "markdown",
   "id": "a7fd7caa-42e9-41ec-a3f8-c07a3a3d4cda",
   "metadata": {},
   "source": [
    "Concept: Here we are traversing array by comparing if the front element is smaller than the previous element or not.\n",
    "Like we are taking the first element, then comparing it to the next element. If the next element is smaller, then we are swapping them.\n",
    "We traverse the whole array and continue swapping like that. \n",
    "at last after the first traverse we will find that the largest element is in the end position and sorted.\n",
    "So we will keep doing the traverse and swap for other elements.\n",
    "and at last the whole array will be sorted.\n"
   ]
  },
  {
   "cell_type": "code",
   "execution_count": 14,
   "id": "07a8d0d2-4afc-4150-add5-79a0132d808a",
   "metadata": {},
   "outputs": [
    {
     "name": "stdout",
     "output_type": "stream",
     "text": [
      "[1, 3, 4, 5, 8, 9, 22, 71]\n"
     ]
    }
   ],
   "source": [
    "def bubbleSort(arr):\n",
    "    for i in range(len(arr)):\n",
    "        for j in range(len(arr)-i-1):\n",
    "            if arr[j+1] < arr[j]:\n",
    "                arr[j+1],arr[j] = arr[j],arr[j+1]\n",
    "                \n",
    "    return arr\n",
    "\n",
    "\n",
    "\n",
    "ans = bubbleSort([71,1,4,9,22,3,5,8])\n",
    "print(ans)"
   ]
  },
  {
   "cell_type": "code",
   "execution_count": null,
   "id": "c5024f4b-040e-45ea-bdaf-e43abeb558ce",
   "metadata": {},
   "outputs": [],
   "source": []
  },
  {
   "cell_type": "markdown",
   "id": "4c8629fe-fd18-43d2-80ae-bd0aba989bc0",
   "metadata": {},
   "source": [
    "## Insertion Sort"
   ]
  },
  {
   "cell_type": "markdown",
   "id": "7427e326-7ab3-429d-8133-4b43fcfaa050",
   "metadata": {},
   "source": [
    "Concept: Here we are doing that, we are taking the second element first and comparing it with the first element.\n",
    "if they are in sorted order We are going to the third element. If they are not, then we are swapping them and making the sorted order, Then going to the third element.\n",
    "\n",
    "Similarly we are comparing third element with second and then first element and choosing the correct position for the third element and swapping if needed.\n",
    "We are doing the same thing for all the elements and after the last element comparison, we can see the sorted array"
   ]
  },
  {
   "cell_type": "code",
   "execution_count": 9,
   "id": "98f400a3-0eda-4006-80ab-7782196a45be",
   "metadata": {},
   "outputs": [
    {
     "name": "stdout",
     "output_type": "stream",
     "text": [
      "[2, 3, 4, 7, 8, 9, 15, 45]\n"
     ]
    }
   ],
   "source": [
    "def insertionSort(arr):\n",
    "    for i in range(len(arr)-1):\n",
    "        j=i+1\n",
    "        while(j>0 and arr[j] < arr[j-1]):\n",
    "            arr[j],arr[j-1] = arr[j-1],arr[j]\n",
    "            j-=1\n",
    "            \n",
    "    return arr\n",
    "\n",
    "ans = insertionSort([7,15,4,9,2,3,45,8])\n",
    "print(ans)\n"
   ]
  },
  {
   "cell_type": "code",
   "execution_count": null,
   "id": "b495d108-d838-424f-8f5f-968ded74d3d5",
   "metadata": {},
   "outputs": [],
   "source": []
  }
 ],
 "metadata": {
  "kernelspec": {
   "display_name": "Python 3 (ipykernel)",
   "language": "python",
   "name": "python3"
  },
  "language_info": {
   "codemirror_mode": {
    "name": "ipython",
    "version": 3
   },
   "file_extension": ".py",
   "mimetype": "text/x-python",
   "name": "python",
   "nbconvert_exporter": "python",
   "pygments_lexer": "ipython3",
   "version": "3.10.8"
  }
 },
 "nbformat": 4,
 "nbformat_minor": 5
}
