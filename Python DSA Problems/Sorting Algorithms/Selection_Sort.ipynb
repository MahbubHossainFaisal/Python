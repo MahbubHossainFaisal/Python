{
 "cells": [
  {
   "cell_type": "markdown",
   "id": "169cbaaa",
   "metadata": {},
   "source": [
    "### Increasing Order"
   ]
  },
  {
   "cell_type": "code",
   "execution_count": 3,
   "id": "dfa954e3",
   "metadata": {},
   "outputs": [
    {
     "name": "stdout",
     "output_type": "stream",
     "text": [
      "[1, 2, 4, 5, 7, 9]\n"
     ]
    }
   ],
   "source": [
    "def selectionSort(arr):\n",
    "    for i in range(len(arr)):\n",
    "        index = i\n",
    "        for j in range(i+1,len(arr)):\n",
    "            if arr[j] < arr[index]:\n",
    "                index = j\n",
    "                \n",
    "        arr[index],arr[i] = arr[i],arr[index]\n",
    "        \n",
    "        \n",
    "        \n",
    "arr = [4,2,1,5,7,9]\n",
    "\n",
    "selectionSort(arr)\n",
    "print(arr)"
   ]
  },
  {
   "cell_type": "markdown",
   "id": "d142c921",
   "metadata": {},
   "source": [
    "### Decreasing Order"
   ]
  },
  {
   "cell_type": "code",
   "execution_count": 4,
   "id": "4c6bf9eb",
   "metadata": {},
   "outputs": [
    {
     "name": "stdout",
     "output_type": "stream",
     "text": [
      "[9, 7, 5, 4, 2, 1]\n"
     ]
    }
   ],
   "source": [
    "def selectionSort(arr):\n",
    "    for i in range(len(arr)):\n",
    "        index = i\n",
    "        for j in range(i+1,len(arr)):\n",
    "            if arr[j] > arr[index]:\n",
    "                index = j\n",
    "                \n",
    "        arr[index],arr[i] = arr[i],arr[index]\n",
    "        \n",
    "        \n",
    "        \n",
    "arr = [4,2,1,5,7,9]\n",
    "\n",
    "selectionSort(arr)\n",
    "print(arr)"
   ]
  },
  {
   "cell_type": "markdown",
   "id": "41acf3d9",
   "metadata": {},
   "source": [
    "### Selection Sort for Characters"
   ]
  },
  {
   "cell_type": "code",
   "execution_count": 5,
   "id": "c25069ca",
   "metadata": {},
   "outputs": [],
   "source": [
    "def selectionSort(arr):\n",
    "    for i in range(len(arr)):\n",
    "        index = i\n",
    "        for j in range(i+1,len(arr)):\n",
    "            if ord(arr[j]) < ord(arr[index]):\n",
    "                index = j\n",
    "                \n",
    "        arr[index],arr[i] = arr[i],arr[index]"
   ]
  },
  {
   "cell_type": "code",
   "execution_count": 6,
   "id": "8dd06347",
   "metadata": {},
   "outputs": [
    {
     "name": "stdout",
     "output_type": "stream",
     "text": [
      "['a', 'b', 'c', 'j', 'k', 'z']\n"
     ]
    }
   ],
   "source": [
    "arr = ['z','b','a','c','j','k']\n",
    "\n",
    "selectionSort(arr)\n",
    "print(arr)"
   ]
  },
  {
   "cell_type": "code",
   "execution_count": null,
   "id": "bb444bb5",
   "metadata": {},
   "outputs": [],
   "source": []
  }
 ],
 "metadata": {
  "kernelspec": {
   "display_name": "Python 3 (ipykernel)",
   "language": "python",
   "name": "python3"
  },
  "language_info": {
   "codemirror_mode": {
    "name": "ipython",
    "version": 3
   },
   "file_extension": ".py",
   "mimetype": "text/x-python",
   "name": "python",
   "nbconvert_exporter": "python",
   "pygments_lexer": "ipython3",
   "version": "3.9.13"
  }
 },
 "nbformat": 4,
 "nbformat_minor": 5
}
