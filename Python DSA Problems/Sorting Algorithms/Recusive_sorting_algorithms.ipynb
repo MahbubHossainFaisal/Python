{
 "cells": [
  {
   "cell_type": "markdown",
   "id": "832f02bc-274b-493a-b7b2-136fe8be175f",
   "metadata": {},
   "source": [
    "# Bubble Sort Recursive"
   ]
  },
  {
   "cell_type": "code",
   "execution_count": 45,
   "id": "77779d14-1c4e-4d87-bdc2-61f45aa0687b",
   "metadata": {},
   "outputs": [],
   "source": [
    "def recBubbleSort(arr,n):\n",
    "    if n==1:\n",
    "        return arr\n",
    "    \n",
    "    for i in range(n-1):\n",
    "        if arr[i] > arr[i+1]:\n",
    "            arr[i],arr[i+1] = arr[i+1],arr[i]\n",
    "    recBubbleSort(arr,n-1)\n",
    "    return arr"
   ]
  },
  {
   "cell_type": "code",
   "execution_count": 47,
   "id": "c534fdad-829e-49f7-83d9-7e241c717c7f",
   "metadata": {},
   "outputs": [
    {
     "name": "stdout",
     "output_type": "stream",
     "text": [
      "[1, 2, 3, 6, 7, 8]\n"
     ]
    }
   ],
   "source": [
    "arr = [6,3,1,7,2,8]\n",
    "\n",
    "ans = recBubbleSort(arr,len(arr))\n",
    "print(ans)"
   ]
  },
  {
   "cell_type": "code",
   "execution_count": null,
   "id": "cc1f8f05-d6ce-41dc-896a-5a34277130a8",
   "metadata": {},
   "outputs": [],
   "source": []
  },
  {
   "cell_type": "markdown",
   "id": "0ece0657-e5ed-43ca-997d-4e7a393d414c",
   "metadata": {},
   "source": [
    "# Selection Sort Recursive"
   ]
  },
  {
   "cell_type": "code",
   "execution_count": 58,
   "id": "877d6a4e-b765-4460-80c3-417349fa4ab9",
   "metadata": {},
   "outputs": [],
   "source": [
    "def recSelectionSort(arr, n):\n",
    "    if len(arr) <= 1:\n",
    "        return arr\n",
    "\n",
    "    minimumIdx = 0\n",
    "    for i in range(1, n):\n",
    "        if arr[i] < arr[minimumIdx]:\n",
    "            minimumIdx = i\n",
    "\n",
    "    arr[0], arr[minimumIdx] = arr[minimumIdx], arr[0]\n",
    "    arr[1:] = recSelectionSort(arr[1:], len(arr) - 1)\n",
    "\n",
    "    return arr\n",
    "\n"
   ]
  },
  {
   "cell_type": "code",
   "execution_count": 59,
   "id": "b5c0755e-cfca-4b47-9175-8a25563ea236",
   "metadata": {},
   "outputs": [
    {
     "name": "stdout",
     "output_type": "stream",
     "text": [
      "[1, 2, 3, 6, 7, 8]\n"
     ]
    }
   ],
   "source": [
    "arr = [6,3,1,7,2,8]\n",
    "\n",
    "ans = recSelectionSort(arr,len(arr))\n",
    "print(ans)"
   ]
  },
  {
   "cell_type": "code",
   "execution_count": null,
   "id": "1765f1a9-6b7a-407c-ad10-f48ec32fb81f",
   "metadata": {},
   "outputs": [],
   "source": []
  },
  {
   "cell_type": "markdown",
   "id": "17c03869-12f2-43a8-a7dd-f8706ca9bac7",
   "metadata": {},
   "source": [
    "# Insertion Sort Recursive"
   ]
  },
  {
   "cell_type": "code",
   "execution_count": 6,
   "id": "2dbc0a9c-febc-4606-9a53-8419c62243b5",
   "metadata": {},
   "outputs": [
    {
     "ename": "IndexError",
     "evalue": "list index out of range",
     "output_type": "error",
     "traceback": [
      "\u001b[0;31m---------------------------------------------------------------------------\u001b[0m",
      "\u001b[0;31mIndexError\u001b[0m                                Traceback (most recent call last)",
      "Cell \u001b[0;32mIn[6], line 14\u001b[0m\n\u001b[1;32m     11\u001b[0m     \u001b[38;5;28;01mreturn\u001b[39;00m arr\n\u001b[1;32m     13\u001b[0m arr \u001b[38;5;241m=\u001b[39m [\u001b[38;5;241m6\u001b[39m, \u001b[38;5;241m3\u001b[39m, \u001b[38;5;241m1\u001b[39m, \u001b[38;5;241m7\u001b[39m, \u001b[38;5;241m2\u001b[39m, \u001b[38;5;241m8\u001b[39m]\n\u001b[0;32m---> 14\u001b[0m ans \u001b[38;5;241m=\u001b[39m \u001b[43mrecInsertionSort\u001b[49m\u001b[43m(\u001b[49m\u001b[43marr\u001b[49m\u001b[43m,\u001b[49m\u001b[43m \u001b[49m\u001b[38;5;28;43mlen\u001b[39;49m\u001b[43m(\u001b[49m\u001b[43marr\u001b[49m\u001b[43m)\u001b[49m\u001b[43m,\u001b[49m\u001b[43m \u001b[49m\u001b[38;5;241;43m1\u001b[39;49m\u001b[43m)\u001b[49m\n\u001b[1;32m     15\u001b[0m \u001b[38;5;28mprint\u001b[39m(ans)\n",
      "Cell \u001b[0;32mIn[6], line 10\u001b[0m, in \u001b[0;36mrecInsertionSort\u001b[0;34m(arr, n, pos)\u001b[0m\n\u001b[1;32m      7\u001b[0m     arr[j], arr[j\u001b[38;5;241m-\u001b[39m\u001b[38;5;241m1\u001b[39m] \u001b[38;5;241m=\u001b[39m arr[j\u001b[38;5;241m-\u001b[39m\u001b[38;5;241m1\u001b[39m], arr[j]\n\u001b[1;32m      8\u001b[0m     j \u001b[38;5;241m-\u001b[39m\u001b[38;5;241m=\u001b[39m \u001b[38;5;241m1\u001b[39m\n\u001b[0;32m---> 10\u001b[0m \u001b[43mrecInsertionSort\u001b[49m\u001b[43m(\u001b[49m\u001b[43marr\u001b[49m\u001b[43m,\u001b[49m\u001b[43m \u001b[49m\u001b[43mn\u001b[49m\u001b[38;5;241;43m-\u001b[39;49m\u001b[38;5;241;43m1\u001b[39;49m\u001b[43m,\u001b[49m\u001b[43m \u001b[49m\u001b[43mpos\u001b[49m\u001b[38;5;241;43m+\u001b[39;49m\u001b[38;5;241;43m1\u001b[39;49m\u001b[43m)\u001b[49m\n\u001b[1;32m     11\u001b[0m \u001b[38;5;28;01mreturn\u001b[39;00m arr\n",
      "Cell \u001b[0;32mIn[6], line 10\u001b[0m, in \u001b[0;36mrecInsertionSort\u001b[0;34m(arr, n, pos)\u001b[0m\n\u001b[1;32m      7\u001b[0m     arr[j], arr[j\u001b[38;5;241m-\u001b[39m\u001b[38;5;241m1\u001b[39m] \u001b[38;5;241m=\u001b[39m arr[j\u001b[38;5;241m-\u001b[39m\u001b[38;5;241m1\u001b[39m], arr[j]\n\u001b[1;32m      8\u001b[0m     j \u001b[38;5;241m-\u001b[39m\u001b[38;5;241m=\u001b[39m \u001b[38;5;241m1\u001b[39m\n\u001b[0;32m---> 10\u001b[0m \u001b[43mrecInsertionSort\u001b[49m\u001b[43m(\u001b[49m\u001b[43marr\u001b[49m\u001b[43m,\u001b[49m\u001b[43m \u001b[49m\u001b[43mn\u001b[49m\u001b[38;5;241;43m-\u001b[39;49m\u001b[38;5;241;43m1\u001b[39;49m\u001b[43m,\u001b[49m\u001b[43m \u001b[49m\u001b[43mpos\u001b[49m\u001b[38;5;241;43m+\u001b[39;49m\u001b[38;5;241;43m1\u001b[39;49m\u001b[43m)\u001b[49m\n\u001b[1;32m     11\u001b[0m \u001b[38;5;28;01mreturn\u001b[39;00m arr\n",
      "    \u001b[0;31m[... skipping similar frames: recInsertionSort at line 10 (2 times)]\u001b[0m\n",
      "Cell \u001b[0;32mIn[6], line 10\u001b[0m, in \u001b[0;36mrecInsertionSort\u001b[0;34m(arr, n, pos)\u001b[0m\n\u001b[1;32m      7\u001b[0m     arr[j], arr[j\u001b[38;5;241m-\u001b[39m\u001b[38;5;241m1\u001b[39m] \u001b[38;5;241m=\u001b[39m arr[j\u001b[38;5;241m-\u001b[39m\u001b[38;5;241m1\u001b[39m], arr[j]\n\u001b[1;32m      8\u001b[0m     j \u001b[38;5;241m-\u001b[39m\u001b[38;5;241m=\u001b[39m \u001b[38;5;241m1\u001b[39m\n\u001b[0;32m---> 10\u001b[0m \u001b[43mrecInsertionSort\u001b[49m\u001b[43m(\u001b[49m\u001b[43marr\u001b[49m\u001b[43m,\u001b[49m\u001b[43m \u001b[49m\u001b[43mn\u001b[49m\u001b[38;5;241;43m-\u001b[39;49m\u001b[38;5;241;43m1\u001b[39;49m\u001b[43m,\u001b[49m\u001b[43m \u001b[49m\u001b[43mpos\u001b[49m\u001b[38;5;241;43m+\u001b[39;49m\u001b[38;5;241;43m1\u001b[39;49m\u001b[43m)\u001b[49m\n\u001b[1;32m     11\u001b[0m \u001b[38;5;28;01mreturn\u001b[39;00m arr\n",
      "Cell \u001b[0;32mIn[6], line 6\u001b[0m, in \u001b[0;36mrecInsertionSort\u001b[0;34m(arr, n, pos)\u001b[0m\n\u001b[1;32m      3\u001b[0m     \u001b[38;5;28;01mreturn\u001b[39;00m arr\n\u001b[1;32m      5\u001b[0m j \u001b[38;5;241m=\u001b[39m pos\n\u001b[0;32m----> 6\u001b[0m \u001b[38;5;28;01mwhile\u001b[39;00m j \u001b[38;5;241m>\u001b[39m \u001b[38;5;241m0\u001b[39m \u001b[38;5;129;01mand\u001b[39;00m \u001b[43marr\u001b[49m\u001b[43m[\u001b[49m\u001b[43mj\u001b[49m\u001b[43m]\u001b[49m \u001b[38;5;241m<\u001b[39m arr[j\u001b[38;5;241m-\u001b[39m\u001b[38;5;241m1\u001b[39m]:\n\u001b[1;32m      7\u001b[0m     arr[j], arr[j\u001b[38;5;241m-\u001b[39m\u001b[38;5;241m1\u001b[39m] \u001b[38;5;241m=\u001b[39m arr[j\u001b[38;5;241m-\u001b[39m\u001b[38;5;241m1\u001b[39m], arr[j]\n\u001b[1;32m      8\u001b[0m     j \u001b[38;5;241m-\u001b[39m\u001b[38;5;241m=\u001b[39m \u001b[38;5;241m1\u001b[39m\n",
      "\u001b[0;31mIndexError\u001b[0m: list index out of range"
     ]
    }
   ],
   "source": [
    "def recInsertionSort(arr, n, pos):\n",
    "    if n == 1:\n",
    "        return arr\n",
    "    \n",
    "    j = pos\n",
    "    while j > 0 and arr[j] < arr[j-1]:\n",
    "        arr[j], arr[j-1] = arr[j-1], arr[j]\n",
    "        j -= 1\n",
    "        \n",
    "    recInsertionSort(arr, n-1, pos+1)\n",
    "    return arr\n",
    "\n",
    "arr = [6, 3, 1, 7, 2, 8]\n",
    "ans = recInsertionSort(arr, len(arr), 1)\n",
    "print(ans)\n"
   ]
  },
  {
   "cell_type": "code",
   "execution_count": null,
   "id": "cc7f51cb-6ec0-45cd-9f09-0e60d3b4cb1d",
   "metadata": {},
   "outputs": [],
   "source": []
  },
  {
   "cell_type": "code",
   "execution_count": null,
   "id": "546a0f6f-b8b7-4136-95f4-81d52b4bdbaf",
   "metadata": {},
   "outputs": [],
   "source": []
  }
 ],
 "metadata": {
  "kernelspec": {
   "display_name": "Python 3 (ipykernel)",
   "language": "python",
   "name": "python3"
  },
  "language_info": {
   "codemirror_mode": {
    "name": "ipython",
    "version": 3
   },
   "file_extension": ".py",
   "mimetype": "text/x-python",
   "name": "python",
   "nbconvert_exporter": "python",
   "pygments_lexer": "ipython3",
   "version": "3.10.8"
  }
 },
 "nbformat": 4,
 "nbformat_minor": 5
}
