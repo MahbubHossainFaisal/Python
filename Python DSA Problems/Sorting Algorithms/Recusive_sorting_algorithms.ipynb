{
 "cells": [
  {
   "cell_type": "markdown",
   "id": "832f02bc-274b-493a-b7b2-136fe8be175f",
   "metadata": {},
   "source": [
    "# Bubble Sort Recursive"
   ]
  },
  {
   "cell_type": "code",
   "execution_count": 45,
   "id": "77779d14-1c4e-4d87-bdc2-61f45aa0687b",
   "metadata": {},
   "outputs": [],
   "source": [
    "def recBubbleSort(arr,n):\n",
    "    if n==1:\n",
    "        return arr\n",
    "    \n",
    "    for i in range(n-1):\n",
    "        if arr[i] > arr[i+1]:\n",
    "            arr[i],arr[i+1] = arr[i+1],arr[i]\n",
    "    recBubbleSort(arr,n-1)\n",
    "    return arr"
   ]
  },
  {
   "cell_type": "code",
   "execution_count": 47,
   "id": "c534fdad-829e-49f7-83d9-7e241c717c7f",
   "metadata": {},
   "outputs": [
    {
     "name": "stdout",
     "output_type": "stream",
     "text": [
      "[1, 2, 3, 6, 7, 8]\n"
     ]
    }
   ],
   "source": [
    "arr = [6,3,1,7,2,8]\n",
    "\n",
    "ans = recBubbleSort(arr,len(arr))\n",
    "print(ans)"
   ]
  },
  {
   "cell_type": "code",
   "execution_count": null,
   "id": "cc1f8f05-d6ce-41dc-896a-5a34277130a8",
   "metadata": {},
   "outputs": [],
   "source": []
  },
  {
   "cell_type": "markdown",
   "id": "0ece0657-e5ed-43ca-997d-4e7a393d414c",
   "metadata": {},
   "source": [
    "# Selection Sort Recursive"
   ]
  },
  {
   "cell_type": "code",
   "execution_count": 58,
   "id": "877d6a4e-b765-4460-80c3-417349fa4ab9",
   "metadata": {},
   "outputs": [],
   "source": [
    "def recSelectionSort(arr, n):\n",
    "    if len(arr) <= 1:\n",
    "        return arr\n",
    "\n",
    "    minimumIdx = 0\n",
    "    for i in range(1, n):\n",
    "        if arr[i] < arr[minimumIdx]:\n",
    "            minimumIdx = i\n",
    "\n",
    "    arr[0], arr[minimumIdx] = arr[minimumIdx], arr[0]\n",
    "    arr[1:] = recSelectionSort(arr[1:], len(arr) - 1)\n",
    "\n",
    "    return arr\n",
    "\n"
   ]
  },
  {
   "cell_type": "code",
   "execution_count": 59,
   "id": "b5c0755e-cfca-4b47-9175-8a25563ea236",
   "metadata": {},
   "outputs": [
    {
     "name": "stdout",
     "output_type": "stream",
     "text": [
      "[1, 2, 3, 6, 7, 8]\n"
     ]
    }
   ],
   "source": [
    "arr = [6,3,1,7,2,8]\n",
    "\n",
    "ans = recSelectionSort(arr,len(arr))\n",
    "print(ans)"
   ]
  },
  {
   "cell_type": "code",
   "execution_count": null,
   "id": "1765f1a9-6b7a-407c-ad10-f48ec32fb81f",
   "metadata": {},
   "outputs": [],
   "source": []
  },
  {
   "cell_type": "code",
   "execution_count": null,
   "id": "f7be5124-2dca-41b2-abf6-6e9a05392f50",
   "metadata": {},
   "outputs": [],
   "source": []
  }
 ],
 "metadata": {
  "kernelspec": {
   "display_name": "Python 3 (ipykernel)",
   "language": "python",
   "name": "python3"
  },
  "language_info": {
   "codemirror_mode": {
    "name": "ipython",
    "version": 3
   },
   "file_extension": ".py",
   "mimetype": "text/x-python",
   "name": "python",
   "nbconvert_exporter": "python",
   "pygments_lexer": "ipython3",
   "version": "3.10.8"
  }
 },
 "nbformat": 4,
 "nbformat_minor": 5
}
