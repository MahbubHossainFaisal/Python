{
 "cells": [
  {
   "cell_type": "markdown",
   "id": "f25722e8",
   "metadata": {},
   "source": [
    "### Increasing Order"
   ]
  },
  {
   "cell_type": "code",
   "execution_count": 1,
   "id": "813f213f",
   "metadata": {},
   "outputs": [],
   "source": [
    "def bubble_sort(arr):\n",
    "    if len(arr) == 0 or len(arr) == 1:\n",
    "        return arr\n",
    "    swapped = False\n",
    "    for i in range(len(arr)):\n",
    "        for j in range(len(arr)-i-1):\n",
    "            if arr[j+1] < arr[j]:\n",
    "                swapped = True\n",
    "                arr[j],arr[j+1]  = arr[j+1],arr[j]\n",
    "                print(arr)\n",
    "        if not swapped:\n",
    "            return\n",
    "        "
   ]
  },
  {
   "cell_type": "code",
   "execution_count": 2,
   "id": "4ec9b8ef",
   "metadata": {},
   "outputs": [
    {
     "name": "stdout",
     "output_type": "stream",
     "text": [
      "[2, 3, 1, 5, 7, 4]\n",
      "[2, 1, 3, 5, 7, 4]\n",
      "[2, 1, 3, 5, 4, 7]\n",
      "[1, 2, 3, 5, 4, 7]\n",
      "[1, 2, 3, 4, 5, 7]\n"
     ]
    }
   ],
   "source": [
    "arr = [3,2,1,5,7,4]\n",
    "\n",
    "bubble_sort(arr)\n",
    "#print(arr)"
   ]
  },
  {
   "cell_type": "markdown",
   "id": "2e78150b",
   "metadata": {},
   "source": [
    "### Decreasing Order"
   ]
  },
  {
   "cell_type": "code",
   "execution_count": 3,
   "id": "ebf6fe81",
   "metadata": {},
   "outputs": [],
   "source": [
    "def bubble_sort(arr):\n",
    "    if len(arr) == 0 or len(arr) == 1:\n",
    "        return arr\n",
    "    swapped = False\n",
    "    for i in range(len(arr)):\n",
    "        for j in range(len(arr)-i-1):\n",
    "            if arr[j+1] > arr[j]:\n",
    "                swapped = True\n",
    "                arr[j],arr[j+1]  = arr[j+1],arr[j]\n",
    "                print(arr)\n",
    "        if not swapped:\n",
    "            return"
   ]
  },
  {
   "cell_type": "code",
   "execution_count": 4,
   "id": "d662026e",
   "metadata": {},
   "outputs": [
    {
     "name": "stdout",
     "output_type": "stream",
     "text": [
      "[3, 2, 5, 1, 7, 4]\n",
      "[3, 2, 5, 7, 1, 4]\n",
      "[3, 2, 5, 7, 4, 1]\n",
      "[3, 5, 2, 7, 4, 1]\n",
      "[3, 5, 7, 2, 4, 1]\n",
      "[3, 5, 7, 4, 2, 1]\n",
      "[5, 3, 7, 4, 2, 1]\n",
      "[5, 7, 3, 4, 2, 1]\n",
      "[5, 7, 4, 3, 2, 1]\n",
      "[7, 5, 4, 3, 2, 1]\n"
     ]
    }
   ],
   "source": [
    "arr = [3,2,1,5,7,4]\n",
    "\n",
    "bubble_sort(arr)\n",
    "#print(arr)"
   ]
  },
  {
   "cell_type": "markdown",
   "id": "9768a44e",
   "metadata": {},
   "source": [
    "Above elements are sorting elements from the right"
   ]
  },
  {
   "cell_type": "markdown",
   "id": "472af66e",
   "metadata": {},
   "source": [
    "### Below codes will be sort elements from left side"
   ]
  },
  {
   "cell_type": "code",
   "execution_count": 31,
   "id": "926caa49",
   "metadata": {},
   "outputs": [],
   "source": [
    "def bubble_sort(arr):\n",
    "    if len(arr) == 0 or len(arr) == 1:\n",
    "        return arr\n",
    "    swapped = False\n",
    "    for i in range(len(arr)-1,-1,-1):\n",
    "        for j in range(len(arr)-1,len(arr)-i-1,-1):\n",
    "            if arr[j] < arr[j-1]:\n",
    "                swapped=True\n",
    "                arr[j],arr[j-1]  = arr[j-1],arr[j]\n",
    "                print(arr)\n",
    "        if not swapped:\n",
    "            return"
   ]
  },
  {
   "cell_type": "code",
   "execution_count": 32,
   "id": "7eed7df0",
   "metadata": {},
   "outputs": [
    {
     "name": "stdout",
     "output_type": "stream",
     "text": [
      "[3, 2, 1, 5, 4, 7]\n",
      "[3, 2, 1, 4, 5, 7]\n",
      "[3, 1, 2, 4, 5, 7]\n",
      "[1, 3, 2, 4, 5, 7]\n",
      "[1, 2, 3, 4, 5, 7]\n"
     ]
    }
   ],
   "source": [
    "arr = [3,2,1,5,7,4]\n",
    "\n",
    "bubble_sort(arr)\n",
    "#print(arr)"
   ]
  },
  {
   "cell_type": "code",
   "execution_count": 29,
   "id": "4242e500",
   "metadata": {},
   "outputs": [],
   "source": [
    "def bubble_sort(arr):\n",
    "    if len(arr) == 0 or len(arr) == 1:\n",
    "        return arr\n",
    "    swapped = False\n",
    "    for i in range(len(arr)-1,-1,-1):\n",
    "        for j in range(len(arr)-1,len(arr)-i-1,-1):\n",
    "            if arr[j] > arr[j-1]:\n",
    "                swapped=True\n",
    "                arr[j],arr[j-1]  = arr[j-1],arr[j]\n",
    "                print(arr)\n",
    "        if not swapped:\n",
    "            return"
   ]
  },
  {
   "cell_type": "code",
   "execution_count": 30,
   "id": "e036a4a5",
   "metadata": {},
   "outputs": [
    {
     "name": "stdout",
     "output_type": "stream",
     "text": [
      "[3, 2, 1, 7, 5, 4]\n",
      "[3, 2, 7, 1, 5, 4]\n",
      "[3, 7, 2, 1, 5, 4]\n",
      "[7, 3, 2, 1, 5, 4]\n",
      "[7, 3, 2, 5, 1, 4]\n",
      "[7, 3, 5, 2, 1, 4]\n",
      "[7, 5, 3, 2, 1, 4]\n",
      "[7, 5, 3, 2, 4, 1]\n",
      "[7, 5, 3, 4, 2, 1]\n",
      "[7, 5, 4, 3, 2, 1]\n"
     ]
    }
   ],
   "source": [
    "arr = [3,2,1,5,7,4]\n",
    "\n",
    "bubble_sort(arr)\n",
    "#print(arr)"
   ]
  },
  {
   "cell_type": "code",
   "execution_count": null,
   "id": "53809577",
   "metadata": {},
   "outputs": [],
   "source": []
  },
  {
   "cell_type": "code",
   "execution_count": null,
   "id": "59f02c5b",
   "metadata": {},
   "outputs": [],
   "source": []
  }
 ],
 "metadata": {
  "kernelspec": {
   "display_name": "Python 3 (ipykernel)",
   "language": "python",
   "name": "python3"
  },
  "language_info": {
   "codemirror_mode": {
    "name": "ipython",
    "version": 3
   },
   "file_extension": ".py",
   "mimetype": "text/x-python",
   "name": "python",
   "nbconvert_exporter": "python",
   "pygments_lexer": "ipython3",
   "version": "3.9.13"
  }
 },
 "nbformat": 4,
 "nbformat_minor": 5
}
