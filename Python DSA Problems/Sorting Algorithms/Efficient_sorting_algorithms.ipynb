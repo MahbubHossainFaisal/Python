{
 "cells": [
  {
   "cell_type": "markdown",
   "id": "bb868032-f69e-463d-901f-a7fb2a367725",
   "metadata": {},
   "source": [
    "# Quick Sort "
   ]
  },
  {
   "cell_type": "markdown",
   "id": "8ef474b5-9a43-490e-8cb2-caedc32dc5b0",
   "metadata": {},
   "source": [
    "## Time Complexity:  O(nlogn), Worst case: O(n**2)"
   ]
  },
  {
   "cell_type": "code",
   "execution_count": 57,
   "id": "4f8afd47-beab-44e0-b09f-c3ac1e7a9de2",
   "metadata": {},
   "outputs": [],
   "source": [
    "def partition(arr, low, high):\n",
    "    pivot = arr[high]\n",
    "    pIndex = low\n",
    "    for j in range(low, high):\n",
    "        if arr[j] < pivot:\n",
    "            arr[j], arr[pIndex] = arr[pIndex], arr[j]\n",
    "            pIndex += 1\n",
    "            \n",
    "    arr[pIndex], arr[high] = arr[high], arr[pIndex]\n",
    "    print('pIndex:', pIndex)\n",
    "    return pIndex\n"
   ]
  },
  {
   "cell_type": "code",
   "execution_count": 58,
   "id": "c5e88f5e-0da4-4da0-84e3-b17f0a1b1418",
   "metadata": {},
   "outputs": [],
   "source": [
    "def Quicksort(arr,low,high):\n",
    "  \n",
    "    \n",
    "    if low<high:\n",
    "        pIndex = partition(arr,low,high)\n",
    "        Quicksort(arr,low,pIndex-1)\n",
    "        Quicksort(arr,pIndex+1,high)\n",
    "    return arr\n",
    "\n",
    "\n",
    "    \n",
    "    "
   ]
  },
  {
   "cell_type": "code",
   "execution_count": 59,
   "id": "af472cd8-d12a-48a9-95b3-c9e36fa37155",
   "metadata": {},
   "outputs": [
    {
     "name": "stdout",
     "output_type": "stream",
     "text": [
      "pIndex: 6\n",
      "pIndex: 5\n",
      "pIndex: 3\n",
      "pIndex: 0\n",
      "pIndex: 1\n",
      "[1, 2, 3, 4, 5, 6, 9]\n"
     ]
    }
   ],
   "source": [
    "arr = [2,5,3,1,4,6,9]\n",
    "\n",
    "\n",
    "ans = Quicksort(arr,0,len(arr)-1)\n",
    "\n",
    "print(ans)"
   ]
  },
  {
   "cell_type": "code",
   "execution_count": null,
   "id": "74f5cd77-b8cf-4ec0-b434-b2357c7c8bd7",
   "metadata": {},
   "outputs": [],
   "source": []
  },
  {
   "cell_type": "markdown",
   "id": "6b01fe6e-4f94-4871-9adf-5d87bd8f41b8",
   "metadata": {},
   "source": [
    "# Merge Sort"
   ]
  },
  {
   "cell_type": "markdown",
   "id": "b3878ed5-a1fe-4a67-b906-aa72ce306883",
   "metadata": {},
   "source": [
    "## Time Complexity: O(nlogn)"
   ]
  },
  {
   "cell_type": "code",
   "execution_count": 60,
   "id": "722fce67-487b-4ec1-be61-5f53a7d39f38",
   "metadata": {},
   "outputs": [],
   "source": [
    "def Merge(arr, low, mid, high):\n",
    "    i = low\n",
    "    j = mid + 1\n",
    "    temp = []\n",
    "    while i <= mid and j <= high:\n",
    "        if arr[i] <= arr[j]:\n",
    "            temp.append(arr[i])\n",
    "            i += 1\n",
    "        else:\n",
    "            temp.append(arr[j])\n",
    "            j += 1\n",
    "    while i <= mid:\n",
    "        temp.append(arr[i])\n",
    "        i += 1\n",
    "    while j <= high:\n",
    "        temp.append(arr[j])\n",
    "        j += 1\n",
    "\n",
    "    for k in range(low, high + 1):\n",
    "        arr[k] = temp[k - low]\n",
    "        \n"
   ]
  },
  {
   "cell_type": "code",
   "execution_count": 61,
   "id": "73127a52-ce7e-45a3-8c32-543fe9555743",
   "metadata": {},
   "outputs": [],
   "source": [
    "def Mergesort(arr,low,high):\n",
    "    if(low<high):\n",
    "        mid = int((low+high)/2)\n",
    "        Mergesort(arr,low,mid)\n",
    "        Mergesort(arr,mid+1,high)\n",
    "        Merge(arr,low,mid,high)\n",
    "    return arr\n",
    "        \n",
    "\n",
    "    "
   ]
  },
  {
   "cell_type": "code",
   "execution_count": 62,
   "id": "6a907bf3-32d2-4f6a-a26b-c8fdb2d7107d",
   "metadata": {},
   "outputs": [
    {
     "name": "stdout",
     "output_type": "stream",
     "text": [
      "[1, 2, 3, 4, 5, 6, 7, 8, 9]\n"
     ]
    }
   ],
   "source": [
    "arr = [9,8,7,6,5,4,3,2,1]\n",
    "\n",
    "ans = Mergesort(arr,0,len(arr)-1)\n",
    "print(ans)"
   ]
  },
  {
   "cell_type": "code",
   "execution_count": null,
   "id": "be06465f-cbc8-499f-8f48-870d9fc415d5",
   "metadata": {},
   "outputs": [],
   "source": []
  },
  {
   "cell_type": "code",
   "execution_count": null,
   "id": "095ead1d-1509-4f3b-8120-d7baea15283e",
   "metadata": {},
   "outputs": [],
   "source": []
  }
 ],
 "metadata": {
  "kernelspec": {
   "display_name": "Python 3 (ipykernel)",
   "language": "python",
   "name": "python3"
  },
  "language_info": {
   "codemirror_mode": {
    "name": "ipython",
    "version": 3
   },
   "file_extension": ".py",
   "mimetype": "text/x-python",
   "name": "python",
   "nbconvert_exporter": "python",
   "pygments_lexer": "ipython3",
   "version": "3.10.8"
  }
 },
 "nbformat": 4,
 "nbformat_minor": 5
}
