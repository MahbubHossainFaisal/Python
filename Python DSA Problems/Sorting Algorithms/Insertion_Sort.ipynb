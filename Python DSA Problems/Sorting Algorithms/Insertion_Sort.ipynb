{
 "cells": [
  {
   "cell_type": "code",
   "execution_count": 6,
   "id": "f4ca352d",
   "metadata": {},
   "outputs": [
    {
     "name": "stdout",
     "output_type": "stream",
     "text": [
      "[2, 5, 9, 3, 6]\n",
      "[2, 5, 3, 9, 6]\n",
      "[2, 3, 5, 9, 6]\n",
      "[2, 3, 5, 6, 9]\n",
      "[2, 3, 5, 6, 9]\n"
     ]
    }
   ],
   "source": [
    "def insertion_sort(arr):\n",
    "    \n",
    "    if len(arr) == 0 or len(arr) == 1:\n",
    "        return arr\n",
    "    \n",
    "    for i in range(1, len(arr)):\n",
    "        for j in range(i, 0, -1):\n",
    "            if arr[j] < arr[j-1]:\n",
    "                arr[j], arr[j-1] = arr[j-1], arr[j]\n",
    "                print(arr)\n",
    "            else:\n",
    "                break\n",
    "\n",
    "\n",
    "arr = [5, 2, 9, 3, 6]\n",
    "insertion_sort(arr)\n",
    "print(arr)  "
   ]
  },
  {
   "cell_type": "markdown",
   "id": "69a7d54c",
   "metadata": {},
   "source": [
    "### Decreasing Order"
   ]
  },
  {
   "cell_type": "code",
   "execution_count": 7,
   "id": "370e099c",
   "metadata": {},
   "outputs": [
    {
     "name": "stdout",
     "output_type": "stream",
     "text": [
      "[5, 9, 2, 3, 6]\n",
      "[9, 5, 2, 3, 6]\n",
      "[9, 5, 3, 2, 6]\n",
      "[9, 5, 3, 6, 2]\n",
      "[9, 5, 6, 3, 2]\n",
      "[9, 6, 5, 3, 2]\n",
      "[9, 6, 5, 3, 2]\n"
     ]
    }
   ],
   "source": [
    "def insertion_sort(arr):\n",
    "    \n",
    "    if len(arr) == 0 or len(arr) == 1:\n",
    "        return arr\n",
    "    \n",
    "    for i in range(1, len(arr)):\n",
    "        for j in range(i, 0, -1):\n",
    "            if arr[j] > arr[j-1]:\n",
    "                arr[j], arr[j-1] = arr[j-1], arr[j]\n",
    "                print(arr)\n",
    "            else:\n",
    "                break\n",
    "\n",
    "\n",
    "arr = [5, 2, 9, 3, 6]\n",
    "insertion_sort(arr)\n",
    "print(arr)  \n"
   ]
  },
  {
   "cell_type": "markdown",
   "id": "dbf36853",
   "metadata": {},
   "source": [
    "The above algorithms start sorting from the left of the array (small to large)"
   ]
  },
  {
   "cell_type": "markdown",
   "id": "0e2799cc",
   "metadata": {},
   "source": [
    "### The below algorithms will start from right to left (Large to small)"
   ]
  },
  {
   "cell_type": "code",
   "execution_count": 9,
   "id": "bbb405f7",
   "metadata": {},
   "outputs": [
    {
     "name": "stdout",
     "output_type": "stream",
     "text": [
      "[5, 2, 3, 9, 6]\n",
      "[5, 2, 3, 6, 9]\n",
      "[2, 5, 3, 6, 9]\n",
      "[2, 3, 5, 6, 9]\n",
      "[2, 3, 5, 6, 9]\n"
     ]
    }
   ],
   "source": [
    "def insertion_sort(arr):\n",
    "    \n",
    "    if len(arr) == 0 or len(arr) == 1:\n",
    "        return arr\n",
    "    \n",
    "    for i in range(len(arr)-2,-1,-1):\n",
    "        for j in range(i, len(arr)-1):\n",
    "            if arr[j] > arr[j+1]:\n",
    "                arr[j], arr[j+1] = arr[j+1], arr[j]\n",
    "                print(arr)\n",
    "            else:\n",
    "                break\n",
    "\n",
    "\n",
    "arr = [5, 2, 9, 3, 6]\n",
    "insertion_sort(arr)\n",
    "print(arr)  "
   ]
  },
  {
   "cell_type": "markdown",
   "id": "b3deb36e",
   "metadata": {},
   "source": [
    "### Decreasing Order"
   ]
  },
  {
   "cell_type": "code",
   "execution_count": 10,
   "id": "8d5c5bc3",
   "metadata": {},
   "outputs": [
    {
     "name": "stdout",
     "output_type": "stream",
     "text": [
      "[5, 2, 9, 6, 3]\n",
      "[5, 9, 2, 6, 3]\n",
      "[5, 9, 6, 2, 3]\n",
      "[5, 9, 6, 3, 2]\n",
      "[9, 5, 6, 3, 2]\n",
      "[9, 6, 5, 3, 2]\n",
      "[9, 6, 5, 3, 2]\n"
     ]
    }
   ],
   "source": [
    "def insertion_sort(arr):\n",
    "    \n",
    "    if len(arr) == 0 or len(arr) == 1:\n",
    "        return arr\n",
    "    \n",
    "    for i in range(len(arr)-2,-1,-1):\n",
    "        for j in range(i, len(arr)-1):\n",
    "            if arr[j] < arr[j+1]:\n",
    "                arr[j], arr[j+1] = arr[j+1], arr[j]\n",
    "                print(arr)\n",
    "            else:\n",
    "                break\n",
    "\n",
    "\n",
    "arr = [5, 2, 9, 3, 6]\n",
    "insertion_sort(arr)\n",
    "print(arr)  "
   ]
  },
  {
   "cell_type": "code",
   "execution_count": null,
   "id": "e757a387",
   "metadata": {},
   "outputs": [],
   "source": []
  }
 ],
 "metadata": {
  "kernelspec": {
   "display_name": "Python 3 (ipykernel)",
   "language": "python",
   "name": "python3"
  },
  "language_info": {
   "codemirror_mode": {
    "name": "ipython",
    "version": 3
   },
   "file_extension": ".py",
   "mimetype": "text/x-python",
   "name": "python",
   "nbconvert_exporter": "python",
   "pygments_lexer": "ipython3",
   "version": "3.9.13"
  }
 },
 "nbformat": 4,
 "nbformat_minor": 5
}
