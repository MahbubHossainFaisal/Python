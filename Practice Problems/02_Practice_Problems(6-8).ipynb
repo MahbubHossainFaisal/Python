{
 "cells": [
  {
   "cell_type": "markdown",
   "id": "eeebccbd",
   "metadata": {},
   "source": [
    "### Merge two sorted Linked List"
   ]
  },
  {
   "cell_type": "code",
   "execution_count": 25,
   "id": "a571e5c1",
   "metadata": {},
   "outputs": [],
   "source": [
    "class LinkedList:\n",
    "    def __init__(self,val=0,next=None):\n",
    "        self.val = val\n",
    "        self.next = None\n",
    "        \n",
    "def createLL(arr):\n",
    "    dummy = LinkedList()\n",
    "    currNode = dummy\n",
    "    \n",
    "    for val in arr:\n",
    "        \n",
    "        currNode.next = LinkedList(val)\n",
    "        currNode = currNode.next\n",
    "        \n",
    "    return dummy.next\n",
    "\n",
    "def mergeLL(ll1,ll2):\n",
    "    if ll2 is None:\n",
    "        return ll1\n",
    "    if ll1 is None:\n",
    "        return ll2\n",
    "    \n",
    "    dummy = LinkedList()\n",
    "    currNode = dummy\n",
    "    \n",
    "    while ll1 and ll2:\n",
    "        if ll1.val <= ll2.val:\n",
    "            currNode.next = LinkedList(ll1.val)\n",
    "            currNode = currNode.next\n",
    "            ll1 = ll1.next\n",
    "        else:\n",
    "            currNode.next = LinkedList(ll2.val)\n",
    "            currNode = currNode.next\n",
    "            ll2 = ll2.next\n",
    "    if ll1:\n",
    "        currNode.next = LinkedList(ll1.val)\n",
    "        currNode = currNode.next\n",
    "        ll1 = ll1.next\n",
    "        \n",
    "    if ll2:\n",
    "        currNode.next = LinkedList(ll2.val)\n",
    "        currNode = currNode.next\n",
    "        ll2 = ll2.next \n",
    "        \n",
    "    return dummy.next\n",
    "\n",
    "def printLL(head):\n",
    "    if head is None:\n",
    "        print('No Linked list to print')\n",
    "    else:\n",
    "        currNode = head\n",
    "        while(currNode != None):\n",
    "            print(currNode.val,end='->')\n",
    "            currNode=currNode.next\n",
    "        \n"
   ]
  },
  {
   "cell_type": "code",
   "execution_count": 26,
   "id": "b994f080",
   "metadata": {},
   "outputs": [
    {
     "name": "stdout",
     "output_type": "stream",
     "text": [
      "1->9->23->174->\n",
      "2->5->7->200->35->"
     ]
    }
   ],
   "source": [
    "# sorted list\n",
    "l1 = [1,9,23,174]\n",
    "l2 = [2,5,7,200,35]\n",
    "\n",
    "ll1 = createLL(l1)\n",
    "ll2 = createLL(l2)\n",
    "printLL(ll1)\n",
    "print()\n",
    "printLL(ll2)"
   ]
  },
  {
   "cell_type": "code",
   "execution_count": 28,
   "id": "c53f1401",
   "metadata": {},
   "outputs": [
    {
     "name": "stdout",
     "output_type": "stream",
     "text": [
      "1->2->5->7->9->23->174->200->NULL\n"
     ]
    }
   ],
   "source": [
    "merged_ll = mergeLL(ll1,ll2)\n",
    "\n",
    "printLL(merged_ll)\n",
    "print('NULL')"
   ]
  },
  {
   "cell_type": "markdown",
   "id": "d583881e",
   "metadata": {},
   "source": [
    "### 7. Find the Middle of Linked List"
   ]
  },
  {
   "cell_type": "code",
   "execution_count": 30,
   "id": "d60d567c",
   "metadata": {},
   "outputs": [
    {
     "name": "stdout",
     "output_type": "stream",
     "text": [
      "23\n"
     ]
    }
   ],
   "source": [
    "def middleElement(head):\n",
    "    if head is None:\n",
    "        return None\n",
    "    \n",
    "    slow = head\n",
    "    fast = head\n",
    "    \n",
    "    while fast and fast.next:\n",
    "        slow = slow.next\n",
    "        if fast.next:\n",
    "            fast = fast.next.next\n",
    "    return slow\n",
    "\n",
    "\n",
    "ans = middleElement(ll1)\n",
    "print(ans.val)"
   ]
  },
  {
   "cell_type": "code",
   "execution_count": null,
   "id": "5d7fcbb0",
   "metadata": {},
   "outputs": [],
   "source": []
  },
  {
   "cell_type": "markdown",
   "id": "2ca59a33",
   "metadata": {},
   "source": [
    "### 8. Maximum Subarray Sum"
   ]
  },
  {
   "cell_type": "code",
   "execution_count": 52,
   "id": "38d5ba79",
   "metadata": {},
   "outputs": [
    {
     "name": "stdout",
     "output_type": "stream",
     "text": [
      "18\n"
     ]
    }
   ],
   "source": [
    "def maxSumSubarray(arr):\n",
    "    elesum=0\n",
    "    maxSum=arr[0]\n",
    "    \n",
    "    for i in range(0,len(arr)):\n",
    "        elesum+=arr[i]\n",
    "        \n",
    "        if maxSum < elesum:\n",
    "            maxSum=elesum\n",
    "        if elesum <0:\n",
    "            elesum=0\n",
    "            \n",
    "    \n",
    "    return maxSum\n",
    "\n",
    "\n",
    "\n",
    "arr=[-1,2,-4,4,5,2,-3,6,-5,9,-2,-1]\n",
    "\n",
    "ans = maxSumSubarray(arr)\n",
    "print(ans)"
   ]
  },
  {
   "cell_type": "markdown",
   "id": "8f913107",
   "metadata": {},
   "source": [
    "### Type 2"
   ]
  },
  {
   "cell_type": "code",
   "execution_count": 53,
   "id": "ad6c4321",
   "metadata": {},
   "outputs": [
    {
     "name": "stdout",
     "output_type": "stream",
     "text": [
      "18\n",
      "[4, 5, 2, -3, 6, -5, 9]\n"
     ]
    }
   ],
   "source": [
    "\n",
    "def maxSumSubarray(arr):\n",
    "    maxSum = arr[0]\n",
    "    currentSum = arr[0]\n",
    "    start = 0\n",
    "    end = 0\n",
    "    currentStart = 0\n",
    "    \n",
    "    for i in range(1, len(arr)):\n",
    "        if arr[i] > currentSum + arr[i]:\n",
    "            currentSum = arr[i]\n",
    "            currentStart = i\n",
    "        else:\n",
    "            currentSum += arr[i]\n",
    "        \n",
    "        if currentSum > maxSum:\n",
    "            maxSum = currentSum\n",
    "            start = currentStart\n",
    "            end = i\n",
    "    \n",
    "    maxSubarray = arr[start:end+1]\n",
    "    \n",
    "    return maxSum, maxSubarray\n",
    "\n",
    "arr = [-1, 2, -4, 4, 5, 2, -3, 6, -5, 9, -2, -1]\n",
    "\n",
    "ans, elements = maxSumSubarray(arr)\n",
    "print(ans)\n",
    "print(elements)\n"
   ]
  },
  {
   "cell_type": "code",
   "execution_count": null,
   "id": "254bac87",
   "metadata": {},
   "outputs": [],
   "source": []
  }
 ],
 "metadata": {
  "kernelspec": {
   "display_name": "Python 3 (ipykernel)",
   "language": "python",
   "name": "python3"
  },
  "language_info": {
   "codemirror_mode": {
    "name": "ipython",
    "version": 3
   },
   "file_extension": ".py",
   "mimetype": "text/x-python",
   "name": "python",
   "nbconvert_exporter": "python",
   "pygments_lexer": "ipython3",
   "version": "3.9.13"
  }
 },
 "nbformat": 4,
 "nbformat_minor": 5
}
