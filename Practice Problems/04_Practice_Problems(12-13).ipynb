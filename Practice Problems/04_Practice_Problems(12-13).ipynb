{
 "cells": [
  {
   "cell_type": "markdown",
   "id": "0620391b",
   "metadata": {},
   "source": [
    "## 12. Implement a Stack using List"
   ]
  },
  {
   "cell_type": "markdown",
   "id": "60c6e49d",
   "metadata": {},
   "source": [
    "isempty,push,pop,peek,size"
   ]
  },
  {
   "cell_type": "code",
   "execution_count": 7,
   "id": "02e036a3",
   "metadata": {},
   "outputs": [],
   "source": [
    "class Stack:\n",
    "    def __init__(self):\n",
    "        self.items=[]\n",
    "        \n",
    "    def is_empty(self):\n",
    "        if len(self.items) == 0:\n",
    "            return True\n",
    "        else:\n",
    "            return False\n",
    "        \n",
    "    def push(self,val):\n",
    "        self.items.append(val)\n",
    "        \n",
    "    def pop(self):\n",
    "        if not self.is_empty():\n",
    "          return  self.items.pop()\n",
    "        else:\n",
    "          raise IndexError(\"pop from empty stack\")     \n",
    "    \n",
    "    def peek(self):\n",
    "        if not self.is_empty():\n",
    "            print(\"peek element: \",self.items[-1])\n",
    "        else:\n",
    "            raise IndexError('No elements in the stack')\n",
    "    \n",
    "    def size(self):\n",
    "        print(\"stack size: \",len(self.items))"
   ]
  },
  {
   "cell_type": "code",
   "execution_count": 9,
   "id": "9913add3",
   "metadata": {},
   "outputs": [
    {
     "name": "stdout",
     "output_type": "stream",
     "text": [
      "peek element:  12\n",
      "stack size:  4\n",
      "peek element:  10\n",
      "stack size:  3\n"
     ]
    }
   ],
   "source": [
    "s1 = Stack()\n",
    "s1.push(5)\n",
    "s1.push(3)\n",
    "s1.push(10)\n",
    "s1.push(11)\n",
    "s1.pop()\n",
    "s1.push(12)\n",
    "s1.peek()\n",
    "s1.size()\n",
    "s1.pop()\n",
    "s1.peek()\n",
    "s1.size()"
   ]
  },
  {
   "cell_type": "markdown",
   "id": "fa71200d",
   "metadata": {},
   "source": [
    "## 12. Stack using LinkedList"
   ]
  },
  {
   "cell_type": "code",
   "execution_count": 12,
   "id": "92c38ec0",
   "metadata": {},
   "outputs": [
    {
     "name": "stdout",
     "output_type": "stream",
     "text": [
      "Stack size: 3\n",
      "Top element: 3\n",
      "Stack contents:\n",
      "3 -> 2 -> 1 -> None\n",
      "Popped element: 3\n",
      "2\n"
     ]
    }
   ],
   "source": [
    "class Node:\n",
    "    def __init__(self, data):\n",
    "        self.data = data\n",
    "        self.next = None\n",
    "\n",
    "class Stack:\n",
    "    def __init__(self):\n",
    "        self.top = None\n",
    "        self.size = 0\n",
    "\n",
    "    def is_empty(self):\n",
    "        return self.size == 0\n",
    "\n",
    "    def push(self, data):\n",
    "        new_node = Node(data)\n",
    "        new_node.next = self.top\n",
    "        self.top = new_node\n",
    "        self.size += 1\n",
    "\n",
    "    def pop(self):\n",
    "        if not self.is_empty():\n",
    "            data = self.top.data\n",
    "            self.top = self.top.next\n",
    "            self.size -= 1\n",
    "            return data\n",
    "        else:\n",
    "            raise IndexError(\"pop from empty stack\")\n",
    "\n",
    "    def peek(self):\n",
    "        if not self.is_empty():\n",
    "            return self.top.data\n",
    "        else:\n",
    "            raise IndexError(\"peek from empty stack\")\n",
    "\n",
    "    def size(self):\n",
    "        return self.size\n",
    "\n",
    "    def display(self):\n",
    "        current = self.top\n",
    "        while current:\n",
    "            print(current.data, end=\" -> \")\n",
    "            current = current.next\n",
    "        print(\"None\")\n",
    "\n",
    "# Example usage:\n",
    "stack = Stack()\n",
    "stack.push(1)\n",
    "stack.push(2)\n",
    "stack.push(3)\n",
    "\n",
    "print(\"Stack size:\", stack.size)  # Output: 3\n",
    "print(\"Top element:\", stack.peek())  # Output: 3\n",
    "\n",
    "print(\"Stack contents:\")\n",
    "stack.display()  # Output: 3 -> 2 -> 1 -> None\n",
    "\n",
    "print(\"Popped element:\", stack.pop())  # Output: 3\n",
    "\n",
    "print(stack.peek())"
   ]
  },
  {
   "cell_type": "markdown",
   "id": "bfdebfff",
   "metadata": {},
   "source": [
    "### 13. Queue using List"
   ]
  },
  {
   "cell_type": "code",
   "execution_count": 13,
   "id": "9b635cc1",
   "metadata": {},
   "outputs": [
    {
     "name": "stdout",
     "output_type": "stream",
     "text": [
      "Queue size: 3\n",
      "Front element: 1\n",
      "Queue contents: [1, 2, 3]\n",
      "Dequeued element: 1\n"
     ]
    }
   ],
   "source": [
    "class Queue:\n",
    "    def __init__(self):\n",
    "        self.items = []\n",
    "\n",
    "    def is_empty(self):\n",
    "        return not bool(self.items)\n",
    "\n",
    "    def enqueue(self, item):\n",
    "        self.items.append(item)\n",
    "\n",
    "    def dequeue(self):\n",
    "        if not self.is_empty():\n",
    "            return self.items.pop(0)  # Remove and return the first item (FIFO)\n",
    "        else:\n",
    "            raise IndexError(\"dequeue from empty queue\")\n",
    "\n",
    "    def peek(self):\n",
    "        if not self.is_empty():\n",
    "            return self.items[0]  # Get the first item without removing it\n",
    "        else:\n",
    "            raise IndexError(\"peek from empty queue\")\n",
    "\n",
    "    def size(self):\n",
    "        return len(self.items)\n",
    "\n",
    "\n",
    "queue = Queue()\n",
    "queue.enqueue(1)\n",
    "queue.enqueue(2)\n",
    "queue.enqueue(3)\n",
    "\n",
    "print(\"Queue size:\", queue.size())  \n",
    "print(\"Front element:\", queue.peek()) \n",
    "\n",
    "print(\"Queue contents:\", queue.items) \n",
    "print(\"Dequeued element:\", queue.dequeue()) \n"
   ]
  },
  {
   "cell_type": "markdown",
   "id": "a2682601",
   "metadata": {},
   "source": [
    "## 13. Queue using LinkedList"
   ]
  },
  {
   "cell_type": "code",
   "execution_count": 15,
   "id": "baa3fd66",
   "metadata": {},
   "outputs": [
    {
     "name": "stdout",
     "output_type": "stream",
     "text": [
      "Queue size: 3\n",
      "Front element: 1\n",
      "Queue contents:\n",
      "1 -> 2 -> 3 -> None\n",
      "Dequeued element: 1\n"
     ]
    }
   ],
   "source": [
    "class Node:\n",
    "    def __init__(self, data):\n",
    "        self.data = data\n",
    "        self.next = None\n",
    "\n",
    "class Queue:\n",
    "    def __init__(self):\n",
    "        self.front = None  # Front of the queue\n",
    "        self.rear = None   # Rear of the queue\n",
    "        self.size = 0\n",
    "\n",
    "    def is_empty(self):\n",
    "        return self.size == 0\n",
    "\n",
    "    def enqueue(self, data):\n",
    "        new_node = Node(data)\n",
    "        if self.is_empty():\n",
    "            self.front = self.rear = new_node\n",
    "        else:\n",
    "            self.rear.next = new_node\n",
    "            self.rear = new_node\n",
    "        self.size += 1\n",
    "\n",
    "    def dequeue(self):\n",
    "        if not self.is_empty():\n",
    "            data = self.front.data\n",
    "            self.front = self.front.next\n",
    "            self.size -= 1\n",
    "            if self.size == 0:\n",
    "                self.rear = None\n",
    "            return data\n",
    "        else:\n",
    "            raise IndexError(\"dequeue from empty queue\")\n",
    "\n",
    "    def peek(self):\n",
    "        if not self.is_empty():\n",
    "            return self.front.data\n",
    "        else:\n",
    "            raise IndexError(\"peek from empty queue\")\n",
    "\n",
    "    def size(self):\n",
    "        return self.size\n",
    "\n",
    "    def display(self):\n",
    "        current = self.front\n",
    "        while current:\n",
    "            print(current.data, end=\" -> \")\n",
    "            current = current.next\n",
    "        print(\"None\")\n",
    "\n",
    "\n",
    "queue = Queue()\n",
    "queue.enqueue(1)\n",
    "queue.enqueue(2)\n",
    "queue.enqueue(3)\n",
    "\n",
    "print(\"Queue size:\", queue.size)  \n",
    "print(\"Front element:\", queue.peek()) \n",
    "\n",
    "print(\"Queue contents:\")\n",
    "queue.display() \n",
    "\n",
    "print(\"Dequeued element:\", queue.dequeue())\n"
   ]
  },
  {
   "cell_type": "code",
   "execution_count": null,
   "id": "db515d7c",
   "metadata": {},
   "outputs": [],
   "source": []
  }
 ],
 "metadata": {
  "kernelspec": {
   "display_name": "Python 3 (ipykernel)",
   "language": "python",
   "name": "python3"
  },
  "language_info": {
   "codemirror_mode": {
    "name": "ipython",
    "version": 3
   },
   "file_extension": ".py",
   "mimetype": "text/x-python",
   "name": "python",
   "nbconvert_exporter": "python",
   "pygments_lexer": "ipython3",
   "version": "3.9.13"
  }
 },
 "nbformat": 4,
 "nbformat_minor": 5
}
