{
 "cells": [
  {
   "cell_type": "markdown",
   "id": "56c91b62",
   "metadata": {},
   "source": [
    "### 9.Binary Tree (Traversals,Check Balance)"
   ]
  },
  {
   "cell_type": "code",
   "execution_count": 1,
   "id": "14430b29",
   "metadata": {},
   "outputs": [],
   "source": [
    "class Node:\n",
    "    def __init__(self,val):\n",
    "        self.left=None\n",
    "        self.right=None\n",
    "        self.val=val"
   ]
  },
  {
   "cell_type": "code",
   "execution_count": 2,
   "id": "f3bb077c",
   "metadata": {},
   "outputs": [],
   "source": [
    "def preOrder(root):\n",
    "    if root:\n",
    "        print(root.val)\n",
    "        preOrder(root.left)\n",
    "        preOrder(root.right)\n",
    "        \n",
    "def postOrder(root):\n",
    "    if root:\n",
    "        preOrder(root.left)\n",
    "        preOrder(root.right)\n",
    "        print(root.val)\n",
    "        \n",
    "def inOrder(root):\n",
    "    if root:\n",
    "        preOrder(root.left)\n",
    "        print(root.val)\n",
    "        preOrder(root.right)\n",
    "\n",
    "def height(root):\n",
    "    if root is None:\n",
    "        return 0\n",
    "    left_height = height(root.left)\n",
    "    right_height = height(root.right)\n",
    "    \n",
    "    return 1 + max(left_height,right_height)\n",
    "\n",
    "\n",
    "def check_balance(root):\n",
    "    if root is None:\n",
    "        return True\n",
    "    left_height=height(root.left)\n",
    "    right_height = height(root.right)\n",
    "    print('left height: ',left_height)\n",
    "    print('right height: ',right_height)\n",
    "    if abs(left_height - right_height) > 1:\n",
    "        return False\n",
    "    return True"
   ]
  },
  {
   "cell_type": "code",
   "execution_count": 3,
   "id": "f9037f93",
   "metadata": {},
   "outputs": [],
   "source": [
    "# Create a sample binary tree\n",
    "root = Node(1)\n",
    "root.left = Node(2)\n",
    "root.right = Node(3)\n",
    "root.left.left = Node(4)\n",
    "root.left.right= Node(5)\n",
    "root.left.right.right  = Node(6)"
   ]
  },
  {
   "cell_type": "code",
   "execution_count": 4,
   "id": "cfc0c182",
   "metadata": {},
   "outputs": [
    {
     "name": "stdout",
     "output_type": "stream",
     "text": [
      "Preorder:\n",
      "1\n",
      "2\n",
      "4\n",
      "5\n",
      "6\n",
      "3\n",
      "Inorder:\n",
      "2\n",
      "4\n",
      "5\n",
      "6\n",
      "1\n",
      "3\n",
      "Postorder:\n",
      "2\n",
      "4\n",
      "5\n",
      "6\n",
      "3\n",
      "1\n"
     ]
    }
   ],
   "source": [
    "print('Preorder:')\n",
    "preOrder(root)\n",
    "print('Inorder:')\n",
    "inOrder(root)\n",
    "print('Postorder:')\n",
    "postOrder(root)"
   ]
  },
  {
   "cell_type": "code",
   "execution_count": 5,
   "id": "b9b780cc",
   "metadata": {},
   "outputs": [
    {
     "name": "stdout",
     "output_type": "stream",
     "text": [
      "left height:  3\n",
      "right height:  1\n"
     ]
    },
    {
     "data": {
      "text/plain": [
       "False"
      ]
     },
     "execution_count": 5,
     "metadata": {},
     "output_type": "execute_result"
    }
   ],
   "source": [
    "check_balance(root)"
   ]
  },
  {
   "cell_type": "markdown",
   "id": "dd67f04b",
   "metadata": {},
   "source": [
    "### 10. Breadth First Search"
   ]
  },
  {
   "cell_type": "code",
   "execution_count": 6,
   "id": "2d644767",
   "metadata": {},
   "outputs": [],
   "source": [
    "import queue"
   ]
  },
  {
   "cell_type": "code",
   "execution_count": 7,
   "id": "4d7e8ced",
   "metadata": {},
   "outputs": [],
   "source": [
    "def bfs(graph,start):\n",
    "    visited = set()\n",
    "    q = queue.Queue()\n",
    "    q.put(start)\n",
    "    \n",
    "    while not q.empty():\n",
    "        node = q.get()\n",
    "        if node not in visited:\n",
    "            print(node)\n",
    "            visited.add(node)\n",
    "        \n",
    "        for neighbor in graph[node]:\n",
    "            if neighbor not in visited:\n",
    "                q.put(neighbor)"
   ]
  },
  {
   "cell_type": "code",
   "execution_count": 8,
   "id": "f91bc11d",
   "metadata": {},
   "outputs": [
    {
     "name": "stdout",
     "output_type": "stream",
     "text": [
      "A\n",
      "B\n",
      "C\n",
      "D\n",
      "E\n",
      "F\n"
     ]
    }
   ],
   "source": [
    "graph =  {\n",
    "    'A': ['B', 'C'],\n",
    "    'B': ['A', 'D', 'E'],\n",
    "    'C': ['A', 'F'],\n",
    "    'D': ['B'],\n",
    "    'E': ['B', 'F'],\n",
    "    'F': ['C', 'E']\n",
    "}\n",
    "\n",
    "bfs(graph,'A')"
   ]
  },
  {
   "cell_type": "markdown",
   "id": "72e342b2",
   "metadata": {},
   "source": [
    "### Depth First Search"
   ]
  },
  {
   "cell_type": "code",
   "execution_count": 3,
   "id": "cec3de38",
   "metadata": {},
   "outputs": [],
   "source": [
    "def dfs(graph, node, visited):\n",
    "    if node not in visited:\n",
    "        print(node)  # Process the node (modify this line for your needs)\n",
    "        visited.add(node)  # Mark the node as visited\n",
    "\n",
    "        for neighbor in graph[node]:\n",
    "            dfs(graph, neighbor, visited)\n"
   ]
  },
  {
   "cell_type": "code",
   "execution_count": 4,
   "id": "c906a154",
   "metadata": {},
   "outputs": [
    {
     "name": "stdout",
     "output_type": "stream",
     "text": [
      "C\n",
      "A\n",
      "B\n",
      "D\n",
      "E\n",
      "F\n"
     ]
    }
   ],
   "source": [
    "graph =  {\n",
    "    'A': ['B', 'C'],\n",
    "    'B': ['A', 'D', 'E'],\n",
    "    'C': ['A', 'F'],\n",
    "    'D': ['B'],\n",
    "    'E': ['B', 'F'],\n",
    "    'F': ['C', 'E']\n",
    "}\n",
    "visited = set()\n",
    "dfs(graph,'C',visited)"
   ]
  },
  {
   "cell_type": "code",
   "execution_count": null,
   "id": "79b0aa3e",
   "metadata": {},
   "outputs": [],
   "source": []
  }
 ],
 "metadata": {
  "kernelspec": {
   "display_name": "Python 3 (ipykernel)",
   "language": "python",
   "name": "python3"
  },
  "language_info": {
   "codemirror_mode": {
    "name": "ipython",
    "version": 3
   },
   "file_extension": ".py",
   "mimetype": "text/x-python",
   "name": "python",
   "nbconvert_exporter": "python",
   "pygments_lexer": "ipython3",
   "version": "3.9.13"
  }
 },
 "nbformat": 4,
 "nbformat_minor": 5
}
