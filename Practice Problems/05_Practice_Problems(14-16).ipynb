{
 "cells": [
  {
   "cell_type": "markdown",
   "id": "8ac0c6fc",
   "metadata": {},
   "source": [
    "## Priority Queue"
   ]
  },
  {
   "cell_type": "code",
   "execution_count": 1,
   "id": "c66825d6",
   "metadata": {},
   "outputs": [],
   "source": [
    "class Priority_Queue:\n",
    "    \n",
    "    def __init__(self):\n",
    "        self.Queue=[]\n",
    "        \n",
    "    def is_empty(self):\n",
    "        return len(self.Queue) == 0\n",
    "    \n",
    "    def insert(self,val,priority):\n",
    "        if type(val) is str and type(priority) is int:\n",
    "            self.Queue.append((val,priority))\n",
    "            self.Queue.sort(key=lambda x:x[1])\n",
    "        else:\n",
    "            print('Please provide valid inputs')\n",
    "            \n",
    "    def remove(self):\n",
    "        if self.is_empty():\n",
    "            print('Queue is empty!')\n",
    "        else:\n",
    "            self.Queue.pop(0)\n",
    "    \n",
    "    def peek(self):\n",
    "        if self.is_empty():\n",
    "            print('Queue is empty!')\n",
    "        else:\n",
    "            print(\"Front element: \",self.Queue[0][0])\n",
    "    \n",
    "    def print_queue(self):\n",
    "        if self.is_empty():\n",
    "            print('Queue is empty!')\n",
    "        else:\n",
    "            for i in range(len(self.Queue)):\n",
    "                print(self.Queue[i][0],end=' <--- ')\n",
    "            print()"
   ]
  },
  {
   "cell_type": "code",
   "execution_count": 2,
   "id": "2753b23d",
   "metadata": {},
   "outputs": [
    {
     "name": "stdout",
     "output_type": "stream",
     "text": [
      "Task 1 <--- Task 2 <--- Task 3 <--- Task 4 <--- \n",
      "Task 2 <--- Task 3 <--- Task 4 <--- \n",
      "Front element:  Task 2\n",
      "Task 3 <--- Task 4 <--- \n",
      "Task 4 <--- \n",
      "Queue is empty!\n"
     ]
    }
   ],
   "source": [
    "pq = Priority_Queue()\n",
    "\n",
    "pq.insert('Task 3',3)\n",
    "pq.insert('Task 1',1)\n",
    "pq.insert('Task 4',4)\n",
    "pq.insert('Task 2',2)\n",
    "pq.print_queue()\n",
    "pq.remove()\n",
    "pq.print_queue()\n",
    "pq.peek()\n",
    "pq.remove()\n",
    "pq.print_queue()\n",
    "pq.remove()\n",
    "pq.print_queue()\n",
    "pq.remove()\n",
    "pq.print_queue()"
   ]
  },
  {
   "cell_type": "markdown",
   "id": "3463a7dd",
   "metadata": {},
   "source": [
    "## Hashmap using 2D matrix"
   ]
  },
  {
   "cell_type": "code",
   "execution_count": 35,
   "id": "fd4678b2",
   "metadata": {},
   "outputs": [
    {
     "name": "stdout",
     "output_type": "stream",
     "text": [
      "HashMap: [[], [('age', 30), ('city', 'New York')], [], [], [], [], [], [('name', 'Alice'), ('ehoe', 'ball')], [], []]\n",
      "Get 'name': Alice\n",
      "('age', 30)  is deleted!\n",
      "HashMap after removing 'age': [[], [('city', 'New York')], [], [], [], [], [], [('name', 'Alice'), ('ehoe', 'ball')], [], []]\n",
      "('name', 'Alice')  is deleted!\n",
      "HashMap after removing 'age': [[], [('city', 'New York')], [], [], [], [], [], [('ehoe', 'ball')], [], []]\n"
     ]
    }
   ],
   "source": [
    "class HashMap:\n",
    "    def __init__(self):\n",
    "        self.size = 10\n",
    "        self.arr = [[] for i in range(self.size)]\n",
    "    \n",
    "    def _hash(self,key):\n",
    "        h = 0\n",
    "        for i in key:\n",
    "            h+=ord(i)\n",
    "        return h%self.size\n",
    "    \n",
    "    def put(self,key,val):\n",
    "        index = self._hash(key)\n",
    "        found = False\n",
    "        for idx,element in enumerate(self.arr[index]):\n",
    "            if element[0] == key and len(element) == 2:\n",
    "                self.arr[index][idx] = (key,val)\n",
    "                found = True\n",
    "        if not found:\n",
    "            self.arr[index].append((key,val))\n",
    "            \n",
    "            \n",
    "    def get(self,key):\n",
    "        index = self._hash(key)\n",
    "        \n",
    "        for i in self.arr[index]:\n",
    "            if i[0] == key:\n",
    "                return i[1]\n",
    "            \n",
    "        return None\n",
    "    \n",
    "    def remove(self,key):\n",
    "        index = self._hash(key)\n",
    "        \n",
    "        for idx,element in enumerate(self.arr[index]):\n",
    "            if element[0] == key:\n",
    "                print(self.arr[index][idx],' is deleted!')\n",
    "                del self.arr[index][idx]\n",
    "\n",
    "    \n",
    "\n",
    "\n",
    "hashmap = HashMap()\n",
    "hashmap.put(\"name\", \"Alice\")\n",
    "hashmap.put(\"ehoe\",\"ball\")\n",
    "hashmap.put(\"age\", 30)\n",
    "hashmap.put(\"city\", \"New York\")\n",
    "\n",
    "print(\"HashMap:\", hashmap.arr)\n",
    "print(\"Get 'name':\", hashmap.get(\"name\"))\n",
    "hashmap.remove(\"age\")\n",
    "print(\"HashMap after removing 'age':\", hashmap.arr)\n",
    "hashmap.remove(\"name\")\n",
    "print(\"HashMap after removing 'age':\", hashmap.arr)"
   ]
  },
  {
   "cell_type": "code",
   "execution_count": 25,
   "id": "b15b2721",
   "metadata": {},
   "outputs": [
    {
     "name": "stdout",
     "output_type": "stream",
     "text": [
      "417\n"
     ]
    }
   ],
   "source": [
    "h=0\n",
    "for i in \"ehoe\":\n",
    "    h+=ord(i)\n",
    "print(h)"
   ]
  },
  {
   "cell_type": "markdown",
   "id": "a939d4fa",
   "metadata": {},
   "source": [
    "### Hashmap using Dictionary"
   ]
  },
  {
   "cell_type": "code",
   "execution_count": null,
   "id": "cbc40b05",
   "metadata": {},
   "outputs": [],
   "source": [
    "class HashMap:\n",
    "    def __init__(self):\n",
    "        self.hashmap={}\n",
    "        \n",
    "    def put(self,key,val):\n",
    "        self.hashmap[key]=val\n",
    "        \n",
    "    def get(self,key):\n",
    "        if key in self.hashmap:\n",
    "            return self.hashmap[key]\n",
    "        else:\n",
    "            return None\n",
    "        \n",
    "    def remove(self,key):\n",
    "        if key in self.hashmap:\n",
    "            del self.hashmap[key]\n",
    "            return\n",
    "        \n",
    "    def __str__(self):\n",
    "        return str(self.hashmap)\n",
    "    \n",
    "    \n",
    "hashmap = HashMap()\n",
    "hashmap.put(\"name\", \"Alice\")\n",
    "hashmap.put(\"age\", 30)\n",
    "hashmap.put(\"city\", \"New York\")\n",
    "\n",
    "print(\"HashMap:\", hashmap)\n",
    "print(\"Get 'name':\", hashmap.get(\"name\"))\n",
    "hashmap.remove(\"age\")\n",
    "print(\"HashMap after removing 'age':\", hashmap)"
   ]
  },
  {
   "cell_type": "markdown",
   "id": "b40cb8dc",
   "metadata": {},
   "source": [
    "## Binary Search"
   ]
  },
  {
   "cell_type": "code",
   "execution_count": null,
   "id": "e0e413a8",
   "metadata": {},
   "outputs": [],
   "source": [
    "def binary_search(arr, target):\n",
    "    left = 0\n",
    "    right = len(arr) - 1\n",
    "\n",
    "    while left <= right:\n",
    "        mid = left + (right - left) // 2\n",
    "\n",
    "        if arr[mid] == target:\n",
    "            return mid\n",
    "        elif arr[mid] < target:\n",
    "            left = mid + 1\n",
    "        else:\n",
    "            right = mid - 1\n",
    "\n",
    "    return -1  \n",
    "\n",
    "\n",
    "arr = [1, 3, 5, 7, 9, 11, 13]\n",
    "target = 7\n",
    "\n",
    "result = binary_search(arr, target)\n",
    "if result != -1:\n",
    "    print(f\"Target {target} found at index {result}.\")\n",
    "else:\n",
    "    print(f\"Target {target} not found in the array.\")\n"
   ]
  },
  {
   "cell_type": "code",
   "execution_count": null,
   "id": "4853d458",
   "metadata": {},
   "outputs": [],
   "source": []
  }
 ],
 "metadata": {
  "kernelspec": {
   "display_name": "Python 3 (ipykernel)",
   "language": "python",
   "name": "python3"
  },
  "language_info": {
   "codemirror_mode": {
    "name": "ipython",
    "version": 3
   },
   "file_extension": ".py",
   "mimetype": "text/x-python",
   "name": "python",
   "nbconvert_exporter": "python",
   "pygments_lexer": "ipython3",
   "version": "3.9.13"
  }
 },
 "nbformat": 4,
 "nbformat_minor": 5
}
