{
 "cells": [
  {
   "cell_type": "markdown",
   "id": "8ac0c6fc",
   "metadata": {},
   "source": [
    "## Priority Queue"
   ]
  },
  {
   "cell_type": "code",
   "execution_count": 19,
   "id": "c66825d6",
   "metadata": {},
   "outputs": [],
   "source": [
    "class Priority_Queue:\n",
    "    \n",
    "    def __init__(self):\n",
    "        self.Queue=[]\n",
    "        \n",
    "    def is_empty(self):\n",
    "        return len(self.Queue) == 0\n",
    "    \n",
    "    def insert(self,val,priority):\n",
    "        if type(val) is str and type(priority) is int:\n",
    "            self.Queue.append((val,priority))\n",
    "            self.Queue.sort(key=lambda x:x[1])\n",
    "        else:\n",
    "            print('Please provide valid inputs')\n",
    "            \n",
    "    def remove(self):\n",
    "        if self.is_empty():\n",
    "            print('Queue is empty!')\n",
    "        else:\n",
    "            self.Queue.pop(0)\n",
    "    \n",
    "    def peek(self):\n",
    "        if self.is_empty():\n",
    "            print('Queue is empty!')\n",
    "        else:\n",
    "            print(\"Front element: \",self.Queue[0][0])\n",
    "    \n",
    "    def print_queue(self):\n",
    "        if self.is_empty():\n",
    "            print('Queue is empty!')\n",
    "        else:\n",
    "            for i in range(len(self.Queue)):\n",
    "                print(self.Queue[i][0],end=' <--- ')\n",
    "            print()"
   ]
  },
  {
   "cell_type": "code",
   "execution_count": 23,
   "id": "2753b23d",
   "metadata": {},
   "outputs": [
    {
     "name": "stdout",
     "output_type": "stream",
     "text": [
      "Task 1 <--- Task 2 <--- Task 3 <--- Task 4 <--- \n",
      "Task 2 <--- Task 3 <--- Task 4 <--- \n",
      "Front element:  Task 2\n",
      "Task 3 <--- Task 4 <--- \n",
      "Task 4 <--- \n",
      "Queue is empty!\n"
     ]
    }
   ],
   "source": [
    "pq = Priority_Queue()\n",
    "\n",
    "pq.insert('Task 3',3)\n",
    "pq.insert('Task 1',1)\n",
    "pq.insert('Task 4',4)\n",
    "pq.insert('Task 2',2)\n",
    "pq.print_queue()\n",
    "pq.remove()\n",
    "pq.print_queue()\n",
    "pq.peek()\n",
    "pq.remove()\n",
    "pq.print_queue()\n",
    "pq.remove()\n",
    "pq.print_queue()\n",
    "pq.remove()\n",
    "pq.print_queue()"
   ]
  },
  {
   "cell_type": "markdown",
   "id": "3463a7dd",
   "metadata": {},
   "source": [
    "## Hashmap using 2D matrix"
   ]
  },
  {
   "cell_type": "code",
   "execution_count": 12,
   "id": "fd4678b2",
   "metadata": {},
   "outputs": [
    {
     "name": "stdout",
     "output_type": "stream",
     "text": [
      "HashMap: [[], [('age', 30)], [], [], [], [('name', 'Alice')], [('city', 'New York')], [], [], []]\n",
      "Get 'name': Alice\n",
      "HashMap after removing 'age': [[], [], [], [], [], [('name', 'Alice')], [('city', 'New York')], [], [], []]\n"
     ]
    }
   ],
   "source": [
    "class HashMap:\n",
    "    def __init__(self, size=10):\n",
    "        self.size = size\n",
    "        self.hashmap = [[] for _ in range(size)]\n",
    "\n",
    "    def _hash(self, key):\n",
    "        return hash(key) % self.size\n",
    "\n",
    "    def put(self, key, value):\n",
    "        index = self._hash(key)\n",
    "        for i, (existing_key, _) in enumerate(self.hashmap[index]):\n",
    "            if existing_key == key:\n",
    "                self.hashmap[index][i] = (key, value)\n",
    "                return\n",
    "        self.hashmap[index].append((key, value))\n",
    "\n",
    "    def get(self, key):\n",
    "        index = self._hash(key)\n",
    "        for existing_key, value in self.hashmap[index]:\n",
    "            if existing_key == key:\n",
    "                return value\n",
    "        return None\n",
    "\n",
    "    def remove(self, key):\n",
    "        index = self._hash(key)\n",
    "        for i, (existing_key, _) in enumerate(self.hashmap[index]):\n",
    "            if existing_key == key:\n",
    "                del self.hashmap[index][i]\n",
    "                return\n",
    "\n",
    "    def __str__(self):\n",
    "        return str(self.hashmap)\n",
    "\n",
    "\n",
    "hashmap = HashMap()\n",
    "hashmap.put(\"name\", \"Alice\")\n",
    "hashmap.put(\"age\", 30)\n",
    "hashmap.put(\"city\", \"New York\")\n",
    "\n",
    "print(\"HashMap:\", hashmap)\n",
    "print(\"Get 'name':\", hashmap.get(\"name\"))\n",
    "hashmap.remove(\"age\")\n",
    "print(\"HashMap after removing 'age':\", hashmap)\n"
   ]
  },
  {
   "cell_type": "markdown",
   "id": "a939d4fa",
   "metadata": {},
   "source": [
    "### Hashmap using Dictionary"
   ]
  },
  {
   "cell_type": "code",
   "execution_count": 13,
   "id": "cbc40b05",
   "metadata": {},
   "outputs": [
    {
     "name": "stdout",
     "output_type": "stream",
     "text": [
      "HashMap: {'name': 'Alice', 'age': 30, 'city': 'New York'}\n",
      "Get 'name': Alice\n",
      "HashMap after removing 'age': {'name': 'Alice', 'city': 'New York'}\n"
     ]
    }
   ],
   "source": [
    "class HashMap:\n",
    "    def __init__(self):\n",
    "        self.hashmap={}\n",
    "        \n",
    "    def put(self,key,val):\n",
    "        self.hashmap[key]=val\n",
    "        \n",
    "    def get(self,key):\n",
    "        if key in self.hashmap:\n",
    "            return self.hashmap[key]\n",
    "        else:\n",
    "            return None\n",
    "        \n",
    "    def remove(self,key):\n",
    "        if key in self.hashmap:\n",
    "            del self.hashmap[key]\n",
    "            return\n",
    "        \n",
    "    def __str__(self):\n",
    "        return str(self.hashmap)\n",
    "    \n",
    "    \n",
    "hashmap = HashMap()\n",
    "hashmap.put(\"name\", \"Alice\")\n",
    "hashmap.put(\"age\", 30)\n",
    "hashmap.put(\"city\", \"New York\")\n",
    "\n",
    "print(\"HashMap:\", hashmap)\n",
    "print(\"Get 'name':\", hashmap.get(\"name\"))\n",
    "hashmap.remove(\"age\")\n",
    "print(\"HashMap after removing 'age':\", hashmap)"
   ]
  },
  {
   "cell_type": "markdown",
   "id": "b40cb8dc",
   "metadata": {},
   "source": [
    "## Binary Search"
   ]
  },
  {
   "cell_type": "code",
   "execution_count": 2,
   "id": "e0e413a8",
   "metadata": {},
   "outputs": [
    {
     "name": "stdout",
     "output_type": "stream",
     "text": [
      "Target 7 found at index 3.\n"
     ]
    }
   ],
   "source": [
    "def binary_search(arr, target):\n",
    "    left = 0\n",
    "    right = len(arr) - 1\n",
    "\n",
    "    while left <= right:\n",
    "        mid = left + (right - left) // 2\n",
    "\n",
    "        if arr[mid] == target:\n",
    "            return mid\n",
    "        elif arr[mid] < target:\n",
    "            left = mid + 1\n",
    "        else:\n",
    "            right = mid - 1\n",
    "\n",
    "    return -1  \n",
    "\n",
    "\n",
    "arr = [1, 3, 5, 7, 9, 11, 13]\n",
    "target = 7\n",
    "\n",
    "result = binary_search(arr, target)\n",
    "if result != -1:\n",
    "    print(f\"Target {target} found at index {result}.\")\n",
    "else:\n",
    "    print(f\"Target {target} not found in the array.\")\n"
   ]
  },
  {
   "cell_type": "code",
   "execution_count": null,
   "id": "4853d458",
   "metadata": {},
   "outputs": [],
   "source": []
  }
 ],
 "metadata": {
  "kernelspec": {
   "display_name": "Python 3 (ipykernel)",
   "language": "python",
   "name": "python3"
  },
  "language_info": {
   "codemirror_mode": {
    "name": "ipython",
    "version": 3
   },
   "file_extension": ".py",
   "mimetype": "text/x-python",
   "name": "python",
   "nbconvert_exporter": "python",
   "pygments_lexer": "ipython3",
   "version": "3.9.13"
  }
 },
 "nbformat": 4,
 "nbformat_minor": 5
}
