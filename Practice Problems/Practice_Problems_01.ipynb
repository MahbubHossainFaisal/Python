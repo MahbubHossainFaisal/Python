{
 "cells": [
  {
   "cell_type": "markdown",
   "id": "4fc4db47",
   "metadata": {},
   "source": [
    "## 1. Reverse a String"
   ]
  },
  {
   "cell_type": "code",
   "execution_count": 1,
   "id": "bc646c2f",
   "metadata": {},
   "outputs": [
    {
     "name": "stdout",
     "output_type": "stream",
     "text": [
      "lasiaF\n"
     ]
    }
   ],
   "source": [
    "def rev(s):\n",
    "    return s[::-1]\n",
    "\n",
    "inpt = 'Faisal'\n",
    "ans = rev(inpt)\n",
    "print(ans)"
   ]
  },
  {
   "cell_type": "markdown",
   "id": "8b1b8e3d",
   "metadata": {},
   "source": [
    "We cannot use traditional swapping technique here because in python, strings are immutable."
   ]
  },
  {
   "cell_type": "markdown",
   "id": "c350fb53",
   "metadata": {},
   "source": [
    "## 2. Check Pallindrome"
   ]
  },
  {
   "cell_type": "code",
   "execution_count": 2,
   "id": "b3a3dd71",
   "metadata": {},
   "outputs": [
    {
     "name": "stdout",
     "output_type": "stream",
     "text": [
      "It is a pallindrome\n"
     ]
    }
   ],
   "source": [
    "def pallindrome(word):\n",
    "    first = 0\n",
    "    last = len(word)-1\n",
    "    \n",
    "    while first <= last:\n",
    "        if word[first] != word[last]:\n",
    "            return False\n",
    "        first+=1\n",
    "        last-=1\n",
    "    return True\n",
    "\n",
    "\n",
    "word = 'mammammam'\n",
    "ans = pallindrome(word)\n",
    "if ans:\n",
    "    print('It is a pallindrome')\n",
    "else:\n",
    "    print('It is not a pallindrome')"
   ]
  },
  {
   "cell_type": "markdown",
   "id": "77aacfe9",
   "metadata": {},
   "source": [
    "## 3.Find Factorial"
   ]
  },
  {
   "cell_type": "code",
   "execution_count": 6,
   "id": "eb593cfb",
   "metadata": {},
   "outputs": [
    {
     "name": "stdout",
     "output_type": "stream",
     "text": [
      "3628800\n"
     ]
    }
   ],
   "source": [
    "def fact(number):\n",
    "    if number <= 1:\n",
    "        return 1\n",
    "    return number*fact(number-1)\n",
    "\n",
    "num = 10\n",
    "ans = fact(num)\n",
    "print(ans)"
   ]
  },
  {
   "cell_type": "markdown",
   "id": "c3b1e5d5",
   "metadata": {},
   "source": [
    "## 4.Fibonacci Series"
   ]
  },
  {
   "cell_type": "code",
   "execution_count": 21,
   "id": "e0e13598",
   "metadata": {},
   "outputs": [
    {
     "name": "stdout",
     "output_type": "stream",
     "text": [
      "8\n"
     ]
    }
   ],
   "source": [
    "def fib(num):\n",
    "    if num <= 1:\n",
    "        return num\n",
    "    return fib(num-1)+fib(num-2)\n",
    "\n",
    "num = 6\n",
    "ans = fib(num)\n",
    "print(ans)"
   ]
  },
  {
   "cell_type": "markdown",
   "id": "a96b8f6c",
   "metadata": {},
   "source": [
    "## 5. Linked_List_Cycle_Detection"
   ]
  },
  {
   "cell_type": "code",
   "execution_count": 22,
   "id": "d80e9d0b",
   "metadata": {},
   "outputs": [],
   "source": [
    "class ListNode:\n",
    "    def __init__(self, value=0, next=None):\n",
    "        self.value = value\n",
    "        self.next = next\n",
    "\n",
    "def has_cycle(node):\n",
    "    slow, fast = node, node\n",
    "    while fast and fast.next:\n",
    "        slow = slow.next\n",
    "        fast = fast.next.next\n",
    "        if slow == fast:\n",
    "            return True\n",
    "    return False"
   ]
  },
  {
   "cell_type": "code",
   "execution_count": null,
   "id": "a9018b0e",
   "metadata": {},
   "outputs": [],
   "source": []
  }
 ],
 "metadata": {
  "kernelspec": {
   "display_name": "Python 3 (ipykernel)",
   "language": "python",
   "name": "python3"
  },
  "language_info": {
   "codemirror_mode": {
    "name": "ipython",
    "version": 3
   },
   "file_extension": ".py",
   "mimetype": "text/x-python",
   "name": "python",
   "nbconvert_exporter": "python",
   "pygments_lexer": "ipython3",
   "version": "3.9.13"
  }
 },
 "nbformat": 4,
 "nbformat_minor": 5
}
