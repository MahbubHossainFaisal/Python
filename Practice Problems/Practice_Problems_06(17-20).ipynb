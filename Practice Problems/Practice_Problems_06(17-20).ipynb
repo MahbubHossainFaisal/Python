{
 "cells": [
  {
   "cell_type": "markdown",
   "id": "3cf9cb82",
   "metadata": {},
   "source": [
    "### Trie Implementation"
   ]
  },
  {
   "cell_type": "code",
   "execution_count": 14,
   "id": "913a6430",
   "metadata": {},
   "outputs": [],
   "source": [
    "class TrieNode:\n",
    "    def __init__(self):\n",
    "        self.children = {}\n",
    "        self.is_end_of_word = False\n",
    "        \n",
    "class Trie:\n",
    "    def __init__(self):\n",
    "        self.root = TrieNode()\n",
    "        \n",
    "    def insert(self,word):\n",
    "        currentNode = self.root\n",
    "        \n",
    "        for char in word:\n",
    "            if char not in currentNode.children:\n",
    "                currentNode.children[char] = TrieNode()\n",
    "            \n",
    "            currentNode = currentNode.children[char]\n",
    "        currentNode.is_end_of_word = True\n",
    "        \n",
    "    def search(self,word):\n",
    "        currentNode = self.root\n",
    "        \n",
    "        for char in word:\n",
    "            if char not in currentNode.children:\n",
    "                return False\n",
    "            currentNode = currentNode.children[char]\n",
    "        \n",
    "        return currentNode.is_end_of_word\n",
    "    \n",
    "    def starts_with(self,prefix):\n",
    "        currentNode = self.root\n",
    "        \n",
    "        for char in prefix:\n",
    "            if char not in currentNode.children:\n",
    "                return False\n",
    "            currentNode = currentNode.children[char]\n",
    "            \n",
    "        return True\n",
    "    \n",
    "    "
   ]
  },
  {
   "cell_type": "code",
   "execution_count": 15,
   "id": "7d42c585",
   "metadata": {},
   "outputs": [
    {
     "name": "stdout",
     "output_type": "stream",
     "text": [
      "True\n",
      "True\n",
      "False\n",
      "True\n",
      "True\n"
     ]
    }
   ],
   "source": [
    "trie = Trie()\n",
    "trie.insert(\"apple\")\n",
    "trie.insert(\"app\")\n",
    "trie.insert(\"apply\")\n",
    "print(trie.search(\"apple\"))  \n",
    "print(trie.search(\"app\")) \n",
    "print(trie.search(\"ap\"))  \n",
    "print(trie.starts_with(\"ap\"))  \n",
    "print(trie.search(\"apply\"))"
   ]
  },
  {
   "cell_type": "markdown",
   "id": "4249725f",
   "metadata": {},
   "source": [
    "### 18. Find First and Last Position of Element in Sorted Array"
   ]
  },
  {
   "cell_type": "code",
   "execution_count": 33,
   "id": "36dd72ef",
   "metadata": {},
   "outputs": [],
   "source": [
    "def find(nums,target):\n",
    "    left = 0\n",
    "    right = len(nums)-1\n",
    "    \n",
    "    while left <= right:\n",
    "        mid = (left+right)//2\n",
    "        if target <= nums[mid]:\n",
    "            right = mid-1\n",
    "        else:\n",
    "            left = mid+1\n",
    "            \n",
    "    return left"
   ]
  },
  {
   "cell_type": "code",
   "execution_count": 34,
   "id": "a41ebdfb",
   "metadata": {},
   "outputs": [
    {
     "name": "stdout",
     "output_type": "stream",
     "text": [
      "10 9\n",
      "[-1, -1]\n"
     ]
    }
   ],
   "source": [
    "nums = [5,12,12,12,12,15,17,20,21,22]\n",
    "target = 200\n",
    "left , right = find(nums,target), find(nums,target+1)-1\n",
    "print(left,right)\n",
    "if left <= right:\n",
    "    print( [left,right])\n",
    "\n",
    "else:\n",
    "    print([-1,-1])"
   ]
  },
  {
   "cell_type": "code",
   "execution_count": 25,
   "id": "3da2a60e",
   "metadata": {},
   "outputs": [
    {
     "name": "stdout",
     "output_type": "stream",
     "text": [
      "7 6\n"
     ]
    }
   ],
   "source": []
  },
  {
   "cell_type": "code",
   "execution_count": 68,
   "id": "2a062622",
   "metadata": {},
   "outputs": [],
   "source": [
    "class Graph:\n",
    "    def __init__(self, vertices):\n",
    "        self.graph = {}\n",
    "        self.vertices = vertices\n",
    "\n",
    "    def addEdge(self, u, v):\n",
    "        if u in self.graph:\n",
    "            self.graph[u].append(v)\n",
    "            print(self.graph[u])\n",
    "        else:\n",
    "            self.graph[u] = [v]\n",
    "            print(self.graph[u])\n",
    "\n",
    "    def topologicalSort(self):\n",
    "        visited = [False] * self.vertices\n",
    "        stack = []\n",
    "\n",
    "        def dfs(node):\n",
    "            visited[node] = True\n",
    "            if node in self.graph:\n",
    "                for neighbor in self.graph[node]:\n",
    "                    if not visited[neighbor]:\n",
    "                        dfs(neighbor)\n",
    "            stack.insert(0, node)\n",
    "\n",
    "        for i in range(self.vertices):\n",
    "            if not visited[i]:\n",
    "                dfs(i)\n",
    "\n",
    "        return stack\n",
    "\n"
   ]
  },
  {
   "cell_type": "code",
   "execution_count": 69,
   "id": "a6dec65b",
   "metadata": {},
   "outputs": [
    {
     "name": "stdout",
     "output_type": "stream",
     "text": [
      "[1]\n",
      "[1, 2]\n",
      "[3]\n",
      "[3, 6]\n",
      "[3]\n",
      "[4]\n",
      "Topological Order: [5, 0, 2, 1, 6, 3, 4]\n"
     ]
    }
   ],
   "source": [
    "g = Graph(7)\n",
    "g.addEdge(0, 1)\n",
    "g.addEdge(0, 2)\n",
    "g.addEdge(1, 3)\n",
    "g.addEdge(1, 6)\n",
    "g.addEdge(2, 3)\n",
    "g.addEdge(3, 4)\n",
    "\n",
    "topological_order = g.topologicalSort()\n",
    "print(\"Topological Order:\", topological_order)\n"
   ]
  },
  {
   "cell_type": "markdown",
   "id": "9776c95b",
   "metadata": {},
   "source": [
    "### 20. Check if a String Contains All Binary Codes of Size K"
   ]
  },
  {
   "cell_type": "code",
   "execution_count": 2,
   "id": "2391cb8d",
   "metadata": {},
   "outputs": [
    {
     "name": "stdout",
     "output_type": "stream",
     "text": [
      "True\n"
     ]
    }
   ],
   "source": [
    "def hasAllCodes(s, k):\n",
    "    bucket = set()\n",
    "\n",
    "    for i in range(len(s)-k+1):\n",
    "        bucket.add(s[i:i+k])\n",
    "\n",
    "    if len(bucket) == 2**k:\n",
    "        return True\n",
    "    else:\n",
    "        return False\n",
    "\n",
    "ans = hasAllCodes('001100110110',2)\n",
    "\n",
    "print(ans)\n",
    "        \n"
   ]
  },
  {
   "cell_type": "code",
   "execution_count": null,
   "id": "f07c3556",
   "metadata": {},
   "outputs": [],
   "source": []
  }
 ],
 "metadata": {
  "kernelspec": {
   "display_name": "Python 3 (ipykernel)",
   "language": "python",
   "name": "python3"
  },
  "language_info": {
   "codemirror_mode": {
    "name": "ipython",
    "version": 3
   },
   "file_extension": ".py",
   "mimetype": "text/x-python",
   "name": "python",
   "nbconvert_exporter": "python",
   "pygments_lexer": "ipython3",
   "version": "3.9.13"
  }
 },
 "nbformat": 4,
 "nbformat_minor": 5
}
