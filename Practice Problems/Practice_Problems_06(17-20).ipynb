{
 "cells": [
  {
   "cell_type": "code",
   "execution_count": 12,
   "id": "f02b0004",
   "metadata": {},
   "outputs": [],
   "source": [
    "class TrieNode:\n",
    "    def __init__(self):\n",
    "        self.children = {}\n",
    "        self.is_end_of_word = False\n",
    "        \n",
    "class Trie:\n",
    "    def __init__(self):\n",
    "        self.root = TrieNode()\n",
    "        \n",
    "    def insert(self,word):\n",
    "        currentNode = self.root\n",
    "        \n",
    "        for char in word:\n",
    "            if char not in currentNode.children:\n",
    "                currentNode.children[char] = TrieNode()\n",
    "            \n",
    "            currentNode = currentNode.children[char]\n",
    "        currentNode.is_end_of_word = True\n",
    "        \n",
    "    def search(self,word):\n",
    "        currentNode = self.root\n",
    "        \n",
    "        for char in word:\n",
    "            if char not in currentNode.children:\n",
    "                return False\n",
    "            currentNode = currentNode.children[char]\n",
    "        \n",
    "        return currentNode.is_end_of_word\n",
    "    \n",
    "    def starts_with(self,prefix):\n",
    "        currentNode = self.root\n",
    "        \n",
    "        for char in prefix:\n",
    "            if char not in currentNode.children:\n",
    "                return False\n",
    "            currentNode = currentNode.children[char]\n",
    "            \n",
    "        return True\n",
    "    \n",
    "    "
   ]
  },
  {
   "cell_type": "code",
   "execution_count": 13,
   "id": "057cab2c",
   "metadata": {},
   "outputs": [
    {
     "name": "stdout",
     "output_type": "stream",
     "text": [
      "True\n",
      "True\n",
      "False\n",
      "True\n",
      "True\n"
     ]
    }
   ],
   "source": [
    "trie = Trie()\n",
    "trie.insert(\"apple\")\n",
    "trie.insert(\"app\")\n",
    "trie.insert(\"apply\")\n",
    "print(trie.search(\"apple\"))  \n",
    "print(trie.search(\"app\")) \n",
    "print(trie.search(\"ap\"))  \n",
    "print(trie.starts_with(\"ap\"))  \n",
    "print(trie.search(\"apply\"))"
   ]
  },
  {
   "cell_type": "code",
   "execution_count": null,
   "id": "72221165",
   "metadata": {},
   "outputs": [],
   "source": []
  }
 ],
 "metadata": {
  "kernelspec": {
   "display_name": "Python 3 (ipykernel)",
   "language": "python",
   "name": "python3"
  },
  "language_info": {
   "codemirror_mode": {
    "name": "ipython",
    "version": 3
   },
   "file_extension": ".py",
   "mimetype": "text/x-python",
   "name": "python",
   "nbconvert_exporter": "python",
   "pygments_lexer": "ipython3",
   "version": "3.9.13"
  }
 },
 "nbformat": 4,
 "nbformat_minor": 5
}
