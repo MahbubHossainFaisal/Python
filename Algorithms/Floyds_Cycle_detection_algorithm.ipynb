{
 "cells": [
  {
   "cell_type": "markdown",
   "id": "7975a162-871c-4213-8e79-64e2f42b28d5",
   "metadata": {},
   "source": [
    "Let's go through the algorithm in a clear and understandable way:\n",
    "\n",
    "Step 1: Understanding the Linked List\n",
    "A linked list is a data structure where each element is a node that contains data and a reference (pointer) to the next node in the list. The last node typically points to None (null) to indicate the end of the list. Cycles occur when a node points back to a previous node in the list, creating a loop.\n",
    "\n",
    "Step 2: Initialize the Pointers\n",
    "We start by initializing two pointers, slow and fast, both pointing to the head of the linked list. The slow pointer advances one step at a time, while the fast pointer advances two steps at a time.\n",
    "\n",
    "Step 3: Traverse the Linked List\n",
    "We continuously move the pointers through the linked list until either the fast pointer reaches the end (points to None) or the two pointers meet (indicating a cycle).\n",
    "\n",
    "Step 4: Detecting the Cycle\n",
    "If the fast pointer reaches the end (points to None), it means there is no cycle in the linked list. However, if the two pointers meet, there is a cycle in the list.\n",
    "\n",
    "Step 5: Find the Cycle's Start (Optional)\n",
    "If there is a cycle, we can optionally find the start of the cycle using the following approach:\n",
    "   a. Reset the slow pointer to the head of the linked list.\n",
    "   b. Move both pointers (slow and fast) one step at a time until they meet again. The point where they meet will be the start of the cycle."
   ]
  },
  {
   "cell_type": "markdown",
   "id": "19ee396a-17b8-4956-abae-2015625645a1",
   "metadata": {},
   "source": [
    "Leetcode link : https://leetcode.com/problems/linked-list-cycle/submissions/"
   ]
  },
  {
   "cell_type": "code",
   "execution_count": null,
   "id": "1daa1923-005f-4163-b8d8-41f2ad6c3495",
   "metadata": {},
   "outputs": [],
   "source": [
    "# Definition for singly-linked list.\n",
    "# class ListNode:\n",
    "#     def __init__(self, x):\n",
    "#         self.val = x\n",
    "#         self.next = None\n",
    "\n",
    "class Solution:\n",
    "    def hasCycle(self, head: Optional[ListNode]) -> bool:\n",
    "        slow = head\n",
    "        fast = head\n",
    "\n",
    "        tail = head\n",
    "\n",
    "        while(tail):\n",
    "            slow = slow.next\n",
    "            if fast.next:\n",
    "                fast = fast.next.next\n",
    "            else:\n",
    "                return False\n",
    "            if fast == None:\n",
    "                return False\n",
    "            if slow == fast:\n",
    "                return True\n",
    "        \n",
    "        return False"
   ]
  }
 ],
 "metadata": {
  "kernelspec": {
   "display_name": "Python 3 (ipykernel)",
   "language": "python",
   "name": "python3"
  },
  "language_info": {
   "codemirror_mode": {
    "name": "ipython",
    "version": 3
   },
   "file_extension": ".py",
   "mimetype": "text/x-python",
   "name": "python",
   "nbconvert_exporter": "python",
   "pygments_lexer": "ipython3",
   "version": "3.10.8"
  }
 },
 "nbformat": 4,
 "nbformat_minor": 5
}
