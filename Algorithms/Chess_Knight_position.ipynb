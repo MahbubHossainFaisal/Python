{
 "cells": [
  {
   "cell_type": "code",
   "execution_count": 42,
   "id": "26b187e9-f6df-4a59-9c13-0a036a93fbf6",
   "metadata": {},
   "outputs": [],
   "source": [
    "def knight_position(pos):\n",
    "    y_pos = ['8','7','6','5','4','3','2','1']\n",
    "    y_position = ['1','2','3','4','5','6','7','8']\n",
    "    x_position = ['a','b','c','d','e','f','g','h']\n",
    "    knight_pos = []\n",
    "    chessboard = [['' for _ in range(8)] for _ in range(8)]\n",
    "    \n",
    "    for i in range(8):\n",
    "        for j in range(8):\n",
    "            chessboard[i][j] = x_position[j] + y_pos[i]\n",
    "    \n",
    "    for i in range(8):\n",
    "        for j in range(8):\n",
    "            if chessboard[i][j] == pos:\n",
    "                # check right positions\n",
    "                # upper right\n",
    "                if i-2>0 and j+1<8:\n",
    "                    knight_pos.append(chessboard[i-2][j+1])\n",
    "                # upper middle right\n",
    "                if i-1>0 and j+2<8:\n",
    "                    knight_pos.append(chessboard[i-1][j+2])\n",
    "                # lower middle right\n",
    "                if i+1<8 and j+2<8:\n",
    "                    knight_pos.append(chessboard[i+1][j+2])\n",
    "                # lower right\n",
    "                if i+2<8 and j+1<8:\n",
    "                    knight_pos.append(chessboard[i+2][j+1])\n",
    "                    \n",
    "                \n",
    "                # check left positions\n",
    "                # upper left\n",
    "                if i-2>=0 and j-1>=0:\n",
    "                    knight_pos.append(chessboard[i-2][j-1])\n",
    "                # upper middle left\n",
    "                if i-1>=0 and j-2>=0:\n",
    "                    knight_pos.append(chessboard[i-1][j-2])\n",
    "                # lower middle left\n",
    "                if i+1<8 and j-2>=0:\n",
    "                    knight_pos.append(chessboard[i+1][j-2])\n",
    "                # lower left\n",
    "                if i+2<8 and j-1>=0:\n",
    "                    knight_pos.append(chessboard[i+2][j-1])\n",
    "                    \n",
    "           \n",
    "    knight_pos.sort()\n",
    "       \n",
    "    print(knight_pos)\n",
    "    number=8\n",
    "    \n",
    "    for i in range(8):\n",
    "        print(number,end=' ')\n",
    "        number -= 1\n",
    "        for j in range(8):\n",
    "            if chessboard[i][j] in knight_pos:\n",
    "                print('*',end=' ')\n",
    "               \n",
    "            elif chessboard[i][j] == pos:\n",
    "                print('+',end=' ')\n",
    "            else:\n",
    "                print('-',end=' ')\n",
    "        print()\n",
    "                \n",
    "    print(f'  a b c d e f g h')\n",
    "    "
   ]
  },
  {
   "cell_type": "code",
   "execution_count": 43,
   "id": "9c4f7853-c086-49bf-a12c-1233776621e2",
   "metadata": {},
   "outputs": [
    {
     "name": "stdout",
     "output_type": "stream",
     "text": [
      "['a2', 'a6', 'c2', 'c6', 'd3', 'd5']\n",
      "8 - - - - - - - - \n",
      "7 - - - - - - - - \n",
      "6 * - * - - - - - \n",
      "5 - - - * - - - - \n",
      "4 - + - - - - - - \n",
      "3 - - - * - - - - \n",
      "2 * - * - - - - - \n",
      "1 - - - - - - - - \n",
      "  a b c d e f g h\n"
     ]
    }
   ],
   "source": [
    "knight_position('b4')"
   ]
  },
  {
   "cell_type": "code",
   "execution_count": null,
   "id": "5d90e5f3-07c1-4017-9295-5f233aba98ac",
   "metadata": {},
   "outputs": [],
   "source": []
  },
  {
   "cell_type": "code",
   "execution_count": null,
   "id": "a107df5d-03c7-4024-a7e1-d8c93848c056",
   "metadata": {},
   "outputs": [],
   "source": []
  }
 ],
 "metadata": {
  "kernelspec": {
   "display_name": "Python 3 (ipykernel)",
   "language": "python",
   "name": "python3"
  },
  "language_info": {
   "codemirror_mode": {
    "name": "ipython",
    "version": 3
   },
   "file_extension": ".py",
   "mimetype": "text/x-python",
   "name": "python",
   "nbconvert_exporter": "python",
   "pygments_lexer": "ipython3",
   "version": "3.10.8"
  }
 },
 "nbformat": 4,
 "nbformat_minor": 5
}
