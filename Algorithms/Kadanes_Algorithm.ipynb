{
 "cells": [
  {
   "cell_type": "markdown",
   "id": "71848aed-8c64-43a7-9ddf-4126b0c50cbd",
   "metadata": {},
   "source": [
    "Kadane's algorithm, also known as Kadane's maximum sum subarray algorithm, is a dynamic programming algorithm used to find the maximum sum of a contiguous subarray within a given array of numbers. It is an efficient algorithm with a time complexity of O(n), where n is the size of the input array.\n",
    "\n",
    "Here's how Kadane's algorithm works:\n",
    "\n",
    "1. Initialize two variables: `max_so_far` and `max_ending_here` to 0 or the first element of the array (depending on your implementation).\n",
    "\n",
    "2. Iterate through the array from left to right.\n",
    "\n",
    "3. For each element in the array, update `max_ending_here` by adding the current element to it.\n",
    "\n",
    "4. If `max_ending_here` becomes negative, reset it to 0. This step ensures that we consider only positive-sum subarrays.\n",
    "\n",
    "5. Compare `max_ending_here` with `max_so_far`, and update `max_so_far` if it is less than `max_ending_here`. This step keeps track of the maximum sum encountered so far.\n",
    "\n",
    "6. Repeat steps 3 to 5 for all elements in the array.\n",
    "\n",
    "7. At the end of the iteration, `max_so_far` will hold the maximum sum of a subarray within the given array.\n",
    "\n",
    "Here's a simple implementation of Kadane's algorithm in Python:\n",
    "\n",
    "```python\n",
    "def kadanes_algorithm(arr):\n",
    "    max_so_far = float('-inf')\n",
    "    max_ending_here = 0\n",
    "    \n",
    "    for num in arr:\n",
    "        max_ending_here = max_ending_here + num\n",
    "        if max_ending_here < 0:\n",
    "            max_ending_here = 0\n",
    "        if max_so_far < max_ending_here:\n",
    "            max_so_far = max_ending_here\n",
    "    \n",
    "    return max_so_far\n",
    "```\n",
    "\n",
    "You can call this function by passing your array as an argument, and it will return the maximum sum of a contiguous subarray within the array.\n",
    "\n",
    "Note that Kadane's algorithm assumes that there is at least one positive number in the array. If the array can contain all negative numbers and you want to find the maximum sum even in that case, you may need to modify the algorithm slightly."
   ]
  },
  {
   "cell_type": "markdown",
   "id": "aed90ef9-8f00-4538-b296-5086449d79cb",
   "metadata": {},
   "source": [
    "Let's take a few examples to illustrate the working of Kadane's algorithm.\n",
    "\n",
    "Example 1:\n",
    "Input: [-2, 1, -3, 4, -1, 2, 1, -5, 4]\n",
    "Output: 6\n",
    "\n",
    "Explanation:\n",
    "Using Kadane's algorithm, we iterate through the array and keep track of the maximum sum encountered so far. Here's the breakdown:\n",
    "\n",
    "Initially, both max_so_far and max_ending_here are set to 0.\n",
    "Iterating through the array:\n",
    "\n",
    "At index 0: max_ending_here becomes -2, as -2 is the only element considered.\n",
    "\n",
    "At index 1: max_ending_here becomes 1, as we take the maximum between (-2 + 1) and 1.\n",
    "\n",
    "At index 2: max_ending_here becomes -2, as we take the maximum between (1 - 3) and -3.\n",
    "\n",
    "At index 3: max_ending_here becomes 4, as we take the maximum between (-2 + 4) and 4.\n",
    "\n",
    "At index 4: max_ending_here becomes 3, as we take the maximum between (4 - 1) and -1.\n",
    "\n",
    "At index 5: max_ending_here becomes 5, as we take the maximum between (3 + 2) and 2.\n",
    "\n",
    "At index 6: max_ending_here becomes 6, as we take the maximum between (5 + 1) and 1.\n",
    "\n",
    "At index 7: max_ending_here becomes 1, as we take the maximum between (6 - 5) and -5.\n",
    "\n",
    "At index 8: max_ending_here becomes 5, as we take the maximum between (1 + 4) and 4.\n",
    "\n",
    "At the end of the iteration, max_so_far is 6, which represents the maximum sum of a contiguous subarray within the given array."
   ]
  },
  {
   "cell_type": "code",
   "execution_count": null,
   "id": "efdb255c-5d24-4daf-8f1a-658a8872c0bc",
   "metadata": {},
   "outputs": [],
   "source": []
  }
 ],
 "metadata": {
  "kernelspec": {
   "display_name": "Python 3 (ipykernel)",
   "language": "python",
   "name": "python3"
  },
  "language_info": {
   "codemirror_mode": {
    "name": "ipython",
    "version": 3
   },
   "file_extension": ".py",
   "mimetype": "text/x-python",
   "name": "python",
   "nbconvert_exporter": "python",
   "pygments_lexer": "ipython3",
   "version": "3.10.8"
  }
 },
 "nbformat": 4,
 "nbformat_minor": 5
}
