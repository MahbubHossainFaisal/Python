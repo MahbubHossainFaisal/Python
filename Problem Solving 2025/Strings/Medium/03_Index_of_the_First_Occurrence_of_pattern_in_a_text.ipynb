{
 "cells": [
  {
   "cell_type": "markdown",
   "id": "8ab908df",
   "metadata": {},
   "source": [
    "GFG Link: https://www.geeksforgeeks.org/problems/index-of-the-first-occurrence-of-pattern-in-a-text/1?utm_source=youtube"
   ]
  },
  {
   "cell_type": "code",
   "execution_count": null,
   "id": "8f4be198",
   "metadata": {},
   "outputs": [],
   "source": [
    "class Solution:\n",
    "    def findMatching(self, text, pattern):\n",
    "        # Code here\n",
    "        sz = len(pattern)\n",
    "        \n",
    "        for i in range(0,len(text)):\n",
    "            if text[i:i+sz] == pattern:\n",
    "                return i\n",
    "            elif i+sz > len(text):\n",
    "                return -1"
   ]
  }
 ],
 "metadata": {
  "kernelspec": {
   "display_name": "Python 3 (ipykernel)",
   "language": "python",
   "name": "python3"
  },
  "language_info": {
   "codemirror_mode": {
    "name": "ipython",
    "version": 3
   },
   "file_extension": ".py",
   "mimetype": "text/x-python",
   "name": "python",
   "nbconvert_exporter": "python",
   "pygments_lexer": "ipython3",
   "version": "3.9.13"
  }
 },
 "nbformat": 4,
 "nbformat_minor": 5
}
