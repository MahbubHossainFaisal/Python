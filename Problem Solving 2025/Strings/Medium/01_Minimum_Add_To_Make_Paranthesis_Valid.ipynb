{
 "cells": [
  {
   "cell_type": "markdown",
   "id": "25454ef2",
   "metadata": {},
   "source": [
    "#### 921. Minimum Add to Make Parentheses Valid"
   ]
  },
  {
   "cell_type": "markdown",
   "id": "4c885b27",
   "metadata": {},
   "source": [
    "Leetcode: https://leetcode.com/problems/minimum-add-to-make-parentheses-valid/description/"
   ]
  },
  {
   "cell_type": "markdown",
   "id": "0fdd83b4",
   "metadata": {},
   "source": [
    "#### Better Solution"
   ]
  },
  {
   "cell_type": "code",
   "execution_count": null,
   "id": "6075ee69",
   "metadata": {},
   "outputs": [],
   "source": [
    "class Solution:\n",
    "    def minAddToMakeValid(self, s: str) -> int:\n",
    "        i=0\n",
    "        stack = []\n",
    "        count=0\n",
    "        while i != len(s):\n",
    "            if s[i] == '(':\n",
    "                stack.append('(')\n",
    "                count+=1\n",
    "            else:\n",
    "                if len(stack) > 0:\n",
    "                    stack.pop()\n",
    "                    count-=1\n",
    "                else:\n",
    "                    count+=1\n",
    "\n",
    "            i+=1\n",
    "        return count;"
   ]
  },
  {
   "cell_type": "markdown",
   "id": "dd38f1f2",
   "metadata": {},
   "source": [
    "#### Optimal Solution"
   ]
  },
  {
   "cell_type": "code",
   "execution_count": null,
   "id": "42dc2825",
   "metadata": {},
   "outputs": [],
   "source": [
    "class Solution:\n",
    "    def minAddToMakeValid(self, s: str) -> int:\n",
    "        open = 0\n",
    "        i = 0\n",
    "        result = 0\n",
    "        \n",
    "        while i != len(s):\n",
    "            if s[i] == '(':\n",
    "                open += 1\n",
    "            else:\n",
    "                if open == 0:\n",
    "                    result += 1\n",
    "                else:\n",
    "                    open = max(open - 1, 0)\n",
    "            \n",
    "            i += 1\n",
    "\n",
    "        return open + result\n"
   ]
  },
  {
   "cell_type": "code",
   "execution_count": null,
   "id": "5d9e73dc",
   "metadata": {},
   "outputs": [],
   "source": []
  }
 ],
 "metadata": {
  "kernelspec": {
   "display_name": "Python 3 (ipykernel)",
   "language": "python",
   "name": "python3"
  },
  "language_info": {
   "codemirror_mode": {
    "name": "ipython",
    "version": 3
   },
   "file_extension": ".py",
   "mimetype": "text/x-python",
   "name": "python",
   "nbconvert_exporter": "python",
   "pygments_lexer": "ipython3",
   "version": "3.9.13"
  }
 },
 "nbformat": 4,
 "nbformat_minor": 5
}
