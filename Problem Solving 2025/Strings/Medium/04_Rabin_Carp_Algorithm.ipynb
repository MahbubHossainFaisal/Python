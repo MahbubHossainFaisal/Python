{
 "cells": [
  {
   "cell_type": "code",
   "execution_count": 9,
   "id": "23acd489",
   "metadata": {},
   "outputs": [],
   "source": [
    "def calculate_hash(string, length, prime=101, base=256):\n",
    "    hash_val = 0\n",
    "    for i in range(length):\n",
    "        hash_val = (hash_val * base + ord(string[i])) % prime\n",
    "    return hash_val\n",
    "    "
   ]
  },
  {
   "cell_type": "code",
   "execution_count": 10,
   "id": "a808207d",
   "metadata": {},
   "outputs": [],
   "source": [
    "def update_hash(old_hash,old_char,new_char,length,prime,base,power):\n",
    "    old_hash = (old_hash - ord(old_char) * power) % prime\n",
    "    new_hash = (old_hash * base + ord(new_char)) % prime\n",
    "    return new_hash"
   ]
  },
  {
   "cell_type": "code",
   "execution_count": 13,
   "id": "7d511ac2",
   "metadata": {},
   "outputs": [],
   "source": [
    "def rabin_carp_search(text,pattern):\n",
    "    prime = 101\n",
    "    base = 256\n",
    "    n = len(text)\n",
    "    m = len(pattern)\n",
    "    \n",
    "    # edge case\n",
    "    if n==0 or m==0 or m>n:\n",
    "        return []\n",
    "    # Precompute power = (base^(m-1)) % prime\n",
    "    power = 1\n",
    "    for i in range(m-1):\n",
    "        power = (power*base) % prime\n",
    "    \n",
    "    # Compute initial hashes\n",
    "    pattern_hash = calculate_hash(pattern,m,prime,base)\n",
    "    text_hash = calculate_hash(text,m,prime,base)\n",
    "    \n",
    "    \n",
    "    matches = []  # Stores starting indices where pattern is found\n",
    "        \n",
    "    for i in range(n-m+1):\n",
    "        # If hash matches, verify actual string\n",
    "        if pattern_hash == text_hash:\n",
    "            if text[i:i+m] == pattern:\n",
    "                matches.append(i)\n",
    "                \n",
    "        # update hash for next window\n",
    "        if i<n-m:\n",
    "            text_hash = update_hash(text_hash,text[i],text[i+m],m,prime,base,power)\n",
    "            # Ensure hash is positive\n",
    "            if text_hash < 0:\n",
    "                text_hash += prime\n",
    "    return matches"
   ]
  },
  {
   "cell_type": "code",
   "execution_count": 14,
   "id": "a0443183",
   "metadata": {},
   "outputs": [
    {
     "name": "stdout",
     "output_type": "stream",
     "text": [
      "[0, 11]\n"
     ]
    }
   ],
   "source": [
    "text = 'mohibmahbubmohibmahbubmahbubmohimahbub'\n",
    "pattern = 'mohib'\n",
    "ans = rabin_carp_search(text,pattern)\n",
    "\n",
    "print(ans)"
   ]
  },
  {
   "cell_type": "code",
   "execution_count": null,
   "id": "ed8227a9",
   "metadata": {},
   "outputs": [],
   "source": []
  }
 ],
 "metadata": {
  "kernelspec": {
   "display_name": "Python 3 (ipykernel)",
   "language": "python",
   "name": "python3"
  },
  "language_info": {
   "codemirror_mode": {
    "name": "ipython",
    "version": 3
   },
   "file_extension": ".py",
   "mimetype": "text/x-python",
   "name": "python",
   "nbconvert_exporter": "python",
   "pygments_lexer": "ipython3",
   "version": "3.9.13"
  }
 },
 "nbformat": 4,
 "nbformat_minor": 5
}
