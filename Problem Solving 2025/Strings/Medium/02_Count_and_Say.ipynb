{
 "cells": [
  {
   "cell_type": "markdown",
   "id": "3dce7698",
   "metadata": {},
   "source": [
    "Leetcode: https://leetcode.com/problems/count-and-say/"
   ]
  },
  {
   "cell_type": "code",
   "execution_count": null,
   "id": "ca02f940",
   "metadata": {},
   "outputs": [],
   "source": [
    "def count_and_say(n):\n",
    "    if n == 1:\n",
    "        return '1'\n",
    "    elif n==2:\n",
    "        return '11'\n",
    "    else:\n",
    "        cas = '11'\n",
    "        for i in range(2,n):\n",
    "            res = ''\n",
    "            cas+='$'\n",
    "            count=1\n",
    "            for j in range(1,len(cas)):\n",
    "                if cas[j] != cas[j-1]:\n",
    "                    res+=str(count)\n",
    "                    res+=cas[j-1]\n",
    "                    count=1\n",
    "                else:\n",
    "                    count+=1\n",
    "            cas = res\n",
    "        return cas\n",
    "                \n",
    "        \n",
    "                    "
   ]
  },
  {
   "cell_type": "code",
   "execution_count": 22,
   "id": "2cae22ae",
   "metadata": {},
   "outputs": [
    {
     "name": "stdout",
     "output_type": "stream",
     "text": [
      "1211\n"
     ]
    }
   ],
   "source": [
    "ans = count_and_say(4)\n",
    "print(ans)"
   ]
  },
  {
   "cell_type": "code",
   "execution_count": null,
   "id": "cb61ff91",
   "metadata": {},
   "outputs": [],
   "source": []
  }
 ],
 "metadata": {
  "kernelspec": {
   "display_name": "Python 3 (ipykernel)",
   "language": "python",
   "name": "python3"
  },
  "language_info": {
   "codemirror_mode": {
    "name": "ipython",
    "version": 3
   },
   "file_extension": ".py",
   "mimetype": "text/x-python",
   "name": "python",
   "nbconvert_exporter": "python",
   "pygments_lexer": "ipython3",
   "version": "3.9.13"
  }
 },
 "nbformat": 4,
 "nbformat_minor": 5
}
